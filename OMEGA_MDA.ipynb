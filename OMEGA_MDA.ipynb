{
 "cells": [
  {
   "cell_type": "markdown",
   "metadata": {},
   "source": [
    "![alt text](omega.png)\n",
    "\n",
    "# <center> ZALEŻNOŚĆ STATYSTYCZNA UPORZĄDKOWANIA KATEGORII OD ZMIENNYCH NOMINALNYCH - Grzegorz Lissowski </center>\n",
    "\n",
    "\n",
    "### Prawa autorskie\n",
    "\n",
    "Niniejsza prezentacja w całości opiera się bądź jest dosłownym cytatem z wygłoszonego wrześniu 2014 roku przez __prof. Grzegorza Lissowskiego__ na konferencji w Jabłonnie referatu   dotyczącego nowej miary zależności statystycznej. Pełen opis proponowanej nowej miary zależności znajduje się w prezentacji: [ZALEŻNOŚĆ STATYSTYCZNA UPORZĄDKOWANIA KATEGORII OD ZMIENNYCH NOMINALNYCH](G_Lissowski_prezentacja.pdf)."
   ]
  },
  {
   "cell_type": "markdown",
   "metadata": {},
   "source": [
    "slajd 12 - druga suma jest od k=i+1 do n, a nie do k\n",
    "\n",
    "slajd 14 - bład  w mianowniku bo brakuje (-1)"
   ]
  },
  {
   "cell_type": "markdown",
   "metadata": {},
   "source": [
    "# 1. Wstęp i omówienie przykładowego zagadnienia\n",
    "\n",
    "Realizujemy badanie ankietowe, w którym respondenci mają za zadanie wybrać jedną partię, na którą oddaliby swój głos (gdyby wybory odbywały się w najbliższą niedzielę). Wynikiem takiego badania jest rozkład popoparia dla poszczególnych partii. Wyobraźmy sobie, że wygląda on następująco:"
   ]
  },
  {
   "cell_type": "code",
   "execution_count": 1,
   "metadata": {
    "collapsed": false
   },
   "outputs": [
    {
     "data": {
      "image/png": "[encoded data removed]",
      "image/svg+xml": [
       "<?xml version=\"1.0\" encoding=\"UTF-8\"?>\n",
       "<svg xmlns=\"http://www.w3.org/2000/svg\" xmlns:xlink=\"http://www.w3.org/1999/xlink\" width=\"504pt\" height=\"504pt\" viewBox=\"0 0 504 504\" version=\"1.1\">\n",
       "<defs>\n",
       "<g>\n",
       "<symbol overflow=\"visible\" id=\"glyph0-0\">\n",
       "<path style=\"stroke:none;\" d=\"M 0.925781 0 L 0.925781 -8.589844 L 4.164063 -8.589844 C 4.734375 -8.589844 5.171875 -8.5625 5.472656 -8.507813 C 5.894531 -8.4375 6.246094 -8.300781 6.53125 -8.105469 C 6.816406 -7.90625 7.046875 -7.632813 7.222656 -7.277344 C 7.394531 -6.917969 7.480469 -6.527344 7.484375 -6.105469 C 7.480469 -5.371094 7.25 -4.75 6.785156 -4.25 C 6.316406 -3.742188 5.476563 -3.492188 4.265625 -3.492188 L 2.0625 -3.492188 L 2.0625 0 Z M 2.0625 -4.507813 L 4.28125 -4.507813 C 5.011719 -4.503906 5.535156 -4.640625 5.847656 -4.917969 C 6.15625 -5.1875 6.308594 -5.574219 6.3125 -6.070313 C 6.308594 -6.429688 6.21875 -6.734375 6.039063 -6.992188 C 5.855469 -7.242188 5.617188 -7.414063 5.320313 -7.5 C 5.125 -7.550781 4.769531 -7.574219 4.257813 -7.578125 L 2.0625 -7.578125 Z M 2.0625 -4.507813 \"/>\n",
       "</symbol>\n",
       "<symbol overflow=\"visible\" id=\"glyph0-1\">\n",
       "<path style=\"stroke:none;\" d=\"M 4.851563 -0.765625 C 4.460938 -0.433594 4.082031 -0.199219 3.722656 -0.0625 C 3.355469 0.0742188 2.96875 0.140625 2.5625 0.140625 C 1.875 0.140625 1.351563 -0.0234375 0.984375 -0.359375 C 0.617188 -0.6875 0.433594 -1.117188 0.433594 -1.640625 C 0.433594 -1.945313 0.5 -2.222656 0.640625 -2.472656 C 0.777344 -2.722656 0.960938 -2.925781 1.1875 -3.082031 C 1.410156 -3.234375 1.664063 -3.347656 1.945313 -3.429688 C 2.152344 -3.476563 2.464844 -3.53125 2.882813 -3.585938 C 3.734375 -3.6875 4.359375 -3.808594 4.765625 -3.949219 C 4.765625 -4.089844 4.769531 -4.179688 4.769531 -4.226563 C 4.769531 -4.648438 4.667969 -4.953125 4.46875 -5.132813 C 4.199219 -5.371094 3.800781 -5.488281 3.269531 -5.492188 C 2.769531 -5.488281 2.402344 -5.402344 2.167969 -5.230469 C 1.933594 -5.054688 1.757813 -4.746094 1.648438 -4.304688 L 0.617188 -4.445313 C 0.707031 -4.886719 0.863281 -5.242188 1.078125 -5.515625 C 1.289063 -5.78125 1.597656 -5.992188 2.007813 -6.140625 C 2.410156 -6.289063 2.882813 -6.363281 3.421875 -6.363281 C 3.953125 -6.363281 4.382813 -6.300781 4.714844 -6.175781 C 5.046875 -6.050781 5.292969 -5.890625 5.449219 -5.703125 C 5.605469 -5.511719 5.714844 -5.273438 5.777344 -4.984375 C 5.808594 -4.804688 5.824219 -4.480469 5.828125 -4.015625 L 5.828125 -2.609375 C 5.824219 -1.625 5.847656 -1.003906 5.894531 -0.746094 C 5.941406 -0.484375 6.03125 -0.238281 6.164063 0 L 5.0625 0 C 4.953125 -0.21875 4.882813 -0.472656 4.851563 -0.765625 Z M 4.765625 -3.125 C 4.375 -2.964844 3.800781 -2.832031 3.039063 -2.726563 C 2.605469 -2.660156 2.300781 -2.589844 2.121094 -2.515625 C 1.941406 -2.433594 1.800781 -2.320313 1.703125 -2.171875 C 1.605469 -2.019531 1.558594 -1.851563 1.558594 -1.671875 C 1.558594 -1.386719 1.664063 -1.152344 1.875 -0.96875 C 2.085938 -0.777344 2.398438 -0.683594 2.8125 -0.6875 C 3.21875 -0.683594 3.578125 -0.773438 3.894531 -0.953125 C 4.210938 -1.128906 4.445313 -1.371094 4.59375 -1.679688 C 4.707031 -1.917969 4.761719 -2.269531 4.765625 -2.734375 Z M 4.765625 -3.125 \"/>\n",
       "</symbol>\n",
       "<symbol overflow=\"visible\" id=\"glyph0-2\">\n",
       "<path style=\"stroke:none;\" d=\"M 0.78125 0 L 0.78125 -6.222656 L 1.726563 -6.222656 L 1.726563 -5.28125 C 1.96875 -5.71875 2.191406 -6.011719 2.398438 -6.152344 C 2.601563 -6.292969 2.828125 -6.363281 3.078125 -6.363281 C 3.429688 -6.363281 3.792969 -6.25 4.160156 -6.023438 L 3.796875 -5.046875 C 3.539063 -5.195313 3.28125 -5.273438 3.023438 -5.273438 C 2.792969 -5.273438 2.585938 -5.203125 2.402344 -5.066406 C 2.214844 -4.925781 2.082031 -4.734375 2.007813 -4.488281 C 1.890625 -4.113281 1.832031 -3.703125 1.835938 -3.257813 L 1.835938 0 Z M 0.78125 0 \"/>\n",
       "</symbol>\n",
       "<symbol overflow=\"visible\" id=\"glyph0-3\">\n",
       "<path style=\"stroke:none;\" d=\"M 3.09375 -0.945313 L 3.246094 -0.0117188 C 2.949219 0.0507813 2.683594 0.0820313 2.449219 0.0820313 C 2.066406 0.0820313 1.769531 0.0234375 1.558594 -0.0976563 C 1.347656 -0.21875 1.199219 -0.378906 1.113281 -0.578125 C 1.027344 -0.773438 0.984375 -1.1875 0.984375 -1.820313 L 0.984375 -5.402344 L 0.210938 -5.402344 L 0.210938 -6.222656 L 0.984375 -6.222656 L 0.984375 -7.765625 L 2.03125 -8.398438 L 2.03125 -6.222656 L 3.09375 -6.222656 L 3.09375 -5.402344 L 2.03125 -5.402344 L 2.03125 -1.765625 C 2.027344 -1.460938 2.046875 -1.269531 2.085938 -1.183594 C 2.125 -1.097656 2.183594 -1.027344 2.269531 -0.976563 C 2.351563 -0.925781 2.472656 -0.902344 2.632813 -0.902344 C 2.742188 -0.902344 2.898438 -0.914063 3.09375 -0.945313 Z M 3.09375 -0.945313 \"/>\n",
       "</symbol>\n",
       "<symbol overflow=\"visible\" id=\"glyph0-4\">\n",
       "<path style=\"stroke:none;\" d=\"M 0.796875 -7.375 L 0.796875 -8.589844 L 1.851563 -8.589844 L 1.851563 -7.375 Z M 0.796875 0 L 0.796875 -6.222656 L 1.851563 -6.222656 L 1.851563 0 Z M 0.796875 0 \"/>\n",
       "</symbol>\n",
       "<symbol overflow=\"visible\" id=\"glyph0-5\">\n",
       "<path style=\"stroke:none;\" d=\"\"/>\n",
       "</symbol>\n",
       "<symbol overflow=\"visible\" id=\"glyph0-6\">\n",
       "<path style=\"stroke:none;\" d=\"M 4.46875 0 L 3.414063 0 L 3.414063 -6.71875 C 3.160156 -6.476563 2.828125 -6.234375 2.414063 -5.996094 C 2 -5.75 1.628906 -5.570313 1.304688 -5.449219 L 1.304688 -6.46875 C 1.894531 -6.742188 2.410156 -7.078125 2.851563 -7.476563 C 3.292969 -7.871094 3.605469 -8.253906 3.789063 -8.625 L 4.46875 -8.625 Z M 4.46875 0 \"/>\n",
       "</symbol>\n",
       "<symbol overflow=\"visible\" id=\"glyph0-7\">\n",
       "<path style=\"stroke:none;\" d=\"M 6.039063 -1.015625 L 6.039063 0 L 0.363281 0 C 0.355469 -0.253906 0.394531 -0.496094 0.484375 -0.734375 C 0.628906 -1.117188 0.859375 -1.5 1.179688 -1.875 C 1.492188 -2.25 1.953125 -2.683594 2.5625 -3.175781 C 3.492188 -3.941406 4.125 -4.546875 4.453125 -4.992188 C 4.78125 -5.4375 4.945313 -5.859375 4.945313 -6.265625 C 4.945313 -6.679688 4.792969 -7.03125 4.496094 -7.320313 C 4.191406 -7.601563 3.804688 -7.746094 3.328125 -7.75 C 2.820313 -7.746094 2.414063 -7.59375 2.109375 -7.292969 C 1.804688 -6.984375 1.648438 -6.5625 1.648438 -6.03125 L 0.5625 -6.140625 C 0.632813 -6.945313 0.910156 -7.558594 1.398438 -7.988281 C 1.878906 -8.410156 2.53125 -8.625 3.351563 -8.625 C 4.171875 -8.625 4.824219 -8.394531 5.308594 -7.9375 C 5.789063 -7.480469 6.027344 -6.914063 6.03125 -6.242188 C 6.027344 -5.894531 5.957031 -5.558594 5.820313 -5.226563 C 5.675781 -4.890625 5.441406 -4.539063 5.117188 -4.175781 C 4.789063 -3.804688 4.25 -3.300781 3.492188 -2.664063 C 2.859375 -2.128906 2.453125 -1.769531 2.273438 -1.582031 C 2.09375 -1.394531 1.945313 -1.203125 1.828125 -1.015625 Z M 6.039063 -1.015625 \"/>\n",
       "</symbol>\n",
       "<symbol overflow=\"visible\" id=\"glyph0-8\">\n",
       "<path style=\"stroke:none;\" d=\"M 0.503906 -2.265625 L 1.558594 -2.40625 C 1.679688 -1.808594 1.882813 -1.378906 2.175781 -1.113281 C 2.464844 -0.847656 2.820313 -0.714844 3.242188 -0.71875 C 3.734375 -0.714844 4.152344 -0.886719 4.496094 -1.234375 C 4.832031 -1.574219 5.003906 -2 5.007813 -2.515625 C 5.003906 -2.996094 4.847656 -3.394531 4.535156 -3.710938 C 4.21875 -4.023438 3.816406 -4.183594 3.328125 -4.183594 C 3.128906 -4.183594 2.878906 -4.144531 2.585938 -4.066406 L 2.703125 -4.992188 C 2.765625 -4.984375 2.824219 -4.980469 2.871094 -4.980469 C 3.320313 -4.980469 3.722656 -5.097656 4.085938 -5.332031 C 4.441406 -5.566406 4.621094 -5.925781 4.625 -6.414063 C 4.621094 -6.800781 4.492188 -7.121094 4.230469 -7.375 C 3.964844 -7.628906 3.625 -7.757813 3.21875 -7.757813 C 2.804688 -7.757813 2.464844 -7.628906 2.191406 -7.371094 C 1.917969 -7.113281 1.742188 -6.726563 1.664063 -6.210938 L 0.609375 -6.398438 C 0.738281 -7.105469 1.03125 -7.652344 1.488281 -8.042969 C 1.941406 -8.429688 2.507813 -8.625 3.195313 -8.625 C 3.660156 -8.625 4.09375 -8.523438 4.488281 -8.324219 C 4.878906 -8.121094 5.179688 -7.847656 5.390625 -7.5 C 5.601563 -7.148438 5.707031 -6.777344 5.707031 -6.390625 C 5.707031 -6.019531 5.605469 -5.683594 5.40625 -5.378906 C 5.207031 -5.074219 4.914063 -4.832031 4.523438 -4.652344 C 5.03125 -4.535156 5.425781 -4.289063 5.707031 -3.921875 C 5.988281 -3.546875 6.128906 -3.085938 6.128906 -2.539063 C 6.128906 -1.785156 5.855469 -1.148438 5.308594 -0.628906 C 4.761719 -0.105469 4.070313 0.152344 3.234375 0.152344 C 2.476563 0.152344 1.847656 -0.0703125 1.355469 -0.519531 C 0.855469 -0.96875 0.574219 -1.550781 0.503906 -2.265625 Z M 0.503906 -2.265625 \"/>\n",
       "</symbol>\n",
       "<symbol overflow=\"visible\" id=\"glyph0-9\">\n",
       "<path style=\"stroke:none;\" d=\"M 3.878906 0 L 3.878906 -2.054688 L 0.152344 -2.054688 L 0.152344 -3.023438 L 4.070313 -8.589844 L 4.933594 -8.589844 L 4.933594 -3.023438 L 6.09375 -3.023438 L 6.09375 -2.054688 L 4.933594 -2.054688 L 4.933594 0 Z M 3.878906 -3.023438 L 3.878906 -6.898438 L 1.1875 -3.023438 Z M 3.878906 -3.023438 \"/>\n",
       "</symbol>\n",
       "<symbol overflow=\"visible\" id=\"glyph0-10\">\n",
       "<path style=\"stroke:none;\" d=\"M 0.5 -2.25 L 1.605469 -2.34375 C 1.683594 -1.804688 1.871094 -1.398438 2.175781 -1.125 C 2.472656 -0.851563 2.835938 -0.714844 3.257813 -0.71875 C 3.765625 -0.714844 4.195313 -0.90625 4.546875 -1.292969 C 4.898438 -1.671875 5.074219 -2.179688 5.074219 -2.820313 C 5.074219 -3.414063 4.902344 -3.890625 4.566406 -4.242188 C 4.226563 -4.589844 3.785156 -4.761719 3.242188 -4.765625 C 2.898438 -4.761719 2.59375 -4.683594 2.320313 -4.53125 C 2.046875 -4.375 1.832031 -4.175781 1.675781 -3.929688 L 0.6875 -4.0625 L 1.515625 -8.472656 L 5.789063 -8.472656 L 5.789063 -7.464844 L 2.359375 -7.464844 L 1.898438 -5.15625 C 2.414063 -5.515625 2.953125 -5.695313 3.523438 -5.695313 C 4.269531 -5.695313 4.902344 -5.433594 5.421875 -4.914063 C 5.933594 -4.394531 6.191406 -3.726563 6.195313 -2.914063 C 6.191406 -2.132813 5.964844 -1.460938 5.515625 -0.898438 C 4.960938 -0.199219 4.210938 0.144531 3.257813 0.148438 C 2.476563 0.144531 1.835938 -0.0703125 1.34375 -0.507813 C 0.84375 -0.941406 0.5625 -1.523438 0.5 -2.25 Z M 0.5 -2.25 \"/>\n",
       "</symbol>\n",
       "<symbol overflow=\"visible\" id=\"glyph0-11\">\n",
       "<path style=\"stroke:none;\" d=\"M 0.5 -4.234375 C 0.496094 -5.246094 0.601563 -6.0625 0.8125 -6.6875 C 1.019531 -7.304688 1.328125 -7.785156 1.742188 -8.121094 C 2.148438 -8.457031 2.667969 -8.625 3.296875 -8.625 C 3.757813 -8.625 4.164063 -8.53125 4.511719 -8.347656 C 4.855469 -8.160156 5.140625 -7.890625 5.371094 -7.542969 C 5.59375 -7.191406 5.773438 -6.765625 5.90625 -6.265625 C 6.035156 -5.761719 6.097656 -5.085938 6.101563 -4.234375 C 6.097656 -3.226563 5.996094 -2.414063 5.789063 -1.796875 C 5.578125 -1.175781 5.265625 -0.695313 4.859375 -0.359375 C 4.445313 -0.0195313 3.925781 0.144531 3.296875 0.148438 C 2.464844 0.144531 1.816406 -0.148438 1.347656 -0.742188 C 0.78125 -1.457031 0.496094 -2.621094 0.5 -4.234375 Z M 1.582031 -4.234375 C 1.582031 -2.824219 1.746094 -1.886719 2.074219 -1.417969 C 2.402344 -0.949219 2.808594 -0.714844 3.296875 -0.71875 C 3.777344 -0.714844 4.183594 -0.949219 4.519531 -1.421875 C 4.847656 -1.886719 5.015625 -2.824219 5.015625 -4.234375 C 5.015625 -5.648438 4.847656 -6.589844 4.519531 -7.054688 C 4.183594 -7.515625 3.773438 -7.746094 3.289063 -7.75 C 2.800781 -7.746094 2.414063 -7.542969 2.125 -7.136719 C 1.761719 -6.613281 1.582031 -5.644531 1.582031 -4.234375 Z M 1.582031 -4.234375 \"/>\n",
       "</symbol>\n",
       "<symbol overflow=\"visible\" id=\"glyph0-12\">\n",
       "<path style=\"stroke:none;\" d=\"M 1.089844 0 L 1.089844 -1.203125 L 2.289063 -1.203125 L 2.289063 0 Z M 1.089844 0 \"/>\n",
       "</symbol>\n",
       "<symbol overflow=\"visible\" id=\"glyph0-13\">\n",
       "<path style=\"stroke:none;\" d=\"M 5.96875 -6.484375 L 4.921875 -6.40625 C 4.828125 -6.8125 4.695313 -7.113281 4.523438 -7.304688 C 4.234375 -7.605469 3.882813 -7.757813 3.46875 -7.757813 C 3.132813 -7.757813 2.835938 -7.664063 2.585938 -7.476563 C 2.25 -7.234375 1.988281 -6.878906 1.796875 -6.414063 C 1.605469 -5.949219 1.507813 -5.289063 1.5 -4.429688 C 1.753906 -4.8125 2.0625 -5.097656 2.433594 -5.289063 C 2.796875 -5.472656 3.183594 -5.566406 3.585938 -5.570313 C 4.289063 -5.566406 4.886719 -5.308594 5.382813 -4.792969 C 5.875 -4.277344 6.121094 -3.609375 6.125 -2.789063 C 6.121094 -2.25 6.003906 -1.746094 5.773438 -1.285156 C 5.539063 -0.820313 5.222656 -0.46875 4.816406 -0.222656 C 4.410156 0.0234375 3.949219 0.144531 3.433594 0.148438 C 2.554688 0.144531 1.835938 -0.175781 1.285156 -0.820313 C 0.726563 -1.46875 0.449219 -2.535156 0.453125 -4.019531 C 0.449219 -5.675781 0.757813 -6.882813 1.371094 -7.640625 C 1.902344 -8.296875 2.621094 -8.625 3.53125 -8.625 C 4.207031 -8.625 4.761719 -8.433594 5.195313 -8.054688 C 5.625 -7.675781 5.882813 -7.152344 5.96875 -6.484375 Z M 1.664063 -2.78125 C 1.664063 -2.417969 1.738281 -2.070313 1.894531 -1.738281 C 2.042969 -1.40625 2.261719 -1.152344 2.542969 -0.980469 C 2.820313 -0.800781 3.109375 -0.714844 3.414063 -0.71875 C 3.859375 -0.714844 4.242188 -0.894531 4.566406 -1.257813 C 4.882813 -1.613281 5.042969 -2.101563 5.046875 -2.726563 C 5.042969 -3.316406 4.886719 -3.785156 4.570313 -4.128906 C 4.25 -4.46875 3.851563 -4.640625 3.375 -4.640625 C 2.898438 -4.640625 2.492188 -4.46875 2.160156 -4.128906 C 1.828125 -3.785156 1.664063 -3.335938 1.664063 -2.78125 Z M 1.664063 -2.78125 \"/>\n",
       "</symbol>\n",
       "</g>\n",
       "<clipPath id=\"clip1\">\n",
       "  <path d=\"M 59.039063 59.039063 L 474.757813 59.039063 L 474.757813 431.558594 L 59.039063 431.558594 Z M 59.039063 59.039063 \"/>\n",
       "</clipPath>\n",
       "</defs>\n",
       "<g id=\"surface1\">\n",
       "<rect x=\"0\" y=\"0\" width=\"504\" height=\"504\" style=\"fill:rgb(100%,100%,100%);fill-opacity:1;stroke:none;\"/>\n",
       "<path style=\" stroke:none;fill-rule:nonzero;fill:rgb(0%,0%,0%);fill-opacity:1;\" d=\"M 74.398438 426.882813 L 140.605469 426.882813 L 140.605469 59.042969 L 74.398438 59.042969 Z M 74.398438 426.882813 \"/>\n",
       "<path style=\" stroke:none;fill-rule:nonzero;fill:rgb(0%,0%,0%);fill-opacity:1;\" d=\"M 153.847656 426.882813 L 220.054688 426.882813 L 220.054688 139.964844 L 153.847656 139.964844 Z M 153.847656 426.882813 \"/>\n",
       "<path style=\" stroke:none;fill-rule:nonzero;fill:rgb(0%,0%,0%);fill-opacity:1;\" d=\"M 233.296875 426.882813 L 299.503906 426.882813 L 299.503906 181.65625 L 233.296875 181.65625 Z M 233.296875 426.882813 \"/>\n",
       "<path style=\" stroke:none;fill-rule:nonzero;fill:rgb(0%,0%,0%);fill-opacity:1;\" d=\"M 312.746094 426.882813 L 378.953125 426.882813 L 378.953125 223.34375 L 312.746094 223.34375 Z M 312.746094 426.882813 \"/>\n",
       "<path style=\" stroke:none;fill-rule:nonzero;fill:rgb(0%,0%,0%);fill-opacity:1;\" d=\"M 392.191406 426.882813 L 458.398438 426.882813 L 458.398438 304.269531 L 392.191406 304.269531 Z M 392.191406 426.882813 \"/>\n",
       "<g style=\"fill:rgb(0%,0%,0%);fill-opacity:1;\">\n",
       "  <use xlink:href=\"#glyph0-0\" x=\"86.824219\" y=\"456.480469\"/>\n",
       "  <use xlink:href=\"#glyph0-1\" x=\"94.828125\" y=\"456.480469\"/>\n",
       "  <use xlink:href=\"#glyph0-2\" x=\"101.501953\" y=\"456.480469\"/>\n",
       "  <use xlink:href=\"#glyph0-3\" x=\"105.498047\" y=\"456.480469\"/>\n",
       "  <use xlink:href=\"#glyph0-4\" x=\"108.832031\" y=\"456.480469\"/>\n",
       "  <use xlink:href=\"#glyph0-1\" x=\"111.498047\" y=\"456.480469\"/>\n",
       "  <use xlink:href=\"#glyph0-5\" x=\"118.171875\" y=\"456.480469\"/>\n",
       "  <use xlink:href=\"#glyph0-6\" x=\"121.505859\" y=\"456.480469\"/>\n",
       "</g>\n",
       "<g style=\"fill:rgb(0%,0%,0%);fill-opacity:1;\">\n",
       "  <use xlink:href=\"#glyph0-0\" x=\"166.273438\" y=\"456.480469\"/>\n",
       "  <use xlink:href=\"#glyph0-1\" x=\"174.277344\" y=\"456.480469\"/>\n",
       "  <use xlink:href=\"#glyph0-2\" x=\"180.951172\" y=\"456.480469\"/>\n",
       "  <use xlink:href=\"#glyph0-3\" x=\"184.947266\" y=\"456.480469\"/>\n",
       "  <use xlink:href=\"#glyph0-4\" x=\"188.28125\" y=\"456.480469\"/>\n",
       "  <use xlink:href=\"#glyph0-1\" x=\"190.947266\" y=\"456.480469\"/>\n",
       "  <use xlink:href=\"#glyph0-5\" x=\"197.621094\" y=\"456.480469\"/>\n",
       "  <use xlink:href=\"#glyph0-7\" x=\"200.955078\" y=\"456.480469\"/>\n",
       "</g>\n",
       "<g style=\"fill:rgb(0%,0%,0%);fill-opacity:1;\">\n",
       "  <use xlink:href=\"#glyph0-0\" x=\"245.71875\" y=\"456.480469\"/>\n",
       "  <use xlink:href=\"#glyph0-1\" x=\"253.722656\" y=\"456.480469\"/>\n",
       "  <use xlink:href=\"#glyph0-2\" x=\"260.396484\" y=\"456.480469\"/>\n",
       "  <use xlink:href=\"#glyph0-3\" x=\"264.392578\" y=\"456.480469\"/>\n",
       "  <use xlink:href=\"#glyph0-4\" x=\"267.726563\" y=\"456.480469\"/>\n",
       "  <use xlink:href=\"#glyph0-1\" x=\"270.392578\" y=\"456.480469\"/>\n",
       "  <use xlink:href=\"#glyph0-5\" x=\"277.066406\" y=\"456.480469\"/>\n",
       "  <use xlink:href=\"#glyph0-8\" x=\"280.400391\" y=\"456.480469\"/>\n",
       "</g>\n",
       "<g style=\"fill:rgb(0%,0%,0%);fill-opacity:1;\">\n",
       "  <use xlink:href=\"#glyph0-0\" x=\"325.167969\" y=\"456.480469\"/>\n",
       "  <use xlink:href=\"#glyph0-1\" x=\"333.171875\" y=\"456.480469\"/>\n",
       "  <use xlink:href=\"#glyph0-2\" x=\"339.845703\" y=\"456.480469\"/>\n",
       "  <use xlink:href=\"#glyph0-3\" x=\"343.841797\" y=\"456.480469\"/>\n",
       "  <use xlink:href=\"#glyph0-4\" x=\"347.175781\" y=\"456.480469\"/>\n",
       "  <use xlink:href=\"#glyph0-1\" x=\"349.841797\" y=\"456.480469\"/>\n",
       "  <use xlink:href=\"#glyph0-5\" x=\"356.515625\" y=\"456.480469\"/>\n",
       "  <use xlink:href=\"#glyph0-9\" x=\"359.849609\" y=\"456.480469\"/>\n",
       "</g>\n",
       "<g style=\"fill:rgb(0%,0%,0%);fill-opacity:1;\">\n",
       "  <use xlink:href=\"#glyph0-0\" x=\"404.617188\" y=\"456.480469\"/>\n",
       "  <use xlink:href=\"#glyph0-1\" x=\"412.621094\" y=\"456.480469\"/>\n",
       "  <use xlink:href=\"#glyph0-2\" x=\"419.294922\" y=\"456.480469\"/>\n",
       "  <use xlink:href=\"#glyph0-3\" x=\"423.291016\" y=\"456.480469\"/>\n",
       "  <use xlink:href=\"#glyph0-4\" x=\"426.625\" y=\"456.480469\"/>\n",
       "  <use xlink:href=\"#glyph0-1\" x=\"429.291016\" y=\"456.480469\"/>\n",
       "  <use xlink:href=\"#glyph0-5\" x=\"435.964844\" y=\"456.480469\"/>\n",
       "  <use xlink:href=\"#glyph0-10\" x=\"439.298828\" y=\"456.480469\"/>\n",
       "</g>\n",
       "<path style=\"fill:none;stroke-width:0.75;stroke-linecap:round;stroke-linejoin:round;stroke:rgb(0%,0%,0%);stroke-opacity:1;stroke-miterlimit:10;\" d=\"M 59.039063 426.882813 L 59.039063 59.039063 \"/>\n",
       "<path style=\"fill:none;stroke-width:0.75;stroke-linecap:round;stroke-linejoin:round;stroke:rgb(0%,0%,0%);stroke-opacity:1;stroke-miterlimit:10;\" d=\"M 59.039063 426.882813 L 51.839844 426.882813 \"/>\n",
       "<path style=\"fill:none;stroke-width:0.75;stroke-linecap:round;stroke-linejoin:round;stroke:rgb(0%,0%,0%);stroke-opacity:1;stroke-miterlimit:10;\" d=\"M 59.039063 365.574219 L 51.839844 365.574219 \"/>\n",
       "<path style=\"fill:none;stroke-width:0.75;stroke-linecap:round;stroke-linejoin:round;stroke:rgb(0%,0%,0%);stroke-opacity:1;stroke-miterlimit:10;\" d=\"M 59.039063 304.269531 L 51.839844 304.269531 \"/>\n",
       "<path style=\"fill:none;stroke-width:0.75;stroke-linecap:round;stroke-linejoin:round;stroke:rgb(0%,0%,0%);stroke-opacity:1;stroke-miterlimit:10;\" d=\"M 59.039063 242.960938 L 51.839844 242.960938 \"/>\n",
       "<path style=\"fill:none;stroke-width:0.75;stroke-linecap:round;stroke-linejoin:round;stroke:rgb(0%,0%,0%);stroke-opacity:1;stroke-miterlimit:10;\" d=\"M 59.039063 181.652344 L 51.839844 181.652344 \"/>\n",
       "<path style=\"fill:none;stroke-width:0.75;stroke-linecap:round;stroke-linejoin:round;stroke:rgb(0%,0%,0%);stroke-opacity:1;stroke-miterlimit:10;\" d=\"M 59.039063 120.347656 L 51.839844 120.347656 \"/>\n",
       "<path style=\"fill:none;stroke-width:0.75;stroke-linecap:round;stroke-linejoin:round;stroke:rgb(0%,0%,0%);stroke-opacity:1;stroke-miterlimit:10;\" d=\"M 59.039063 59.039063 L 51.839844 59.039063 \"/>\n",
       "<g style=\"fill:rgb(0%,0%,0%);fill-opacity:1;\">\n",
       "  <use xlink:href=\"#glyph0-11\" x=\"21.285156\" y=\"431.175781\"/>\n",
       "  <use xlink:href=\"#glyph0-12\" x=\"27.958984\" y=\"431.175781\"/>\n",
       "  <use xlink:href=\"#glyph0-11\" x=\"31.292969\" y=\"431.175781\"/>\n",
       "  <use xlink:href=\"#glyph0-11\" x=\"37.966797\" y=\"431.175781\"/>\n",
       "</g>\n",
       "<g style=\"fill:rgb(0%,0%,0%);fill-opacity:1;\">\n",
       "  <use xlink:href=\"#glyph0-11\" x=\"21.285156\" y=\"369.871094\"/>\n",
       "  <use xlink:href=\"#glyph0-12\" x=\"27.958984\" y=\"369.871094\"/>\n",
       "  <use xlink:href=\"#glyph0-11\" x=\"31.292969\" y=\"369.871094\"/>\n",
       "  <use xlink:href=\"#glyph0-10\" x=\"37.966797\" y=\"369.871094\"/>\n",
       "</g>\n",
       "<g style=\"fill:rgb(0%,0%,0%);fill-opacity:1;\">\n",
       "  <use xlink:href=\"#glyph0-11\" x=\"21.285156\" y=\"308.5625\"/>\n",
       "  <use xlink:href=\"#glyph0-12\" x=\"27.958984\" y=\"308.5625\"/>\n",
       "  <use xlink:href=\"#glyph0-6\" x=\"31.292969\" y=\"308.5625\"/>\n",
       "  <use xlink:href=\"#glyph0-11\" x=\"37.966797\" y=\"308.5625\"/>\n",
       "</g>\n",
       "<g style=\"fill:rgb(0%,0%,0%);fill-opacity:1;\">\n",
       "  <use xlink:href=\"#glyph0-11\" x=\"21.285156\" y=\"247.253906\"/>\n",
       "  <use xlink:href=\"#glyph0-12\" x=\"27.958984\" y=\"247.253906\"/>\n",
       "  <use xlink:href=\"#glyph0-6\" x=\"31.292969\" y=\"247.253906\"/>\n",
       "  <use xlink:href=\"#glyph0-10\" x=\"37.966797\" y=\"247.253906\"/>\n",
       "</g>\n",
       "<g style=\"fill:rgb(0%,0%,0%);fill-opacity:1;\">\n",
       "  <use xlink:href=\"#glyph0-11\" x=\"21.285156\" y=\"185.949219\"/>\n",
       "  <use xlink:href=\"#glyph0-12\" x=\"27.958984\" y=\"185.949219\"/>\n",
       "  <use xlink:href=\"#glyph0-7\" x=\"31.292969\" y=\"185.949219\"/>\n",
       "  <use xlink:href=\"#glyph0-11\" x=\"37.966797\" y=\"185.949219\"/>\n",
       "</g>\n",
       "<g style=\"fill:rgb(0%,0%,0%);fill-opacity:1;\">\n",
       "  <use xlink:href=\"#glyph0-11\" x=\"21.285156\" y=\"124.640625\"/>\n",
       "  <use xlink:href=\"#glyph0-12\" x=\"27.958984\" y=\"124.640625\"/>\n",
       "  <use xlink:href=\"#glyph0-7\" x=\"31.292969\" y=\"124.640625\"/>\n",
       "  <use xlink:href=\"#glyph0-10\" x=\"37.966797\" y=\"124.640625\"/>\n",
       "</g>\n",
       "<g style=\"fill:rgb(0%,0%,0%);fill-opacity:1;\">\n",
       "  <use xlink:href=\"#glyph0-11\" x=\"21.285156\" y=\"63.335938\"/>\n",
       "  <use xlink:href=\"#glyph0-12\" x=\"27.958984\" y=\"63.335938\"/>\n",
       "  <use xlink:href=\"#glyph0-8\" x=\"31.292969\" y=\"63.335938\"/>\n",
       "  <use xlink:href=\"#glyph0-11\" x=\"37.966797\" y=\"63.335938\"/>\n",
       "</g>\n",
       "<g clip-path=\"url(#clip1)\" clip-rule=\"nonzero\">\n",
       "<g style=\"fill:rgb(100%,100%,100%);fill-opacity:1;\">\n",
       "  <use xlink:href=\"#glyph0-11\" x=\"99.164063\" y=\"124.582031\"/>\n",
       "  <use xlink:href=\"#glyph0-12\" x=\"105.837891\" y=\"124.582031\"/>\n",
       "  <use xlink:href=\"#glyph0-8\" x=\"109.171875\" y=\"124.582031\"/>\n",
       "</g>\n",
       "<g style=\"fill:rgb(100%,100%,100%);fill-opacity:1;\">\n",
       "  <use xlink:href=\"#glyph0-11\" x=\"171.9375\" y=\"205.507813\"/>\n",
       "  <use xlink:href=\"#glyph0-12\" x=\"178.611328\" y=\"205.507813\"/>\n",
       "  <use xlink:href=\"#glyph0-7\" x=\"181.945313\" y=\"205.507813\"/>\n",
       "  <use xlink:href=\"#glyph0-8\" x=\"188.619141\" y=\"205.507813\"/>\n",
       "  <use xlink:href=\"#glyph0-9\" x=\"195.292969\" y=\"205.507813\"/>\n",
       "</g>\n",
       "<g style=\"fill:rgb(100%,100%,100%);fill-opacity:1;\">\n",
       "  <use xlink:href=\"#glyph0-11\" x=\"258.058594\" y=\"247.199219\"/>\n",
       "  <use xlink:href=\"#glyph0-12\" x=\"264.732422\" y=\"247.199219\"/>\n",
       "  <use xlink:href=\"#glyph0-7\" x=\"268.066406\" y=\"247.199219\"/>\n",
       "</g>\n",
       "<g style=\"fill:rgb(100%,100%,100%);fill-opacity:1;\">\n",
       "  <use xlink:href=\"#glyph0-11\" x=\"330.832031\" y=\"288.890625\"/>\n",
       "  <use xlink:href=\"#glyph0-12\" x=\"337.505859\" y=\"288.890625\"/>\n",
       "  <use xlink:href=\"#glyph0-6\" x=\"340.839844\" y=\"288.890625\"/>\n",
       "  <use xlink:href=\"#glyph0-13\" x=\"347.513672\" y=\"288.890625\"/>\n",
       "  <use xlink:href=\"#glyph0-13\" x=\"354.1875\" y=\"288.890625\"/>\n",
       "</g>\n",
       "<g style=\"fill:rgb(100%,100%,100%);fill-opacity:1;\">\n",
       "  <use xlink:href=\"#glyph0-11\" x=\"416.957031\" y=\"369.8125\"/>\n",
       "  <use xlink:href=\"#glyph0-12\" x=\"423.630859\" y=\"369.8125\"/>\n",
       "  <use xlink:href=\"#glyph0-6\" x=\"426.964844\" y=\"369.8125\"/>\n",
       "</g>\n",
       "</g>\n",
       "</g>\n",
       "</svg>\n"
      ],
      "text/plain": [
       "plot without title"
      ]
     },
     "metadata": {
      "image/svg+xml": {
       "isolated": true
      }
     },
     "output_type": "display_data"
    }
   ],
   "source": [
    "poparcie<-barplot(c(0.3, 0.234, 0.2, 0.166, 0.1),names.arg = c(\"Partia 1\",\"Partia 2\",\"Partia 3\",\"Partia 4\",\"Partia 5\"), las=1, border = \"transparent\", col=\"black\")\n",
    "text( poparcie, c(0.3, 0.234, 0.2, 0.166, 0.1 )-0.05, labels = c(0.3, 0.234, 0.2, 0.166, 0.1), col=\"white\")"
   ]
  },
  {
   "cell_type": "markdown",
   "metadata": {},
   "source": [
    "Dodatkowo mamy jeszcze informację o drugiej zmiennej \"dieta\" - jest to dieta na jakiej aktualnie znajdują się respondenci."
   ]
  },
  {
   "cell_type": "code",
   "execution_count": 2,
   "metadata": {
    "collapsed": false
   },
   "outputs": [
    {
     "data": {
      "image/png": "[encoded data removed]",
      "image/svg+xml": [
       "<?xml version=\"1.0\" encoding=\"UTF-8\"?>\n",
       "<svg xmlns=\"http://www.w3.org/2000/svg\" xmlns:xlink=\"http://www.w3.org/1999/xlink\" width=\"504pt\" height=\"504pt\" viewBox=\"0 0 504 504\" version=\"1.1\">\n",
       "<defs>\n",
       "<g>\n",
       "<symbol overflow=\"visible\" id=\"glyph0-0\">\n",
       "<path style=\"stroke:none;\" d=\"M 0.878906 0 L 0.878906 -8.589844 L 2.015625 -8.589844 L 2.015625 -4.328125 L 6.28125 -8.589844 L 7.820313 -8.589844 L 4.21875 -5.109375 L 7.980469 0 L 6.480469 0 L 3.421875 -4.347656 L 2.015625 -2.976563 L 2.015625 0 Z M 0.878906 0 \"/>\n",
       "</symbol>\n",
       "<symbol overflow=\"visible\" id=\"glyph0-1\">\n",
       "<path style=\"stroke:none;\" d=\"M 4.867188 0 L 4.867188 -0.914063 C 4.378906 -0.210938 3.722656 0.140625 2.894531 0.140625 C 2.527344 0.140625 2.183594 0.0703125 1.867188 -0.0703125 C 1.546875 -0.210938 1.308594 -0.386719 1.15625 -0.601563 C 1 -0.8125 0.894531 -1.074219 0.832031 -1.382813 C 0.785156 -1.589844 0.761719 -1.917969 0.765625 -2.367188 L 0.765625 -6.222656 L 1.820313 -6.222656 L 1.820313 -2.773438 C 1.816406 -2.21875 1.839844 -1.847656 1.886719 -1.65625 C 1.949219 -1.378906 2.089844 -1.160156 2.308594 -1.003906 C 2.523438 -0.839844 2.789063 -0.761719 3.105469 -0.765625 C 3.417969 -0.761719 3.714844 -0.84375 3.996094 -1.007813 C 4.273438 -1.171875 4.46875 -1.390625 4.585938 -1.671875 C 4.699219 -1.949219 4.757813 -2.355469 4.757813 -2.890625 L 4.757813 -6.222656 L 5.8125 -6.222656 L 5.8125 0 Z M 4.867188 0 \"/>\n",
       "</symbol>\n",
       "<symbol overflow=\"visible\" id=\"glyph0-2\">\n",
       "<path style=\"stroke:none;\" d=\"M 4.851563 -2.28125 L 5.890625 -2.144531 C 5.773438 -1.425781 5.484375 -0.863281 5.019531 -0.464844 C 4.550781 -0.0585938 3.976563 0.140625 3.296875 0.140625 C 2.445313 0.140625 1.761719 -0.136719 1.246094 -0.695313 C 0.726563 -1.25 0.46875 -2.046875 0.46875 -3.085938 C 0.46875 -3.753906 0.578125 -4.34375 0.800781 -4.851563 C 1.023438 -5.355469 1.363281 -5.730469 1.816406 -5.984375 C 2.269531 -6.234375 2.765625 -6.363281 3.304688 -6.363281 C 3.980469 -6.363281 4.53125 -6.191406 4.964844 -5.847656 C 5.390625 -5.503906 5.667969 -5.019531 5.789063 -4.394531 L 4.765625 -4.234375 C 4.664063 -4.652344 4.492188 -4.96875 4.246094 -5.179688 C 3.996094 -5.390625 3.695313 -5.496094 3.34375 -5.496094 C 2.808594 -5.496094 2.378906 -5.304688 2.050781 -4.921875 C 1.71875 -4.539063 1.550781 -3.9375 1.554688 -3.117188 C 1.550781 -2.28125 1.710938 -1.671875 2.035156 -1.292969 C 2.351563 -0.914063 2.769531 -0.726563 3.289063 -0.726563 C 3.695313 -0.726563 4.042969 -0.851563 4.324219 -1.105469 C 4.601563 -1.359375 4.777344 -1.75 4.851563 -2.28125 Z M 4.851563 -2.28125 \"/>\n",
       "</symbol>\n",
       "<symbol overflow=\"visible\" id=\"glyph0-3\">\n",
       "<path style=\"stroke:none;\" d=\"M 0.789063 0 L 0.789063 -8.589844 L 1.84375 -8.589844 L 1.84375 -5.507813 C 2.335938 -6.078125 2.957031 -6.363281 3.710938 -6.363281 C 4.164063 -6.363281 4.566406 -6.269531 4.910156 -6.089844 C 5.25 -5.90625 5.492188 -5.65625 5.640625 -5.339844 C 5.785156 -5.015625 5.859375 -4.550781 5.859375 -3.945313 L 5.859375 0 L 4.804688 0 L 4.804688 -3.945313 C 4.804688 -4.46875 4.6875 -4.851563 4.460938 -5.09375 C 4.226563 -5.328125 3.90625 -5.449219 3.492188 -5.453125 C 3.179688 -5.449219 2.882813 -5.367188 2.609375 -5.210938 C 2.328125 -5.046875 2.132813 -4.828125 2.019531 -4.550781 C 1.898438 -4.273438 1.839844 -3.890625 1.84375 -3.40625 L 1.84375 0 Z M 0.789063 0 \"/>\n",
       "</symbol>\n",
       "<symbol overflow=\"visible\" id=\"glyph0-4\">\n",
       "<path style=\"stroke:none;\" d=\"M 0.789063 0 L 0.789063 -6.222656 L 1.742188 -6.222656 L 1.742188 -5.335938 C 2.195313 -6.019531 2.855469 -6.363281 3.71875 -6.363281 C 4.089844 -6.363281 4.433594 -6.292969 4.753906 -6.160156 C 5.066406 -6.023438 5.304688 -5.847656 5.460938 -5.632813 C 5.617188 -5.410156 5.726563 -5.152344 5.789063 -4.851563 C 5.828125 -4.65625 5.847656 -4.3125 5.847656 -3.828125 L 5.847656 0 L 4.792969 0 L 4.792969 -3.785156 C 4.792969 -4.214844 4.75 -4.535156 4.667969 -4.75 C 4.585938 -4.960938 4.441406 -5.128906 4.234375 -5.257813 C 4.023438 -5.382813 3.777344 -5.449219 3.5 -5.449219 C 3.046875 -5.449219 2.660156 -5.304688 2.332031 -5.019531 C 2.003906 -4.734375 1.839844 -4.195313 1.84375 -3.398438 L 1.84375 0 Z M 0.789063 0 \"/>\n",
       "</symbol>\n",
       "<symbol overflow=\"visible\" id=\"glyph0-5\">\n",
       "<path style=\"stroke:none;\" d=\"M 0.796875 -7.375 L 0.796875 -8.589844 L 1.851563 -8.589844 L 1.851563 -7.375 Z M 0.796875 0 L 0.796875 -6.222656 L 1.851563 -6.222656 L 1.851563 0 Z M 0.796875 0 \"/>\n",
       "</symbol>\n",
       "<symbol overflow=\"visible\" id=\"glyph0-6\">\n",
       "<path style=\"stroke:none;\" d=\"M 4.851563 -0.765625 C 4.460938 -0.433594 4.082031 -0.199219 3.722656 -0.0625 C 3.355469 0.0742188 2.96875 0.140625 2.5625 0.140625 C 1.875 0.140625 1.351563 -0.0234375 0.984375 -0.359375 C 0.617188 -0.6875 0.433594 -1.117188 0.433594 -1.640625 C 0.433594 -1.945313 0.5 -2.222656 0.640625 -2.472656 C 0.777344 -2.722656 0.960938 -2.925781 1.1875 -3.082031 C 1.410156 -3.234375 1.664063 -3.347656 1.945313 -3.429688 C 2.152344 -3.476563 2.464844 -3.53125 2.882813 -3.585938 C 3.734375 -3.6875 4.359375 -3.808594 4.765625 -3.949219 C 4.765625 -4.089844 4.769531 -4.179688 4.769531 -4.226563 C 4.769531 -4.648438 4.667969 -4.953125 4.46875 -5.132813 C 4.199219 -5.371094 3.800781 -5.488281 3.269531 -5.492188 C 2.769531 -5.488281 2.402344 -5.402344 2.167969 -5.230469 C 1.933594 -5.054688 1.757813 -4.746094 1.648438 -4.304688 L 0.617188 -4.445313 C 0.707031 -4.886719 0.863281 -5.242188 1.078125 -5.515625 C 1.289063 -5.78125 1.597656 -5.992188 2.007813 -6.140625 C 2.410156 -6.289063 2.882813 -6.363281 3.421875 -6.363281 C 3.953125 -6.363281 4.382813 -6.300781 4.714844 -6.175781 C 5.046875 -6.050781 5.292969 -5.890625 5.449219 -5.703125 C 5.605469 -5.511719 5.714844 -5.273438 5.777344 -4.984375 C 5.808594 -4.804688 5.824219 -4.480469 5.828125 -4.015625 L 5.828125 -2.609375 C 5.824219 -1.625 5.847656 -1.003906 5.894531 -0.746094 C 5.941406 -0.484375 6.03125 -0.238281 6.164063 0 L 5.0625 0 C 4.953125 -0.21875 4.882813 -0.472656 4.851563 -0.765625 Z M 4.765625 -3.125 C 4.375 -2.964844 3.800781 -2.832031 3.039063 -2.726563 C 2.605469 -2.660156 2.300781 -2.589844 2.121094 -2.515625 C 1.941406 -2.433594 1.800781 -2.320313 1.703125 -2.171875 C 1.605469 -2.019531 1.558594 -1.851563 1.558594 -1.671875 C 1.558594 -1.386719 1.664063 -1.152344 1.875 -0.96875 C 2.085938 -0.777344 2.398438 -0.683594 2.8125 -0.6875 C 3.21875 -0.683594 3.578125 -0.773438 3.894531 -0.953125 C 4.210938 -1.128906 4.445313 -1.371094 4.59375 -1.679688 C 4.707031 -1.917969 4.761719 -2.269531 4.765625 -2.734375 Z M 4.765625 -3.125 \"/>\n",
       "</symbol>\n",
       "<symbol overflow=\"visible\" id=\"glyph0-7\">\n",
       "<path style=\"stroke:none;\" d=\"\"/>\n",
       "</symbol>\n",
       "<symbol overflow=\"visible\" id=\"glyph0-8\">\n",
       "<path style=\"stroke:none;\" d=\"M 0.925781 0 L 0.925781 -8.589844 L 4.164063 -8.589844 C 4.734375 -8.589844 5.171875 -8.5625 5.472656 -8.507813 C 5.894531 -8.4375 6.246094 -8.300781 6.53125 -8.105469 C 6.816406 -7.90625 7.046875 -7.632813 7.222656 -7.277344 C 7.394531 -6.917969 7.480469 -6.527344 7.484375 -6.105469 C 7.480469 -5.371094 7.25 -4.75 6.785156 -4.25 C 6.316406 -3.742188 5.476563 -3.492188 4.265625 -3.492188 L 2.0625 -3.492188 L 2.0625 0 Z M 2.0625 -4.507813 L 4.28125 -4.507813 C 5.011719 -4.503906 5.535156 -4.640625 5.847656 -4.917969 C 6.15625 -5.1875 6.308594 -5.574219 6.3125 -6.070313 C 6.308594 -6.429688 6.21875 -6.734375 6.039063 -6.992188 C 5.855469 -7.242188 5.617188 -7.414063 5.320313 -7.5 C 5.125 -7.550781 4.769531 -7.574219 4.257813 -7.578125 L 2.0625 -7.578125 Z M 2.0625 -4.507813 \"/>\n",
       "</symbol>\n",
       "<symbol overflow=\"visible\" id=\"glyph0-9\">\n",
       "<path style=\"stroke:none;\" d=\"M 0.398438 -3.109375 C 0.398438 -4.261719 0.71875 -5.117188 1.359375 -5.671875 C 1.894531 -6.132813 2.546875 -6.363281 3.316406 -6.363281 C 4.171875 -6.363281 4.871094 -6.082031 5.414063 -5.519531 C 5.953125 -4.957031 6.222656 -4.183594 6.226563 -3.199219 C 6.222656 -2.398438 6.101563 -1.765625 5.867188 -1.308594 C 5.625 -0.847656 5.277344 -0.492188 4.820313 -0.238281 C 4.359375 0.015625 3.859375 0.140625 3.316406 0.140625 C 2.441406 0.140625 1.734375 -0.136719 1.203125 -0.695313 C 0.664063 -1.253906 0.398438 -2.058594 0.398438 -3.109375 Z M 1.484375 -3.109375 C 1.480469 -2.308594 1.65625 -1.710938 2.003906 -1.320313 C 2.347656 -0.921875 2.785156 -0.726563 3.316406 -0.726563 C 3.839844 -0.726563 4.273438 -0.925781 4.621094 -1.324219 C 4.96875 -1.722656 5.144531 -2.328125 5.144531 -3.148438 C 5.144531 -3.914063 4.96875 -4.496094 4.617188 -4.894531 C 4.265625 -5.289063 3.832031 -5.488281 3.316406 -5.492188 C 2.785156 -5.488281 2.347656 -5.292969 2.003906 -4.898438 C 1.65625 -4.5 1.480469 -3.902344 1.484375 -3.109375 Z M 1.484375 -3.109375 \"/>\n",
       "</symbol>\n",
       "<symbol overflow=\"visible\" id=\"glyph0-10\">\n",
       "<path style=\"stroke:none;\" d=\"M 0.765625 0 L 0.765625 -8.589844 L 1.820313 -8.589844 L 1.820313 0 Z M 0.765625 0 \"/>\n",
       "</symbol>\n",
       "<symbol overflow=\"visible\" id=\"glyph0-11\">\n",
       "<path style=\"stroke:none;\" d=\"M 0.367188 -1.859375 L 1.414063 -2.023438 C 1.46875 -1.601563 1.632813 -1.28125 1.902344 -1.058594 C 2.167969 -0.835938 2.542969 -0.726563 3.023438 -0.726563 C 3.507813 -0.726563 3.867188 -0.824219 4.101563 -1.023438 C 4.335938 -1.21875 4.453125 -1.449219 4.453125 -1.71875 C 4.453125 -1.953125 4.347656 -2.140625 4.140625 -2.28125 C 3.996094 -2.371094 3.636719 -2.492188 3.0625 -2.636719 C 2.289063 -2.832031 1.753906 -3 1.457031 -3.144531 C 1.15625 -3.285156 0.929688 -3.480469 0.777344 -3.734375 C 0.621094 -3.984375 0.542969 -4.265625 0.546875 -4.570313 C 0.542969 -4.84375 0.605469 -5.097656 0.734375 -5.339844 C 0.859375 -5.574219 1.035156 -5.773438 1.253906 -5.929688 C 1.417969 -6.046875 1.640625 -6.148438 1.925781 -6.234375 C 2.207031 -6.320313 2.511719 -6.363281 2.835938 -6.363281 C 3.324219 -6.363281 3.75 -6.292969 4.121094 -6.152344 C 4.488281 -6.011719 4.761719 -5.820313 4.9375 -5.578125 C 5.113281 -5.335938 5.234375 -5.015625 5.304688 -4.617188 L 4.273438 -4.476563 C 4.222656 -4.796875 4.085938 -5.046875 3.863281 -5.226563 C 3.636719 -5.40625 3.320313 -5.496094 2.914063 -5.496094 C 2.425781 -5.496094 2.082031 -5.414063 1.875 -5.253906 C 1.664063 -5.09375 1.558594 -4.90625 1.5625 -4.695313 C 1.558594 -4.554688 1.601563 -4.433594 1.695313 -4.324219 C 1.773438 -4.210938 1.910156 -4.117188 2.097656 -4.042969 C 2.203125 -4.003906 2.511719 -3.914063 3.03125 -3.773438 C 3.773438 -3.574219 4.292969 -3.410156 4.589844 -3.285156 C 4.878906 -3.15625 5.113281 -2.972656 5.285156 -2.730469 C 5.453125 -2.488281 5.535156 -2.1875 5.539063 -1.828125 C 5.535156 -1.476563 5.433594 -1.144531 5.230469 -0.832031 C 5.023438 -0.519531 4.726563 -0.277344 4.339844 -0.113281 C 3.953125 0.0585938 3.515625 0.140625 3.03125 0.140625 C 2.21875 0.140625 1.601563 -0.0273438 1.179688 -0.363281 C 0.753906 -0.699219 0.484375 -1.195313 0.367188 -1.859375 Z M 0.367188 -1.859375 \"/>\n",
       "</symbol>\n",
       "<symbol overflow=\"visible\" id=\"glyph0-12\">\n",
       "<path style=\"stroke:none;\" d=\"M 0.796875 0 L 0.796875 -8.589844 L 1.851563 -8.589844 L 1.851563 -3.691406 L 4.347656 -6.222656 L 5.710938 -6.222656 L 3.335938 -3.914063 L 5.953125 0 L 4.652344 0 L 2.59375 -3.179688 L 1.851563 -2.46875 L 1.851563 0 Z M 0.796875 0 \"/>\n",
       "</symbol>\n",
       "<symbol overflow=\"visible\" id=\"glyph0-13\">\n",
       "<path style=\"stroke:none;\" d=\"M 7.054688 -3.011719 L 8.191406 -2.726563 C 7.953125 -1.789063 7.523438 -1.078125 6.90625 -0.585938 C 6.285156 -0.0976563 5.527344 0.144531 4.632813 0.148438 C 3.707031 0.144531 2.953125 -0.0390625 2.375 -0.417969 C 1.792969 -0.792969 1.351563 -1.339844 1.050781 -2.054688 C 0.746094 -2.769531 0.597656 -3.539063 0.597656 -4.359375 C 0.597656 -5.253906 0.765625 -6.03125 1.109375 -6.699219 C 1.449219 -7.363281 1.9375 -7.871094 2.570313 -8.214844 C 3.199219 -8.558594 3.894531 -8.730469 4.652344 -8.734375 C 5.511719 -8.730469 6.234375 -8.511719 6.820313 -8.078125 C 7.40625 -7.636719 7.8125 -7.023438 8.046875 -6.234375 L 6.925781 -5.96875 C 6.722656 -6.589844 6.433594 -7.046875 6.058594 -7.335938 C 5.679688 -7.621094 5.203125 -7.761719 4.628906 -7.765625 C 3.96875 -7.761719 3.414063 -7.605469 2.972656 -7.289063 C 2.527344 -6.96875 2.21875 -6.542969 2.039063 -6.011719 C 1.859375 -5.480469 1.769531 -4.929688 1.769531 -4.367188 C 1.769531 -3.632813 1.875 -2.996094 2.085938 -2.449219 C 2.296875 -1.902344 2.628906 -1.496094 3.082031 -1.230469 C 3.53125 -0.960938 4.015625 -0.824219 4.539063 -0.828125 C 5.175781 -0.824219 5.714844 -1.007813 6.15625 -1.378906 C 6.597656 -1.742188 6.898438 -2.289063 7.054688 -3.011719 Z M 7.054688 -3.011719 \"/>\n",
       "</symbol>\n",
       "<symbol overflow=\"visible\" id=\"glyph0-14\">\n",
       "<path style=\"stroke:none;\" d=\"M 0.742188 2.398438 L 0.625 1.40625 C 0.855469 1.46875 1.058594 1.5 1.230469 1.5 C 1.464844 1.5 1.652344 1.460938 1.792969 1.382813 C 1.933594 1.304688 2.046875 1.195313 2.140625 1.054688 C 2.203125 0.949219 2.3125 0.6875 2.460938 0.269531 C 2.480469 0.207031 2.511719 0.121094 2.554688 0.0117188 L 0.195313 -6.222656 L 1.328125 -6.222656 L 2.625 -2.617188 C 2.789063 -2.160156 2.9375 -1.679688 3.078125 -1.179688 C 3.195313 -1.660156 3.339844 -2.132813 3.507813 -2.59375 L 4.839844 -6.222656 L 5.894531 -6.222656 L 3.527344 0.105469 C 3.273438 0.789063 3.074219 1.257813 2.9375 1.515625 C 2.746094 1.863281 2.53125 2.117188 2.292969 2.28125 C 2.046875 2.4375 1.757813 2.519531 1.421875 2.523438 C 1.214844 2.519531 0.988281 2.476563 0.742188 2.398438 Z M 0.742188 2.398438 \"/>\n",
       "</symbol>\n",
       "<symbol overflow=\"visible\" id=\"glyph0-15\">\n",
       "<path style=\"stroke:none;\" d=\"M 3.09375 -0.945313 L 3.246094 -0.0117188 C 2.949219 0.0507813 2.683594 0.0820313 2.449219 0.0820313 C 2.066406 0.0820313 1.769531 0.0234375 1.558594 -0.0976563 C 1.347656 -0.21875 1.199219 -0.378906 1.113281 -0.578125 C 1.027344 -0.773438 0.984375 -1.1875 0.984375 -1.820313 L 0.984375 -5.402344 L 0.210938 -5.402344 L 0.210938 -6.222656 L 0.984375 -6.222656 L 0.984375 -7.765625 L 2.03125 -8.398438 L 2.03125 -6.222656 L 3.09375 -6.222656 L 3.09375 -5.402344 L 2.03125 -5.402344 L 2.03125 -1.765625 C 2.027344 -1.460938 2.046875 -1.269531 2.085938 -1.183594 C 2.125 -1.097656 2.183594 -1.027344 2.269531 -0.976563 C 2.351563 -0.925781 2.472656 -0.902344 2.632813 -0.902344 C 2.742188 -0.902344 2.898438 -0.914063 3.09375 -0.945313 Z M 3.09375 -0.945313 \"/>\n",
       "</symbol>\n",
       "<symbol overflow=\"visible\" id=\"glyph0-16\">\n",
       "<path style=\"stroke:none;\" d=\"M 0.796875 -5.546875 L 0.527344 -7.15625 L 0.527344 -8.589844 L 1.726563 -8.589844 L 1.726563 -7.15625 L 1.445313 -5.546875 Z M 0.796875 -5.546875 \"/>\n",
       "</symbol>\n",
       "<symbol overflow=\"visible\" id=\"glyph0-17\">\n",
       "<path style=\"stroke:none;\" d=\"M 0.949219 0 L 0.949219 -8.589844 L 7.160156 -8.589844 L 7.160156 -7.578125 L 2.085938 -7.578125 L 2.085938 -4.945313 L 6.835938 -4.945313 L 6.835938 -3.9375 L 2.085938 -3.9375 L 2.085938 -1.015625 L 7.359375 -1.015625 L 7.359375 0 Z M 0.949219 0 \"/>\n",
       "</symbol>\n",
       "<symbol overflow=\"visible\" id=\"glyph0-18\">\n",
       "<path style=\"stroke:none;\" d=\"M 0.597656 0.515625 L 1.625 0.667969 C 1.664063 0.980469 1.785156 1.210938 1.980469 1.359375 C 2.242188 1.554688 2.597656 1.652344 3.054688 1.652344 C 3.539063 1.652344 3.917969 1.554688 4.183594 1.359375 C 4.449219 1.164063 4.628906 0.890625 4.722656 0.539063 C 4.777344 0.324219 4.800781 -0.125 4.796875 -0.8125 C 4.335938 -0.269531 3.761719 0 3.078125 0 C 2.21875 0 1.558594 -0.308594 1.089844 -0.925781 C 0.621094 -1.542969 0.386719 -2.28125 0.386719 -3.148438 C 0.386719 -3.738281 0.492188 -4.285156 0.707031 -4.789063 C 0.921875 -5.289063 1.234375 -5.679688 1.644531 -5.953125 C 2.050781 -6.226563 2.53125 -6.363281 3.082031 -6.363281 C 3.816406 -6.363281 4.421875 -6.066406 4.898438 -5.472656 L 4.898438 -6.222656 L 5.871094 -6.222656 L 5.871094 -0.84375 C 5.871094 0.125 5.769531 0.808594 5.574219 1.214844 C 5.375 1.613281 5.0625 1.933594 4.636719 2.171875 C 4.207031 2.402344 3.683594 2.519531 3.058594 2.523438 C 2.316406 2.519531 1.714844 2.351563 1.257813 2.023438 C 0.800781 1.6875 0.582031 1.1875 0.597656 0.515625 Z M 1.46875 -3.222656 C 1.464844 -2.40625 1.628906 -1.808594 1.957031 -1.4375 C 2.28125 -1.058594 2.6875 -0.871094 3.175781 -0.875 C 3.660156 -0.871094 4.066406 -1.058594 4.394531 -1.433594 C 4.722656 -1.804688 4.886719 -2.390625 4.886719 -3.1875 C 4.886719 -3.945313 4.714844 -4.519531 4.378906 -4.910156 C 4.039063 -5.296875 3.632813 -5.488281 3.15625 -5.492188 C 2.683594 -5.488281 2.285156 -5.296875 1.960938 -4.917969 C 1.628906 -4.535156 1.464844 -3.972656 1.46875 -3.222656 Z M 1.46875 -3.222656 \"/>\n",
       "</symbol>\n",
       "<symbol overflow=\"visible\" id=\"glyph0-19\">\n",
       "<path style=\"stroke:none;\" d=\"M 2.425781 0 L 0.148438 -8.589844 L 1.3125 -8.589844 L 2.617188 -2.960938 C 2.753906 -2.367188 2.875 -1.78125 2.984375 -1.203125 C 3.199219 -2.117188 3.328125 -2.648438 3.367188 -2.789063 L 5.003906 -8.589844 L 6.375 -8.589844 L 7.605469 -4.242188 C 7.914063 -3.164063 8.136719 -2.148438 8.273438 -1.203125 C 8.382813 -1.742188 8.523438 -2.367188 8.703125 -3.070313 L 10.046875 -8.589844 L 11.191406 -8.589844 L 8.835938 0 L 7.742188 0 L 5.929688 -6.546875 C 5.777344 -7.089844 5.6875 -7.425781 5.660156 -7.554688 C 5.566406 -7.15625 5.480469 -6.820313 5.40625 -6.546875 L 3.585938 0 Z M 2.425781 0 \"/>\n",
       "</symbol>\n",
       "<symbol overflow=\"visible\" id=\"glyph0-20\">\n",
       "<path style=\"stroke:none;\" d=\"M 5.050781 -2.003906 L 6.140625 -1.867188 C 5.96875 -1.230469 5.648438 -0.738281 5.183594 -0.386719 C 4.71875 -0.0351563 4.125 0.140625 3.40625 0.140625 C 2.492188 0.140625 1.769531 -0.136719 1.238281 -0.699219 C 0.699219 -1.253906 0.433594 -2.042969 0.4375 -3.058594 C 0.433594 -4.105469 0.703125 -4.917969 1.246094 -5.496094 C 1.78125 -6.074219 2.480469 -6.363281 3.34375 -6.363281 C 4.175781 -6.363281 4.855469 -6.078125 5.382813 -5.511719 C 5.910156 -4.945313 6.175781 -4.148438 6.175781 -3.125 C 6.175781 -3.058594 6.171875 -2.964844 6.171875 -2.84375 L 1.53125 -2.84375 C 1.5625 -2.15625 1.757813 -1.632813 2.109375 -1.269531 C 2.457031 -0.90625 2.890625 -0.726563 3.410156 -0.726563 C 3.796875 -0.726563 4.125 -0.828125 4.402344 -1.03125 C 4.671875 -1.234375 4.890625 -1.558594 5.050781 -2.003906 Z M 1.585938 -3.710938 L 5.0625 -3.710938 C 5.015625 -4.226563 4.882813 -4.621094 4.664063 -4.886719 C 4.328125 -5.292969 3.890625 -5.496094 3.359375 -5.496094 C 2.871094 -5.496094 2.464844 -5.332031 2.136719 -5.007813 C 1.804688 -4.683594 1.621094 -4.25 1.585938 -3.710938 Z M 1.585938 -3.710938 \"/>\n",
       "</symbol>\n",
       "<symbol overflow=\"visible\" id=\"glyph0-21\">\n",
       "<path style=\"stroke:none;\" d=\"M 0.78125 0 L 0.78125 -6.222656 L 1.726563 -6.222656 L 1.726563 -5.28125 C 1.96875 -5.71875 2.191406 -6.011719 2.398438 -6.152344 C 2.601563 -6.292969 2.828125 -6.363281 3.078125 -6.363281 C 3.429688 -6.363281 3.792969 -6.25 4.160156 -6.023438 L 3.796875 -5.046875 C 3.539063 -5.195313 3.28125 -5.273438 3.023438 -5.273438 C 2.792969 -5.273438 2.585938 -5.203125 2.402344 -5.066406 C 2.214844 -4.925781 2.082031 -4.734375 2.007813 -4.488281 C 1.890625 -4.113281 1.832031 -3.703125 1.835938 -3.257813 L 1.835938 0 Z M 0.78125 0 \"/>\n",
       "</symbol>\n",
       "<symbol overflow=\"visible\" id=\"glyph0-22\">\n",
       "<path style=\"stroke:none;\" d=\"M 0.234375 0 L 0.234375 -0.855469 L 4.195313 -5.402344 C 3.746094 -5.378906 3.347656 -5.367188 3.007813 -5.367188 L 0.46875 -5.367188 L 0.46875 -6.222656 L 5.554688 -6.222656 L 5.554688 -5.523438 L 2.1875 -1.578125 L 1.535156 -0.855469 C 2.003906 -0.886719 2.445313 -0.902344 2.867188 -0.90625 L 5.742188 -0.90625 L 5.742188 0 Z M 0.234375 0 \"/>\n",
       "</symbol>\n",
       "<symbol overflow=\"visible\" id=\"glyph0-23\">\n",
       "<path style=\"stroke:none;\" d=\"M 0.789063 0 L 0.789063 -6.222656 L 1.734375 -6.222656 L 1.734375 -5.351563 C 1.929688 -5.648438 2.1875 -5.894531 2.511719 -6.082031 C 2.835938 -6.269531 3.207031 -6.363281 3.621094 -6.363281 C 4.082031 -6.363281 4.457031 -6.265625 4.753906 -6.074219 C 5.042969 -5.882813 5.253906 -5.617188 5.378906 -5.273438 C 5.871094 -6 6.511719 -6.363281 7.300781 -6.363281 C 7.917969 -6.363281 8.390625 -6.191406 8.722656 -5.847656 C 9.054688 -5.503906 9.222656 -4.976563 9.222656 -4.273438 L 9.222656 0 L 8.171875 0 L 8.171875 -3.921875 C 8.167969 -4.339844 8.132813 -4.644531 8.070313 -4.832031 C 8 -5.015625 7.878906 -5.164063 7.699219 -5.277344 C 7.519531 -5.390625 7.308594 -5.449219 7.066406 -5.449219 C 6.628906 -5.449219 6.265625 -5.300781 5.976563 -5.011719 C 5.6875 -4.71875 5.542969 -4.253906 5.542969 -3.617188 L 5.542969 0 L 4.488281 0 L 4.488281 -4.042969 C 4.488281 -4.511719 4.402344 -4.863281 4.230469 -5.097656 C 4.058594 -5.332031 3.777344 -5.449219 3.386719 -5.449219 C 3.089844 -5.449219 2.8125 -5.371094 2.5625 -5.214844 C 2.308594 -5.058594 2.128906 -4.828125 2.015625 -4.527344 C 1.898438 -4.226563 1.839844 -3.792969 1.84375 -3.226563 L 1.84375 0 Z M 0.789063 0 \"/>\n",
       "</symbol>\n",
       "<symbol overflow=\"visible\" id=\"glyph0-24\">\n",
       "<path style=\"stroke:none;\" d=\"M 0.5 -4.234375 C 0.496094 -5.246094 0.601563 -6.0625 0.8125 -6.6875 C 1.019531 -7.304688 1.328125 -7.785156 1.742188 -8.121094 C 2.148438 -8.457031 2.667969 -8.625 3.296875 -8.625 C 3.757813 -8.625 4.164063 -8.53125 4.511719 -8.347656 C 4.855469 -8.160156 5.140625 -7.890625 5.371094 -7.542969 C 5.59375 -7.191406 5.773438 -6.765625 5.90625 -6.265625 C 6.035156 -5.761719 6.097656 -5.085938 6.101563 -4.234375 C 6.097656 -3.226563 5.996094 -2.414063 5.789063 -1.796875 C 5.578125 -1.175781 5.265625 -0.695313 4.859375 -0.359375 C 4.445313 -0.0195313 3.925781 0.144531 3.296875 0.148438 C 2.464844 0.144531 1.816406 -0.148438 1.347656 -0.742188 C 0.78125 -1.457031 0.496094 -2.621094 0.5 -4.234375 Z M 1.582031 -4.234375 C 1.582031 -2.824219 1.746094 -1.886719 2.074219 -1.417969 C 2.402344 -0.949219 2.808594 -0.714844 3.296875 -0.71875 C 3.777344 -0.714844 4.183594 -0.949219 4.519531 -1.421875 C 4.847656 -1.886719 5.015625 -2.824219 5.015625 -4.234375 C 5.015625 -5.648438 4.847656 -6.589844 4.519531 -7.054688 C 4.183594 -7.515625 3.773438 -7.746094 3.289063 -7.75 C 2.800781 -7.746094 2.414063 -7.542969 2.125 -7.136719 C 1.761719 -6.613281 1.582031 -5.644531 1.582031 -4.234375 Z M 1.582031 -4.234375 \"/>\n",
       "</symbol>\n",
       "<symbol overflow=\"visible\" id=\"glyph0-25\">\n",
       "<path style=\"stroke:none;\" d=\"M 1.089844 0 L 1.089844 -1.203125 L 2.289063 -1.203125 L 2.289063 0 Z M 1.089844 0 \"/>\n",
       "</symbol>\n",
       "<symbol overflow=\"visible\" id=\"glyph0-26\">\n",
       "<path style=\"stroke:none;\" d=\"M 4.46875 0 L 3.414063 0 L 3.414063 -6.71875 C 3.160156 -6.476563 2.828125 -6.234375 2.414063 -5.996094 C 2 -5.75 1.628906 -5.570313 1.304688 -5.449219 L 1.304688 -6.46875 C 1.894531 -6.742188 2.410156 -7.078125 2.851563 -7.476563 C 3.292969 -7.871094 3.605469 -8.253906 3.789063 -8.625 L 4.46875 -8.625 Z M 4.46875 0 \"/>\n",
       "</symbol>\n",
       "<symbol overflow=\"visible\" id=\"glyph0-27\">\n",
       "<path style=\"stroke:none;\" d=\"M 6.039063 -1.015625 L 6.039063 0 L 0.363281 0 C 0.355469 -0.253906 0.394531 -0.496094 0.484375 -0.734375 C 0.628906 -1.117188 0.859375 -1.5 1.179688 -1.875 C 1.492188 -2.25 1.953125 -2.683594 2.5625 -3.175781 C 3.492188 -3.941406 4.125 -4.546875 4.453125 -4.992188 C 4.78125 -5.4375 4.945313 -5.859375 4.945313 -6.265625 C 4.945313 -6.679688 4.792969 -7.03125 4.496094 -7.320313 C 4.191406 -7.601563 3.804688 -7.746094 3.328125 -7.75 C 2.820313 -7.746094 2.414063 -7.59375 2.109375 -7.292969 C 1.804688 -6.984375 1.648438 -6.5625 1.648438 -6.03125 L 0.5625 -6.140625 C 0.632813 -6.945313 0.910156 -7.558594 1.398438 -7.988281 C 1.878906 -8.410156 2.53125 -8.625 3.351563 -8.625 C 4.171875 -8.625 4.824219 -8.394531 5.308594 -7.9375 C 5.789063 -7.480469 6.027344 -6.914063 6.03125 -6.242188 C 6.027344 -5.894531 5.957031 -5.558594 5.820313 -5.226563 C 5.675781 -4.890625 5.441406 -4.539063 5.117188 -4.175781 C 4.789063 -3.804688 4.25 -3.300781 3.492188 -2.664063 C 2.859375 -2.128906 2.453125 -1.769531 2.273438 -1.582031 C 2.09375 -1.394531 1.945313 -1.203125 1.828125 -1.015625 Z M 6.039063 -1.015625 \"/>\n",
       "</symbol>\n",
       "<symbol overflow=\"visible\" id=\"glyph0-28\">\n",
       "<path style=\"stroke:none;\" d=\"M 0.503906 -2.265625 L 1.558594 -2.40625 C 1.679688 -1.808594 1.882813 -1.378906 2.175781 -1.113281 C 2.464844 -0.847656 2.820313 -0.714844 3.242188 -0.71875 C 3.734375 -0.714844 4.152344 -0.886719 4.496094 -1.234375 C 4.832031 -1.574219 5.003906 -2 5.007813 -2.515625 C 5.003906 -2.996094 4.847656 -3.394531 4.535156 -3.710938 C 4.21875 -4.023438 3.816406 -4.183594 3.328125 -4.183594 C 3.128906 -4.183594 2.878906 -4.144531 2.585938 -4.066406 L 2.703125 -4.992188 C 2.765625 -4.984375 2.824219 -4.980469 2.871094 -4.980469 C 3.320313 -4.980469 3.722656 -5.097656 4.085938 -5.332031 C 4.441406 -5.566406 4.621094 -5.925781 4.625 -6.414063 C 4.621094 -6.800781 4.492188 -7.121094 4.230469 -7.375 C 3.964844 -7.628906 3.625 -7.757813 3.21875 -7.757813 C 2.804688 -7.757813 2.464844 -7.628906 2.191406 -7.371094 C 1.917969 -7.113281 1.742188 -6.726563 1.664063 -6.210938 L 0.609375 -6.398438 C 0.738281 -7.105469 1.03125 -7.652344 1.488281 -8.042969 C 1.941406 -8.429688 2.507813 -8.625 3.195313 -8.625 C 3.660156 -8.625 4.09375 -8.523438 4.488281 -8.324219 C 4.878906 -8.121094 5.179688 -7.847656 5.390625 -7.5 C 5.601563 -7.148438 5.707031 -6.777344 5.707031 -6.390625 C 5.707031 -6.019531 5.605469 -5.683594 5.40625 -5.378906 C 5.207031 -5.074219 4.914063 -4.832031 4.523438 -4.652344 C 5.03125 -4.535156 5.425781 -4.289063 5.707031 -3.921875 C 5.988281 -3.546875 6.128906 -3.085938 6.128906 -2.539063 C 6.128906 -1.785156 5.855469 -1.148438 5.308594 -0.628906 C 4.761719 -0.105469 4.070313 0.152344 3.234375 0.152344 C 2.476563 0.152344 1.847656 -0.0703125 1.355469 -0.519531 C 0.855469 -0.96875 0.574219 -1.550781 0.503906 -2.265625 Z M 0.503906 -2.265625 \"/>\n",
       "</symbol>\n",
       "<symbol overflow=\"visible\" id=\"glyph0-29\">\n",
       "<path style=\"stroke:none;\" d=\"M 3.878906 0 L 3.878906 -2.054688 L 0.152344 -2.054688 L 0.152344 -3.023438 L 4.070313 -8.589844 L 4.933594 -8.589844 L 4.933594 -3.023438 L 6.09375 -3.023438 L 6.09375 -2.054688 L 4.933594 -2.054688 L 4.933594 0 Z M 3.878906 -3.023438 L 3.878906 -6.898438 L 1.1875 -3.023438 Z M 3.878906 -3.023438 \"/>\n",
       "</symbol>\n",
       "</g>\n",
       "<clipPath id=\"clip1\">\n",
       "  <path d=\"M 59.039063 59.039063 L 474.757813 59.039063 L 474.757813 431.558594 L 59.039063 431.558594 Z M 59.039063 59.039063 \"/>\n",
       "</clipPath>\n",
       "</defs>\n",
       "<g id=\"surface6\">\n",
       "<rect x=\"0\" y=\"0\" width=\"504\" height=\"504\" style=\"fill:rgb(100%,100%,100%);fill-opacity:1;stroke:none;\"/>\n",
       "<path style=\" stroke:none;fill-rule:nonzero;fill:rgb(0%,0%,0%);fill-opacity:1;\" d=\"M 74.398438 426.882813 L 187.339844 426.882813 L 187.339844 59.042969 L 74.398438 59.042969 Z M 74.398438 426.882813 \"/>\n",
       "<path style=\" stroke:none;fill-rule:nonzero;fill:rgb(0%,0%,0%);fill-opacity:1;\" d=\"M 209.929688 426.882813 L 322.871094 426.882813 L 322.871094 242.960938 L 209.929688 242.960938 Z M 209.929688 426.882813 \"/>\n",
       "<path style=\" stroke:none;fill-rule:nonzero;fill:rgb(0%,0%,0%);fill-opacity:1;\" d=\"M 345.457031 426.882813 L 458.398438 426.882813 L 458.398438 59.042969 L 345.457031 59.042969 Z M 345.457031 426.882813 \"/>\n",
       "<g style=\"fill:rgb(0%,0%,0%);fill-opacity:1;\">\n",
       "  <use xlink:href=\"#glyph0-0\" x=\"89.511719\" y=\"456.480469\"/>\n",
       "  <use xlink:href=\"#glyph0-1\" x=\"97.515625\" y=\"456.480469\"/>\n",
       "  <use xlink:href=\"#glyph0-2\" x=\"104.189453\" y=\"456.480469\"/>\n",
       "  <use xlink:href=\"#glyph0-3\" x=\"110.189453\" y=\"456.480469\"/>\n",
       "  <use xlink:href=\"#glyph0-4\" x=\"116.863281\" y=\"456.480469\"/>\n",
       "  <use xlink:href=\"#glyph0-5\" x=\"123.537109\" y=\"456.480469\"/>\n",
       "  <use xlink:href=\"#glyph0-6\" x=\"126.203125\" y=\"456.480469\"/>\n",
       "  <use xlink:href=\"#glyph0-7\" x=\"132.876953\" y=\"456.480469\"/>\n",
       "  <use xlink:href=\"#glyph0-8\" x=\"136.210938\" y=\"456.480469\"/>\n",
       "  <use xlink:href=\"#glyph0-9\" x=\"144.214844\" y=\"456.480469\"/>\n",
       "  <use xlink:href=\"#glyph0-10\" x=\"150.888672\" y=\"456.480469\"/>\n",
       "  <use xlink:href=\"#glyph0-11\" x=\"153.554688\" y=\"456.480469\"/>\n",
       "  <use xlink:href=\"#glyph0-12\" x=\"159.554688\" y=\"456.480469\"/>\n",
       "  <use xlink:href=\"#glyph0-6\" x=\"165.554688\" y=\"456.480469\"/>\n",
       "</g>\n",
       "<g style=\"fill:rgb(0%,0%,0%);fill-opacity:1;\">\n",
       "  <use xlink:href=\"#glyph0-13\" x=\"212.230469\" y=\"456.480469\"/>\n",
       "  <use xlink:href=\"#glyph0-14\" x=\"220.896484\" y=\"456.480469\"/>\n",
       "  <use xlink:href=\"#glyph0-2\" x=\"226.896484\" y=\"456.480469\"/>\n",
       "  <use xlink:href=\"#glyph0-10\" x=\"232.896484\" y=\"456.480469\"/>\n",
       "  <use xlink:href=\"#glyph0-5\" x=\"235.5625\" y=\"456.480469\"/>\n",
       "  <use xlink:href=\"#glyph0-11\" x=\"238.228516\" y=\"456.480469\"/>\n",
       "  <use xlink:href=\"#glyph0-15\" x=\"244.228516\" y=\"456.480469\"/>\n",
       "  <use xlink:href=\"#glyph0-16\" x=\"247.5625\" y=\"456.480469\"/>\n",
       "  <use xlink:href=\"#glyph0-11\" x=\"249.853516\" y=\"456.480469\"/>\n",
       "  <use xlink:href=\"#glyph0-7\" x=\"255.853516\" y=\"456.480469\"/>\n",
       "  <use xlink:href=\"#glyph0-17\" x=\"259.1875\" y=\"456.480469\"/>\n",
       "  <use xlink:href=\"#glyph0-6\" x=\"267.191406\" y=\"456.480469\"/>\n",
       "  <use xlink:href=\"#glyph0-15\" x=\"273.865234\" y=\"456.480469\"/>\n",
       "  <use xlink:href=\"#glyph0-5\" x=\"277.199219\" y=\"456.480469\"/>\n",
       "  <use xlink:href=\"#glyph0-4\" x=\"279.865234\" y=\"456.480469\"/>\n",
       "  <use xlink:href=\"#glyph0-18\" x=\"286.539063\" y=\"456.480469\"/>\n",
       "  <use xlink:href=\"#glyph0-7\" x=\"293.212891\" y=\"456.480469\"/>\n",
       "  <use xlink:href=\"#glyph0-8\" x=\"296.546875\" y=\"456.480469\"/>\n",
       "  <use xlink:href=\"#glyph0-10\" x=\"304.550781\" y=\"456.480469\"/>\n",
       "  <use xlink:href=\"#glyph0-6\" x=\"307.216797\" y=\"456.480469\"/>\n",
       "  <use xlink:href=\"#glyph0-4\" x=\"313.890625\" y=\"456.480469\"/>\n",
       "</g>\n",
       "<g style=\"fill:rgb(0%,0%,0%);fill-opacity:1;\">\n",
       "  <use xlink:href=\"#glyph0-19\" x=\"361.914063\" y=\"456.480469\"/>\n",
       "  <use xlink:href=\"#glyph0-20\" x=\"373.240234\" y=\"456.480469\"/>\n",
       "  <use xlink:href=\"#glyph0-18\" x=\"379.914063\" y=\"456.480469\"/>\n",
       "  <use xlink:href=\"#glyph0-20\" x=\"386.587891\" y=\"456.480469\"/>\n",
       "  <use xlink:href=\"#glyph0-15\" x=\"393.261719\" y=\"456.480469\"/>\n",
       "  <use xlink:href=\"#glyph0-6\" x=\"396.595703\" y=\"456.480469\"/>\n",
       "  <use xlink:href=\"#glyph0-21\" x=\"403.269531\" y=\"456.480469\"/>\n",
       "  <use xlink:href=\"#glyph0-5\" x=\"407.265625\" y=\"456.480469\"/>\n",
       "  <use xlink:href=\"#glyph0-6\" x=\"409.931641\" y=\"456.480469\"/>\n",
       "  <use xlink:href=\"#glyph0-4\" x=\"416.605469\" y=\"456.480469\"/>\n",
       "  <use xlink:href=\"#glyph0-5\" x=\"423.279297\" y=\"456.480469\"/>\n",
       "  <use xlink:href=\"#glyph0-22\" x=\"425.945313\" y=\"456.480469\"/>\n",
       "  <use xlink:href=\"#glyph0-23\" x=\"431.945313\" y=\"456.480469\"/>\n",
       "</g>\n",
       "<path style=\"fill:none;stroke-width:0.75;stroke-linecap:round;stroke-linejoin:round;stroke:rgb(0%,0%,0%);stroke-opacity:1;stroke-miterlimit:10;\" d=\"M 59.039063 426.882813 L 59.039063 59.039063 \"/>\n",
       "<path style=\"fill:none;stroke-width:0.75;stroke-linecap:round;stroke-linejoin:round;stroke:rgb(0%,0%,0%);stroke-opacity:1;stroke-miterlimit:10;\" d=\"M 59.039063 426.882813 L 51.839844 426.882813 \"/>\n",
       "<path style=\"fill:none;stroke-width:0.75;stroke-linecap:round;stroke-linejoin:round;stroke:rgb(0%,0%,0%);stroke-opacity:1;stroke-miterlimit:10;\" d=\"M 59.039063 334.921875 L 51.839844 334.921875 \"/>\n",
       "<path style=\"fill:none;stroke-width:0.75;stroke-linecap:round;stroke-linejoin:round;stroke:rgb(0%,0%,0%);stroke-opacity:1;stroke-miterlimit:10;\" d=\"M 59.039063 242.960938 L 51.839844 242.960938 \"/>\n",
       "<path style=\"fill:none;stroke-width:0.75;stroke-linecap:round;stroke-linejoin:round;stroke:rgb(0%,0%,0%);stroke-opacity:1;stroke-miterlimit:10;\" d=\"M 59.039063 151 L 51.839844 151 \"/>\n",
       "<path style=\"fill:none;stroke-width:0.75;stroke-linecap:round;stroke-linejoin:round;stroke:rgb(0%,0%,0%);stroke-opacity:1;stroke-miterlimit:10;\" d=\"M 59.039063 59.039063 L 51.839844 59.039063 \"/>\n",
       "<g style=\"fill:rgb(0%,0%,0%);fill-opacity:1;\">\n",
       "  <use xlink:href=\"#glyph0-24\" x=\"27.960938\" y=\"431.175781\"/>\n",
       "  <use xlink:href=\"#glyph0-25\" x=\"34.634766\" y=\"431.175781\"/>\n",
       "  <use xlink:href=\"#glyph0-24\" x=\"37.96875\" y=\"431.175781\"/>\n",
       "</g>\n",
       "<g style=\"fill:rgb(0%,0%,0%);fill-opacity:1;\">\n",
       "  <use xlink:href=\"#glyph0-24\" x=\"27.960938\" y=\"339.214844\"/>\n",
       "  <use xlink:href=\"#glyph0-25\" x=\"34.634766\" y=\"339.214844\"/>\n",
       "  <use xlink:href=\"#glyph0-26\" x=\"37.96875\" y=\"339.214844\"/>\n",
       "</g>\n",
       "<g style=\"fill:rgb(0%,0%,0%);fill-opacity:1;\">\n",
       "  <use xlink:href=\"#glyph0-24\" x=\"27.960938\" y=\"247.253906\"/>\n",
       "  <use xlink:href=\"#glyph0-25\" x=\"34.634766\" y=\"247.253906\"/>\n",
       "  <use xlink:href=\"#glyph0-27\" x=\"37.96875\" y=\"247.253906\"/>\n",
       "</g>\n",
       "<g style=\"fill:rgb(0%,0%,0%);fill-opacity:1;\">\n",
       "  <use xlink:href=\"#glyph0-24\" x=\"27.960938\" y=\"155.296875\"/>\n",
       "  <use xlink:href=\"#glyph0-25\" x=\"34.634766\" y=\"155.296875\"/>\n",
       "  <use xlink:href=\"#glyph0-28\" x=\"37.96875\" y=\"155.296875\"/>\n",
       "</g>\n",
       "<g style=\"fill:rgb(0%,0%,0%);fill-opacity:1;\">\n",
       "  <use xlink:href=\"#glyph0-24\" x=\"27.960938\" y=\"63.335938\"/>\n",
       "  <use xlink:href=\"#glyph0-25\" x=\"34.634766\" y=\"63.335938\"/>\n",
       "  <use xlink:href=\"#glyph0-29\" x=\"37.96875\" y=\"63.335938\"/>\n",
       "</g>\n",
       "<g clip-path=\"url(#clip1)\" clip-rule=\"nonzero\">\n",
       "<g style=\"fill:rgb(100%,100%,100%);fill-opacity:1;\">\n",
       "  <use xlink:href=\"#glyph0-24\" x=\"122.53125\" y=\"109.257813\"/>\n",
       "  <use xlink:href=\"#glyph0-25\" x=\"129.205078\" y=\"109.257813\"/>\n",
       "  <use xlink:href=\"#glyph0-29\" x=\"132.539063\" y=\"109.257813\"/>\n",
       "</g>\n",
       "<g style=\"fill:rgb(100%,100%,100%);fill-opacity:1;\">\n",
       "  <use xlink:href=\"#glyph0-24\" x=\"258.058594\" y=\"293.179688\"/>\n",
       "  <use xlink:href=\"#glyph0-25\" x=\"264.732422\" y=\"293.179688\"/>\n",
       "  <use xlink:href=\"#glyph0-27\" x=\"268.066406\" y=\"293.179688\"/>\n",
       "</g>\n",
       "<g style=\"fill:rgb(100%,100%,100%);fill-opacity:1;\">\n",
       "  <use xlink:href=\"#glyph0-24\" x=\"393.589844\" y=\"109.257813\"/>\n",
       "  <use xlink:href=\"#glyph0-25\" x=\"400.263672\" y=\"109.257813\"/>\n",
       "  <use xlink:href=\"#glyph0-29\" x=\"403.597656\" y=\"109.257813\"/>\n",
       "</g>\n",
       "</g>\n",
       "</g>\n",
       "</svg>\n"
      ],
      "text/plain": [
       "plot without title"
      ]
     },
     "metadata": {
      "image/svg+xml": {
       "isolated": true
      }
     },
     "output_type": "display_data"
    }
   ],
   "source": [
    "dieta<-barplot(c(0.4, 0.2, 0.4),names.arg = c(\"Kuchnia Polska\",\"Cyclist's Eating Plan\",\"Wegetarianizm\"), las=1, border = \"transparent\", col=\"black\")\n",
    "text( dieta, c(0.4, 0.2, 0.4 )-0.05, labels = c(0.4, 0.2, 0.4), col=\"white\")"
   ]
  },
  {
   "cell_type": "markdown",
   "metadata": {},
   "source": [
    "Łączny rozkład tych zmiennych prezentuje się w następujący sposób:"
   ]
  },
  {
   "cell_type": "code",
   "execution_count": 3,
   "metadata": {
    "collapsed": false
   },
   "outputs": [
    {
     "data": {
      "text/html": [
       "<table>\n",
       "<thead><tr><th></th><th scope=col>Kuchnia Polska</th><th scope=col>Cyclist's Eating Plan</th><th scope=col>Wegetarianizm</th><th scope=col>RAZEM</th></tr></thead>\n",
       "<tbody>\n",
       "\t<tr><th scope=row>Partia 1</th><td>0.12</td><td>0.08</td><td>0.10</td><td>0.30</td></tr>\n",
       "\t<tr><th scope=row>Partia 2</th><td>0.100</td><td>0.050</td><td>0.084</td><td>0.234</td></tr>\n",
       "\t<tr><th scope=row>Partia 3</th><td>0.08</td><td>0.04</td><td>0.08</td><td>0.20</td></tr>\n",
       "\t<tr><th scope=row>Partia 4</th><td>0.060</td><td>0.030</td><td>0.076</td><td>0.166</td></tr>\n",
       "\t<tr><th scope=row>Partia 5</th><td>0.04</td><td>0.00</td><td>0.06</td><td>0.10</td></tr>\n",
       "\t<tr><th scope=row>RAZEM</th><td>0.4</td><td>0.2</td><td>0.4</td><td>1.0</td></tr>\n",
       "</tbody>\n",
       "</table>\n"
      ],
      "text/latex": [
       "\\begin{tabular}{r|llll}\n",
       "  & Kuchnia Polska & Cyclist's Eating Plan & Wegetarianizm & RAZEM\\\\\n",
       "\\hline\n",
       "\tPartia 1 & 0.12 & 0.08 & 0.10 & 0.30\\\\\n",
       "\tPartia 2 & 0.100 & 0.050 & 0.084 & 0.234\\\\\n",
       "\tPartia 3 & 0.08 & 0.04 & 0.08 & 0.20\\\\\n",
       "\tPartia 4 & 0.060 & 0.030 & 0.076 & 0.166\\\\\n",
       "\tPartia 5 & 0.04 & 0.00 & 0.06 & 0.10\\\\\n",
       "\tRAZEM & 0.4 & 0.2 & 0.4 & 1.0\\\\\n",
       "\\end{tabular}\n"
      ],
      "text/markdown": [
       "1. 0.12\n",
       "2. 0.1\n",
       "3. 0.08\n",
       "4. 0.06\n",
       "5. 0.04\n",
       "6. 0.4\n",
       "7. 0.08\n",
       "8. 0.05\n",
       "9. 0.04\n",
       "10. 0.03\n",
       "11. 0\n",
       "12. 0.2\n",
       "13. 0.1\n",
       "14. 0.084\n",
       "15. 0.08\n",
       "16. 0.076\n",
       "17. 0.06\n",
       "18. 0.4\n",
       "19. 0.3\n",
       "20. 0.234\n",
       "21. 0.2\n",
       "22. 0.166\n",
       "23. 0.1\n",
       "24. 1\n",
       "\n",
       "\n"
      ],
      "text/plain": [
       "         Kuchnia Polska Cyclist's Eating Plan Wegetarianizm RAZEM\n",
       "Partia 1           0.12                  0.08         0.100 0.300\n",
       "Partia 2           0.10                  0.05         0.084 0.234\n",
       "Partia 3           0.08                  0.04         0.080 0.200\n",
       "Partia 4           0.06                  0.03         0.076 0.166\n",
       "Partia 5           0.04                  0.00         0.060 0.100\n",
       "RAZEM              0.40                  0.20         0.400 1.000"
      ]
     },
     "execution_count": 3,
     "metadata": {},
     "output_type": "execute_result"
    }
   ],
   "source": [
    "rozklad_laczny<-\n",
    "    matrix(\n",
    "        c( 0.12, 0.08, 0.1,\n",
    "           0.1,  0.05, 0.084,\n",
    "           0.08, 0.04, 0.08,\n",
    "           0.06, 0.03, 0.076,\n",
    "           0.04, 0,    0.06),\n",
    "        nrow = 5,\n",
    "        ncol = 3,\n",
    "        byrow = TRUE\n",
    "    )\n",
    "colnames(rozklad_laczny)<-c(\"Kuchnia Polska\",\"Cyclist's Eating Plan\",\"Wegetarianizm\")\n",
    "row.names(rozklad_laczny)<-c(\"Partia 1\",\"Partia 2\",\"Partia 3\",\"Partia 4\",\"Partia 5\")\n",
    "rozklad_laczny_brzegowy<-addmargins(rozklad_laczny)\n",
    "colnames(rozklad_laczny_brzegowy)<-c(\"Kuchnia Polska\",\"Cyclist's Eating Plan\",\"Wegetarianizm\", \"RAZEM\")\n",
    "row.names(rozklad_laczny_brzegowy)<-c(\"Partia 1\",\"Partia 2\",\"Partia 3\",\"Partia 4\",\"Partia 5\", \"RAZEM\")\n",
    "rozklad_laczny_brzegowy\n"
   ]
  },
  {
   "cell_type": "markdown",
   "metadata": {},
   "source": [
    "Mamy więc dwie zmienne: \"partię\" oraz \"dietę\". O pierwszej z nich będziemy mówili, że jest to zmienna typu \"wybór\". Oznacza to, że zamiast badania pełnej preferencji na zbiorze opcji, respondenci musieli wybrać tylko jedną (wcale nie musi to być wybór najwyżej ocenianej opcji).  W efekcie otrzymaliśmy uporządkowanie opcji wyznaczone przez częstość ich wyboru. \"Partia\" jest zmienną nominalną, więc nie możemy mówić, że istnieje jakiś ustalony porządek jej kategorii. Uporządkowanie wynika tylko i wyłącznie z częstości występowania. Zmienna \"dieta\" również jest mierzona na skali nominalnej. Przyjmiemy, że jest to cecha respondentów. Nie mamy w tym przypadku doczynienia z preferencjami (każdy może być jednocześnie tylko na jednej diecie jednocześnie).\n",
    "\n",
    "Skoro mamy dwie zmienne to oczywiście chcielibyśmy jakoś opisać występujące dla nich zależności. __Ale jak badać zależności między zmienną \"wybór\" (nominalną) i drugą zmienną nominalą?__.  Gdyby chodziło o zmienne porządkowe, skorzystalibyśmy pewnie z miary _tau Kendalla_. Tak jednak nie jest. Co możemy więc zrobić? "
   ]
  },
  {
   "cell_type": "markdown",
   "metadata": {},
   "source": [
    "# Wprowadzenie do nowej miary zależności"
   ]
  },
  {
   "cell_type": "markdown",
   "metadata": {},
   "source": [
    "Prof. Lissowski ma następującą propozycję (cytat): \n",
    "\n",
    "\"__Niezależność statystyczna__ _zmiennej X (typu „wybór”) od zmiennej Y (nominalnej) polega na tym, że takie same są uporządkowania częstości wyborów kategorii zmiennej X we wszystkich grupach badanych osób, wyróżnionych ze względu na zmienną Y._\"\n",
    "\n",
    "W naszym przykładzie niezależność zmiennych oznaczałaby, że uporządkowanie partii dla każdej diety jest takie samo:"
   ]
  },
  {
   "cell_type": "markdown",
   "metadata": {},
   "source": [
    "__Kuchnia Polska:__"
   ]
  },
  {
   "cell_type": "code",
   "execution_count": 4,
   "metadata": {
    "collapsed": false
   },
   "outputs": [
    {
     "data": {
      "text/html": [
       "<ol class=list-inline>\n",
       "\t<li>\"Partia 1\"</li>\n",
       "\t<li>\"Partia 2\"</li>\n",
       "\t<li>\"Partia 3\"</li>\n",
       "\t<li>\"Partia 4\"</li>\n",
       "\t<li>\"Partia 5\"</li>\n",
       "</ol>\n"
      ],
      "text/latex": [
       "\\begin{enumerate*}\n",
       "\\item \"Partia 1\"\n",
       "\\item \"Partia 2\"\n",
       "\\item \"Partia 3\"\n",
       "\\item \"Partia 4\"\n",
       "\\item \"Partia 5\"\n",
       "\\end{enumerate*}\n"
      ],
      "text/markdown": [
       "1. \"Partia 1\"\n",
       "2. \"Partia 2\"\n",
       "3. \"Partia 3\"\n",
       "4. \"Partia 4\"\n",
       "5. \"Partia 5\"\n",
       "\n",
       "\n"
      ],
      "text/plain": [
       "[1] \"Partia 1\" \"Partia 2\" \"Partia 3\" \"Partia 4\" \"Partia 5\""
      ]
     },
     "execution_count": 4,
     "metadata": {},
     "output_type": "execute_result"
    }
   ],
   "source": [
    "row.names(rozklad_laczny)[order(rozklad_laczny[,1], decreasing = TRUE)]"
   ]
  },
  {
   "cell_type": "markdown",
   "metadata": {},
   "source": [
    "__Cyclist's Eating Plan:__"
   ]
  },
  {
   "cell_type": "code",
   "execution_count": 5,
   "metadata": {
    "collapsed": false
   },
   "outputs": [
    {
     "data": {
      "text/html": [
       "<ol class=list-inline>\n",
       "\t<li>\"Partia 1\"</li>\n",
       "\t<li>\"Partia 2\"</li>\n",
       "\t<li>\"Partia 3\"</li>\n",
       "\t<li>\"Partia 4\"</li>\n",
       "\t<li>\"Partia 5\"</li>\n",
       "</ol>\n"
      ],
      "text/latex": [
       "\\begin{enumerate*}\n",
       "\\item \"Partia 1\"\n",
       "\\item \"Partia 2\"\n",
       "\\item \"Partia 3\"\n",
       "\\item \"Partia 4\"\n",
       "\\item \"Partia 5\"\n",
       "\\end{enumerate*}\n"
      ],
      "text/markdown": [
       "1. \"Partia 1\"\n",
       "2. \"Partia 2\"\n",
       "3. \"Partia 3\"\n",
       "4. \"Partia 4\"\n",
       "5. \"Partia 5\"\n",
       "\n",
       "\n"
      ],
      "text/plain": [
       "[1] \"Partia 1\" \"Partia 2\" \"Partia 3\" \"Partia 4\" \"Partia 5\""
      ]
     },
     "execution_count": 5,
     "metadata": {},
     "output_type": "execute_result"
    }
   ],
   "source": [
    "row.names(rozklad_laczny)[order(rozklad_laczny[,2], decreasing = TRUE)]"
   ]
  },
  {
   "cell_type": "markdown",
   "metadata": {},
   "source": [
    "__Wegetarianizm:__"
   ]
  },
  {
   "cell_type": "code",
   "execution_count": 6,
   "metadata": {
    "collapsed": false
   },
   "outputs": [
    {
     "data": {
      "text/html": [
       "<ol class=list-inline>\n",
       "\t<li>\"Partia 1\"</li>\n",
       "\t<li>\"Partia 2\"</li>\n",
       "\t<li>\"Partia 3\"</li>\n",
       "\t<li>\"Partia 4\"</li>\n",
       "\t<li>\"Partia 5\"</li>\n",
       "</ol>\n"
      ],
      "text/latex": [
       "\\begin{enumerate*}\n",
       "\\item \"Partia 1\"\n",
       "\\item \"Partia 2\"\n",
       "\\item \"Partia 3\"\n",
       "\\item \"Partia 4\"\n",
       "\\item \"Partia 5\"\n",
       "\\end{enumerate*}\n"
      ],
      "text/markdown": [
       "1. \"Partia 1\"\n",
       "2. \"Partia 2\"\n",
       "3. \"Partia 3\"\n",
       "4. \"Partia 4\"\n",
       "5. \"Partia 5\"\n",
       "\n",
       "\n"
      ],
      "text/plain": [
       "[1] \"Partia 1\" \"Partia 2\" \"Partia 3\" \"Partia 4\" \"Partia 5\""
      ]
     },
     "execution_count": 6,
     "metadata": {},
     "output_type": "execute_result"
    }
   ],
   "source": [
    "row.names(rozklad_laczny)[order(rozklad_laczny[,3], decreasing = TRUE)]"
   ]
  },
  {
   "cell_type": "markdown",
   "metadata": {},
   "source": [
    "I to się zgadza. We wszystkich przypadkach uporządkowanie partii jest takie samo. Definicja niezależności został dodatkowo opisana formalnie:\n",
    "\n",
    "__Definicja 1.__\n",
    "\n",
    "Zmienna X jest __niezależna statystycznie__ w powyższym sensie od zmiennej Y wtedy, gdy\n",
    "\n",
    "$\\forall y_g \\in Y , \\forall x_i , x_k \\in X:$\n",
    "\n",
    "$P(X=x_i | Y = y_g) < P(X=x_k | Y = y_g) \\Leftrightarrow P(X=x_i) < P(X=x_k)$\n",
    "\n",
    "$P(X=x_i | Y = y_g) = P(X=x_k | Y = y_g) \\Leftrightarrow P(X=x_i) = P(X=x_k)$\n",
    "\n",
    "$P(X=x_i | Y = y_g) > P(X=x_k | Y = y_g) \\Leftrightarrow P(X=x_i) > P(X=x_k)$\n",
    "\n",
    "co uzyskuje się w JUPYTERze używając następującego skryptu (jest to zapis stosowany w LATEX, ale ograniczony dodatkowo znakami \\$...\\$)"
   ]
  },
  {
   "cell_type": "markdown",
   "metadata": {},
   "source": [
    "$\\forall y_g \\in Y , \\forall x_i , x_k \\in X:$\n",
    "\n",
    "$P(X=x_i | Y = y_g) < P(X=x_k | Y = y_g) \\Leftrightarrow P(X=x_i) < P(X=x_k)$\n",
    "\n",
    "$P(X=x_i | Y = y_g) = P(X=x_k | Y = y_g) \\Leftrightarrow P(X=x_i) = P(X=x_k)$\n",
    "\n",
    "$P(X=x_i | Y = y_g) > P(X=x_k | Y = y_g) \\Leftrightarrow P(X=x_i) > P(X=x_k)$\n",
    "  "
   ]
  },
  {
   "cell_type": "markdown",
   "metadata": {},
   "source": [
    "Analogicznie do niezależności statystycznej możemy mówić o maksymalne zależności statystycznej:\n",
    "\n",
    "__\"Maksymalna zależność statystyczna__ _zmiennej X (typu „wybór”) od zmiennej Y (nominalnej) oznacza (jak zawsze), że wszystkie osoby w każdej z wyróżnionych grup ze względu na zmienną Y wybierają tę samą kategorię zmiennej X\"_.\n",
    "\n",
    "__Definicja 2.__\n",
    "\n",
    "$\\forall y_g \\in Y , \\exists x_i \\in X: P(X=x_i | Y = y_g)=1$\n",
    "\n",
    "Dla naszego przykładu oznaczałoby to, że w przypadku wszystkich diet wybrano jedną i tą samą partię.\n",
    "\n",
    "To tyle wprowadzenia. Wydaje mi się, że pomysł jest bardzo prosty. Zobaczymy jak będzie z wykonaniem."
   ]
  },
  {
   "cell_type": "markdown",
   "metadata": {},
   "source": [
    "# 3. Nowa miara zależności w praktyce\n",
    "\n",
    "Aby zrozumieć nową miarę zależności musimy najpierw zrozumieć działanie dwóch starych miar: MD oraz MDA."
   ]
  },
  {
   "cell_type": "markdown",
   "metadata": {},
   "source": [
    "## 3.1. Miary MD i MDA\n",
    "\n",
    "Miary MD oraz MDA opisują odpowiednio stopień roproszenia i koncentracji zmiennej. Musimy je omówić ponieważ stanowią one podstawowy składnik nowej miary statystycznej. "
   ]
  },
  {
   "cell_type": "markdown",
   "metadata": {},
   "source": [
    "###  3.1.1. MD czyli średnia różnica (mean difference)\n",
    "\n",
    "MD - średnia różnica (mean difference) - zaproponował słynny Corrado Gini w 1912 r. jako miara rozproszenia. Zapisuje się ją wzorem:\n",
    " \n",
    "$$MD(X)=\\frac{1}{n(n-1)} \\sum_{i=1}^n \\sum_{k=1}^n |x_i-x_k|$$\n",
    "\n",
    "Jak widać jest to średnia wartość różnic między wszystkimi możliwymi parami różnicami wartości X. Zauważmy, że zmienna X jest mierzona na skali ilorazowej. Dla naszych potrzeb możemy podstawić w jej miejsce czestości występowania czyli $P(X=x_i)$ lub prościej $p_i$. Otrzymamy wtedy: \n",
    "\n",
    "$$MD(X)=\\frac{1}{n(n-1)} \\sum_{i=1}^n \\sum_{k=1}^n |p_i-p_k|$$\n",
    "\n",
    "Niech $p_1 \\geq p_2 \\geq p_3 \\geq ... \\geq p_{n-1} \\geq p_n$\n",
    "\n",
    "Mając tak uporządkowane $P_i$ możemy wyznaczyćmacierz __D__, reprezentującą wartości bezwzględne różnic między wszystkimi parami częstości. Macierz __D__ zapisujemy jako:\n",
    "\n",
    "\n",
    "\n",
    "$$D=\\begin{bmatrix} \n",
    "  |p_1-p_1| & |p_1-p_2| & |p_1-p_3| & \\cdots & |p_1-p_n|  \\\\ \n",
    "  |p_2-p_1| & |p_2-p_2| & |p_2-p_3| & \\cdots & |p_2-p_n|  \\\\ \n",
    "  \\cdots    & \\cdots    & \\cdots    & \\cdots & \\cdots \\\\\n",
    "  \\cdots    & \\cdots    & \\cdots    & \\cdots & \\cdots \\\\\n",
    "  |p_n-p_1| & |p_n-p_2| & |p_n-p_3| & \\cdots & |p_n-p_n|  \\\\ \n",
    " \\end{bmatrix}$$\n",
    "\n",
    "Po chwili zastanowienia możemy uprościć macierz do następującej postaci (zera na przekątnej): \n",
    "\n",
    "$$D=\\begin{bmatrix} \n",
    "  0 & |p_1-p_2| & |p_1-p_3| & \\cdots & |p_1-p_n|  \\\\ \n",
    "  |p_2-p_1| & 0 & |p_2-p_3| & \\cdots & |p_2-p_n|  \\\\ \n",
    "  \\cdots    & \\cdots    & \\cdots    & \\cdots & \\cdots \\\\\n",
    "  \\cdots    & \\cdots    & \\cdots    & \\cdots & \\cdots \\\\\n",
    "  |p_n-p_1| & |p_n-p_2| & |p_n-p_3| & \\cdots & 0  \\\\ \n",
    " \\end{bmatrix}$$\n",
    " \n",
    "Ale to nie wszystko. Zauważmy, że $|p_1-p_2|$ jest równe co do wartości $|p_2-p_1|$ ! Możemy więc zmodyfikować naszą macierz podstawiając pod $|p_2-p_1|$ wartość $|p_1-p_2|$. Przypomnijmy do tego, że $p_1 \\geq p_2 \\geq p_3 \\geq ... \\geq p_{n-1} \\geq p_n$. Czyli $p_1-p_2$ będzie nieujemne. Możemy więc nawet pozbyć się wartości bezwzględnych i zostawić tylko $(p_1-p_2)$. Jeżeli taką operację przeprowadzimy w całej macierzy to otrzymamy macierz symetryczną (wartości pod przekątną są odbiciem lustrznym wartości nad przekątną):\n",
    "\n",
    "$$D=\\begin{bmatrix} \n",
    "  0 & (p_1-p_2) & (p_1-p_3) & \\cdots & (p_1-p_n)  \\\\ \n",
    "  (p_1-p_2) & 0 & (p_2-p_3) & \\cdots & (p_2-p_n)  \\\\ \n",
    "  \\cdots    & \\cdots    & \\cdots    & \\cdots & \\cdots \\\\\n",
    "  \\cdots    & \\cdots    & \\cdots    & \\cdots & \\cdots \\\\\n",
    "  (p_1-p_n) & (p_2-p_n) & (p_3-p_n) & \\cdots & 0  \\\\ \n",
    " \\end{bmatrix}$$\n",
    "\n",
    "Do dalszych rozważań przydatne będzie przyjęcie jeszcze jednego oznaczenia: $d_ik=|p_i- p_k|$. Macierz __D__ możemy wtedy zapisać jako: \n",
    "\n",
    "$$D=\\begin{bmatrix} \n",
    "  0 & d_{12} & d_{13} & \\cdots & d_{1n}  \\\\ \n",
    "  d_{21} & 0 & d_{23} & \\cdots & d_{2n}  \\\\ \n",
    "  \\cdots    & \\cdots    & \\cdots    & \\cdots & \\cdots \\\\\n",
    "  \\cdots    & \\cdots    & \\cdots    & \\cdots & \\cdots \\\\\n",
    "  d_{n1} & d_{n2} & d_{n3} & \\cdots & 0  \\\\ \n",
    " \\end{bmatrix}$$\n",
    " \n",
    " Przejdźmy do wyznaczania MD (średniej różnic). Policzmy najpierw sumą wartości wartości bewzględnych różnic częstości, którą oznaczymy jako  $\\Delta. W przyjętym przez nas zapisie macierzy __D__:\n",
    " \n",
    "$$\\Delta = \\sum_{i=1}^n \\sum_{k=1}^n d_{ik} = \\sum_{i=1}^n \\sum_{k=1}^n |p_i-p_k|$$\n",
    " \n",
    "Ponieważ, jak ustaliliśmy, możemy wyeliminować wartości bezwzględne z macierzy więc powyższą wartość można zapisać jako (pamiEtamy że macierz jest teraz symetryczna):\n",
    "\n",
    "\n",
    "$$\\Delta   = 2\\sum_{i=1}^n (n-i)p_i - 2 \\sum_{k=1}^n (i-1)p_i $$\n",
    " \n",
    "$$\\Delta =  2\\sum_{i=1}^n (n-2i+1)p_i $$\n",
    " \n",
    "$$\\Delta =   2 \\sum_{i=1}^n (n+1)p_i - 4 \\sum_{i=1}^n ip_i $$\n",
    "\n",
    "$$\\Delta =  2(n+1) \\sum_{i=1}^n p_i - 4 \\sum_{i=1}^n ip_i $$\n",
    " \n",
    "$$\\Delta =  2(n+1)- 4 \\sum_{i=1}^n ip_i$$\n",
    "\n",
    "Zauważmy, że: \n",
    "\n",
    " * jeżeli rozkład jest równomierny, tj. wszystkie częstości są równe $p_1 = p_2 = p_3 = ... = p_{n-1} = p_n = \\frac{1}{n}$, to $\\Delta=0$\n",
    " * jeżeli rozkład jest jednopunktowy, tj. występuje w nim skrajna koncentracja,$p_1 = 1, p_2 = p_3 = ... = p_{n-1} = p_n = 0$, to $\\Delta=2(n-1)$\n",
    "\n",
    "Wróćmy do miary MD. $MD(P)=\\frac{1}{n(n-1)} \\sum_{i=1}^n \\sum_{k=1}^n |p_i-p_k|$. Pamiętając o uporządkowaniu P możemy \n",
    "\n",
    "Dla jeżeli podstawimy do wzoru wyznaczoną przed chwilą \\Delta to otrzymamy $MD(X)=\\frac{1}{n(n-1)} \\sum_{i=1}^n \\sum_{k=1}^n |x_i-x_k|$\n",
    "\n",
    "Maksymalna wartość miary MD w wypadku skrajnej koncentracji jest równa 2/n, gdyż: \n",
    "\n",
    "$$MD_{max}(X) = \\frac{\\Delta_{max}}{n(n-1)} = \\frac{2(n-1)}{n(n-1)}= \\frac{2}{n}$$\n",
    "\n",
    "\n",
    "\n",
    "Jeżeli pod sumę $\\sum_{i=1}^n \\sum_{k=1}^n |x_i-x_k|$ podstawimy teraz wyznaczoną wcześniej $\\Delta$ to otrzymamy:\n",
    "\n",
    "\n",
    "$$MD(X)=\\frac{ 2(n+1)- 4 \\sum_{i=1}^n ip_i}{n(n-1)}$$\n",
    "\n",
    "A jeśli unormujemy tą wartość to otrzymamy niezbyt eleganckie wyrażenie: \n",
    "\n",
    "$$MD(X)=\\frac{\\frac{ 2(n+1)- 4 \\sum_{i=1}^n ip_i}{n(n-1)}}{ \\frac{2}{n} }$$\n",
    "\n",
    "Które ostatecznie skraca się do prostego: \n",
    "\n",
    "$$MD(X)=\\frac{ n+1- 2 \\sum_{i=1}^n ip_i}{n-1}$$\n",
    "\n",
    "Teraz miara MD przyjmuje wartości od 0 do 1:\n",
    "\n",
    " * wartość 0 – w wypadku rozkładu równomiernego\n",
    " * wartość 1 – w wypadku rozkładu, w którym jedna z kategorii występuje z częstością 1\n",
    " * miara ta jest równa skorygowanej mierze koncentracji (Ray i Singer 1973)."
   ]
  },
  {
   "cell_type": "markdown",
   "metadata": {},
   "source": [
    "### 3.1.2. MDA - analog średniej różnicy (mean difference analog) \n",
    "\n",
    "Z punktu widzenia opisu badanego rozkładu częstości bardziej przydatna niż miara koncentracji (czyli MD) będzie miara różnorodności, dla której:\n",
    "\n",
    " * wartość 0 będzie oznaczać, że jedna z kategorii występuje z częstością 1; \n",
    " * wartość 1 będzie oznaczać rozkład równomierny.\n",
    " \n",
    "Innymi słowy im większa wartość miary tym bardziej zróżnicowany rozkład. Tego rodzaju własność posiada miara MDA (_mean difference analog_) analizowana przez Allena R. Wilcoxa (1973):\n",
    "\n",
    "<center>$MDA(P) = 1 - \\frac{\\sum_{i=1}^{n-1} \\sum_{k=i+1}^{n} |p_i - p_k|}{n-1} $</center>\n",
    "\n",
    "__MDA__ otrzymujemy po odwróceniu unormowania miary MD:\n",
    "\n",
    "$$1-MD(P) $$\n",
    "\n",
    "czyli:\n",
    "\n",
    "$$1 - \\frac{n+1-2\\sum_{i=1}^n ip_i}{n-1} $$\n",
    "\n",
    "Żeby otrzymać równanie MDA z odwrotnie unormowanej miary MD wystarczy przekształcić licznik z ułamka w powyższym równaniu:\n",
    "\n",
    "$$n+1-2\\sum_{i=1}^n ip_i$$\n",
    "$$(n+1)-2\\sum_{i=1}^n ip_i$$\n",
    "$$(n+1)\\sum_{i=1}^n p_i-2\\sum_{i=1}^n ip_i$$\n",
    "$$ \\sum_{i=1}^n(n+1)p_i-2 ip_i$$\n",
    "$$ \\sum_{i=1}^n np_i+p_i-ip_i-ip_i$$\n",
    "$$ \\sum_{i=1}^n np_i-ip_i-ip_i+p_i$$\n",
    "$$\\sum_{i=1}^n (n-i)p_i-(i-1)p_i$$\n",
    "\n",
    "jeśli to rozpiszemy to otrzymamy:\n",
    "\n",
    "$$ (p_1-p_2)+(p_1-p_3)+...+(p_1-p_n)+(p_2-p_3)+(p_2-p_4)+...+(p_2-p_n)+...+(p_{n-1}-p_n)$$\n",
    "\n",
    "co (pamiętając o założeniu $p_1 \\geq p_2 \\geq p_3 \\geq ... \\geq p_{n-1} \\geq p_n$) możemy zapisać jako:\n",
    "\n",
    "$$\\sum_{n-1}^{i=1} \\sum_{n}^{k=i+1} (p_i - p_k) = \\sum_{n-1}^{i=1} \\sum_{n}^{k=i+1} |p_i - p_k|$$\n",
    "\n",
    "a to jest składnik miary MDA więc ostatecznie otrzymujemy:\n",
    "\n",
    "$$MDA(P) =  1 - \\frac{\\sum_{n-1}^{i=1} \\sum_{n}^{k=i+1} |p_i - p_k|}{n-1}   =  1 - \\frac{n+1-2\\sum_{i=1}^n ip_i}{n-1}  =   1-MD(P) $$\n",
    "\n",
    "Widzimy teraz wyraźnie, że __MDA__ otrzymuje się po odwróceniu unormowania miary __MD__. Możemy teraz zapisać __MDA__ jako: \n",
    "\n",
    "$$MDA(P) = 1 - \\frac{n+1-2\\sum_{i=1}^n ip_i}{n-1} = \\frac{2(\\sum_{i=1}^n ip_i -1  )}{n-1} $$"
   ]
  },
  {
   "cell_type": "markdown",
   "metadata": {},
   "source": [
    "## 3.2. Nowa miara zależności statystycznej\n",
    "\n",
    "Nowa miara zależności zmiennej X typu \"wybór\" od zmiennej nominalnej Y będzie oznaczana jako $\\omega_{X|Y}$  i przyjmie następując postać:\n",
    "\n",
    "$$\\omega_{X|Y}=\\frac{MDA(X)-E(MDA(X|Y))}{MDA(X)}$$\n",
    "\n",
    "Czyli jest to różnica między wartością MDA dla rozkładu zmiennej X, a średnią wartością MDA dla rozkładu zmiennej X ze wszystkich kategorii zmiennej Y, podzielona dodatkowo przez wartość MDA dla rozkładu zmiennej X."
   ]
  },
  {
   "cell_type": "markdown",
   "metadata": {},
   "source": [
    "### 3.2.1. Ostateczna postać nowej miary zależności statystycznej\n",
    "\n",
    "Żeby opisać czym jest __E(MDA(X|Y))__ potrzebna będzie mała zmiana oznaczeń. W równaniu MDA parametr _i_ (równy numerom obserwacji) będziemy teraz nazywać rangą. Przypomnijmy, że kategorie X są uporządkowane nierosnąco względem częstości występowania. Dla pierwszej, najczęściej występującej kategorii, i=1 dla następnej i=2 itd. Zatem parametr _i_ jest rangą. Teraz zmienimy jego oznaczenie i wprowadzimy dodatkowe wartości:\n",
    "\n",
    " * $r_i$ ranga częstości kategorii $x_i$ w uporządkowaniu nierosnącym w całej zbiorowości,\n",
    " * $r_{ig}$ ranga warunkowej częstości kategorii $x_i$ w uporządkowaniu nierosnącym w podzbiorowości {$Y=y_g$}.\n",
    "\n",
    "Możemy teraz zapisać, że:\n",
    "\n",
    "$$MDA(X) = \\frac{2( \\sum_{i=1}^n r_i P(X=x_i) -1) }{n-1}$$\n",
    "\n",
    "$$MDA(X|Y=y_g) = \\frac{2( \\sum_{i=1}^n r_{ig}P(X=x_i|y=y_g) -1) }{n-1}$$\n",
    "\n",
    "Czyli nowa miara zależności statystycznej przybiera (niewyraźną) postać: \n",
    "\n",
    "$$\\omega_{X|Y} =  \\frac{  \\frac{2( \\sum_{i=1}^n r_i P(X=x_i) -1) }{n-1} -  \\sum_{g=1}^G P(Y=y_g)  \\frac{2( \\sum_{i=1}^n r_{ig}P(X=x_i|y=y_g) -1) }{n-1} }{ \\frac{2( \\sum_{i=1}^n r_i P(X=x_i) -1) }{n-1}  } $$\n",
    "\n",
    "którą na szczęście możemy uprościć i istatecznie otrzymujemy:\n",
    "\n",
    "$$\\omega_{X|Y} =   \\frac{ \\sum_{i=1}^n r_i P(X=x_i)   -  \\sum_{g=1}^G P(Y=y_g)   \\sum_{i=1}^n r_{ig}P(X=x_i|y=y_g) }{ \\sum_{i=1}^n r_i P(X=x_i) - 1} $$\n",
    "\n",
    "\n",
    "\"_Miara zależności przyjmuje wartość 0, gdy zmienna X jest niezależna statystycznie od zmiennej Y w sensie __Definicji 1__ oraz wartość 1, gdy jest maksymalnie zależna statystycznie_\"."
   ]
  },
  {
   "cell_type": "markdown",
   "metadata": {},
   "source": [
    "### 3.2.2. Twierdzenie o nowej miary zależności statystycznej\n",
    "\n",
    "__Twierdzenie 1.__\n",
    "\n",
    "Jeżeli zmienna X jest niezależna statystycznie od zmiennej Y w sensie __Definicji 1__, to $\\omega_{X|Y}$ = 0.\n",
    "\n",
    "Dowód:\n",
    "\n",
    "$$\\omega_{X|Y} =   \\frac{ \\sum_{i=1}^n r_i P(X=x_i)   -  \\sum_{g=1}^G P(Y=y_g)   \\sum_{i=1}^n r_{ig}P(X=x_i|y=y_g) }{ \\sum_{i=1}^n r_i P(X=x_i)-1}$$\n",
    "\n",
    "Skoro zmienna X jest niezależna statystycznie od zmiennej Y to wszystkie rangi $r_{ig}$ będą równe odpowiednim rangom $r_i$, bo uporządkowanie kategorii zmiennej X w rozkładach warunkowych będzie takie samo jak uporządkowanie kategorii samej zmiennej X. Formalnie zapisujemy to jako $y_g \\in Y: r_{ig}=r_i$. To pozwala nam uprościć odjemnik w liczniku powyższego wyrażenia.\n",
    "\n",
    "Odejminik:\n",
    "$$\\sum_{g=1}^G P(Y=y_g)   \\sum_{i=1}^n r_{ig}P(X=x_i|y=y_g)$$\n",
    "Zamiana $r_{ig}$ na $r_i$:\n",
    "$$ \\sum_{g=1}^G P(Y=y_g)   \\sum_{i=1}^n r_{i}P(X=x_i|y=y_g)$$\n",
    "Włączenie pod sumę po __i__ prawdopodobieństwa $P(Y=y_g)$: \n",
    "$$ \\sum_{g=1}^G    \\sum_{i=1}^n P(Y=y_g) r_{i} P(X=x_i|y=y_g)$$\n",
    "Zamiania rozkładu warunkowego na łączny:\n",
    "$$ \\sum_{g=1}^G    \\sum_{i=1}^n r_{i} P(X=x_i \\land  y=y_g) $$\n",
    "Zamiania kolejności sumowania:\n",
    "$$    \\sum_{i=1}^n \\sum_{g=1}^G  r_{i} P(X=x_i \\land  y=y_g) $$\n",
    "Wyłączanie rangi $r_i$ przed sumę po _g_:\n",
    "$$   \\sum_{i=1}^n r_{i} \\sum_{g=1}^G P(X=x_i \\land  y=y_g) $$\n",
    "Suma częstości z rozkładu łączengo dla wybranej kategorii zmiennej X po wszystkich kategoriach Y daje rozkład brzegowy X więc możemy napisać:\n",
    "$$ \\sum_{i=1}^n r_i P(X=x_i)$$\n",
    "\n",
    "Przekształcony odejmnik podstawiamy do równania na $\\omega_{X|Y}$, które zgodnie z tym co przewidywaliśmy będzie dawało w wyniku 0:\n",
    "$$\\omega_{X|Y} =   \\frac{ \\sum_{i=1}^n r_i P(X=x_i) - \\sum_{i=1}^n r_i P(X=x_i) }{ \\sum_{i=1}^n r_i P(X=x_i) - 1} = 0 $$\n",
    "\n",
    "__Twierdzenie 2.__\n",
    "\n",
    "Jeżeli dla każdej kategorii $x_i$ zmiennej X zachodzi równość między rangą tej kategorii w całej zbiorowości a średnią rang tej kategorii w podzbiorowościach wyróżnionych ze względu na zmienną Y, to miara zależności przyjmuje wartość 0.\n",
    "\n",
    "Dowód.\n",
    "\n",
    "Licznik miary zależności w zapisie uproszczonym ma następującą postać.\n",
    "\n",
    "$$\\sum_{i=1}^n r_i P(X=x_i) - \\sum_{g=1}^G P(Y=y_g) \\sum_{i=1}^n r_{ig}P(X=x_i|y=y_g)=$$\n",
    "$$=\\sum_{i=1}^n r_i P(X=x_i) - \\sum_{i=1}^n \\sum_{g=1}^G  r_{ig} P(X=x_i \\land  y=y_g)=$$\n",
    "$$=\\sum_{i=1}^n r_i P(X=x_i) -  \\sum_{i=1}^n \\sum_{g=1}^G P(Y=x_i) r_{ig}P(X=x_i|y=y_g)=$$\n",
    "$$=\\sum_{i=1}^n r_i P(X=x_i) -  \\sum_{i=1}^n \\sum_{g=1}^G P(Y=x_i) r_{ig}P(X=x_i|y=y_g)=$$\n",
    "$$=\\sum_{i=1}^n P(X=x_i)[ r_i -  \\sum_{g=1}^G r_{ig} P(X=x_i|y=y_g)]$$\n",
    "\n",
    "Wyrażenie w nawiasie kwadratowym jest różnicą między rangą kategorii $x_i$ w całej zbiorowości a średnią rang tej kategorii w podzbiorowościach wyróżnionych ze względu na zmienną Y. Jeżeli dla każdej kategorii $x_i \\in X$ jest\n",
    "ono równe 0, to $ \\omega_{X|Y} = 0$.\n",
    "\n",
    "Czyli istnieją dwie sytuacje w których miara $\\omega_{X|Y}$ przyjmuje wartość 0, z czego jedną jest niezależność statystyczna.\n",
    "\n",
    "__Twierdzenie 3.__\n",
    "\n",
    "Nowa miary zależności przyjmuje wartość 1, gdy zmienna X jest maksymalnie zależna statystycznie od zmiennej Y w sensie __Definicji 2__. \n",
    "\n",
    "Wystarczy zauważyć, że w tym wypadku wartość E[MDA(X|Y)] musi być równa 0. Tak może być jedynie wtedy, gdy każdy warunkowy rozkład zmiennej X ze względu na zmienną Y jest zerojedynkowy i w konsekwencji dla każdego $y_g \\in Y: MDA(X|Y=y_g)=0$.\n",
    "\n",
    "Dowód: \n",
    "\n",
    "Przypomnijmy, że zgodnie z __Definicją 2__ niezależność statystyczna zmiennej X od Y oznacza, że dla każdej kategorii Y tylko jedna kategoria X ma częstość niezerową (czyli tylko jedna kategoria jest wybierana, ale dla każdego Y to może być inna kategria).\n",
    "\n",
    "To oznacza, że dla _g-tej_ kategorii Y:\n",
    "\n",
    "$$\\sum_{i=1}^n r_{ig}P(X=x_i|y=y_g)=1$$\n",
    "\n",
    "bo niezależność powoduje, że dla _g-tej_ kategorii w powyższej sumie pierwsze prawdopodobieństwo przyjmie wartość 1, a pozostałe 0 więc otrzymamy:\n",
    "\n",
    "$$1\\cdot 1 + 2 \\cdot 0 + 3 \\cdot 0 + ... n \\cdot 0 = 1$$\n",
    "\n",
    "Możemy więc 1 podstawić zamias sumy do wzoru:\n",
    "\n",
    "$$\\omega_{X|Y} = \\frac{ \\sum_{i=1}^n r_i P(X=x_i) - \\sum_{g=1}^G P(Y=y_g) \\cdot 1 }{ \\sum_{i=1}^n r_i P(X=x_i)-1}$$\n",
    "\n",
    "oczywiście możemy pominąć 1 i wtedy zostaje: \n",
    "\n",
    "$$\\omega_{X|Y} = \\frac{ \\sum_{i=1}^n r_i P(X=x_i) - \\sum_{g=1}^G P(Y=y_g) }{ \\sum_{i=1}^n r_i P(X=x_i)-1}$$\n",
    "\n",
    "skoro tak, to zauważmy, że $\\sum_{g=1}^G P(Y=y_g)=1$, a to daje nam:\n",
    "\n",
    "$$\\omega_{X|Y} = \\frac{ \\sum_{i=1}^n r_i P(X=x_i) - 1 }{ \\sum_{i=1}^n r_i P(X=x_i)-1} = 1$$\n",
    "\n",
    "Czyli udowodniliśmy, że niezależność zmiennych X i Y skutkuje przyjęciem przez miarę $\\omega_{X|Y}$ wartości 1."
   ]
  },
  {
   "cell_type": "markdown",
   "metadata": {},
   "source": [
    "# 4. Przykłady działania nowej miary\n",
    "\n",
    "Przejdźmy do praktycznych przykładów, które mam nadzieję wyjaśnią wszystkie niejasności związane z działaniem nowej miary zależność $\\omega_{X|Y}$."
   ]
  },
  {
   "cell_type": "markdown",
   "metadata": {},
   "source": [
    "## 4.1 Przypomnienie nowej miary\n",
    "\n",
    "Zacznijmy od szybkiego przypomnienia, że zajmujemy się zależnością statystyczną między zmiennej X (typu „wybór” - nominalnej) od zmiennej Y (nominalnej). Dla tego typu zmiennych zdefiniowaliśmy, że:    \n",
    "\n",
    " * __Niezależność statystyczna__ zmiennej X (typu „wybór”) od zmiennej Y (nominalnej) polega na tym, że takie same są uporządkowania częstości wyborów kategorii zmiennej X we wszystkich grupach badanych osób, wyróżnionych ze względu na zmienną Y.\n",
    " * __Maksymalna zależność statystyczna__ zmiennej X (typu „wybór”) od zmiennej Y (nominalnej) oznacza (jak zawsze), że wszystkie osoby w każdej z wyróżnionych grup ze względu na zmienną Y wybierają tę samą kategorię zmiennej X.\n",
    "\n",
    "Dla przypomnienia nowa miara zależności ma postać:\n",
    "\n",
    "$$\\omega_{X|Y} =   \\frac{ \\sum_{i=1}^n r_i P(X=x_i)   -  \\sum_{g=1}^G P(Y=y_g)   \\sum_{i=1}^n r_{ig}P(X=x_i|y=y_g) }{ \\sum_{i=1}^n r_i P(X=x_i)-1}$$\n",
    "\n",
    "gdzie: \n",
    "\n",
    " * $r_i$ ranga częstości kategorii $x_i$ w uporządkowaniu nierosnącym w całej zbiorowości,\n",
    " * $r_{ig}$ ranga warunkowej częstości kategorii $x_i$ w uporządkowaniu nierosnącym w podzbiorowości {$Y=y_g$}.\n",
    "\n",
    "__Miara zależności__ przyjmuje wartość __0, gdy zmienna X jest niezależna__ statystycznie od zmiennej Y  oraz wartość __1, gdy jest maksymalnie zależna__ statystycznie. Przy czym:\n"
   ]
  },
  {
   "cell_type": "markdown",
   "metadata": {},
   "source": [
    "## 4.2 Przykład niezależności zmiennej X od Y dla nowej miary zależności\n",
    "\n",
    "Przypomnijmy czym jest niezależność statystyczna dla zmiennej typu wybór od innej zmiennej nominalnej:\n",
    "\n",
    "\"Niezależność statystyczna zmiennej X (typu „wybór”) od zmiennej Y (nominalnej) polega na tym, że takie same są uporządkowania częstości wyborów kategorii zmiennej X we wszystkich grupach badanych osób, wyróżnionych ze względu na zmienną Y.\"\n",
    "\n",
    "Nowa miary zależności $\\omega_{X|Y}$ przyjmuje wartość 0, gdy zmienna X jest niezależna statystycznie od zmiennej Y w sensie powyższej definicji niezależności. \n",
    "\n",
    "Za przykład przyjmijmy następujący rozkład łączny częstości zmiennych X i Y:"
   ]
  },
  {
   "cell_type": "code",
   "execution_count": 7,
   "metadata": {
    "collapsed": false,
    "scrolled": true
   },
   "outputs": [
    {
     "data": {
      "text/html": [
       "<table>\n",
       "<thead><tr><th></th><th scope=col>y1</th><th scope=col>y2</th><th scope=col>y3</th><th scope=col>RAZEM</th></tr></thead>\n",
       "<tbody>\n",
       "\t<tr><th scope=row>x1</th><td>0.12</td><td>0.08</td><td>0.10</td><td>0.30</td></tr>\n",
       "\t<tr><th scope=row>x2</th><td>0.100</td><td>0.050</td><td>0.084</td><td>0.234</td></tr>\n",
       "\t<tr><th scope=row>x3</th><td>0.08</td><td>0.04</td><td>0.08</td><td>0.20</td></tr>\n",
       "\t<tr><th scope=row>x4</th><td>0.060</td><td>0.030</td><td>0.076</td><td>0.166</td></tr>\n",
       "\t<tr><th scope=row>x5</th><td>0.04</td><td>0.00</td><td>0.06</td><td>0.10</td></tr>\n",
       "\t<tr><th scope=row>RAZEM</th><td>0.4</td><td>0.2</td><td>0.4</td><td>1.0</td></tr>\n",
       "</tbody>\n",
       "</table>\n"
      ],
      "text/latex": [
       "\\begin{tabular}{r|llll}\n",
       "  & y1 & y2 & y3 & RAZEM\\\\\n",
       "\\hline\n",
       "\tx1 & 0.12 & 0.08 & 0.10 & 0.30\\\\\n",
       "\tx2 & 0.100 & 0.050 & 0.084 & 0.234\\\\\n",
       "\tx3 & 0.08 & 0.04 & 0.08 & 0.20\\\\\n",
       "\tx4 & 0.060 & 0.030 & 0.076 & 0.166\\\\\n",
       "\tx5 & 0.04 & 0.00 & 0.06 & 0.10\\\\\n",
       "\tRAZEM & 0.4 & 0.2 & 0.4 & 1.0\\\\\n",
       "\\end{tabular}\n"
      ],
      "text/markdown": [
       "1. 0.12\n",
       "2. 0.1\n",
       "3. 0.08\n",
       "4. 0.06\n",
       "5. 0.04\n",
       "6. 0.4\n",
       "7. 0.08\n",
       "8. 0.05\n",
       "9. 0.04\n",
       "10. 0.03\n",
       "11. 0\n",
       "12. 0.2\n",
       "13. 0.1\n",
       "14. 0.084\n",
       "15. 0.08\n",
       "16. 0.076\n",
       "17. 0.06\n",
       "18. 0.4\n",
       "19. 0.3\n",
       "20. 0.234\n",
       "21. 0.2\n",
       "22. 0.166\n",
       "23. 0.1\n",
       "24. 1\n",
       "\n",
       "\n"
      ],
      "text/plain": [
       "        y1   y2    y3 RAZEM\n",
       "x1    0.12 0.08 0.100 0.300\n",
       "x2    0.10 0.05 0.084 0.234\n",
       "x3    0.08 0.04 0.080 0.200\n",
       "x4    0.06 0.03 0.076 0.166\n",
       "x5    0.04 0.00 0.060 0.100\n",
       "RAZEM 0.40 0.20 0.400 1.000"
      ]
     },
     "execution_count": 7,
     "metadata": {},
     "output_type": "execute_result"
    }
   ],
   "source": [
    "niezaleznosc<-matrix(\n",
    "    c(0.12, 0.08, 0.1,\n",
    "      0.1,  0.05, 0.084,\n",
    "      0.08, 0.04, 0.08,\n",
    "      0.06, 0.03, 0.076,\n",
    "      0.04, 0,    0.06\n",
    "    ),    nrow = 5,    ncol = 3,    byrow = TRUE\n",
    ")\n",
    "niezaleznosc_brzegowy<-addmargins(niezaleznosc)\n",
    "colnames(niezaleznosc_brzegowy)<-c(\"y1\", \"y2\", \"y3\", \"RAZEM\")\n",
    "rownames(niezaleznosc_brzegowy)<-c(\"x1\", \"x2\", \"x3\", \"x4\", \"x5\", \"RAZEM\")\n",
    "niezaleznosc_brzegowy"
   ]
  },
  {
   "cell_type": "markdown",
   "metadata": {},
   "source": [
    "Zatem rozkład warunkowy częstości X|Y ma następującą postać:"
   ]
  },
  {
   "cell_type": "code",
   "execution_count": 8,
   "metadata": {
    "collapsed": false
   },
   "outputs": [
    {
     "data": {
      "text/html": [
       "<table>\n",
       "<thead><tr><th></th><th scope=col>y1</th><th scope=col>y2</th><th scope=col>y3</th></tr></thead>\n",
       "<tbody>\n",
       "\t<tr><th scope=row>x1</th><td>0.30</td><td>0.40</td><td>0.25</td></tr>\n",
       "\t<tr><th scope=row>x2</th><td>0.25</td><td>0.25</td><td>0.21</td></tr>\n",
       "\t<tr><th scope=row>x3</th><td>0.2</td><td>0.2</td><td>0.2</td></tr>\n",
       "\t<tr><th scope=row>x4</th><td>0.15</td><td>0.15</td><td>0.19</td></tr>\n",
       "\t<tr><th scope=row>x5</th><td>0.10</td><td>0.00</td><td>0.15</td></tr>\n",
       "\t<tr><th scope=row>RAZEM</th><td>1</td><td>1</td><td>1</td></tr>\n",
       "</tbody>\n",
       "</table>\n"
      ],
      "text/latex": [
       "\\begin{tabular}{r|lll}\n",
       "  & y1 & y2 & y3\\\\\n",
       "\\hline\n",
       "\tx1 & 0.30 & 0.40 & 0.25\\\\\n",
       "\tx2 & 0.25 & 0.25 & 0.21\\\\\n",
       "\tx3 & 0.2 & 0.2 & 0.2\\\\\n",
       "\tx4 & 0.15 & 0.15 & 0.19\\\\\n",
       "\tx5 & 0.10 & 0.00 & 0.15\\\\\n",
       "\tRAZEM & 1 & 1 & 1\\\\\n",
       "\\end{tabular}\n"
      ],
      "text/markdown": [
       "1. 0.3\n",
       "2. 0.25\n",
       "3. 0.2\n",
       "4. 0.15\n",
       "5. 0.1\n",
       "6. 1\n",
       "7. 0.4\n",
       "8. 0.25\n",
       "9. 0.2\n",
       "10. 0.15\n",
       "11. 0\n",
       "12. 1\n",
       "13. 0.25\n",
       "14. 0.21\n",
       "15. 0.2\n",
       "16. 0.19\n",
       "17. 0.15\n",
       "18. 1\n",
       "\n",
       "\n"
      ],
      "text/plain": [
       "        y1   y2   y3\n",
       "x1    0.30 0.40 0.25\n",
       "x2    0.25 0.25 0.21\n",
       "x3    0.20 0.20 0.20\n",
       "x4    0.15 0.15 0.19\n",
       "x5    0.10 0.00 0.15\n",
       "RAZEM 1.00 1.00 1.00"
      ]
     },
     "execution_count": 8,
     "metadata": {},
     "output_type": "execute_result"
    }
   ],
   "source": [
    "niezaleznosc_y<-addmargins( prop.table(niezaleznosc,2),1) \n",
    "colnames(niezaleznosc_y)<-c(\"y1\", \"y2\", \"y3\")\n",
    "rownames(niezaleznosc_y)<-c(\"x1\", \"x2\", \"x3\", \"x4\", \"x5\", \"RAZEM\")\n",
    "niezaleznosc_y"
   ]
  },
  {
   "cell_type": "markdown",
   "metadata": {},
   "source": [
    "Od razu możemy zauważyć, że warunkowe uporządowakowanie kategorii zmiennej X jest dla wszystkich kategorii Y takie samo.  "
   ]
  },
  {
   "cell_type": "code",
   "execution_count": 9,
   "metadata": {
    "collapsed": false
   },
   "outputs": [
    {
     "data": {
      "text/html": [
       "<table>\n",
       "<tbody>\n",
       "\t<tr><td>1</td><td>1</td><td>1</td></tr>\n",
       "\t<tr><td>2</td><td>2</td><td>2</td></tr>\n",
       "\t<tr><td>3</td><td>3</td><td>3</td></tr>\n",
       "\t<tr><td>4</td><td>4</td><td>4</td></tr>\n",
       "\t<tr><td>5</td><td>5</td><td>5</td></tr>\n",
       "</tbody>\n",
       "</table>\n"
      ],
      "text/latex": [
       "\\begin{tabular}{lll}\n",
       "\t 1 & 1 & 1\\\\\n",
       "\t 2 & 2 & 2\\\\\n",
       "\t 3 & 3 & 3\\\\\n",
       "\t 4 & 4 & 4\\\\\n",
       "\t 5 & 5 & 5\\\\\n",
       "\\end{tabular}\n"
      ],
      "text/markdown": [
       "1. 1\n",
       "2. 2\n",
       "3. 3\n",
       "4. 4\n",
       "5. 5\n",
       "6. 1\n",
       "7. 2\n",
       "8. 3\n",
       "9. 4\n",
       "10. 5\n",
       "11. 1\n",
       "12. 2\n",
       "13. 3\n",
       "14. 4\n",
       "15. 5\n",
       "\n",
       "\n"
      ],
      "text/plain": [
       "     [,1] [,2] [,3]\n",
       "[1,]    1    1    1\n",
       "[2,]    2    2    2\n",
       "[3,]    3    3    3\n",
       "[4,]    4    4    4\n",
       "[5,]    5    5    5"
      ]
     },
     "execution_count": 9,
     "metadata": {},
     "output_type": "execute_result"
    }
   ],
   "source": [
    "# Uporzadkowanie kategorii X dla pierwszej, drugiej i trzeciej katogorii zmiennej Y\n",
    "# W tabeli numery zmienne X zostały posortowane od największej do najmniejszej częstości\n",
    "apply( prop.table(niezaleznosc,2), MARGIN = 2, order, decreasing = TRUE )"
   ]
  },
  {
   "cell_type": "markdown",
   "metadata": {},
   "source": [
    "Oznacza to, że w myśl wcześniej prezentowanej definicji, zmienna X jest niezależna statystycznie od zmiennej Y.\n",
    "\n",
    "Teraz możemy się zastanowić nad tym jak, w tej sytuacji zachowa się nowa miara zależności: \n",
    "\n",
    "$$\\omega_{X|Y} =   \\frac{ \\sum_{i=1}^n r_i P(X=x_i)   -  \\sum_{g=1}^G P(Y=y_g)   \\sum_{i=1}^n r_{ig}P(X=x_i|y=y_g) }{ \\sum_{i=1}^n r_i P(X=x_i)-1}$$\n",
    "\n",
    "Zacznijmy od wyznaczenia najprostrzego elementu tej miary czyli $\\sum_{i=1}^n r_i P(X=x_i)$ (korzystamy z rozkładu brzegowego zmiennej X i rang przypisanych częstościom):\n",
    "\n",
    "$$\\sum_{i=1}^n r_i P(X=x_i) = 1 \\cdot 0.3 + 2 \\cdot 0.234 + 3 \\cdot 0.2 + 4 \\cdot 0.166 + 5 \\cdot 0.1 = 2.532\n",
    "$$\n",
    "\n",
    "Teraz zajmijmy się odejmnikiem $\\sum_{g=1}^G P(Y=y_g) \\sum_{i=1}^n r_{ig}P(X=x_i|y=y_g)$. Zauważmy, że wyrażenie przeypomina średnią: dla każdej kategorii zmiennej Y wyznaczamy pewną wartość ze względu na warunkowe częstości zmiennej X, a potem mnożymy ją przez częstość kategorii Y. \n",
    "\n",
    "Aby wyznaczyć odejmnik potrzebny będzie rozkład warunkowy częstości X|Y:"
   ]
  },
  {
   "cell_type": "code",
   "execution_count": 10,
   "metadata": {
    "collapsed": false
   },
   "outputs": [
    {
     "data": {
      "text/html": [
       "<table>\n",
       "<thead><tr><th></th><th scope=col>y1</th><th scope=col>y2</th><th scope=col>y3</th></tr></thead>\n",
       "<tbody>\n",
       "\t<tr><th scope=row>x1</th><td>0.30</td><td>0.40</td><td>0.25</td></tr>\n",
       "\t<tr><th scope=row>x2</th><td>0.25</td><td>0.25</td><td>0.21</td></tr>\n",
       "\t<tr><th scope=row>x3</th><td>0.2</td><td>0.2</td><td>0.2</td></tr>\n",
       "\t<tr><th scope=row>x4</th><td>0.15</td><td>0.15</td><td>0.19</td></tr>\n",
       "\t<tr><th scope=row>x5</th><td>0.10</td><td>0.00</td><td>0.15</td></tr>\n",
       "\t<tr><th scope=row>RAZEM</th><td>1</td><td>1</td><td>1</td></tr>\n",
       "</tbody>\n",
       "</table>\n"
      ],
      "text/latex": [
       "\\begin{tabular}{r|lll}\n",
       "  & y1 & y2 & y3\\\\\n",
       "\\hline\n",
       "\tx1 & 0.30 & 0.40 & 0.25\\\\\n",
       "\tx2 & 0.25 & 0.25 & 0.21\\\\\n",
       "\tx3 & 0.2 & 0.2 & 0.2\\\\\n",
       "\tx4 & 0.15 & 0.15 & 0.19\\\\\n",
       "\tx5 & 0.10 & 0.00 & 0.15\\\\\n",
       "\tRAZEM & 1 & 1 & 1\\\\\n",
       "\\end{tabular}\n"
      ],
      "text/markdown": [
       "1. 0.3\n",
       "2. 0.25\n",
       "3. 0.2\n",
       "4. 0.15\n",
       "5. 0.1\n",
       "6. 1\n",
       "7. 0.4\n",
       "8. 0.25\n",
       "9. 0.2\n",
       "10. 0.15\n",
       "11. 0\n",
       "12. 1\n",
       "13. 0.25\n",
       "14. 0.21\n",
       "15. 0.2\n",
       "16. 0.19\n",
       "17. 0.15\n",
       "18. 1\n",
       "\n",
       "\n"
      ],
      "text/plain": [
       "        y1   y2   y3\n",
       "x1    0.30 0.40 0.25\n",
       "x2    0.25 0.25 0.21\n",
       "x3    0.20 0.20 0.20\n",
       "x4    0.15 0.15 0.19\n",
       "x5    0.10 0.00 0.15\n",
       "RAZEM 1.00 1.00 1.00"
      ]
     },
     "execution_count": 10,
     "metadata": {},
     "output_type": "execute_result"
    }
   ],
   "source": [
    "niezaleznosc_y"
   ]
  },
  {
   "cell_type": "markdown",
   "metadata": {},
   "source": [
    "oraz odpawiadające mu rangi kategorii zmiennej X:"
   ]
  },
  {
   "cell_type": "code",
   "execution_count": 11,
   "metadata": {
    "collapsed": false
   },
   "outputs": [
    {
     "data": {
      "text/html": [
       "<table>\n",
       "<tbody>\n",
       "\t<tr><td>1</td><td>1</td><td>1</td></tr>\n",
       "\t<tr><td>2</td><td>2</td><td>2</td></tr>\n",
       "\t<tr><td>3</td><td>3</td><td>3</td></tr>\n",
       "\t<tr><td>4</td><td>4</td><td>4</td></tr>\n",
       "\t<tr><td>5</td><td>5</td><td>5</td></tr>\n",
       "</tbody>\n",
       "</table>\n"
      ],
      "text/latex": [
       "\\begin{tabular}{lll}\n",
       "\t 1 & 1 & 1\\\\\n",
       "\t 2 & 2 & 2\\\\\n",
       "\t 3 & 3 & 3\\\\\n",
       "\t 4 & 4 & 4\\\\\n",
       "\t 5 & 5 & 5\\\\\n",
       "\\end{tabular}\n"
      ],
      "text/markdown": [
       "1. 1\n",
       "2. 2\n",
       "3. 3\n",
       "4. 4\n",
       "5. 5\n",
       "6. 1\n",
       "7. 2\n",
       "8. 3\n",
       "9. 4\n",
       "10. 5\n",
       "11. 1\n",
       "12. 2\n",
       "13. 3\n",
       "14. 4\n",
       "15. 5\n",
       "\n",
       "\n"
      ],
      "text/plain": [
       "     [,1] [,2] [,3]\n",
       "[1,]    1    1    1\n",
       "[2,]    2    2    2\n",
       "[3,]    3    3    3\n",
       "[4,]    4    4    4\n",
       "[5,]    5    5    5"
      ]
     },
     "execution_count": 11,
     "metadata": {},
     "output_type": "execute_result"
    }
   ],
   "source": [
    "apply( prop.table(niezaleznosc,2), MARGIN = 2, \n",
    "      function(x) {\n",
    "          kolej<-order(x,decreasing = TRUE)\n",
    "          ranga<-(1:length(kolej))[ order(kolej)]\n",
    "          return(ranga)\n",
    "      }\n",
    ")"
   ]
  },
  {
   "cell_type": "markdown",
   "metadata": {},
   "source": [
    "Na tej podstawie możemy policzyć:"
   ]
  },
  {
   "cell_type": "code",
   "execution_count": 12,
   "metadata": {
    "collapsed": false
   },
   "outputs": [
    {
     "data": {
      "text/html": [
       "2.5"
      ],
      "text/latex": [
       "2.5"
      ],
      "text/markdown": [
       "2.5"
      ],
      "text/plain": [
       "[1] 2.5"
      ]
     },
     "execution_count": 12,
     "metadata": {},
     "output_type": "execute_result"
    }
   ],
   "source": [
    "# Dla Y=y_1\n",
    "1 * 0.30 + 2 * 0.25 + 3 * 0.2 + 4 * 0.15 + 5 * 0.10"
   ]
  },
  {
   "cell_type": "code",
   "execution_count": 13,
   "metadata": {
    "collapsed": false
   },
   "outputs": [
    {
     "data": {
      "text/html": [
       "2.1"
      ],
      "text/latex": [
       "2.1"
      ],
      "text/markdown": [
       "2.1"
      ],
      "text/plain": [
       "[1] 2.1"
      ]
     },
     "execution_count": 13,
     "metadata": {},
     "output_type": "execute_result"
    }
   ],
   "source": [
    "# Dla Y=y_2\n",
    "1 * 0.40 + 2 * 0.25 + 3 * 0.2 + 4 * 0.15 + 5 * 0.00"
   ]
  },
  {
   "cell_type": "code",
   "execution_count": 14,
   "metadata": {
    "collapsed": false
   },
   "outputs": [
    {
     "data": {
      "text/html": [
       "2.78"
      ],
      "text/latex": [
       "2.78"
      ],
      "text/markdown": [
       "2.78"
      ],
      "text/plain": [
       "[1] 2.78"
      ]
     },
     "execution_count": 14,
     "metadata": {},
     "output_type": "execute_result"
    }
   ],
   "source": [
    "# Dla Y=y_3\n",
    "1 * 0.25 + 2 * 0.21 + 3 * 0.2 + 4 * 0.19 + 5 * 0.15"
   ]
  },
  {
   "cell_type": "markdown",
   "metadata": {},
   "source": [
    "Teraz możemy wykorzystać otrzymane wartości iloczynów rang oraz częstości i podstawić je do równania, w którym wykorzystujemy rozkład brzegowy Y: "
   ]
  },
  {
   "cell_type": "code",
   "execution_count": 15,
   "metadata": {
    "collapsed": false,
    "scrolled": true
   },
   "outputs": [
    {
     "data": {
      "text/html": [
       "<dl class=dl-horizontal>\n",
       "\t<dt>y1</dt>\n",
       "\t\t<dd>0.4</dd>\n",
       "\t<dt>y2</dt>\n",
       "\t\t<dd>0.2</dd>\n",
       "\t<dt>y3</dt>\n",
       "\t\t<dd>0.4</dd>\n",
       "\t<dt>RAZEM</dt>\n",
       "\t\t<dd>1</dd>\n",
       "</dl>\n"
      ],
      "text/latex": [
       "\\begin{description*}\n",
       "\\item[y1] 0.4\n",
       "\\item[y2] 0.2\n",
       "\\item[y3] 0.4\n",
       "\\item[RAZEM] 1\n",
       "\\end{description*}\n"
      ],
      "text/markdown": [
       "y1\n",
       ":   0.4y2\n",
       ":   0.2y3\n",
       ":   0.4RAZEM\n",
       ":   1\n",
       "\n"
      ],
      "text/plain": [
       "   y1    y2    y3 RAZEM \n",
       "  0.4   0.2   0.4   1.0 "
      ]
     },
     "execution_count": 15,
     "metadata": {},
     "output_type": "execute_result"
    }
   ],
   "source": [
    "niezaleznosc_brzegowy[6,]"
   ]
  },
  {
   "cell_type": "markdown",
   "metadata": {},
   "source": [
    "$$\\sum_{g=1}^G P(Y=y_g) \\sum_{i=1}^n r_{ig}P(X=x_i|y=y_g) = 0.4 \\cdot 2.5  + 0.2 \\cdot 2.1+ 0.4 \\cdot 2.78 = 2.532\n",
    "$$\n",
    "\n",
    "Następnie podstawiamy do równania nowej miary zależności statystycznej $\\omega_{X|Y}$ wszystkie wyznaczone wcześniej wartości i otrzymujemy: \n",
    "\n",
    "$$\\omega_{X|Y} =   \\frac{ \\sum_{i=1}^n r_i P(X=x_i)   -  \\sum_{g=1}^G P(Y=y_g)   \\sum_{i=1}^n r_{ig}P(X=x_i|y=y_g) }{ \\sum_{i=1}^n r_i P(X=x_i)-1} = \\frac{2.532- 2.532}{2.532 - 1} = 0$$\n",
    "\n",
    "Czyli zgodnie z założeniami miara $\\omega_{X|Y}$ przyjęła wartość 0 w sytuacji, gdy zmienna X jest niezalażna od zmiennej Y zgodnie z przyjętą definicją."
   ]
  },
  {
   "cell_type": "markdown",
   "metadata": {},
   "source": [
    "## 4.3 Przykład maksymalnej zależności zmiennej X od Y dla nowej miary zależności\n",
    "\n",
    "Przypomnijmy czym jest niezależność statystyczna dla zmiennej typu wybór od innej zmiennej nominalnej:\n",
    "\n",
    "__Maksymalna zależność statystyczna__ zmiennej X (typu „wybór”) od zmiennej Y (nominalnej) oznacza (jak zawsze), że wszystkie osoby w każdej z wyróżnionych grup ze względu na zmienną Y wybierają tę samą kategorię zmiennej X.\n",
    "\n",
    "Nowa miary zależności $\\omega_{X|Y}$ przyjmuje wartość 1, gdy zmienna X jest maksymalnie zależna statystycznie od zmiennej Y w sensie powyższej definicji niezależności. \n",
    "\n",
    "Za przykład przyjmijmy następujący rozkład łączny częstości zmiennych X i Y:"
   ]
  },
  {
   "cell_type": "code",
   "execution_count": 16,
   "metadata": {
    "collapsed": false
   },
   "outputs": [
    {
     "data": {
      "text/html": [
       "<table>\n",
       "<thead><tr><th></th><th scope=col>y1</th><th scope=col>y2</th><th scope=col>y3</th><th scope=col>RAZEM</th></tr></thead>\n",
       "<tbody>\n",
       "\t<tr><th scope=row>x1</th><td>0.2</td><td>0.0</td><td>0.0</td><td>0.2</td></tr>\n",
       "\t<tr><th scope=row>x2</th><td>0.0</td><td>0.3</td><td>0.0</td><td>0.3</td></tr>\n",
       "\t<tr><th scope=row>x3</th><td>0.0</td><td>0.0</td><td>0.5</td><td>0.5</td></tr>\n",
       "\t<tr><th scope=row>x4</th><td>0</td><td>0</td><td>0</td><td>0</td></tr>\n",
       "\t<tr><th scope=row>x5</th><td>0</td><td>0</td><td>0</td><td>0</td></tr>\n",
       "\t<tr><th scope=row>RAZEM</th><td>0.2</td><td>0.3</td><td>0.5</td><td>1.0</td></tr>\n",
       "</tbody>\n",
       "</table>\n"
      ],
      "text/latex": [
       "\\begin{tabular}{r|llll}\n",
       "  & y1 & y2 & y3 & RAZEM\\\\\n",
       "\\hline\n",
       "\tx1 & 0.2 & 0.0 & 0.0 & 0.2\\\\\n",
       "\tx2 & 0.0 & 0.3 & 0.0 & 0.3\\\\\n",
       "\tx3 & 0.0 & 0.0 & 0.5 & 0.5\\\\\n",
       "\tx4 & 0 & 0 & 0 & 0\\\\\n",
       "\tx5 & 0 & 0 & 0 & 0\\\\\n",
       "\tRAZEM & 0.2 & 0.3 & 0.5 & 1.0\\\\\n",
       "\\end{tabular}\n"
      ],
      "text/markdown": [
       "1. 0.2\n",
       "2. 0\n",
       "3. 0\n",
       "4. 0\n",
       "5. 0\n",
       "6. 0.2\n",
       "7. 0\n",
       "8. 0.3\n",
       "9. 0\n",
       "10. 0\n",
       "11. 0\n",
       "12. 0.3\n",
       "13. 0\n",
       "14. 0\n",
       "15. 0.5\n",
       "16. 0\n",
       "17. 0\n",
       "18. 0.5\n",
       "19. 0.2\n",
       "20. 0.3\n",
       "21. 0.5\n",
       "22. 0\n",
       "23. 0\n",
       "24. 1\n",
       "\n",
       "\n"
      ],
      "text/plain": [
       "       y1  y2  y3 RAZEM\n",
       "x1    0.2 0.0 0.0   0.2\n",
       "x2    0.0 0.3 0.0   0.3\n",
       "x3    0.0 0.0 0.5   0.5\n",
       "x4    0.0 0.0 0.0   0.0\n",
       "x5    0.0 0.0 0.0   0.0\n",
       "RAZEM 0.2 0.3 0.5   1.0"
      ]
     },
     "execution_count": 16,
     "metadata": {},
     "output_type": "execute_result"
    }
   ],
   "source": [
    "zaleznosc_max<-matrix(\n",
    "    c(.2, 0,   0,\n",
    "      0,   .3, 0,\n",
    "      0,   0,   .5,\n",
    "      0,   0,   0,\n",
    "      0,   0,   0\n",
    "    ),    nrow = 5,    ncol = 3,    byrow = TRUE\n",
    ")\n",
    "zaleznosc_max_brzegowy<-round(addmargins(zaleznosc_max),2)\n",
    "colnames(zaleznosc_max_brzegowy)<-c(\"y1\", \"y2\", \"y3\", \"RAZEM\")\n",
    "rownames(zaleznosc_max_brzegowy)<-c(\"x1\", \"x2\", \"x3\", \"x4\", \"x5\", \"RAZEM\")\n",
    "zaleznosc_max_brzegowy"
   ]
  },
  {
   "cell_type": "markdown",
   "metadata": {},
   "source": [
    "Zatem rozkład warunkowy częstości X|Y ma następującą postać:"
   ]
  },
  {
   "cell_type": "code",
   "execution_count": 17,
   "metadata": {
    "collapsed": false
   },
   "outputs": [
    {
     "data": {
      "text/html": [
       "<table>\n",
       "<thead><tr><th></th><th scope=col>y1</th><th scope=col>y2</th><th scope=col>y3</th></tr></thead>\n",
       "<tbody>\n",
       "\t<tr><th scope=row>x1</th><td>1</td><td>0</td><td>0</td></tr>\n",
       "\t<tr><th scope=row>x2</th><td>0</td><td>1</td><td>0</td></tr>\n",
       "\t<tr><th scope=row>x3</th><td>0</td><td>0</td><td>1</td></tr>\n",
       "\t<tr><th scope=row>x4</th><td>0</td><td>0</td><td>0</td></tr>\n",
       "\t<tr><th scope=row>x5</th><td>0</td><td>0</td><td>0</td></tr>\n",
       "\t<tr><th scope=row>RAZEM</th><td>1</td><td>1</td><td>1</td></tr>\n",
       "</tbody>\n",
       "</table>\n"
      ],
      "text/latex": [
       "\\begin{tabular}{r|lll}\n",
       "  & y1 & y2 & y3\\\\\n",
       "\\hline\n",
       "\tx1 & 1 & 0 & 0\\\\\n",
       "\tx2 & 0 & 1 & 0\\\\\n",
       "\tx3 & 0 & 0 & 1\\\\\n",
       "\tx4 & 0 & 0 & 0\\\\\n",
       "\tx5 & 0 & 0 & 0\\\\\n",
       "\tRAZEM & 1 & 1 & 1\\\\\n",
       "\\end{tabular}\n"
      ],
      "text/markdown": [
       "1. 1\n",
       "2. 0\n",
       "3. 0\n",
       "4. 0\n",
       "5. 0\n",
       "6. 1\n",
       "7. 0\n",
       "8. 1\n",
       "9. 0\n",
       "10. 0\n",
       "11. 0\n",
       "12. 1\n",
       "13. 0\n",
       "14. 0\n",
       "15. 1\n",
       "16. 0\n",
       "17. 0\n",
       "18. 1\n",
       "\n",
       "\n"
      ],
      "text/plain": [
       "      y1 y2 y3\n",
       "x1     1  0  0\n",
       "x2     0  1  0\n",
       "x3     0  0  1\n",
       "x4     0  0  0\n",
       "x5     0  0  0\n",
       "RAZEM  1  1  1"
      ]
     },
     "execution_count": 17,
     "metadata": {},
     "output_type": "execute_result"
    }
   ],
   "source": [
    "zaleznosc_max_y<-addmargins( prop.table(zaleznosc_max,2),1) \n",
    "colnames(zaleznosc_max_y)<-c(\"y1\", \"y2\", \"y3\")\n",
    "rownames(zaleznosc_max_y)<-c(\"x1\", \"x2\", \"x3\", \"x4\", \"x5\", \"RAZEM\")\n",
    "zaleznosc_max_y"
   ]
  },
  {
   "cell_type": "markdown",
   "metadata": {},
   "source": [
    "Od razu możemy zauważyć, że warunkowe uporządowakowanie kategorii zmiennej X jest dla wszystkich kategorii Y jest inne."
   ]
  },
  {
   "cell_type": "code",
   "execution_count": 18,
   "metadata": {
    "collapsed": false
   },
   "outputs": [
    {
     "data": {
      "text/html": [
       "<table>\n",
       "<tbody>\n",
       "\t<tr><td>1</td><td>2</td><td>3</td></tr>\n",
       "\t<tr><td>2</td><td>1</td><td>1</td></tr>\n",
       "\t<tr><td>3</td><td>3</td><td>2</td></tr>\n",
       "\t<tr><td>4</td><td>4</td><td>4</td></tr>\n",
       "\t<tr><td>5</td><td>5</td><td>5</td></tr>\n",
       "</tbody>\n",
       "</table>\n"
      ],
      "text/latex": [
       "\\begin{tabular}{lll}\n",
       "\t 1 & 2 & 3\\\\\n",
       "\t 2 & 1 & 1\\\\\n",
       "\t 3 & 3 & 2\\\\\n",
       "\t 4 & 4 & 4\\\\\n",
       "\t 5 & 5 & 5\\\\\n",
       "\\end{tabular}\n"
      ],
      "text/markdown": [
       "1. 1\n",
       "2. 2\n",
       "3. 3\n",
       "4. 4\n",
       "5. 5\n",
       "6. 2\n",
       "7. 1\n",
       "8. 3\n",
       "9. 4\n",
       "10. 5\n",
       "11. 3\n",
       "12. 1\n",
       "13. 2\n",
       "14. 4\n",
       "15. 5\n",
       "\n",
       "\n"
      ],
      "text/plain": [
       "     [,1] [,2] [,3]\n",
       "[1,]    1    2    3\n",
       "[2,]    2    1    1\n",
       "[3,]    3    3    2\n",
       "[4,]    4    4    4\n",
       "[5,]    5    5    5"
      ]
     },
     "execution_count": 18,
     "metadata": {},
     "output_type": "execute_result"
    }
   ],
   "source": [
    "# Uporzadkowanie kategorii X dla pierwszej, drugiej i trzeciej katogorii zmiennej Y\n",
    "# W tabeli numery zmienne X zostały posortowane od największej do najmniejszej częstości\n",
    "apply( prop.table(zaleznosc_max,2), MARGIN = 2, order, decreasing = TRUE )"
   ]
  },
  {
   "cell_type": "markdown",
   "metadata": {},
   "source": [
    "Rozkład warunkowy częstości X|Y pozwala nam stwierdzić, że wszystkie osoby w każdej z wyróżnionych grup ze względu na zmienną Y wybierają tę samą kategorię zmiennej X. To oznacza, że zmienna X jest niezależna od zmiennej Y.\n",
    "\n",
    "Teraz możemy się zastanowić nad tym jak, w tej sytuacji zachowa się nowa miara zależności: \n",
    "\n",
    "$$\\omega_{X|Y} =   \\frac{ \\sum_{i=1}^n r_i P(X=x_i)   -  \\sum_{g=1}^G P(Y=y_g)   \\sum_{i=1}^n r_{ig}P(X=x_i|y=y_g) }{ \\sum_{i=1}^n r_i P(X=x_i)-1}$$\n",
    "\n",
    "Zacznijmy od wyznaczenia najprostrzego elementu tej miary czyli $\\sum_{i=1}^n r_i P(X=x_i)$ (korzystamy z rozkładu brzegowego zmiennej X i rang przypisanych częstościom):\n",
    "\n",
    "$$\\sum_{i=1}^n r_i P(X=x_i) = 1 \\cdot 0.5 + 2 \\cdot 0.3 + 3 \\cdot 0.2 + 4 \\cdot 0 + 5 \\cdot 0 = 1.7\n",
    "$$\n",
    "\n",
    "Teraz zajmijmy się odejmnikiem $\\sum_{g=1}^G P(Y=y_g) \\sum_{i=1}^n r_{ig}P(X=x_i|y=y_g)$. Aby wyznaczyć jego wartość potrzebny będzie rozkład warunkowy częstości X|Y:"
   ]
  },
  {
   "cell_type": "code",
   "execution_count": 19,
   "metadata": {
    "collapsed": false
   },
   "outputs": [
    {
     "data": {
      "text/html": [
       "<table>\n",
       "<thead><tr><th></th><th scope=col>y1</th><th scope=col>y2</th><th scope=col>y3</th></tr></thead>\n",
       "<tbody>\n",
       "\t<tr><th scope=row>x1</th><td>1</td><td>0</td><td>0</td></tr>\n",
       "\t<tr><th scope=row>x2</th><td>0</td><td>1</td><td>0</td></tr>\n",
       "\t<tr><th scope=row>x3</th><td>0</td><td>0</td><td>1</td></tr>\n",
       "\t<tr><th scope=row>x4</th><td>0</td><td>0</td><td>0</td></tr>\n",
       "\t<tr><th scope=row>x5</th><td>0</td><td>0</td><td>0</td></tr>\n",
       "\t<tr><th scope=row>RAZEM</th><td>1</td><td>1</td><td>1</td></tr>\n",
       "</tbody>\n",
       "</table>\n"
      ],
      "text/latex": [
       "\\begin{tabular}{r|lll}\n",
       "  & y1 & y2 & y3\\\\\n",
       "\\hline\n",
       "\tx1 & 1 & 0 & 0\\\\\n",
       "\tx2 & 0 & 1 & 0\\\\\n",
       "\tx3 & 0 & 0 & 1\\\\\n",
       "\tx4 & 0 & 0 & 0\\\\\n",
       "\tx5 & 0 & 0 & 0\\\\\n",
       "\tRAZEM & 1 & 1 & 1\\\\\n",
       "\\end{tabular}\n"
      ],
      "text/markdown": [
       "1. 1\n",
       "2. 0\n",
       "3. 0\n",
       "4. 0\n",
       "5. 0\n",
       "6. 1\n",
       "7. 0\n",
       "8. 1\n",
       "9. 0\n",
       "10. 0\n",
       "11. 0\n",
       "12. 1\n",
       "13. 0\n",
       "14. 0\n",
       "15. 1\n",
       "16. 0\n",
       "17. 0\n",
       "18. 1\n",
       "\n",
       "\n"
      ],
      "text/plain": [
       "      y1 y2 y3\n",
       "x1     1  0  0\n",
       "x2     0  1  0\n",
       "x3     0  0  1\n",
       "x4     0  0  0\n",
       "x5     0  0  0\n",
       "RAZEM  1  1  1"
      ]
     },
     "execution_count": 19,
     "metadata": {},
     "output_type": "execute_result"
    }
   ],
   "source": [
    "zaleznosc_max_y"
   ]
  },
  {
   "cell_type": "markdown",
   "metadata": {},
   "source": [
    "oraz odpawiadające mu rangi kategorii zmiennej X:"
   ]
  },
  {
   "cell_type": "code",
   "execution_count": 20,
   "metadata": {
    "collapsed": false
   },
   "outputs": [
    {
     "data": {
      "text/html": [
       "<table>\n",
       "<tbody>\n",
       "\t<tr><td>1</td><td>2</td><td>2</td></tr>\n",
       "\t<tr><td>2</td><td>1</td><td>3</td></tr>\n",
       "\t<tr><td>3</td><td>3</td><td>1</td></tr>\n",
       "\t<tr><td>4</td><td>4</td><td>4</td></tr>\n",
       "\t<tr><td>5</td><td>5</td><td>5</td></tr>\n",
       "</tbody>\n",
       "</table>\n"
      ],
      "text/latex": [
       "\\begin{tabular}{lll}\n",
       "\t 1 & 2 & 2\\\\\n",
       "\t 2 & 1 & 3\\\\\n",
       "\t 3 & 3 & 1\\\\\n",
       "\t 4 & 4 & 4\\\\\n",
       "\t 5 & 5 & 5\\\\\n",
       "\\end{tabular}\n"
      ],
      "text/markdown": [
       "1. 1\n",
       "2. 2\n",
       "3. 3\n",
       "4. 4\n",
       "5. 5\n",
       "6. 2\n",
       "7. 1\n",
       "8. 3\n",
       "9. 4\n",
       "10. 5\n",
       "11. 2\n",
       "12. 3\n",
       "13. 1\n",
       "14. 4\n",
       "15. 5\n",
       "\n",
       "\n"
      ],
      "text/plain": [
       "     [,1] [,2] [,3]\n",
       "[1,]    1    2    2\n",
       "[2,]    2    1    3\n",
       "[3,]    3    3    1\n",
       "[4,]    4    4    4\n",
       "[5,]    5    5    5"
      ]
     },
     "execution_count": 20,
     "metadata": {},
     "output_type": "execute_result"
    }
   ],
   "source": [
    "apply( prop.table(zaleznosc_max,2), MARGIN = 2, \n",
    "      function(x) {\n",
    "          kolej<-order(x,decreasing = TRUE)\n",
    "          ranga<-(1:length(kolej))[ order(kolej)]\n",
    "          return(ranga)\n",
    "      }\n",
    ")"
   ]
  },
  {
   "cell_type": "markdown",
   "metadata": {},
   "source": [
    "Na tej podstawie możemy policzyć:"
   ]
  },
  {
   "cell_type": "code",
   "execution_count": 21,
   "metadata": {
    "collapsed": false
   },
   "outputs": [
    {
     "data": {
      "text/html": [
       "1"
      ],
      "text/latex": [
       "1"
      ],
      "text/markdown": [
       "1"
      ],
      "text/plain": [
       "[1] 1"
      ]
     },
     "execution_count": 21,
     "metadata": {},
     "output_type": "execute_result"
    }
   ],
   "source": [
    "# Dla Y=y_1\n",
    "1*1+2*0+3*0+4*0+5*0"
   ]
  },
  {
   "cell_type": "code",
   "execution_count": 22,
   "metadata": {
    "collapsed": false
   },
   "outputs": [
    {
     "data": {
      "text/html": [
       "1"
      ],
      "text/latex": [
       "1"
      ],
      "text/markdown": [
       "1"
      ],
      "text/plain": [
       "[1] 1"
      ]
     },
     "execution_count": 22,
     "metadata": {},
     "output_type": "execute_result"
    }
   ],
   "source": [
    "# Dla Y=y_2\n",
    "2*0+1*1+3*0+4*0+5*0"
   ]
  },
  {
   "cell_type": "code",
   "execution_count": 23,
   "metadata": {
    "collapsed": false
   },
   "outputs": [
    {
     "data": {
      "text/html": [
       "1"
      ],
      "text/latex": [
       "1"
      ],
      "text/markdown": [
       "1"
      ],
      "text/plain": [
       "[1] 1"
      ]
     },
     "execution_count": 23,
     "metadata": {},
     "output_type": "execute_result"
    }
   ],
   "source": [
    "# Dla Y=y_3\n",
    "2*0+3*0+1*1+4*0+5*0"
   ]
  },
  {
   "cell_type": "markdown",
   "metadata": {},
   "source": [
    "Teraz możemy wykorzystać otrzymane wartości iloczynów rang oraz częstości i podstawić je do równania, w którym wykorzystujemy rozkład brzegowy Y: "
   ]
  },
  {
   "cell_type": "code",
   "execution_count": 24,
   "metadata": {
    "collapsed": false
   },
   "outputs": [
    {
     "data": {
      "text/html": [
       "<dl class=dl-horizontal>\n",
       "\t<dt>y1</dt>\n",
       "\t\t<dd>0.2</dd>\n",
       "\t<dt>y2</dt>\n",
       "\t\t<dd>0.3</dd>\n",
       "\t<dt>y3</dt>\n",
       "\t\t<dd>0.5</dd>\n",
       "\t<dt>RAZEM</dt>\n",
       "\t\t<dd>1</dd>\n",
       "</dl>\n"
      ],
      "text/latex": [
       "\\begin{description*}\n",
       "\\item[y1] 0.2\n",
       "\\item[y2] 0.3\n",
       "\\item[y3] 0.5\n",
       "\\item[RAZEM] 1\n",
       "\\end{description*}\n"
      ],
      "text/markdown": [
       "y1\n",
       ":   0.2y2\n",
       ":   0.3y3\n",
       ":   0.5RAZEM\n",
       ":   1\n",
       "\n"
      ],
      "text/plain": [
       "   y1    y2    y3 RAZEM \n",
       "  0.2   0.3   0.5   1.0 "
      ]
     },
     "execution_count": 24,
     "metadata": {},
     "output_type": "execute_result"
    }
   ],
   "source": [
    "zaleznosc_max_brzegowy[6,]"
   ]
  },
  {
   "cell_type": "markdown",
   "metadata": {},
   "source": [
    "$$\\sum_{g=1}^G P(Y=y_g) \\sum_{i=1}^n r_{ig}P(X=x_i|y=y_g) = 0.2 \\cdot 1  + 0.3 \\cdot 1 + 0.5 \\cdot 1 = 1\n",
    "$$\n",
    "\n",
    "Następnie podstawiamy do równania nowej miary zależności statystycznej $\\omega_{X|Y}$ wszystkie wyznaczone wcześniej wartości i otrzymujemy: \n",
    "\n",
    "$$\\omega_{X|Y} =   \\frac{ \\sum_{i=1}^n r_i P(X=x_i)   -  \\sum_{g=1}^G P(Y=y_g)   \\sum_{i=1}^n r_{ig}P(X=x_i|y=y_g) }{ \\sum_{i=1}^n r_i P(X=x_i)-1} = \\frac{1.7- 1}{1.7 - 1} = 1$$\n",
    "\n",
    "Czyli zgodnie z założeniami miara $\\omega_{X|Y}$ przyjęła wartość 1 w sytuacji, gdy zmienna X jest maksymalnie zależna od zmiennej Y zgodnie z przyjętą definicją."
   ]
  },
  {
   "cell_type": "markdown",
   "metadata": {},
   "source": [
    "## 4.4 Inne przykłady zależności zmiennej X od Y dla nowej miary zależności  z użyciem algorytm w R \n",
    "\n",
    "Na potrzeby przykładu zastosowany zostanie alogorytm napisany w R, który będzie obliczał wartość nowej miary zależności, na trochę innych zasadach nich miało to miejce powyżej. \n",
    "\n",
    "Algorytm będzie korzstał z miary MDA (gdzie wartości $p_i$ są uporządkowane nierosnąco):\n",
    "\n",
    "$$MDA(P) = \\frac{2(\\sum_{i=1}^n ip_i -1  )}{n-1} $$\n",
    "\n",
    "Nową miarę zależności można zapisać z wykorzystaniem miary MDA w następujący sposób: \n",
    "\n",
    "$$\\omega_{X|Y}=\\frac{MDA(X)-E(MDA(X|Y))}{MDA(X)}$$\n",
    "\n",
    "gdzie: \n",
    "\n",
    "$$E(MDA(X|Y)) = \\sum_{i=i}^n P(Y_i) \\cdot MDA(X|Y_i)$$\n",
    "\n",
    "Poniżej znajduje funkcja R wyko...."
   ]
  },
  {
   "cell_type": "code",
   "execution_count": 25,
   "metadata": {
    "collapsed": false
   },
   "outputs": [],
   "source": [
    "# funckcja MDA\n",
    "MDA<- function( x ) {  \n",
    "   x<-as.vector(x) \n",
    "  x<-x[order(x, decreasing = TRUE)] # uporzadkowanie nierosnace wektora x  \n",
    "  return( ((sum (x*(1:length(x)))-1)*2 )/( length(x)-1) )  \n",
    "}\n",
    "# nowa miara zaleznosci\n",
    "OMEGA_MDA<-function( M ){\n",
    "    mda_kolumny<-apply( prop.table ( M , 2), 2, MDA)\n",
    "    srednie_mda<-sum(mda_kolumny*colSums( M ))\n",
    "    MDA_X<-MDA(rowSums( M ))\n",
    "    return(round( (MDA_X-srednie_mda)/MDA_X,7))\n",
    "}"
   ]
  },
  {
   "cell_type": "markdown",
   "metadata": {},
   "source": [
    "Dla porównania wyników nowej miary zastosowana zostanie entropia jako miara roproszenia:\n",
    "\n",
    "$$ H(P=p_i)=-\\sum_{i=1}^np_i \\log p_i$$\n",
    "\n",
    "Miara entropii ma następujące własności:\n",
    "\n",
    " * $0 \\leq H(P=p_i) \\leq \\log n$\n",
    " * $H(P=p_i)=0$ wtedy i tylko wtedy gdy $p_j=1$ dla penego i (czyli $p_i=0$ dla każdego $i\\neq j$)\n",
    " * $H(P=p_i)= \\log n$ wtedy i tylko wtedy gdy dla każdego $i: p_i = \\frac{1}{n}$"
   ]
  },
  {
   "cell_type": "code",
   "execution_count": 26,
   "metadata": {
    "collapsed": true
   },
   "outputs": [],
   "source": [
    "entropia<-function(x){\n",
    "    x<-as.vector(x[x>0] )\n",
    "    return( -sum(x*log(x) ) )\n",
    "}"
   ]
  },
  {
   "cell_type": "markdown",
   "metadata": {},
   "source": [
    "### 4.4.1 Analiza wrażliwośći nowej miary dla przykładowego rozkładu zmiennych"
   ]
  },
  {
   "cell_type": "markdown",
   "metadata": {},
   "source": [
    "\n"
   ]
  },
  {
   "cell_type": "code",
   "execution_count": 27,
   "metadata": {
    "collapsed": false
   },
   "outputs": [
    {
     "data": {
      "text/html": [
       "<table>\n",
       "<tbody>\n",
       "\t<tr><td>0.25</td><td>0.00</td><td>0.00</td><td>0.00</td></tr>\n",
       "\t<tr><td>0.00</td><td>0.25</td><td>0.00</td><td>0.00</td></tr>\n",
       "\t<tr><td>0.00</td><td>0.00</td><td>0.25</td><td>0.00</td></tr>\n",
       "\t<tr><td>0.00</td><td>0.00</td><td>0.00</td><td>0.25</td></tr>\n",
       "</tbody>\n",
       "</table>\n"
      ],
      "text/latex": [
       "\\begin{tabular}{llll}\n",
       "\t 0.25 & 0.00 & 0.00 & 0.00\\\\\n",
       "\t 0.00 & 0.25 & 0.00 & 0.00\\\\\n",
       "\t 0.00 & 0.00 & 0.25 & 0.00\\\\\n",
       "\t 0.00 & 0.00 & 0.00 & 0.25\\\\\n",
       "\\end{tabular}\n"
      ],
      "text/markdown": [
       "1. 0.25\n",
       "2. 0\n",
       "3. 0\n",
       "4. 0\n",
       "5. 0\n",
       "6. 0.25\n",
       "7. 0\n",
       "8. 0\n",
       "9. 0\n",
       "10. 0\n",
       "11. 0.25\n",
       "12. 0\n",
       "13. 0\n",
       "14. 0\n",
       "15. 0\n",
       "16. 0.25\n",
       "\n",
       "\n"
      ],
      "text/plain": [
       "     [,1] [,2] [,3] [,4]\n",
       "[1,] 0.25 0.00 0.00 0.00\n",
       "[2,] 0.00 0.25 0.00 0.00\n",
       "[3,] 0.00 0.00 0.25 0.00\n",
       "[4,] 0.00 0.00 0.00 0.25"
      ]
     },
     "execution_count": 27,
     "metadata": {},
     "output_type": "execute_result"
    },
    {
     "name": "stdout",
     "output_type": "stream",
     "text": [
      "Ä…"
     ]
    },
    {
     "ename": "ERROR",
     "evalue": "Error in paste(omega_znak, stri_enc_toutf8(\"WartoĹ›Ä‡\")): nie udało się znaleźć funkcji 'stri_enc_toutf8'\n",
     "output_type": "error",
     "traceback": [
      "Error in paste(omega_znak, stri_enc_toutf8(\"WartoĹ›Ä‡\")): nie udało się znaleźć funkcji 'stri_enc_toutf8'\n"
     ]
    },
    {
     "name": "stdout",
     "output_type": "stream",
     "text": [
      "WartoĹ›Ä‡ dla nowej miary zaleĹĽnoĹ›ci Omega wynosi <U+03C9>WartoĹ›Ä‡ dla nowej miary zaleĹĽnoĹ›ci Omega wynosi <U+03C9> : 1\n",
      "WartoĹ›Ä‡ entropi dla przykĹ‚adowej macierzy wynosi: 1.386294"
     ]
    }
   ],
   "source": [
    "przyklad<-\n",
    "    matrix(\n",
    "        c( 0.25, 0,    0,    0,\n",
    "           0,    0.25, 0,    0,\n",
    "           0,    0,    0.25, 0,\n",
    "           0,    0,    0,    0.25),\n",
    "        nrow = 4,\n",
    "        ncol = 4,\n",
    "        byrow = TRUE\n",
    "    )\n",
    "przyklad\n",
    "\n",
    "omega_znak<-\"\\u03C9\"\n",
    "\n",
    "cat(\"ą\" )\n",
    "paste( omega_znak, stri_enc_toutf8(\"Wartość\") )\n",
    "cat(c(\"Wartość dla nowej miary zależności Omega wynosi\", omega_znak ))\n",
    "cat( paste(\"Wartość dla nowej miary zależności Omega wynosi\", omega_znak, \":\", OMEGA_MDA(przyklad)))\n",
    "cat( \"\\nWartość entropi dla przykładowej macierzy wynosi:\", entropia(przyklad))\n",
    "\n"
   ]
  },
  {
   "cell_type": "markdown",
   "metadata": {},
   "source": [
    "Symulacja: \n",
    "\n",
    " * jako warunki początkowe przyjęto powyższy rozkład przykładowy;\n",
    " * jako warunki końcowe przyjęto rozkład równomierny\n",
    " \n"
   ]
  },
  {
   "cell_type": "code",
   "execution_count": 28,
   "metadata": {
    "collapsed": false
   },
   "outputs": [
    {
     "name": "stderr",
     "output_type": "stream",
     "text": [
      "Warning message:\n",
      "In title(...): niepowodzenie konwersji 'Ď‰' w 'mbcsToSbcs': kropka zastąpiona <cf>Warning message:\n",
      "In title(...): niepowodzenie konwersji 'Ď‰' w 'mbcsToSbcs': kropka zastąpiona <89>"
     ]
    },
    {
     "data": {
      "text/html": [
       "<table>\n",
       "<tbody>\n",
       "\t<tr><td>0.0625</td><td>0.0625</td><td>0.0625</td><td>0.0625</td></tr>\n",
       "\t<tr><td>0.0625</td><td>0.0625</td><td>0.0625</td><td>0.0625</td></tr>\n",
       "\t<tr><td>0.0625</td><td>0.0625</td><td>0.0625</td><td>0.0625</td></tr>\n",
       "\t<tr><td>0.0625</td><td>0.0625</td><td>0.0625</td><td>0.0625</td></tr>\n",
       "</tbody>\n",
       "</table>\n"
      ],
      "text/latex": [
       "\\begin{tabular}{llll}\n",
       "\t 0.0625 & 0.0625 & 0.0625 & 0.0625\\\\\n",
       "\t 0.0625 & 0.0625 & 0.0625 & 0.0625\\\\\n",
       "\t 0.0625 & 0.0625 & 0.0625 & 0.0625\\\\\n",
       "\t 0.0625 & 0.0625 & 0.0625 & 0.0625\\\\\n",
       "\\end{tabular}\n"
      ],
      "text/markdown": [
       "1. 0.0625\n",
       "2. 0.0625\n",
       "3. 0.0625\n",
       "4. 0.0625\n",
       "5. 0.0625\n",
       "6. 0.0625\n",
       "7. 0.0625\n",
       "8. 0.0625\n",
       "9. 0.0625\n",
       "10. 0.0625\n",
       "11. 0.0625\n",
       "12. 0.0625\n",
       "13. 0.0625\n",
       "14. 0.0625\n",
       "15. 0.0625\n",
       "16. 0.0625\n",
       "\n",
       "\n"
      ],
      "text/plain": [
       "       [,1]   [,2]   [,3]   [,4]\n",
       "[1,] 0.0625 0.0625 0.0625 0.0625\n",
       "[2,] 0.0625 0.0625 0.0625 0.0625\n",
       "[3,] 0.0625 0.0625 0.0625 0.0625\n",
       "[4,] 0.0625 0.0625 0.0625 0.0625"
      ]
     },
     "execution_count": 28,
     "metadata": {},
     "output_type": "execute_result"
    },
    {
     "data": {
      "image/png": "[encoded data removed]",
      "image/svg+xml": [
       "<?xml version=\"1.0\" encoding=\"UTF-8\"?>\n",
       "<svg xmlns=\"http://www.w3.org/2000/svg\" xmlns:xlink=\"http://www.w3.org/1999/xlink\" width=\"504pt\" height=\"504pt\" viewBox=\"0 0 504 504\" version=\"1.1\">\n",
       "<defs>\n",
       "<g>\n",
       "<symbol overflow=\"visible\" id=\"glyph0-0\">\n",
       "<path style=\"stroke:none;\" d=\"M 4.46875 0 L 3.414063 0 L 3.414063 -6.71875 C 3.160156 -6.476563 2.828125 -6.234375 2.414063 -5.996094 C 2 -5.75 1.628906 -5.570313 1.304688 -5.449219 L 1.304688 -6.46875 C 1.894531 -6.742188 2.410156 -7.078125 2.851563 -7.476563 C 3.292969 -7.871094 3.605469 -8.253906 3.789063 -8.625 L 4.46875 -8.625 Z M 4.46875 0 \"/>\n",
       "</symbol>\n",
       "<symbol overflow=\"visible\" id=\"glyph0-1\">\n",
       "<path style=\"stroke:none;\" d=\"M 1.089844 0 L 1.089844 -1.203125 L 2.289063 -1.203125 L 2.289063 0 Z M 1.089844 0 \"/>\n",
       "</symbol>\n",
       "<symbol overflow=\"visible\" id=\"glyph0-2\">\n",
       "<path style=\"stroke:none;\" d=\"M 3.878906 0 L 3.878906 -2.054688 L 0.152344 -2.054688 L 0.152344 -3.023438 L 4.070313 -8.589844 L 4.933594 -8.589844 L 4.933594 -3.023438 L 6.09375 -3.023438 L 6.09375 -2.054688 L 4.933594 -2.054688 L 4.933594 0 Z M 3.878906 -3.023438 L 3.878906 -6.898438 L 1.1875 -3.023438 Z M 3.878906 -3.023438 \"/>\n",
       "</symbol>\n",
       "<symbol overflow=\"visible\" id=\"glyph0-3\">\n",
       "<path style=\"stroke:none;\" d=\"M 5.96875 -6.484375 L 4.921875 -6.40625 C 4.828125 -6.8125 4.695313 -7.113281 4.523438 -7.304688 C 4.234375 -7.605469 3.882813 -7.757813 3.46875 -7.757813 C 3.132813 -7.757813 2.835938 -7.664063 2.585938 -7.476563 C 2.25 -7.234375 1.988281 -6.878906 1.796875 -6.414063 C 1.605469 -5.949219 1.507813 -5.289063 1.5 -4.429688 C 1.753906 -4.8125 2.0625 -5.097656 2.433594 -5.289063 C 2.796875 -5.472656 3.183594 -5.566406 3.585938 -5.570313 C 4.289063 -5.566406 4.886719 -5.308594 5.382813 -4.792969 C 5.875 -4.277344 6.121094 -3.609375 6.125 -2.789063 C 6.121094 -2.25 6.003906 -1.746094 5.773438 -1.285156 C 5.539063 -0.820313 5.222656 -0.46875 4.816406 -0.222656 C 4.410156 0.0234375 3.949219 0.144531 3.433594 0.148438 C 2.554688 0.144531 1.835938 -0.175781 1.285156 -0.820313 C 0.726563 -1.46875 0.449219 -2.535156 0.453125 -4.019531 C 0.449219 -5.675781 0.757813 -6.882813 1.371094 -7.640625 C 1.902344 -8.296875 2.621094 -8.625 3.53125 -8.625 C 4.207031 -8.625 4.761719 -8.433594 5.195313 -8.054688 C 5.625 -7.675781 5.882813 -7.152344 5.96875 -6.484375 Z M 1.664063 -2.78125 C 1.664063 -2.417969 1.738281 -2.070313 1.894531 -1.738281 C 2.042969 -1.40625 2.261719 -1.152344 2.542969 -0.980469 C 2.820313 -0.800781 3.109375 -0.714844 3.414063 -0.71875 C 3.859375 -0.714844 4.242188 -0.894531 4.566406 -1.257813 C 4.882813 -1.613281 5.042969 -2.101563 5.046875 -2.726563 C 5.042969 -3.316406 4.886719 -3.785156 4.570313 -4.128906 C 4.25 -4.46875 3.851563 -4.640625 3.375 -4.640625 C 2.898438 -4.640625 2.492188 -4.46875 2.160156 -4.128906 C 1.828125 -3.785156 1.664063 -3.335938 1.664063 -2.78125 Z M 1.664063 -2.78125 \"/>\n",
       "</symbol>\n",
       "<symbol overflow=\"visible\" id=\"glyph0-4\">\n",
       "<path style=\"stroke:none;\" d=\"M 2.121094 -4.65625 C 1.683594 -4.816406 1.359375 -5.046875 1.148438 -5.34375 C 0.9375 -5.640625 0.832031 -5.996094 0.832031 -6.410156 C 0.832031 -7.035156 1.054688 -7.558594 1.503906 -7.984375 C 1.953125 -8.410156 2.550781 -8.625 3.296875 -8.625 C 4.042969 -8.625 4.648438 -8.40625 5.109375 -7.972656 C 5.566406 -7.535156 5.792969 -7.003906 5.796875 -6.382813 C 5.792969 -5.976563 5.6875 -5.628906 5.480469 -5.339844 C 5.269531 -5.042969 4.953125 -4.816406 4.53125 -4.65625 C 5.054688 -4.480469 5.457031 -4.203125 5.734375 -3.824219 C 6.007813 -3.4375 6.144531 -2.980469 6.148438 -2.453125 C 6.144531 -1.714844 5.886719 -1.097656 5.367188 -0.601563 C 4.84375 -0.101563 4.160156 0.144531 3.316406 0.148438 C 2.46875 0.144531 1.785156 -0.101563 1.265625 -0.605469 C 0.742188 -1.105469 0.480469 -1.734375 0.484375 -2.484375 C 0.480469 -3.039063 0.621094 -3.503906 0.910156 -3.886719 C 1.191406 -4.261719 1.597656 -4.519531 2.121094 -4.65625 Z M 1.910156 -6.445313 C 1.910156 -6.039063 2.039063 -5.707031 2.300781 -5.449219 C 2.5625 -5.191406 2.902344 -5.0625 3.320313 -5.0625 C 3.722656 -5.0625 4.054688 -5.1875 4.320313 -5.445313 C 4.578125 -5.695313 4.710938 -6.011719 4.710938 -6.386719 C 4.710938 -6.773438 4.574219 -7.097656 4.308594 -7.363281 C 4.035156 -7.625 3.703125 -7.757813 3.3125 -7.757813 C 2.90625 -7.757813 2.574219 -7.628906 2.308594 -7.371094 C 2.042969 -7.113281 1.910156 -6.804688 1.910156 -6.445313 Z M 1.570313 -2.476563 C 1.570313 -2.175781 1.640625 -1.886719 1.785156 -1.605469 C 1.925781 -1.324219 2.136719 -1.105469 2.421875 -0.949219 C 2.699219 -0.792969 3.003906 -0.714844 3.328125 -0.71875 C 3.832031 -0.714844 4.246094 -0.878906 4.578125 -1.207031 C 4.902344 -1.53125 5.066406 -1.941406 5.070313 -2.445313 C 5.066406 -2.945313 4.898438 -3.367188 4.5625 -3.703125 C 4.222656 -4.035156 3.800781 -4.199219 3.292969 -4.203125 C 2.792969 -4.199219 2.378906 -4.035156 2.058594 -3.710938 C 1.730469 -3.378906 1.570313 -2.96875 1.570313 -2.476563 Z M 1.570313 -2.476563 \"/>\n",
       "</symbol>\n",
       "<symbol overflow=\"visible\" id=\"glyph0-5\">\n",
       "<path style=\"stroke:none;\" d=\"M 6.039063 -1.015625 L 6.039063 0 L 0.363281 0 C 0.355469 -0.253906 0.394531 -0.496094 0.484375 -0.734375 C 0.628906 -1.117188 0.859375 -1.5 1.179688 -1.875 C 1.492188 -2.25 1.953125 -2.683594 2.5625 -3.175781 C 3.492188 -3.941406 4.125 -4.546875 4.453125 -4.992188 C 4.78125 -5.4375 4.945313 -5.859375 4.945313 -6.265625 C 4.945313 -6.679688 4.792969 -7.03125 4.496094 -7.320313 C 4.191406 -7.601563 3.804688 -7.746094 3.328125 -7.75 C 2.820313 -7.746094 2.414063 -7.59375 2.109375 -7.292969 C 1.804688 -6.984375 1.648438 -6.5625 1.648438 -6.03125 L 0.5625 -6.140625 C 0.632813 -6.945313 0.910156 -7.558594 1.398438 -7.988281 C 1.878906 -8.410156 2.53125 -8.625 3.351563 -8.625 C 4.171875 -8.625 4.824219 -8.394531 5.308594 -7.9375 C 5.789063 -7.480469 6.027344 -6.914063 6.03125 -6.242188 C 6.027344 -5.894531 5.957031 -5.558594 5.820313 -5.226563 C 5.675781 -4.890625 5.441406 -4.539063 5.117188 -4.175781 C 4.789063 -3.804688 4.25 -3.300781 3.492188 -2.664063 C 2.859375 -2.128906 2.453125 -1.769531 2.273438 -1.582031 C 2.09375 -1.394531 1.945313 -1.203125 1.828125 -1.015625 Z M 6.039063 -1.015625 \"/>\n",
       "</symbol>\n",
       "<symbol overflow=\"visible\" id=\"glyph0-6\">\n",
       "<path style=\"stroke:none;\" d=\"M 0.5 -4.234375 C 0.496094 -5.246094 0.601563 -6.0625 0.8125 -6.6875 C 1.019531 -7.304688 1.328125 -7.785156 1.742188 -8.121094 C 2.148438 -8.457031 2.667969 -8.625 3.296875 -8.625 C 3.757813 -8.625 4.164063 -8.53125 4.511719 -8.347656 C 4.855469 -8.160156 5.140625 -7.890625 5.371094 -7.542969 C 5.59375 -7.191406 5.773438 -6.765625 5.90625 -6.265625 C 6.035156 -5.761719 6.097656 -5.085938 6.101563 -4.234375 C 6.097656 -3.226563 5.996094 -2.414063 5.789063 -1.796875 C 5.578125 -1.175781 5.265625 -0.695313 4.859375 -0.359375 C 4.445313 -0.0195313 3.925781 0.144531 3.296875 0.148438 C 2.464844 0.144531 1.816406 -0.148438 1.347656 -0.742188 C 0.78125 -1.457031 0.496094 -2.621094 0.5 -4.234375 Z M 1.582031 -4.234375 C 1.582031 -2.824219 1.746094 -1.886719 2.074219 -1.417969 C 2.402344 -0.949219 2.808594 -0.714844 3.296875 -0.71875 C 3.777344 -0.714844 4.183594 -0.949219 4.519531 -1.421875 C 4.847656 -1.886719 5.015625 -2.824219 5.015625 -4.234375 C 5.015625 -5.648438 4.847656 -6.589844 4.519531 -7.054688 C 4.183594 -7.515625 3.773438 -7.746094 3.289063 -7.75 C 2.800781 -7.746094 2.414063 -7.542969 2.125 -7.136719 C 1.761719 -6.613281 1.582031 -5.644531 1.582031 -4.234375 Z M 1.582031 -4.234375 \"/>\n",
       "</symbol>\n",
       "<symbol overflow=\"visible\" id=\"glyph0-7\">\n",
       "<path style=\"stroke:none;\" d=\"M 0.949219 0 L 0.949219 -8.589844 L 7.160156 -8.589844 L 7.160156 -7.578125 L 2.085938 -7.578125 L 2.085938 -4.945313 L 6.835938 -4.945313 L 6.835938 -3.9375 L 2.085938 -3.9375 L 2.085938 -1.015625 L 7.359375 -1.015625 L 7.359375 0 Z M 0.949219 0 \"/>\n",
       "</symbol>\n",
       "<symbol overflow=\"visible\" id=\"glyph0-8\">\n",
       "<path style=\"stroke:none;\" d=\"M 0.789063 0 L 0.789063 -6.222656 L 1.742188 -6.222656 L 1.742188 -5.335938 C 2.195313 -6.019531 2.855469 -6.363281 3.71875 -6.363281 C 4.089844 -6.363281 4.433594 -6.292969 4.753906 -6.160156 C 5.066406 -6.023438 5.304688 -5.847656 5.460938 -5.632813 C 5.617188 -5.410156 5.726563 -5.152344 5.789063 -4.851563 C 5.828125 -4.65625 5.847656 -4.3125 5.847656 -3.828125 L 5.847656 0 L 4.792969 0 L 4.792969 -3.785156 C 4.792969 -4.214844 4.75 -4.535156 4.667969 -4.75 C 4.585938 -4.960938 4.441406 -5.128906 4.234375 -5.257813 C 4.023438 -5.382813 3.777344 -5.449219 3.5 -5.449219 C 3.046875 -5.449219 2.660156 -5.304688 2.332031 -5.019531 C 2.003906 -4.734375 1.839844 -4.195313 1.84375 -3.398438 L 1.84375 0 Z M 0.789063 0 \"/>\n",
       "</symbol>\n",
       "<symbol overflow=\"visible\" id=\"glyph0-9\">\n",
       "<path style=\"stroke:none;\" d=\"M 3.09375 -0.945313 L 3.246094 -0.0117188 C 2.949219 0.0507813 2.683594 0.0820313 2.449219 0.0820313 C 2.066406 0.0820313 1.769531 0.0234375 1.558594 -0.0976563 C 1.347656 -0.21875 1.199219 -0.378906 1.113281 -0.578125 C 1.027344 -0.773438 0.984375 -1.1875 0.984375 -1.820313 L 0.984375 -5.402344 L 0.210938 -5.402344 L 0.210938 -6.222656 L 0.984375 -6.222656 L 0.984375 -7.765625 L 2.03125 -8.398438 L 2.03125 -6.222656 L 3.09375 -6.222656 L 3.09375 -5.402344 L 2.03125 -5.402344 L 2.03125 -1.765625 C 2.027344 -1.460938 2.046875 -1.269531 2.085938 -1.183594 C 2.125 -1.097656 2.183594 -1.027344 2.269531 -0.976563 C 2.351563 -0.925781 2.472656 -0.902344 2.632813 -0.902344 C 2.742188 -0.902344 2.898438 -0.914063 3.09375 -0.945313 Z M 3.09375 -0.945313 \"/>\n",
       "</symbol>\n",
       "<symbol overflow=\"visible\" id=\"glyph0-10\">\n",
       "<path style=\"stroke:none;\" d=\"M 0.78125 0 L 0.78125 -6.222656 L 1.726563 -6.222656 L 1.726563 -5.28125 C 1.96875 -5.71875 2.191406 -6.011719 2.398438 -6.152344 C 2.601563 -6.292969 2.828125 -6.363281 3.078125 -6.363281 C 3.429688 -6.363281 3.792969 -6.25 4.160156 -6.023438 L 3.796875 -5.046875 C 3.539063 -5.195313 3.28125 -5.273438 3.023438 -5.273438 C 2.792969 -5.273438 2.585938 -5.203125 2.402344 -5.066406 C 2.214844 -4.925781 2.082031 -4.734375 2.007813 -4.488281 C 1.890625 -4.113281 1.832031 -3.703125 1.835938 -3.257813 L 1.835938 0 Z M 0.78125 0 \"/>\n",
       "</symbol>\n",
       "<symbol overflow=\"visible\" id=\"glyph0-11\">\n",
       "<path style=\"stroke:none;\" d=\"M 0.398438 -3.109375 C 0.398438 -4.261719 0.71875 -5.117188 1.359375 -5.671875 C 1.894531 -6.132813 2.546875 -6.363281 3.316406 -6.363281 C 4.171875 -6.363281 4.871094 -6.082031 5.414063 -5.519531 C 5.953125 -4.957031 6.222656 -4.183594 6.226563 -3.199219 C 6.222656 -2.398438 6.101563 -1.765625 5.867188 -1.308594 C 5.625 -0.847656 5.277344 -0.492188 4.820313 -0.238281 C 4.359375 0.015625 3.859375 0.140625 3.316406 0.140625 C 2.441406 0.140625 1.734375 -0.136719 1.203125 -0.695313 C 0.664063 -1.253906 0.398438 -2.058594 0.398438 -3.109375 Z M 1.484375 -3.109375 C 1.480469 -2.308594 1.65625 -1.710938 2.003906 -1.320313 C 2.347656 -0.921875 2.785156 -0.726563 3.316406 -0.726563 C 3.839844 -0.726563 4.273438 -0.925781 4.621094 -1.324219 C 4.96875 -1.722656 5.144531 -2.328125 5.144531 -3.148438 C 5.144531 -3.914063 4.96875 -4.496094 4.617188 -4.894531 C 4.265625 -5.289063 3.832031 -5.488281 3.316406 -5.492188 C 2.785156 -5.488281 2.347656 -5.292969 2.003906 -4.898438 C 1.65625 -4.5 1.480469 -3.902344 1.484375 -3.109375 Z M 1.484375 -3.109375 \"/>\n",
       "</symbol>\n",
       "<symbol overflow=\"visible\" id=\"glyph0-12\">\n",
       "<path style=\"stroke:none;\" d=\"M 0.789063 2.382813 L 0.789063 -6.222656 L 1.75 -6.222656 L 1.75 -5.414063 C 1.976563 -5.730469 2.234375 -5.964844 2.519531 -6.125 C 2.800781 -6.28125 3.144531 -6.363281 3.554688 -6.363281 C 4.082031 -6.363281 4.550781 -6.226563 4.960938 -5.953125 C 5.363281 -5.679688 5.671875 -5.292969 5.882813 -4.792969 C 6.089844 -4.292969 6.191406 -3.746094 6.195313 -3.15625 C 6.191406 -2.519531 6.078125 -1.945313 5.851563 -1.4375 C 5.621094 -0.921875 5.289063 -0.53125 4.855469 -0.265625 C 4.417969 0.0078125 3.960938 0.140625 3.480469 0.140625 C 3.128906 0.140625 2.8125 0.0664063 2.535156 -0.0820313 C 2.253906 -0.230469 2.023438 -0.417969 1.84375 -0.644531 L 1.84375 2.382813 Z M 1.746094 -3.078125 C 1.746094 -2.273438 1.90625 -1.683594 2.230469 -1.300781 C 2.554688 -0.917969 2.949219 -0.726563 3.410156 -0.726563 C 3.878906 -0.726563 4.277344 -0.921875 4.613281 -1.320313 C 4.945313 -1.710938 5.113281 -2.328125 5.117188 -3.164063 C 5.113281 -3.953125 4.949219 -4.546875 4.625 -4.945313 C 4.296875 -5.339844 3.910156 -5.535156 3.457031 -5.539063 C 3.003906 -5.535156 2.605469 -5.324219 2.261719 -4.90625 C 1.917969 -4.484375 1.746094 -3.875 1.746094 -3.078125 Z M 1.746094 -3.078125 \"/>\n",
       "</symbol>\n",
       "<symbol overflow=\"visible\" id=\"glyph0-13\">\n",
       "<path style=\"stroke:none;\" d=\"M 0.796875 -7.375 L 0.796875 -8.589844 L 1.851563 -8.589844 L 1.851563 -7.375 Z M 0.796875 0 L 0.796875 -6.222656 L 1.851563 -6.222656 L 1.851563 0 Z M 0.796875 0 \"/>\n",
       "</symbol>\n",
       "<symbol overflow=\"visible\" id=\"glyph0-14\">\n",
       "<path style=\"stroke:none;\" d=\"M 4.851563 -0.765625 C 4.460938 -0.433594 4.082031 -0.199219 3.722656 -0.0625 C 3.355469 0.0742188 2.96875 0.140625 2.5625 0.140625 C 1.875 0.140625 1.351563 -0.0234375 0.984375 -0.359375 C 0.617188 -0.6875 0.433594 -1.117188 0.433594 -1.640625 C 0.433594 -1.945313 0.5 -2.222656 0.640625 -2.472656 C 0.777344 -2.722656 0.960938 -2.925781 1.1875 -3.082031 C 1.410156 -3.234375 1.664063 -3.347656 1.945313 -3.429688 C 2.152344 -3.476563 2.464844 -3.53125 2.882813 -3.585938 C 3.734375 -3.6875 4.359375 -3.808594 4.765625 -3.949219 C 4.765625 -4.089844 4.769531 -4.179688 4.769531 -4.226563 C 4.769531 -4.648438 4.667969 -4.953125 4.46875 -5.132813 C 4.199219 -5.371094 3.800781 -5.488281 3.269531 -5.492188 C 2.769531 -5.488281 2.402344 -5.402344 2.167969 -5.230469 C 1.933594 -5.054688 1.757813 -4.746094 1.648438 -4.304688 L 0.617188 -4.445313 C 0.707031 -4.886719 0.863281 -5.242188 1.078125 -5.515625 C 1.289063 -5.78125 1.597656 -5.992188 2.007813 -6.140625 C 2.410156 -6.289063 2.882813 -6.363281 3.421875 -6.363281 C 3.953125 -6.363281 4.382813 -6.300781 4.714844 -6.175781 C 5.046875 -6.050781 5.292969 -5.890625 5.449219 -5.703125 C 5.605469 -5.511719 5.714844 -5.273438 5.777344 -4.984375 C 5.808594 -4.804688 5.824219 -4.480469 5.828125 -4.015625 L 5.828125 -2.609375 C 5.824219 -1.625 5.847656 -1.003906 5.894531 -0.746094 C 5.941406 -0.484375 6.03125 -0.238281 6.164063 0 L 5.0625 0 C 4.953125 -0.21875 4.882813 -0.472656 4.851563 -0.765625 Z M 4.765625 -3.125 C 4.375 -2.964844 3.800781 -2.832031 3.039063 -2.726563 C 2.605469 -2.660156 2.300781 -2.589844 2.121094 -2.515625 C 1.941406 -2.433594 1.800781 -2.320313 1.703125 -2.171875 C 1.605469 -2.019531 1.558594 -1.851563 1.558594 -1.671875 C 1.558594 -1.386719 1.664063 -1.152344 1.875 -0.96875 C 2.085938 -0.777344 2.398438 -0.683594 2.8125 -0.6875 C 3.21875 -0.683594 3.578125 -0.773438 3.894531 -0.953125 C 4.210938 -1.128906 4.445313 -1.371094 4.59375 -1.679688 C 4.707031 -1.917969 4.761719 -2.269531 4.765625 -2.734375 Z M 4.765625 -3.125 \"/>\n",
       "</symbol>\n",
       "<symbol overflow=\"visible\" id=\"glyph1-0\">\n",
       "<path style=\"stroke:none;\" d=\"M -4.234375 -0.5 C -5.246094 -0.496094 -6.0625 -0.601563 -6.6875 -0.8125 C -7.304688 -1.019531 -7.785156 -1.328125 -8.121094 -1.742188 C -8.457031 -2.152344 -8.625 -2.671875 -8.625 -3.300781 C -8.625 -3.757813 -8.53125 -4.164063 -8.347656 -4.511719 C -8.160156 -4.859375 -7.890625 -5.144531 -7.542969 -5.371094 C -7.191406 -5.59375 -6.765625 -5.773438 -6.265625 -5.90625 C -5.761719 -6.035156 -5.085938 -6.097656 -4.234375 -6.101563 C -3.222656 -6.097656 -2.410156 -5.996094 -1.792969 -5.789063 C -1.175781 -5.578125 -0.695313 -5.265625 -0.359375 -4.859375 C -0.0195313 -4.445313 0.144531 -3.925781 0.148438 -3.296875 C 0.144531 -2.464844 -0.148438 -1.816406 -0.742188 -1.347656 C -1.457031 -0.78125 -2.621094 -0.496094 -4.234375 -0.5 Z M -4.234375 -1.582031 C -2.824219 -1.582031 -1.886719 -1.746094 -1.417969 -2.074219 C -0.949219 -2.402344 -0.714844 -2.808594 -0.71875 -3.296875 C -0.714844 -3.777344 -0.949219 -4.183594 -1.421875 -4.519531 C -1.886719 -4.847656 -2.824219 -5.015625 -4.234375 -5.015625 C -5.648438 -5.015625 -6.589844 -4.847656 -7.054688 -4.519531 C -7.515625 -4.1875 -7.746094 -3.777344 -7.75 -3.289063 C -7.746094 -2.800781 -7.542969 -2.414063 -7.136719 -2.128906 C -6.613281 -1.761719 -5.644531 -1.582031 -4.234375 -1.582031 Z M -4.234375 -1.582031 \"/>\n",
       "</symbol>\n",
       "<symbol overflow=\"visible\" id=\"glyph1-1\">\n",
       "<path style=\"stroke:none;\" d=\"M 0 -1.089844 L -1.203125 -1.089844 L -1.199219 -2.289063 L 0 -2.289063 Z M 0 -1.089844 \"/>\n",
       "</symbol>\n",
       "<symbol overflow=\"visible\" id=\"glyph1-2\">\n",
       "<path style=\"stroke:none;\" d=\"M -1.011719 -6.039063 L 0 -6.039063 L 0 -0.363281 C -0.253906 -0.355469 -0.496094 -0.394531 -0.734375 -0.488281 C -1.117188 -0.628906 -1.5 -0.859375 -1.875 -1.179688 C -2.25 -1.496094 -2.683594 -1.957031 -3.175781 -2.5625 C -3.941406 -3.492188 -4.546875 -4.125 -4.992188 -4.453125 C -5.4375 -4.78125 -5.859375 -4.945313 -6.265625 -4.945313 C -6.679688 -4.945313 -7.03125 -4.792969 -7.320313 -4.496094 C -7.601563 -4.195313 -7.746094 -3.808594 -7.75 -3.328125 C -7.746094 -2.820313 -7.59375 -2.414063 -7.292969 -2.109375 C -6.984375 -1.804688 -6.5625 -1.648438 -6.03125 -1.648438 L -6.140625 -0.5625 C -6.945313 -0.636719 -7.558594 -0.914063 -7.988281 -1.402344 C -8.410156 -1.882813 -8.625 -2.535156 -8.625 -3.351563 C -8.625 -4.175781 -8.394531 -4.828125 -7.9375 -5.308594 C -7.480469 -5.789063 -6.914063 -6.027344 -6.242188 -6.03125 C -5.894531 -6.027344 -5.558594 -5.957031 -5.226563 -5.820313 C -4.890625 -5.675781 -4.539063 -5.441406 -4.175781 -5.117188 C -3.804688 -4.789063 -3.300781 -4.25 -2.664063 -3.492188 C -2.128906 -2.859375 -1.769531 -2.453125 -1.582031 -2.273438 C -1.394531 -2.09375 -1.203125 -1.945313 -1.011719 -1.828125 Z M -1.011719 -6.039063 \"/>\n",
       "</symbol>\n",
       "<symbol overflow=\"visible\" id=\"glyph1-3\">\n",
       "<path style=\"stroke:none;\" d=\"M 0 -3.878906 L -2.054688 -3.878906 L -2.054688 -0.152344 L -3.023438 -0.152344 L -8.589844 -4.074219 L -8.589844 -4.933594 L -3.023438 -4.933594 L -3.023438 -6.09375 L -2.054688 -6.09375 L -2.054688 -4.933594 L 0 -4.933594 Z M -3.023438 -3.878906 L -6.898438 -3.878906 L -3.023438 -1.191406 Z M -3.023438 -3.878906 \"/>\n",
       "</symbol>\n",
       "<symbol overflow=\"visible\" id=\"glyph1-4\">\n",
       "<path style=\"stroke:none;\" d=\"M -6.484375 -5.96875 L -6.40625 -4.921875 C -6.8125 -4.828125 -7.113281 -4.695313 -7.304688 -4.523438 C -7.605469 -4.238281 -7.757813 -3.886719 -7.757813 -3.46875 C -7.757813 -3.132813 -7.664063 -2.835938 -7.476563 -2.585938 C -7.234375 -2.25 -6.878906 -1.988281 -6.414063 -1.796875 C -5.949219 -1.605469 -5.289063 -1.507813 -4.429688 -1.5 C -4.8125 -1.753906 -5.097656 -2.0625 -5.289063 -2.433594 C -5.472656 -2.796875 -5.566406 -3.183594 -5.570313 -3.585938 C -5.566406 -4.289063 -5.308594 -4.886719 -4.792969 -5.382813 C -4.277344 -5.875 -3.609375 -6.121094 -2.789063 -6.125 C -2.25 -6.121094 -1.746094 -6.003906 -1.285156 -5.773438 C -0.816406 -5.539063 -0.460938 -5.222656 -0.21875 -4.816406 C 0.0273438 -4.410156 0.144531 -3.949219 0.148438 -3.433594 C 0.144531 -2.554688 -0.175781 -1.835938 -0.820313 -1.285156 C -1.46875 -0.726563 -2.535156 -0.449219 -4.019531 -0.453125 C -5.675781 -0.449219 -6.882813 -0.757813 -7.640625 -1.371094 C -8.296875 -1.90625 -8.625 -2.625 -8.625 -3.535156 C -8.625 -4.207031 -8.433594 -4.761719 -8.054688 -5.195313 C -7.675781 -5.625 -7.152344 -5.882813 -6.484375 -5.96875 Z M -2.78125 -1.664063 C -2.417969 -1.664063 -2.070313 -1.738281 -1.738281 -1.894531 C -1.40625 -2.042969 -1.152344 -2.261719 -0.980469 -2.542969 C -0.800781 -2.820313 -0.714844 -3.109375 -0.71875 -3.414063 C -0.714844 -3.859375 -0.894531 -4.242188 -1.257813 -4.566406 C -1.613281 -4.882813 -2.101563 -5.042969 -2.722656 -5.046875 C -3.3125 -5.042969 -3.78125 -4.886719 -4.125 -4.570313 C -4.46875 -4.25 -4.640625 -3.851563 -4.640625 -3.375 C -4.640625 -2.898438 -4.46875 -2.492188 -4.128906 -2.160156 C -3.785156 -1.828125 -3.335938 -1.664063 -2.78125 -1.664063 Z M -2.78125 -1.664063 \"/>\n",
       "</symbol>\n",
       "<symbol overflow=\"visible\" id=\"glyph1-5\">\n",
       "<path style=\"stroke:none;\" d=\"M -4.65625 -2.121094 C -4.816406 -1.683594 -5.046875 -1.359375 -5.34375 -1.148438 C -5.640625 -0.9375 -5.996094 -0.832031 -6.410156 -0.832031 C -7.035156 -0.832031 -7.558594 -1.054688 -7.984375 -1.503906 C -8.410156 -1.953125 -8.625 -2.550781 -8.625 -3.300781 C -8.625 -4.046875 -8.40625 -4.652344 -7.972656 -5.109375 C -7.535156 -5.566406 -7.003906 -5.792969 -6.382813 -5.796875 C -5.976563 -5.792969 -5.628906 -5.6875 -5.339844 -5.480469 C -5.042969 -5.269531 -4.816406 -4.953125 -4.65625 -4.53125 C -4.480469 -5.054688 -4.203125 -5.457031 -3.824219 -5.734375 C -3.4375 -6.007813 -2.980469 -6.144531 -2.453125 -6.148438 C -1.714844 -6.144531 -1.097656 -5.886719 -0.601563 -5.367188 C -0.101563 -4.84375 0.144531 -4.160156 0.148438 -3.316406 C 0.144531 -2.46875 -0.101563 -1.785156 -0.605469 -1.265625 C -1.105469 -0.746094 -1.734375 -0.484375 -2.484375 -0.488281 C -3.039063 -0.484375 -3.503906 -0.625 -3.886719 -0.910156 C -4.261719 -1.191406 -4.519531 -1.597656 -4.65625 -2.121094 Z M -6.445313 -1.910156 C -6.039063 -1.910156 -5.707031 -2.039063 -5.449219 -2.300781 C -5.191406 -2.5625 -5.0625 -2.902344 -5.0625 -3.324219 C -5.0625 -3.726563 -5.1875 -4.058594 -5.445313 -4.320313 C -5.695313 -4.578125 -6.011719 -4.710938 -6.386719 -4.710938 C -6.773438 -4.710938 -7.097656 -4.574219 -7.363281 -4.308594 C -7.625 -4.039063 -7.757813 -3.707031 -7.757813 -3.3125 C -7.757813 -2.90625 -7.628906 -2.574219 -7.371094 -2.308594 C -7.113281 -2.042969 -6.804688 -1.910156 -6.445313 -1.910156 Z M -2.476563 -1.570313 C -2.175781 -1.570313 -1.886719 -1.640625 -1.605469 -1.785156 C -1.324219 -1.925781 -1.105469 -2.136719 -0.949219 -2.421875 C -0.792969 -2.699219 -0.714844 -3.003906 -0.71875 -3.328125 C -0.714844 -3.832031 -0.875 -4.246094 -1.203125 -4.578125 C -1.523438 -4.902344 -1.9375 -5.066406 -2.441406 -5.070313 C -2.945313 -5.066406 -3.367188 -4.898438 -3.703125 -4.5625 C -4.035156 -4.222656 -4.199219 -3.800781 -4.203125 -3.292969 C -4.199219 -2.796875 -4.035156 -2.382813 -3.710938 -2.058594 C -3.378906 -1.730469 -2.96875 -1.570313 -2.476563 -1.570313 Z M -2.476563 -1.570313 \"/>\n",
       "</symbol>\n",
       "<symbol overflow=\"visible\" id=\"glyph1-6\">\n",
       "<path style=\"stroke:none;\" d=\"M 0 -4.46875 L 0 -3.414063 L -6.71875 -3.417969 C -6.476563 -3.160156 -6.234375 -2.828125 -5.996094 -2.417969 C -5.75 -2.003906 -5.570313 -1.632813 -5.449219 -1.308594 L -6.46875 -1.308594 C -6.742188 -1.894531 -7.078125 -2.410156 -7.476563 -2.851563 C -7.871094 -3.292969 -8.253906 -3.605469 -8.625 -3.792969 L -8.625 -4.472656 Z M 0 -4.46875 \"/>\n",
       "</symbol>\n",
       "<symbol overflow=\"visible\" id=\"glyph1-7\">\n",
       "<path style=\"stroke:none;\" d=\"M -6.222656 -1.4375 L -6.222656 -2.457031 C -4.9375 -1.871094 -3.851563 -1.582031 -2.964844 -1.582031 C -2.277344 -1.582031 -1.722656 -1.707031 -1.308594 -1.957031 C -0.886719 -2.207031 -0.679688 -2.523438 -0.683594 -2.914063 C -0.679688 -3.160156 -0.777344 -3.394531 -0.976563 -3.617188 C -1.167969 -3.832031 -1.402344 -3.976563 -1.679688 -4.050781 C -1.949219 -4.121094 -2.332031 -4.160156 -2.828125 -4.160156 L -4.652344 -4.160156 L -4.652344 -5.210938 L -2.828125 -5.210938 C -2.347656 -5.207031 -1.96875 -5.242188 -1.6875 -5.316406 C -1.40625 -5.386719 -1.167969 -5.535156 -0.972656 -5.753906 C -0.777344 -5.972656 -0.679688 -6.207031 -0.683594 -6.460938 C -0.679688 -6.84375 -0.886719 -7.160156 -1.308594 -7.414063 C -1.722656 -7.660156 -2.277344 -7.785156 -2.964844 -7.789063 C -3.847656 -7.785156 -4.933594 -7.496094 -6.222656 -6.921875 L -6.222656 -7.933594 C -5.121094 -8.550781 -4.054688 -8.859375 -3.027344 -8.859375 C -1.992188 -8.859375 -1.207031 -8.644531 -0.667969 -8.21875 C -0.128906 -7.789063 0.140625 -7.242188 0.140625 -6.578125 C 0.140625 -5.695313 -0.324219 -5.066406 -1.257813 -4.6875 C -0.324219 -4.304688 0.140625 -3.671875 0.140625 -2.789063 C 0.140625 -2.089844 -0.140625 -1.535156 -0.707031 -1.125 C -1.273438 -0.714844 -2.046875 -0.507813 -3.03125 -0.511719 C -4.058594 -0.507813 -5.125 -0.816406 -6.222656 -1.4375 Z M -6.222656 -1.4375 \"/>\n",
       "</symbol>\n",
       "</g>\n",
       "<clipPath id=\"clip1\">\n",
       "  <path d=\"M 59.039063 59.039063 L 474.757813 59.039063 L 474.757813 431.558594 L 59.039063 431.558594 Z M 59.039063 59.039063 \"/>\n",
       "</clipPath>\n",
       "</defs>\n",
       "<g id=\"surface11\">\n",
       "<rect x=\"0\" y=\"0\" width=\"504\" height=\"504\" style=\"fill:rgb(100%,100%,100%);fill-opacity:1;stroke:none;\"/>\n",
       "<g clip-path=\"url(#clip1)\" clip-rule=\"nonzero\">\n",
       "<path style=\"fill:none;stroke-width:0.75;stroke-linecap:round;stroke-linejoin:round;stroke:rgb(0%,0%,0%);stroke-opacity:1;stroke-miterlimit:10;\" d=\"M 77.101563 72.800781 C 77.101563 76.398438 71.699219 76.398438 71.699219 72.800781 C 71.699219 69.199219 77.101563 69.199219 77.101563 72.800781 \"/>\n",
       "<path style=\"fill:none;stroke-width:0.75;stroke-linecap:round;stroke-linejoin:round;stroke:rgb(0%,0%,0%);stroke-opacity:1;stroke-miterlimit:10;\" d=\"M 123.550781 86.558594 C 123.550781 90.160156 118.152344 90.160156 118.152344 86.558594 C 118.152344 82.960938 123.550781 82.960938 123.550781 86.558594 \"/>\n",
       "<path style=\"fill:none;stroke-width:0.75;stroke-linecap:round;stroke-linejoin:round;stroke:rgb(0%,0%,0%);stroke-opacity:1;stroke-miterlimit:10;\" d=\"M 158.226563 100.320313 C 158.226563 103.921875 152.828125 103.921875 152.828125 100.320313 C 152.828125 96.71875 158.226563 96.71875 158.226563 100.320313 \"/>\n",
       "<path style=\"fill:none;stroke-width:0.75;stroke-linecap:round;stroke-linejoin:round;stroke:rgb(0%,0%,0%);stroke-opacity:1;stroke-miterlimit:10;\" d=\"M 188.289063 114.078125 C 188.289063 117.679688 182.890625 117.679688 182.890625 114.078125 C 182.890625 110.480469 188.289063 110.480469 188.289063 114.078125 \"/>\n",
       "<path style=\"fill:none;stroke-width:0.75;stroke-linecap:round;stroke-linejoin:round;stroke:rgb(0%,0%,0%);stroke-opacity:1;stroke-miterlimit:10;\" d=\"M 215.253906 127.839844 C 215.253906 131.441406 209.855469 131.441406 209.855469 127.839844 C 209.855469 124.238281 215.253906 124.238281 215.253906 127.839844 \"/>\n",
       "<path style=\"fill:none;stroke-width:0.75;stroke-linecap:round;stroke-linejoin:round;stroke:rgb(0%,0%,0%);stroke-opacity:1;stroke-miterlimit:10;\" d=\"M 239.835938 141.601563 C 239.835938 145.199219 234.4375 145.199219 234.4375 141.601563 C 234.4375 138 239.835938 138 239.835938 141.601563 \"/>\n",
       "<path style=\"fill:none;stroke-width:0.75;stroke-linecap:round;stroke-linejoin:round;stroke:rgb(0%,0%,0%);stroke-opacity:1;stroke-miterlimit:10;\" d=\"M 262.449219 155.359375 C 262.449219 158.960938 257.050781 158.960938 257.050781 155.359375 C 257.050781 151.761719 262.449219 151.761719 262.449219 155.359375 \"/>\n",
       "<path style=\"fill:none;stroke-width:0.75;stroke-linecap:round;stroke-linejoin:round;stroke:rgb(0%,0%,0%);stroke-opacity:1;stroke-miterlimit:10;\" d=\"M 283.371094 169.121094 C 283.371094 172.71875 277.96875 172.71875 277.96875 169.121094 C 277.96875 165.519531 283.371094 165.519531 283.371094 169.121094 \"/>\n",
       "<path style=\"fill:none;stroke-width:0.75;stroke-linecap:round;stroke-linejoin:round;stroke:rgb(0%,0%,0%);stroke-opacity:1;stroke-miterlimit:10;\" d=\"M 302.78125 182.878906 C 302.78125 186.480469 297.382813 186.480469 297.382813 182.878906 C 297.382813 179.28125 302.78125 179.28125 302.78125 182.878906 \"/>\n",
       "<path style=\"fill:none;stroke-width:0.75;stroke-linecap:round;stroke-linejoin:round;stroke:rgb(0%,0%,0%);stroke-opacity:1;stroke-miterlimit:10;\" d=\"M 320.824219 196.640625 C 320.824219 200.238281 315.425781 200.238281 315.425781 196.640625 C 315.425781 193.039063 320.824219 193.039063 320.824219 196.640625 \"/>\n",
       "<path style=\"fill:none;stroke-width:0.75;stroke-linecap:round;stroke-linejoin:round;stroke:rgb(0%,0%,0%);stroke-opacity:1;stroke-miterlimit:10;\" d=\"M 337.601563 210.398438 C 337.601563 214 332.203125 214 332.203125 210.398438 C 332.203125 206.800781 337.601563 206.800781 337.601563 210.398438 \"/>\n",
       "<path style=\"fill:none;stroke-width:0.75;stroke-linecap:round;stroke-linejoin:round;stroke:rgb(0%,0%,0%);stroke-opacity:1;stroke-miterlimit:10;\" d=\"M 353.1875 224.160156 C 353.1875 227.761719 347.789063 227.761719 347.789063 224.160156 C 347.789063 220.558594 353.1875 220.558594 353.1875 224.160156 \"/>\n",
       "<path style=\"fill:none;stroke-width:0.75;stroke-linecap:round;stroke-linejoin:round;stroke:rgb(0%,0%,0%);stroke-opacity:1;stroke-miterlimit:10;\" d=\"M 367.648438 237.921875 C 367.648438 241.519531 362.246094 241.519531 362.246094 237.921875 C 362.246094 234.320313 367.648438 234.320313 367.648438 237.921875 \"/>\n",
       "<path style=\"fill:none;stroke-width:0.75;stroke-linecap:round;stroke-linejoin:round;stroke:rgb(0%,0%,0%);stroke-opacity:1;stroke-miterlimit:10;\" d=\"M 381.023438 251.679688 C 381.023438 255.28125 375.625 255.28125 375.625 251.679688 C 375.625 248.078125 381.023438 248.078125 381.023438 251.679688 \"/>\n",
       "<path style=\"fill:none;stroke-width:0.75;stroke-linecap:round;stroke-linejoin:round;stroke:rgb(0%,0%,0%);stroke-opacity:1;stroke-miterlimit:10;\" d=\"M 393.351563 265.441406 C 393.351563 269.039063 387.949219 269.039063 387.949219 265.441406 C 387.949219 261.839844 393.351563 261.839844 393.351563 265.441406 \"/>\n",
       "<path style=\"fill:none;stroke-width:0.75;stroke-linecap:round;stroke-linejoin:round;stroke:rgb(0%,0%,0%);stroke-opacity:1;stroke-miterlimit:10;\" d=\"M 404.652344 279.199219 C 404.652344 282.800781 399.253906 282.800781 399.253906 279.199219 C 399.253906 275.601563 404.652344 275.601563 404.652344 279.199219 \"/>\n",
       "<path style=\"fill:none;stroke-width:0.75;stroke-linecap:round;stroke-linejoin:round;stroke:rgb(0%,0%,0%);stroke-opacity:1;stroke-miterlimit:10;\" d=\"M 414.949219 292.960938 C 414.949219 296.558594 409.546875 296.558594 409.546875 292.960938 C 409.546875 289.359375 414.949219 289.359375 414.949219 292.960938 \"/>\n",
       "<path style=\"fill:none;stroke-width:0.75;stroke-linecap:round;stroke-linejoin:round;stroke:rgb(0%,0%,0%);stroke-opacity:1;stroke-miterlimit:10;\" d=\"M 424.242188 306.71875 C 424.242188 310.320313 418.84375 310.320313 418.84375 306.71875 C 418.84375 303.121094 424.242188 303.121094 424.242188 306.71875 \"/>\n",
       "<path style=\"fill:none;stroke-width:0.75;stroke-linecap:round;stroke-linejoin:round;stroke:rgb(0%,0%,0%);stroke-opacity:1;stroke-miterlimit:10;\" d=\"M 432.542969 320.480469 C 432.542969 324.078125 427.140625 324.078125 427.140625 320.480469 C 427.140625 316.878906 432.542969 316.878906 432.542969 320.480469 \"/>\n",
       "<path style=\"fill:none;stroke-width:0.75;stroke-linecap:round;stroke-linejoin:round;stroke:rgb(0%,0%,0%);stroke-opacity:1;stroke-miterlimit:10;\" d=\"M 439.835938 334.238281 C 439.835938 337.839844 434.433594 337.839844 434.433594 334.238281 C 434.433594 330.640625 439.835938 330.640625 439.835938 334.238281 \"/>\n",
       "<path style=\"fill:none;stroke-width:0.75;stroke-linecap:round;stroke-linejoin:round;stroke:rgb(0%,0%,0%);stroke-opacity:1;stroke-miterlimit:10;\" d=\"M 446.109375 348 C 446.109375 351.601563 440.710938 351.601563 440.710938 348 C 440.710938 344.398438 446.109375 344.398438 446.109375 348 \"/>\n",
       "<path style=\"fill:none;stroke-width:0.75;stroke-linecap:round;stroke-linejoin:round;stroke:rgb(0%,0%,0%);stroke-opacity:1;stroke-miterlimit:10;\" d=\"M 451.347656 361.761719 C 451.347656 365.359375 445.945313 365.359375 445.945313 361.761719 C 445.945313 358.160156 451.347656 358.160156 451.347656 361.761719 \"/>\n",
       "<path style=\"fill:none;stroke-width:0.75;stroke-linecap:round;stroke-linejoin:round;stroke:rgb(0%,0%,0%);stroke-opacity:1;stroke-miterlimit:10;\" d=\"M 455.511719 375.519531 C 455.511719 379.121094 450.113281 379.121094 450.113281 375.519531 C 450.113281 371.921875 455.511719 371.921875 455.511719 375.519531 \"/>\n",
       "<path style=\"fill:none;stroke-width:0.75;stroke-linecap:round;stroke-linejoin:round;stroke:rgb(0%,0%,0%);stroke-opacity:1;stroke-miterlimit:10;\" d=\"M 458.566406 389.28125 C 458.566406 392.878906 453.164063 392.878906 453.164063 389.28125 C 453.164063 385.679688 458.566406 385.679688 458.566406 389.28125 \"/>\n",
       "<path style=\"fill:none;stroke-width:0.75;stroke-linecap:round;stroke-linejoin:round;stroke:rgb(0%,0%,0%);stroke-opacity:1;stroke-miterlimit:10;\" d=\"M 460.453125 403.039063 C 460.453125 406.640625 455.050781 406.640625 455.050781 403.039063 C 455.050781 399.441406 460.453125 399.441406 460.453125 403.039063 \"/>\n",
       "<path style=\"fill:none;stroke-width:0.75;stroke-linecap:round;stroke-linejoin:round;stroke:rgb(0%,0%,0%);stroke-opacity:1;stroke-miterlimit:10;\" d=\"M 461.101563 416.800781 C 461.101563 420.398438 455.699219 420.398438 455.699219 416.800781 C 455.699219 413.199219 461.101563 413.199219 461.101563 416.800781 \"/>\n",
       "</g>\n",
       "<path style=\"fill:none;stroke-width:0.75;stroke-linecap:round;stroke-linejoin:round;stroke:rgb(0%,0%,0%);stroke-opacity:1;stroke-miterlimit:10;\" d=\"M 78.195313 430.558594 L 465.992188 430.558594 \"/>\n",
       "<path style=\"fill:none;stroke-width:0.75;stroke-linecap:round;stroke-linejoin:round;stroke:rgb(0%,0%,0%);stroke-opacity:1;stroke-miterlimit:10;\" d=\"M 78.195313 430.558594 L 78.195313 437.761719 \"/>\n",
       "<path style=\"fill:none;stroke-width:0.75;stroke-linecap:round;stroke-linejoin:round;stroke:rgb(0%,0%,0%);stroke-opacity:1;stroke-miterlimit:10;\" d=\"M 133.597656 430.558594 L 133.597656 437.761719 \"/>\n",
       "<path style=\"fill:none;stroke-width:0.75;stroke-linecap:round;stroke-linejoin:round;stroke:rgb(0%,0%,0%);stroke-opacity:1;stroke-miterlimit:10;\" d=\"M 188.996094 430.558594 L 188.996094 437.761719 \"/>\n",
       "<path style=\"fill:none;stroke-width:0.75;stroke-linecap:round;stroke-linejoin:round;stroke:rgb(0%,0%,0%);stroke-opacity:1;stroke-miterlimit:10;\" d=\"M 244.394531 430.558594 L 244.394531 437.761719 \"/>\n",
       "<path style=\"fill:none;stroke-width:0.75;stroke-linecap:round;stroke-linejoin:round;stroke:rgb(0%,0%,0%);stroke-opacity:1;stroke-miterlimit:10;\" d=\"M 299.792969 430.558594 L 299.792969 437.761719 \"/>\n",
       "<path style=\"fill:none;stroke-width:0.75;stroke-linecap:round;stroke-linejoin:round;stroke:rgb(0%,0%,0%);stroke-opacity:1;stroke-miterlimit:10;\" d=\"M 355.195313 430.558594 L 355.195313 437.761719 \"/>\n",
       "<path style=\"fill:none;stroke-width:0.75;stroke-linecap:round;stroke-linejoin:round;stroke:rgb(0%,0%,0%);stroke-opacity:1;stroke-miterlimit:10;\" d=\"M 410.59375 430.558594 L 410.59375 437.761719 \"/>\n",
       "<path style=\"fill:none;stroke-width:0.75;stroke-linecap:round;stroke-linejoin:round;stroke:rgb(0%,0%,0%);stroke-opacity:1;stroke-miterlimit:10;\" d=\"M 465.992188 430.558594 L 465.992188 437.761719 \"/>\n",
       "<g style=\"fill:rgb(0%,0%,0%);fill-opacity:1;\">\n",
       "  <use xlink:href=\"#glyph0-0\" x=\"69.855469\" y=\"456.480469\"/>\n",
       "  <use xlink:href=\"#glyph0-1\" x=\"76.529297\" y=\"456.480469\"/>\n",
       "  <use xlink:href=\"#glyph0-2\" x=\"79.863281\" y=\"456.480469\"/>\n",
       "</g>\n",
       "<g style=\"fill:rgb(0%,0%,0%);fill-opacity:1;\">\n",
       "  <use xlink:href=\"#glyph0-0\" x=\"125.257813\" y=\"456.480469\"/>\n",
       "  <use xlink:href=\"#glyph0-1\" x=\"131.931641\" y=\"456.480469\"/>\n",
       "  <use xlink:href=\"#glyph0-3\" x=\"135.265625\" y=\"456.480469\"/>\n",
       "</g>\n",
       "<g style=\"fill:rgb(0%,0%,0%);fill-opacity:1;\">\n",
       "  <use xlink:href=\"#glyph0-0\" x=\"180.65625\" y=\"456.480469\"/>\n",
       "  <use xlink:href=\"#glyph0-1\" x=\"187.330078\" y=\"456.480469\"/>\n",
       "  <use xlink:href=\"#glyph0-4\" x=\"190.664063\" y=\"456.480469\"/>\n",
       "</g>\n",
       "<g style=\"fill:rgb(0%,0%,0%);fill-opacity:1;\">\n",
       "  <use xlink:href=\"#glyph0-5\" x=\"236.054688\" y=\"456.480469\"/>\n",
       "  <use xlink:href=\"#glyph0-1\" x=\"242.728516\" y=\"456.480469\"/>\n",
       "  <use xlink:href=\"#glyph0-6\" x=\"246.0625\" y=\"456.480469\"/>\n",
       "</g>\n",
       "<g style=\"fill:rgb(0%,0%,0%);fill-opacity:1;\">\n",
       "  <use xlink:href=\"#glyph0-5\" x=\"291.453125\" y=\"456.480469\"/>\n",
       "  <use xlink:href=\"#glyph0-1\" x=\"298.126953\" y=\"456.480469\"/>\n",
       "  <use xlink:href=\"#glyph0-5\" x=\"301.460938\" y=\"456.480469\"/>\n",
       "</g>\n",
       "<g style=\"fill:rgb(0%,0%,0%);fill-opacity:1;\">\n",
       "  <use xlink:href=\"#glyph0-5\" x=\"346.855469\" y=\"456.480469\"/>\n",
       "  <use xlink:href=\"#glyph0-1\" x=\"353.529297\" y=\"456.480469\"/>\n",
       "  <use xlink:href=\"#glyph0-2\" x=\"356.863281\" y=\"456.480469\"/>\n",
       "</g>\n",
       "<g style=\"fill:rgb(0%,0%,0%);fill-opacity:1;\">\n",
       "  <use xlink:href=\"#glyph0-5\" x=\"402.253906\" y=\"456.480469\"/>\n",
       "  <use xlink:href=\"#glyph0-1\" x=\"408.927734\" y=\"456.480469\"/>\n",
       "  <use xlink:href=\"#glyph0-3\" x=\"412.261719\" y=\"456.480469\"/>\n",
       "</g>\n",
       "<g style=\"fill:rgb(0%,0%,0%);fill-opacity:1;\">\n",
       "  <use xlink:href=\"#glyph0-5\" x=\"457.652344\" y=\"456.480469\"/>\n",
       "  <use xlink:href=\"#glyph0-1\" x=\"464.326172\" y=\"456.480469\"/>\n",
       "  <use xlink:href=\"#glyph0-4\" x=\"467.660156\" y=\"456.480469\"/>\n",
       "</g>\n",
       "<path style=\"fill:none;stroke-width:0.75;stroke-linecap:round;stroke-linejoin:round;stroke:rgb(0%,0%,0%);stroke-opacity:1;stroke-miterlimit:10;\" d=\"M 59.039063 416.800781 L 59.039063 72.800781 \"/>\n",
       "<path style=\"fill:none;stroke-width:0.75;stroke-linecap:round;stroke-linejoin:round;stroke:rgb(0%,0%,0%);stroke-opacity:1;stroke-miterlimit:10;\" d=\"M 59.039063 416.800781 L 51.839844 416.800781 \"/>\n",
       "<path style=\"fill:none;stroke-width:0.75;stroke-linecap:round;stroke-linejoin:round;stroke:rgb(0%,0%,0%);stroke-opacity:1;stroke-miterlimit:10;\" d=\"M 59.039063 348 L 51.839844 348 \"/>\n",
       "<path style=\"fill:none;stroke-width:0.75;stroke-linecap:round;stroke-linejoin:round;stroke:rgb(0%,0%,0%);stroke-opacity:1;stroke-miterlimit:10;\" d=\"M 59.039063 279.199219 L 51.839844 279.199219 \"/>\n",
       "<path style=\"fill:none;stroke-width:0.75;stroke-linecap:round;stroke-linejoin:round;stroke:rgb(0%,0%,0%);stroke-opacity:1;stroke-miterlimit:10;\" d=\"M 59.039063 210.398438 L 51.839844 210.398438 \"/>\n",
       "<path style=\"fill:none;stroke-width:0.75;stroke-linecap:round;stroke-linejoin:round;stroke:rgb(0%,0%,0%);stroke-opacity:1;stroke-miterlimit:10;\" d=\"M 59.039063 141.601563 L 51.839844 141.601563 \"/>\n",
       "<path style=\"fill:none;stroke-width:0.75;stroke-linecap:round;stroke-linejoin:round;stroke:rgb(0%,0%,0%);stroke-opacity:1;stroke-miterlimit:10;\" d=\"M 59.039063 72.800781 L 51.839844 72.800781 \"/>\n",
       "<g style=\"fill:rgb(0%,0%,0%);fill-opacity:1;\">\n",
       "  <use xlink:href=\"#glyph1-0\" x=\"41.761719\" y=\"425.140625\"/>\n",
       "  <use xlink:href=\"#glyph1-1\" x=\"41.761719\" y=\"418.466797\"/>\n",
       "  <use xlink:href=\"#glyph1-0\" x=\"41.761719\" y=\"415.132813\"/>\n",
       "</g>\n",
       "<g style=\"fill:rgb(0%,0%,0%);fill-opacity:1;\">\n",
       "  <use xlink:href=\"#glyph1-0\" x=\"41.761719\" y=\"356.339844\"/>\n",
       "  <use xlink:href=\"#glyph1-1\" x=\"41.761719\" y=\"349.666016\"/>\n",
       "  <use xlink:href=\"#glyph1-2\" x=\"41.761719\" y=\"346.332031\"/>\n",
       "</g>\n",
       "<g style=\"fill:rgb(0%,0%,0%);fill-opacity:1;\">\n",
       "  <use xlink:href=\"#glyph1-0\" x=\"41.761719\" y=\"287.539063\"/>\n",
       "  <use xlink:href=\"#glyph1-1\" x=\"41.761719\" y=\"280.865234\"/>\n",
       "  <use xlink:href=\"#glyph1-3\" x=\"41.761719\" y=\"277.53125\"/>\n",
       "</g>\n",
       "<g style=\"fill:rgb(0%,0%,0%);fill-opacity:1;\">\n",
       "  <use xlink:href=\"#glyph1-0\" x=\"41.761719\" y=\"218.738281\"/>\n",
       "  <use xlink:href=\"#glyph1-1\" x=\"41.761719\" y=\"212.064453\"/>\n",
       "  <use xlink:href=\"#glyph1-4\" x=\"41.761719\" y=\"208.730469\"/>\n",
       "</g>\n",
       "<g style=\"fill:rgb(0%,0%,0%);fill-opacity:1;\">\n",
       "  <use xlink:href=\"#glyph1-0\" x=\"41.761719\" y=\"149.941406\"/>\n",
       "  <use xlink:href=\"#glyph1-1\" x=\"41.761719\" y=\"143.267578\"/>\n",
       "  <use xlink:href=\"#glyph1-5\" x=\"41.761719\" y=\"139.933594\"/>\n",
       "</g>\n",
       "<g style=\"fill:rgb(0%,0%,0%);fill-opacity:1;\">\n",
       "  <use xlink:href=\"#glyph1-6\" x=\"41.761719\" y=\"81.140625\"/>\n",
       "  <use xlink:href=\"#glyph1-1\" x=\"41.761719\" y=\"74.466797\"/>\n",
       "  <use xlink:href=\"#glyph1-0\" x=\"41.761719\" y=\"71.132813\"/>\n",
       "</g>\n",
       "<path style=\"fill:none;stroke-width:0.75;stroke-linecap:round;stroke-linejoin:round;stroke:rgb(0%,0%,0%);stroke-opacity:1;stroke-miterlimit:10;\" d=\"M 59.039063 430.558594 L 473.761719 430.558594 L 473.761719 59.039063 L 59.039063 59.039063 L 59.039063 430.558594 \"/>\n",
       "<g style=\"fill:rgb(0%,0%,0%);fill-opacity:1;\">\n",
       "  <use xlink:href=\"#glyph0-7\" x=\"244.050781\" y=\"485.28125\"/>\n",
       "  <use xlink:href=\"#glyph0-8\" x=\"252.054688\" y=\"485.28125\"/>\n",
       "  <use xlink:href=\"#glyph0-9\" x=\"258.728516\" y=\"485.28125\"/>\n",
       "  <use xlink:href=\"#glyph0-10\" x=\"262.0625\" y=\"485.28125\"/>\n",
       "  <use xlink:href=\"#glyph0-11\" x=\"266.058594\" y=\"485.28125\"/>\n",
       "  <use xlink:href=\"#glyph0-12\" x=\"272.732422\" y=\"485.28125\"/>\n",
       "  <use xlink:href=\"#glyph0-13\" x=\"279.40625\" y=\"485.28125\"/>\n",
       "  <use xlink:href=\"#glyph0-14\" x=\"282.072266\" y=\"485.28125\"/>\n",
       "</g>\n",
       "<g style=\"fill:rgb(0%,0%,0%);fill-opacity:1;\">\n",
       "  <use xlink:href=\"#glyph1-7\" x=\"12.960938\" y=\"249.484375\"/>\n",
       "</g>\n",
       "</g>\n",
       "</svg>\n"
      ],
      "text/plain": [
       "plot without title"
      ]
     },
     "metadata": {
      "image/svg+xml": {
       "isolated": true
      }
     },
     "output_type": "display_data"
    }
   ],
   "source": [
    "suma<-c()\n",
    "wynik<-c()\n",
    "wynik_e<-c()\n",
    "for (i in 0:25 ) {\n",
    "    macierz<-przyklad+.0075/3*i*(przyklad==0)-.0075*i*(przyklad>0)\n",
    "    wynik[i+1]<-OMEGA_MDA( macierz)\n",
    "    wynik_e[i+1]<-entropia( macierz)\n",
    "    suma[i+1]<-sum(macierz)\n",
    "    #print(macierz)\n",
    "}\n",
    "plot( wynik_e,     wynik , xlab= \"Entropia\", ylab=intToUtf8(0x03C9L))\n",
    "macierz"
   ]
  },
  {
   "cell_type": "markdown",
   "metadata": {},
   "source": [
    "### 4.4.2. Rozkład wyników dla próby losowanej z rozkładu niezależnego"
   ]
  },
  {
   "cell_type": "code",
   "execution_count": 29,
   "metadata": {
    "collapsed": false
   },
   "outputs": [
    {
     "data": {
      "text/html": [
       "<table>\n",
       "<thead><tr><th></th><th scope=col>y1</th><th scope=col>y2</th><th scope=col>y3</th><th scope=col>RAZEM</th></tr></thead>\n",
       "<tbody>\n",
       "\t<tr><th scope=row>x1</th><td>0.12</td><td>0.08</td><td>0.10</td><td>0.30</td></tr>\n",
       "\t<tr><th scope=row>x2</th><td>0.100</td><td>0.050</td><td>0.084</td><td>0.234</td></tr>\n",
       "\t<tr><th scope=row>x3</th><td>0.08</td><td>0.04</td><td>0.08</td><td>0.20</td></tr>\n",
       "\t<tr><th scope=row>x4</th><td>0.060</td><td>0.030</td><td>0.076</td><td>0.166</td></tr>\n",
       "\t<tr><th scope=row>x5</th><td>0.04</td><td>0.00</td><td>0.06</td><td>0.10</td></tr>\n",
       "\t<tr><th scope=row>RAZEM</th><td>0.4</td><td>0.2</td><td>0.4</td><td>1.0</td></tr>\n",
       "</tbody>\n",
       "</table>\n"
      ],
      "text/latex": [
       "\\begin{tabular}{r|llll}\n",
       "  & y1 & y2 & y3 & RAZEM\\\\\n",
       "\\hline\n",
       "\tx1 & 0.12 & 0.08 & 0.10 & 0.30\\\\\n",
       "\tx2 & 0.100 & 0.050 & 0.084 & 0.234\\\\\n",
       "\tx3 & 0.08 & 0.04 & 0.08 & 0.20\\\\\n",
       "\tx4 & 0.060 & 0.030 & 0.076 & 0.166\\\\\n",
       "\tx5 & 0.04 & 0.00 & 0.06 & 0.10\\\\\n",
       "\tRAZEM & 0.4 & 0.2 & 0.4 & 1.0\\\\\n",
       "\\end{tabular}\n"
      ],
      "text/markdown": [
       "1. 0.12\n",
       "2. 0.1\n",
       "3. 0.08\n",
       "4. 0.06\n",
       "5. 0.04\n",
       "6. 0.4\n",
       "7. 0.08\n",
       "8. 0.05\n",
       "9. 0.04\n",
       "10. 0.03\n",
       "11. 0\n",
       "12. 0.2\n",
       "13. 0.1\n",
       "14. 0.084\n",
       "15. 0.08\n",
       "16. 0.076\n",
       "17. 0.06\n",
       "18. 0.4\n",
       "19. 0.3\n",
       "20. 0.234\n",
       "21. 0.2\n",
       "22. 0.166\n",
       "23. 0.1\n",
       "24. 1\n",
       "\n",
       "\n"
      ],
      "text/plain": [
       "        y1   y2    y3 RAZEM\n",
       "x1    0.12 0.08 0.100 0.300\n",
       "x2    0.10 0.05 0.084 0.234\n",
       "x3    0.08 0.04 0.080 0.200\n",
       "x4    0.06 0.03 0.076 0.166\n",
       "x5    0.04 0.00 0.060 0.100\n",
       "RAZEM 0.40 0.20 0.400 1.000"
      ]
     },
     "execution_count": 29,
     "metadata": {},
     "output_type": "execute_result"
    },
    {
     "data": {
      "image/png": "[encoded data removed]",
      "image/svg+xml": [
       "<?xml version=\"1.0\" encoding=\"UTF-8\"?>\n",
       "<svg xmlns=\"http://www.w3.org/2000/svg\" xmlns:xlink=\"http://www.w3.org/1999/xlink\" width=\"504pt\" height=\"504pt\" viewBox=\"0 0 504 504\" version=\"1.1\">\n",
       "<defs>\n",
       "<g>\n",
       "<symbol overflow=\"visible\" id=\"glyph0-0\">\n",
       "<path style=\"stroke:none;\" d=\"M 1.054688 0 L 1.054688 -10.308594 L 3.136719 -10.308594 L 3.136719 -6.25 L 7.214844 -6.25 L 7.214844 -10.308594 L 9.296875 -10.308594 L 9.296875 0 L 7.214844 0 L 7.214844 -4.507813 L 3.136719 -4.507813 L 3.136719 0 Z M 1.054688 0 \"/>\n",
       "</symbol>\n",
       "<symbol overflow=\"visible\" id=\"glyph0-1\">\n",
       "<path style=\"stroke:none;\" d=\"M 1.035156 -8.480469 L 1.035156 -10.308594 L 3.007813 -10.308594 L 3.007813 -8.480469 Z M 1.035156 0 L 1.035156 -7.46875 L 3.007813 -7.46875 L 3.007813 0 Z M 1.035156 0 \"/>\n",
       "</symbol>\n",
       "<symbol overflow=\"visible\" id=\"glyph0-2\">\n",
       "<path style=\"stroke:none;\" d=\"M 0.335938 -2.128906 L 2.320313 -2.433594 C 2.402344 -2.042969 2.570313 -1.75 2.832031 -1.554688 C 3.085938 -1.351563 3.449219 -1.253906 3.917969 -1.257813 C 4.425781 -1.253906 4.808594 -1.347656 5.070313 -1.539063 C 5.238281 -1.667969 5.324219 -1.84375 5.328125 -2.066406 C 5.324219 -2.214844 5.277344 -2.339844 5.1875 -2.441406 C 5.085938 -2.53125 4.867188 -2.617188 4.527344 -2.699219 C 2.929688 -3.046875 1.917969 -3.367188 1.496094 -3.664063 C 0.902344 -4.0625 0.609375 -4.625 0.613281 -5.34375 C 0.609375 -5.988281 0.863281 -6.53125 1.378906 -6.972656 C 1.886719 -7.414063 2.679688 -7.632813 3.753906 -7.636719 C 4.773438 -7.632813 5.53125 -7.46875 6.03125 -7.136719 C 6.523438 -6.800781 6.867188 -6.308594 7.058594 -5.660156 L 5.195313 -5.316406 C 5.113281 -5.601563 4.960938 -5.824219 4.742188 -5.980469 C 4.515625 -6.132813 4.199219 -6.210938 3.789063 -6.214844 C 3.265625 -6.210938 2.894531 -6.136719 2.671875 -5.996094 C 2.519531 -5.890625 2.441406 -5.757813 2.445313 -5.597656 C 2.441406 -5.453125 2.507813 -5.335938 2.644531 -5.238281 C 2.816406 -5.105469 3.433594 -4.917969 4.488281 -4.683594 C 5.539063 -4.441406 6.273438 -4.148438 6.695313 -3.804688 C 7.105469 -3.449219 7.3125 -2.960938 7.3125 -2.335938 C 7.3125 -1.648438 7.023438 -1.058594 6.453125 -0.570313 C 5.878906 -0.078125 5.035156 0.164063 3.917969 0.167969 C 2.898438 0.164063 2.09375 -0.0390625 1.5 -0.449219 C 0.90625 -0.859375 0.515625 -1.417969 0.335938 -2.128906 Z M 0.335938 -2.128906 \"/>\n",
       "</symbol>\n",
       "<symbol overflow=\"visible\" id=\"glyph0-3\">\n",
       "<path style=\"stroke:none;\" d=\"M 4.457031 -7.46875 L 4.457031 -5.890625 L 3.109375 -5.890625 L 3.109375 -2.882813 C 3.105469 -2.273438 3.117188 -1.917969 3.144531 -1.816406 C 3.167969 -1.714844 3.226563 -1.628906 3.320313 -1.566406 C 3.410156 -1.496094 3.523438 -1.464844 3.65625 -1.46875 C 3.835938 -1.464844 4.097656 -1.527344 4.449219 -1.660156 L 4.621094 -0.125 C 4.15625 0.0703125 3.636719 0.164063 3.058594 0.167969 C 2.699219 0.164063 2.375 0.105469 2.09375 -0.0117188 C 1.804688 -0.128906 1.597656 -0.28125 1.464844 -0.472656 C 1.332031 -0.660156 1.238281 -0.917969 1.1875 -1.246094 C 1.144531 -1.472656 1.125 -1.9375 1.125 -2.636719 L 1.125 -5.890625 L 0.21875 -5.890625 L 0.21875 -7.46875 L 1.125 -7.46875 L 1.125 -8.949219 L 3.109375 -10.105469 L 3.109375 -7.46875 Z M 4.457031 -7.46875 \"/>\n",
       "</symbol>\n",
       "<symbol overflow=\"visible\" id=\"glyph0-4\">\n",
       "<path style=\"stroke:none;\" d=\"M 0.578125 -3.839844 C 0.574219 -4.492188 0.734375 -5.128906 1.0625 -5.742188 C 1.382813 -6.355469 1.839844 -6.824219 2.433594 -7.148438 C 3.023438 -7.472656 3.6875 -7.632813 4.421875 -7.636719 C 5.550781 -7.632813 6.476563 -7.265625 7.199219 -6.535156 C 7.917969 -5.796875 8.277344 -4.871094 8.28125 -3.753906 C 8.277344 -2.621094 7.914063 -1.683594 7.1875 -0.945313 C 6.457031 -0.203125 5.539063 0.164063 4.4375 0.167969 C 3.75 0.164063 3.097656 0.0117188 2.476563 -0.292969 C 1.855469 -0.601563 1.382813 -1.054688 1.0625 -1.652344 C 0.734375 -2.25 0.574219 -2.976563 0.578125 -3.839844 Z M 2.601563 -3.734375 C 2.601563 -2.988281 2.777344 -2.421875 3.128906 -2.03125 C 3.480469 -1.636719 3.914063 -1.441406 4.429688 -1.441406 C 4.945313 -1.441406 5.375 -1.636719 5.726563 -2.03125 C 6.070313 -2.421875 6.246094 -2.992188 6.25 -3.746094 C 6.246094 -4.472656 6.070313 -5.035156 5.726563 -5.433594 C 5.375 -5.824219 4.945313 -6.023438 4.429688 -6.027344 C 3.914063 -6.023438 3.480469 -5.824219 3.128906 -5.433594 C 2.777344 -5.035156 2.601563 -4.46875 2.601563 -3.734375 Z M 2.601563 -3.734375 \"/>\n",
       "</symbol>\n",
       "<symbol overflow=\"visible\" id=\"glyph0-5\">\n",
       "<path style=\"stroke:none;\" d=\"M 0.851563 0.492188 L 3.109375 0.765625 C 3.144531 1.027344 3.230469 1.207031 3.367188 1.308594 C 3.550781 1.445313 3.847656 1.515625 4.253906 1.519531 C 4.769531 1.515625 5.15625 1.4375 5.414063 1.285156 C 5.585938 1.179688 5.714844 1.015625 5.808594 0.789063 C 5.863281 0.621094 5.894531 0.320313 5.898438 -0.121094 L 5.898438 -1.210938 C 5.304688 -0.402344 4.558594 0 3.664063 0 C 2.65625 0 1.863281 -0.421875 1.28125 -1.273438 C 0.816406 -1.9375 0.585938 -2.773438 0.589844 -3.777344 C 0.585938 -5.023438 0.886719 -5.980469 1.492188 -6.644531 C 2.09375 -7.304688 2.84375 -7.632813 3.742188 -7.636719 C 4.660156 -7.632813 5.421875 -7.226563 6.027344 -6.417969 L 6.027344 -7.46875 L 7.875 -7.46875 L 7.875 -0.765625 C 7.875 0.113281 7.800781 0.769531 7.65625 1.207031 C 7.507813 1.644531 7.304688 1.984375 7.042969 2.234375 C 6.78125 2.480469 6.429688 2.675781 5.992188 2.820313 C 5.550781 2.957031 4.996094 3.027344 4.332031 3.03125 C 3.0625 3.027344 2.164063 2.8125 1.636719 2.378906 C 1.105469 1.945313 0.84375 1.394531 0.84375 0.730469 C 0.84375 0.664063 0.84375 0.585938 0.851563 0.492188 Z M 2.617188 -3.886719 C 2.613281 -3.089844 2.765625 -2.511719 3.074219 -2.148438 C 3.378906 -1.777344 3.757813 -1.59375 4.210938 -1.597656 C 4.691406 -1.59375 5.097656 -1.78125 5.433594 -2.160156 C 5.761719 -2.535156 5.929688 -3.09375 5.933594 -3.839844 C 5.929688 -4.609375 5.769531 -5.183594 5.453125 -5.5625 C 5.132813 -5.933594 4.730469 -6.121094 4.246094 -6.125 C 3.769531 -6.121094 3.378906 -5.9375 3.074219 -5.570313 C 2.765625 -5.199219 2.613281 -4.636719 2.617188 -3.886719 Z M 2.617188 -3.886719 \"/>\n",
       "</symbol>\n",
       "<symbol overflow=\"visible\" id=\"glyph0-6\">\n",
       "<path style=\"stroke:none;\" d=\"M 2.925781 0 L 0.949219 0 L 0.949219 -7.46875 L 2.785156 -7.46875 L 2.785156 -6.40625 C 3.09375 -6.902344 3.375 -7.234375 3.628906 -7.394531 C 3.878906 -7.554688 4.164063 -7.632813 4.484375 -7.636719 C 4.929688 -7.632813 5.363281 -7.507813 5.785156 -7.261719 L 5.175781 -5.539063 C 4.839844 -5.75 4.53125 -5.859375 4.246094 -5.863281 C 3.96875 -5.859375 3.734375 -5.78125 3.542969 -5.632813 C 3.347656 -5.476563 3.195313 -5.203125 3.089844 -4.808594 C 2.976563 -4.40625 2.921875 -3.570313 2.925781 -2.304688 Z M 2.925781 0 \"/>\n",
       "</symbol>\n",
       "<symbol overflow=\"visible\" id=\"glyph0-7\">\n",
       "<path style=\"stroke:none;\" d=\"M 2.511719 -5.1875 L 0.71875 -5.511719 C 0.917969 -6.230469 1.265625 -6.765625 1.757813 -7.113281 C 2.25 -7.460938 2.980469 -7.632813 3.953125 -7.636719 C 4.832031 -7.632813 5.488281 -7.53125 5.917969 -7.324219 C 6.347656 -7.113281 6.648438 -6.847656 6.828125 -6.527344 C 7 -6.207031 7.089844 -5.617188 7.09375 -4.761719 L 7.074219 -2.453125 C 7.070313 -1.792969 7.101563 -1.308594 7.167969 -1 C 7.226563 -0.6875 7.347656 -0.355469 7.523438 0 L 5.570313 0 C 5.515625 -0.128906 5.453125 -0.320313 5.378906 -0.582031 C 5.34375 -0.695313 5.320313 -0.773438 5.308594 -0.816406 C 4.96875 -0.484375 4.605469 -0.238281 4.222656 -0.078125 C 3.835938 0.0859375 3.425781 0.164063 2.996094 0.167969 C 2.222656 0.164063 1.617188 -0.0429688 1.175781 -0.457031 C 0.730469 -0.871094 0.507813 -1.398438 0.511719 -2.039063 C 0.507813 -2.460938 0.609375 -2.835938 0.8125 -3.167969 C 1.011719 -3.496094 1.292969 -3.75 1.660156 -3.925781 C 2.019531 -4.101563 2.546875 -4.253906 3.234375 -4.386719 C 4.15625 -4.558594 4.792969 -4.71875 5.152344 -4.871094 L 5.152344 -5.070313 C 5.148438 -5.445313 5.054688 -5.71875 4.871094 -5.882813 C 4.679688 -6.042969 4.328125 -6.121094 3.8125 -6.125 C 3.457031 -6.121094 3.183594 -6.054688 2.988281 -5.917969 C 2.789063 -5.777344 2.628906 -5.53125 2.511719 -5.1875 Z M 5.152344 -3.585938 C 4.894531 -3.5 4.496094 -3.398438 3.949219 -3.285156 C 3.402344 -3.164063 3.042969 -3.046875 2.875 -2.9375 C 2.613281 -2.75 2.484375 -2.519531 2.488281 -2.242188 C 2.484375 -1.964844 2.585938 -1.726563 2.796875 -1.523438 C 3 -1.320313 3.265625 -1.21875 3.585938 -1.222656 C 3.941406 -1.21875 4.28125 -1.335938 4.605469 -1.574219 C 4.84375 -1.75 5 -1.96875 5.078125 -2.230469 C 5.125 -2.394531 5.148438 -2.714844 5.152344 -3.191406 Z M 5.152344 -3.585938 \"/>\n",
       "</symbol>\n",
       "<symbol overflow=\"visible\" id=\"glyph0-8\">\n",
       "<path style=\"stroke:none;\" d=\"M 0.886719 -7.46875 L 2.707031 -7.46875 L 2.707031 -6.449219 C 3.355469 -7.238281 4.128906 -7.632813 5.035156 -7.636719 C 5.507813 -7.632813 5.921875 -7.535156 6.277344 -7.339844 C 6.625 -7.140625 6.914063 -6.84375 7.144531 -6.449219 C 7.46875 -6.84375 7.824219 -7.140625 8.203125 -7.339844 C 8.582031 -7.535156 8.988281 -7.632813 9.421875 -7.636719 C 9.96875 -7.632813 10.429688 -7.523438 10.8125 -7.300781 C 11.1875 -7.078125 11.472656 -6.75 11.664063 -6.320313 C 11.796875 -6 11.863281 -5.484375 11.867188 -4.773438 L 11.867188 0 L 9.894531 0 L 9.894531 -4.269531 C 9.890625 -5.007813 9.820313 -5.484375 9.6875 -5.703125 C 9.5 -5.980469 9.21875 -6.121094 8.84375 -6.125 C 8.5625 -6.121094 8.304688 -6.039063 8.0625 -5.871094 C 7.820313 -5.699219 7.644531 -5.449219 7.535156 -5.128906 C 7.425781 -4.800781 7.371094 -4.289063 7.375 -3.585938 L 7.375 0 L 5.398438 0 L 5.398438 -4.09375 C 5.394531 -4.816406 5.359375 -5.285156 5.292969 -5.5 C 5.21875 -5.707031 5.109375 -5.863281 4.964844 -5.96875 C 4.816406 -6.070313 4.617188 -6.121094 4.367188 -6.125 C 4.058594 -6.121094 3.785156 -6.039063 3.542969 -5.878906 C 3.296875 -5.710938 3.121094 -5.476563 3.019531 -5.167969 C 2.910156 -4.855469 2.859375 -4.339844 2.863281 -3.628906 L 2.863281 0 L 0.886719 0 Z M 0.886719 -7.46875 \"/>\n",
       "</symbol>\n",
       "<symbol overflow=\"visible\" id=\"glyph0-9\">\n",
       "<path style=\"stroke:none;\" d=\"\"/>\n",
       "</symbol>\n",
       "<symbol overflow=\"visible\" id=\"glyph0-10\">\n",
       "<path style=\"stroke:none;\" d=\"M 0.167969 -7.46875 L 1.265625 -7.46875 L 1.265625 -8.03125 C 1.265625 -8.65625 1.332031 -9.125 1.464844 -9.433594 C 1.597656 -9.742188 1.84375 -9.992188 2.203125 -10.191406 C 2.5625 -10.382813 3.015625 -10.480469 3.566406 -10.484375 C 4.125 -10.480469 4.675781 -10.398438 5.21875 -10.230469 L 4.949219 -8.851563 C 4.632813 -8.925781 4.332031 -8.964844 4.042969 -8.964844 C 3.753906 -8.964844 3.546875 -8.894531 3.425781 -8.761719 C 3.300781 -8.625 3.238281 -8.371094 3.242188 -7.996094 L 3.242188 -7.46875 L 4.71875 -7.46875 L 4.71875 -5.914063 L 3.242188 -5.914063 L 3.242188 0 L 1.265625 0 L 1.265625 -5.914063 L 0.167969 -5.914063 Z M 0.167969 -7.46875 \"/>\n",
       "</symbol>\n",
       "<symbol overflow=\"visible\" id=\"glyph0-11\">\n",
       "<path style=\"stroke:none;\" d=\"M 2.425781 0 L 0.0625 -7.46875 L 1.984375 -7.46875 L 3.382813 -2.574219 L 4.667969 -7.46875 L 6.574219 -7.46875 L 7.820313 -2.574219 L 9.246094 -7.46875 L 11.195313 -7.46875 L 8.796875 0 L 6.898438 0 L 5.609375 -4.800781 L 4.34375 0 Z M 2.425781 0 \"/>\n",
       "</symbol>\n",
       "<symbol overflow=\"visible\" id=\"glyph0-12\">\n",
       "<path style=\"stroke:none;\" d=\"M 0.0976563 -7.46875 L 2.199219 -7.46875 L 3.988281 -2.164063 L 5.730469 -7.46875 L 7.777344 -7.46875 L 5.140625 -0.28125 L 4.667969 1.019531 C 4.492188 1.453125 4.328125 1.785156 4.171875 2.015625 C 4.015625 2.246094 3.832031 2.433594 3.628906 2.578125 C 3.421875 2.71875 3.171875 2.828125 2.878906 2.910156 C 2.578125 2.988281 2.242188 3.027344 1.871094 3.03125 C 1.488281 3.027344 1.117188 2.988281 0.753906 2.910156 L 0.578125 1.363281 C 0.882813 1.421875 1.160156 1.453125 1.414063 1.457031 C 1.867188 1.453125 2.207031 1.316406 2.429688 1.050781 C 2.648438 0.777344 2.816406 0.433594 2.9375 0.0195313 Z M 0.0976563 -7.46875 \"/>\n",
       "</symbol>\n",
       "<symbol overflow=\"visible\" id=\"glyph0-13\">\n",
       "<path style=\"stroke:none;\" d=\"M 7.824219 0 L 5.851563 0 L 5.851563 -3.8125 C 5.847656 -4.613281 5.804688 -5.132813 5.722656 -5.375 C 5.636719 -5.609375 5.5 -5.792969 5.3125 -5.925781 C 5.121094 -6.054688 4.890625 -6.121094 4.625 -6.125 C 4.28125 -6.121094 3.976563 -6.027344 3.703125 -5.84375 C 3.429688 -5.652344 3.242188 -5.40625 3.144531 -5.097656 C 3.042969 -4.785156 2.992188 -4.210938 2.996094 -3.382813 L 2.996094 0 L 1.019531 0 L 1.019531 -7.46875 L 2.855469 -7.46875 L 2.855469 -6.371094 C 3.503906 -7.210938 4.324219 -7.632813 5.316406 -7.636719 C 5.746094 -7.632813 6.144531 -7.554688 6.507813 -7.398438 C 6.867188 -7.238281 7.140625 -7.039063 7.328125 -6.796875 C 7.511719 -6.554688 7.640625 -6.277344 7.714844 -5.96875 C 7.785156 -5.65625 7.820313 -5.214844 7.824219 -4.640625 Z M 7.824219 0 \"/>\n",
       "</symbol>\n",
       "<symbol overflow=\"visible\" id=\"glyph0-14\">\n",
       "<path style=\"stroke:none;\" d=\"M 0.964844 0 L 0.964844 -10.308594 L 2.9375 -10.308594 L 2.9375 -4.835938 L 5.253906 -7.46875 L 7.683594 -7.46875 L 5.132813 -4.738281 L 7.867188 0 L 5.738281 0 L 3.859375 -3.355469 L 2.9375 -2.390625 L 2.9375 0 Z M 0.964844 0 \"/>\n",
       "</symbol>\n",
       "<symbol overflow=\"visible\" id=\"glyph1-0\">\n",
       "<path style=\"stroke:none;\" d=\"M 1.9375 0 L 0.0351563 -6.222656 L 1.125 -6.222656 L 2.117188 -2.632813 L 2.484375 -1.296875 C 2.5 -1.359375 2.605469 -1.789063 2.804688 -2.578125 L 3.796875 -6.222656 L 4.882813 -6.222656 L 5.8125 -2.613281 L 6.125 -1.421875 L 6.480469 -2.625 L 7.546875 -6.222656 L 8.570313 -6.222656 L 6.625 0 L 5.53125 0 L 4.539063 -3.726563 L 4.300781 -4.789063 L 3.039063 0 Z M 1.9375 0 \"/>\n",
       "</symbol>\n",
       "<symbol overflow=\"visible\" id=\"glyph1-1\">\n",
       "<path style=\"stroke:none;\" d=\"M 0.742188 2.398438 L 0.625 1.40625 C 0.855469 1.46875 1.058594 1.5 1.230469 1.5 C 1.464844 1.5 1.652344 1.460938 1.792969 1.382813 C 1.933594 1.304688 2.046875 1.195313 2.140625 1.054688 C 2.203125 0.949219 2.3125 0.6875 2.460938 0.269531 C 2.480469 0.207031 2.511719 0.121094 2.554688 0.0117188 L 0.195313 -6.222656 L 1.328125 -6.222656 L 2.625 -2.617188 C 2.789063 -2.160156 2.9375 -1.679688 3.078125 -1.179688 C 3.195313 -1.660156 3.339844 -2.132813 3.507813 -2.59375 L 4.839844 -6.222656 L 5.894531 -6.222656 L 3.527344 0.105469 C 3.273438 0.789063 3.074219 1.257813 2.9375 1.515625 C 2.746094 1.863281 2.53125 2.117188 2.292969 2.28125 C 2.046875 2.4375 1.757813 2.519531 1.421875 2.523438 C 1.214844 2.519531 0.988281 2.476563 0.742188 2.398438 Z M 0.742188 2.398438 \"/>\n",
       "</symbol>\n",
       "<symbol overflow=\"visible\" id=\"glyph1-2\">\n",
       "<path style=\"stroke:none;\" d=\"M 0.789063 0 L 0.789063 -6.222656 L 1.742188 -6.222656 L 1.742188 -5.335938 C 2.195313 -6.019531 2.855469 -6.363281 3.71875 -6.363281 C 4.089844 -6.363281 4.433594 -6.292969 4.753906 -6.160156 C 5.066406 -6.023438 5.304688 -5.847656 5.460938 -5.632813 C 5.617188 -5.410156 5.726563 -5.152344 5.789063 -4.851563 C 5.828125 -4.65625 5.847656 -4.3125 5.847656 -3.828125 L 5.847656 0 L 4.792969 0 L 4.792969 -3.785156 C 4.792969 -4.214844 4.75 -4.535156 4.667969 -4.75 C 4.585938 -4.960938 4.441406 -5.128906 4.234375 -5.257813 C 4.023438 -5.382813 3.777344 -5.449219 3.5 -5.449219 C 3.046875 -5.449219 2.660156 -5.304688 2.332031 -5.019531 C 2.003906 -4.734375 1.839844 -4.195313 1.84375 -3.398438 L 1.84375 0 Z M 0.789063 0 \"/>\n",
       "</symbol>\n",
       "<symbol overflow=\"visible\" id=\"glyph1-3\">\n",
       "<path style=\"stroke:none;\" d=\"M 0.796875 -7.375 L 0.796875 -8.589844 L 1.851563 -8.589844 L 1.851563 -7.375 Z M 0.796875 0 L 0.796875 -6.222656 L 1.851563 -6.222656 L 1.851563 0 Z M 0.796875 0 \"/>\n",
       "</symbol>\n",
       "<symbol overflow=\"visible\" id=\"glyph1-4\">\n",
       "<path style=\"stroke:none;\" d=\"M 0.796875 0 L 0.796875 -8.589844 L 1.851563 -8.589844 L 1.851563 -3.691406 L 4.347656 -6.222656 L 5.710938 -6.222656 L 3.335938 -3.914063 L 5.953125 0 L 4.652344 0 L 2.59375 -3.179688 L 1.851563 -2.46875 L 1.851563 0 Z M 0.796875 0 \"/>\n",
       "</symbol>\n",
       "<symbol overflow=\"visible\" id=\"glyph1-5\">\n",
       "<path style=\"stroke:none;\" d=\"M 0.5 -4.234375 C 0.496094 -5.246094 0.601563 -6.0625 0.8125 -6.6875 C 1.019531 -7.304688 1.328125 -7.785156 1.742188 -8.121094 C 2.148438 -8.457031 2.667969 -8.625 3.296875 -8.625 C 3.757813 -8.625 4.164063 -8.53125 4.511719 -8.347656 C 4.855469 -8.160156 5.140625 -7.890625 5.371094 -7.542969 C 5.59375 -7.191406 5.773438 -6.765625 5.90625 -6.265625 C 6.035156 -5.761719 6.097656 -5.085938 6.101563 -4.234375 C 6.097656 -3.226563 5.996094 -2.414063 5.789063 -1.796875 C 5.578125 -1.175781 5.265625 -0.695313 4.859375 -0.359375 C 4.445313 -0.0195313 3.925781 0.144531 3.296875 0.148438 C 2.464844 0.144531 1.816406 -0.148438 1.347656 -0.742188 C 0.78125 -1.457031 0.496094 -2.621094 0.5 -4.234375 Z M 1.582031 -4.234375 C 1.582031 -2.824219 1.746094 -1.886719 2.074219 -1.417969 C 2.402344 -0.949219 2.808594 -0.714844 3.296875 -0.71875 C 3.777344 -0.714844 4.183594 -0.949219 4.519531 -1.421875 C 4.847656 -1.886719 5.015625 -2.824219 5.015625 -4.234375 C 5.015625 -5.648438 4.847656 -6.589844 4.519531 -7.054688 C 4.183594 -7.515625 3.773438 -7.746094 3.289063 -7.75 C 2.800781 -7.746094 2.414063 -7.542969 2.125 -7.136719 C 1.761719 -6.613281 1.582031 -5.644531 1.582031 -4.234375 Z M 1.582031 -4.234375 \"/>\n",
       "</symbol>\n",
       "<symbol overflow=\"visible\" id=\"glyph1-6\">\n",
       "<path style=\"stroke:none;\" d=\"M 1.089844 0 L 1.089844 -1.203125 L 2.289063 -1.203125 L 2.289063 0 Z M 1.089844 0 \"/>\n",
       "</symbol>\n",
       "<symbol overflow=\"visible\" id=\"glyph1-7\">\n",
       "<path style=\"stroke:none;\" d=\"M 4.46875 0 L 3.414063 0 L 3.414063 -6.71875 C 3.160156 -6.476563 2.828125 -6.234375 2.414063 -5.996094 C 2 -5.75 1.628906 -5.570313 1.304688 -5.449219 L 1.304688 -6.46875 C 1.894531 -6.742188 2.410156 -7.078125 2.851563 -7.476563 C 3.292969 -7.871094 3.605469 -8.253906 3.789063 -8.625 L 4.46875 -8.625 Z M 4.46875 0 \"/>\n",
       "</symbol>\n",
       "<symbol overflow=\"visible\" id=\"glyph1-8\">\n",
       "<path style=\"stroke:none;\" d=\"M 6.039063 -1.015625 L 6.039063 0 L 0.363281 0 C 0.355469 -0.253906 0.394531 -0.496094 0.484375 -0.734375 C 0.628906 -1.117188 0.859375 -1.5 1.179688 -1.875 C 1.492188 -2.25 1.953125 -2.683594 2.5625 -3.175781 C 3.492188 -3.941406 4.125 -4.546875 4.453125 -4.992188 C 4.78125 -5.4375 4.945313 -5.859375 4.945313 -6.265625 C 4.945313 -6.679688 4.792969 -7.03125 4.496094 -7.320313 C 4.191406 -7.601563 3.804688 -7.746094 3.328125 -7.75 C 2.820313 -7.746094 2.414063 -7.59375 2.109375 -7.292969 C 1.804688 -6.984375 1.648438 -6.5625 1.648438 -6.03125 L 0.5625 -6.140625 C 0.632813 -6.945313 0.910156 -7.558594 1.398438 -7.988281 C 1.878906 -8.410156 2.53125 -8.625 3.351563 -8.625 C 4.171875 -8.625 4.824219 -8.394531 5.308594 -7.9375 C 5.789063 -7.480469 6.027344 -6.914063 6.03125 -6.242188 C 6.027344 -5.894531 5.957031 -5.558594 5.820313 -5.226563 C 5.675781 -4.890625 5.441406 -4.539063 5.117188 -4.175781 C 4.789063 -3.804688 4.25 -3.300781 3.492188 -2.664063 C 2.859375 -2.128906 2.453125 -1.769531 2.273438 -1.582031 C 2.09375 -1.394531 1.945313 -1.203125 1.828125 -1.015625 Z M 6.039063 -1.015625 \"/>\n",
       "</symbol>\n",
       "<symbol overflow=\"visible\" id=\"glyph1-9\">\n",
       "<path style=\"stroke:none;\" d=\"M 0.503906 -2.265625 L 1.558594 -2.40625 C 1.679688 -1.808594 1.882813 -1.378906 2.175781 -1.113281 C 2.464844 -0.847656 2.820313 -0.714844 3.242188 -0.71875 C 3.734375 -0.714844 4.152344 -0.886719 4.496094 -1.234375 C 4.832031 -1.574219 5.003906 -2 5.007813 -2.515625 C 5.003906 -2.996094 4.847656 -3.394531 4.535156 -3.710938 C 4.21875 -4.023438 3.816406 -4.183594 3.328125 -4.183594 C 3.128906 -4.183594 2.878906 -4.144531 2.585938 -4.066406 L 2.703125 -4.992188 C 2.765625 -4.984375 2.824219 -4.980469 2.871094 -4.980469 C 3.320313 -4.980469 3.722656 -5.097656 4.085938 -5.332031 C 4.441406 -5.566406 4.621094 -5.925781 4.625 -6.414063 C 4.621094 -6.800781 4.492188 -7.121094 4.230469 -7.375 C 3.964844 -7.628906 3.625 -7.757813 3.21875 -7.757813 C 2.804688 -7.757813 2.464844 -7.628906 2.191406 -7.371094 C 1.917969 -7.113281 1.742188 -6.726563 1.664063 -6.210938 L 0.609375 -6.398438 C 0.738281 -7.105469 1.03125 -7.652344 1.488281 -8.042969 C 1.941406 -8.429688 2.507813 -8.625 3.195313 -8.625 C 3.660156 -8.625 4.09375 -8.523438 4.488281 -8.324219 C 4.878906 -8.121094 5.179688 -7.847656 5.390625 -7.5 C 5.601563 -7.148438 5.707031 -6.777344 5.707031 -6.390625 C 5.707031 -6.019531 5.605469 -5.683594 5.40625 -5.378906 C 5.207031 -5.074219 4.914063 -4.832031 4.523438 -4.652344 C 5.03125 -4.535156 5.425781 -4.289063 5.707031 -3.921875 C 5.988281 -3.546875 6.128906 -3.085938 6.128906 -2.539063 C 6.128906 -1.785156 5.855469 -1.148438 5.308594 -0.628906 C 4.761719 -0.105469 4.070313 0.152344 3.234375 0.152344 C 2.476563 0.152344 1.847656 -0.0703125 1.355469 -0.519531 C 0.855469 -0.96875 0.574219 -1.550781 0.503906 -2.265625 Z M 0.503906 -2.265625 \"/>\n",
       "</symbol>\n",
       "<symbol overflow=\"visible\" id=\"glyph1-10\">\n",
       "<path style=\"stroke:none;\" d=\"M 3.878906 0 L 3.878906 -2.054688 L 0.152344 -2.054688 L 0.152344 -3.023438 L 4.070313 -8.589844 L 4.933594 -8.589844 L 4.933594 -3.023438 L 6.09375 -3.023438 L 6.09375 -2.054688 L 4.933594 -2.054688 L 4.933594 0 Z M 3.878906 -3.023438 L 3.878906 -6.898438 L 1.1875 -3.023438 Z M 3.878906 -3.023438 \"/>\n",
       "</symbol>\n",
       "<symbol overflow=\"visible\" id=\"glyph2-0\">\n",
       "<path style=\"stroke:none;\" d=\"M 0 -0.984375 L -8.589844 -0.984375 L -8.589844 -6.78125 L -7.578125 -6.78125 L -7.578125 -2.121094 L -4.914063 -2.121094 L -4.914063 -6.152344 L -3.902344 -6.152344 L -3.902344 -2.121094 L 0 -2.121094 Z M 0 -0.984375 \"/>\n",
       "</symbol>\n",
       "<symbol overflow=\"visible\" id=\"glyph2-1\">\n",
       "<path style=\"stroke:none;\" d=\"M 0 -0.78125 L -6.222656 -0.78125 L -6.222656 -1.730469 L -5.28125 -1.730469 C -5.71875 -1.96875 -6.011719 -2.191406 -6.152344 -2.398438 C -6.292969 -2.601563 -6.363281 -2.828125 -6.363281 -3.078125 C -6.363281 -3.429688 -6.25 -3.792969 -6.023438 -4.160156 L -5.046875 -3.796875 C -5.195313 -3.539063 -5.273438 -3.28125 -5.273438 -3.023438 C -5.273438 -2.792969 -5.203125 -2.585938 -5.066406 -2.402344 C -4.925781 -2.21875 -4.734375 -2.085938 -4.488281 -2.011719 C -4.113281 -1.890625 -3.703125 -1.832031 -3.257813 -1.835938 L 0 -1.835938 Z M 0 -0.78125 \"/>\n",
       "</symbol>\n",
       "<symbol overflow=\"visible\" id=\"glyph2-2\">\n",
       "<path style=\"stroke:none;\" d=\"M -2.003906 -5.050781 L -1.867188 -6.140625 C -1.230469 -5.96875 -0.738281 -5.648438 -0.386719 -5.183594 C -0.0351563 -4.71875 0.140625 -4.125 0.140625 -3.40625 C 0.140625 -2.492188 -0.136719 -1.769531 -0.699219 -1.238281 C -1.253906 -0.703125 -2.042969 -0.4375 -3.058594 -0.441406 C -4.105469 -0.4375 -4.917969 -0.707031 -5.496094 -1.25 C -6.074219 -1.785156 -6.363281 -2.484375 -6.363281 -3.347656 C -6.363281 -4.175781 -6.078125 -4.855469 -5.511719 -5.382813 C -4.945313 -5.910156 -4.148438 -6.175781 -3.121094 -6.175781 C -3.054688 -6.175781 -2.960938 -6.171875 -2.839844 -6.171875 L -2.84375 -1.53125 C -2.15625 -1.566406 -1.632813 -1.761719 -1.269531 -2.109375 C -0.90625 -2.457031 -0.726563 -2.890625 -0.726563 -3.410156 C -0.726563 -3.796875 -0.828125 -4.125 -1.03125 -4.402344 C -1.234375 -4.671875 -1.558594 -4.890625 -2.003906 -5.050781 Z M -3.710938 -1.589844 L -3.707031 -5.0625 C -4.226563 -5.015625 -4.621094 -4.882813 -4.886719 -4.664063 C -5.292969 -4.328125 -5.496094 -3.890625 -5.496094 -3.359375 C -5.496094 -2.871094 -5.332031 -2.464844 -5.007813 -2.136719 C -4.683594 -1.804688 -4.25 -1.621094 -3.710938 -1.589844 Z M -3.710938 -1.589844 \"/>\n",
       "</symbol>\n",
       "<symbol overflow=\"visible\" id=\"glyph2-3\">\n",
       "<path style=\"stroke:none;\" d=\"M 2.386719 -4.757813 L -0.660156 -4.757813 C -0.429688 -4.59375 -0.238281 -4.363281 -0.0859375 -4.066406 C 0.0664063 -3.769531 0.140625 -3.457031 0.140625 -3.128906 C 0.140625 -2.390625 -0.152344 -1.753906 -0.742188 -1.222656 C -1.332031 -0.6875 -2.140625 -0.421875 -3.171875 -0.421875 C -3.792969 -0.421875 -4.355469 -0.527344 -4.851563 -0.746094 C -5.34375 -0.960938 -5.71875 -1.277344 -5.976563 -1.691406 C -6.234375 -2.101563 -6.363281 -2.554688 -6.363281 -3.046875 C -6.363281 -3.816406 -6.039063 -4.421875 -5.390625 -4.863281 L -6.222656 -4.863281 L -6.222656 -5.8125 L 2.386719 -5.8125 Z M -3.128906 -1.507813 C -2.328125 -1.503906 -1.726563 -1.671875 -1.328125 -2.011719 C -0.925781 -2.34375 -0.726563 -2.746094 -0.726563 -3.21875 C -0.726563 -3.664063 -0.914063 -4.050781 -1.296875 -4.375 C -1.671875 -4.699219 -2.253906 -4.863281 -3.035156 -4.863281 C -3.863281 -4.863281 -4.484375 -4.691406 -4.902344 -4.351563 C -5.320313 -4.007813 -5.53125 -3.605469 -5.53125 -3.148438 C -5.53125 -2.6875 -5.335938 -2.300781 -4.949219 -1.984375 C -4.558594 -1.664063 -3.953125 -1.503906 -3.128906 -1.507813 Z M -3.128906 -1.507813 \"/>\n",
       "</symbol>\n",
       "<symbol overflow=\"visible\" id=\"glyph2-4\">\n",
       "<path style=\"stroke:none;\" d=\"M 0 -4.867188 L -0.914063 -4.867188 C -0.210938 -4.378906 0.140625 -3.722656 0.140625 -2.894531 C 0.140625 -2.527344 0.0703125 -2.183594 -0.0703125 -1.867188 C -0.210938 -1.546875 -0.386719 -1.308594 -0.597656 -1.15625 C -0.808594 -1 -1.070313 -0.894531 -1.382813 -0.832031 C -1.589844 -0.789063 -1.917969 -0.765625 -2.367188 -0.769531 L -6.222656 -0.769531 L -6.222656 -1.824219 L -2.773438 -1.824219 C -2.21875 -1.820313 -1.847656 -1.84375 -1.65625 -1.886719 C -1.378906 -1.949219 -1.160156 -2.089844 -1.003906 -2.308594 C -0.839844 -2.523438 -0.761719 -2.789063 -0.765625 -3.105469 C -0.761719 -3.417969 -0.84375 -3.714844 -1.007813 -3.996094 C -1.171875 -4.273438 -1.390625 -4.46875 -1.671875 -4.585938 C -1.945313 -4.699219 -2.351563 -4.757813 -2.886719 -4.757813 L -6.222656 -4.757813 L -6.222656 -5.8125 L 0 -5.8125 Z M 0 -4.867188 \"/>\n",
       "</symbol>\n",
       "<symbol overflow=\"visible\" id=\"glyph2-5\">\n",
       "<path style=\"stroke:none;\" d=\"M 0 -0.789063 L -6.222656 -0.792969 L -6.222656 -1.742188 L -5.335938 -1.742188 C -6.019531 -2.195313 -6.363281 -2.855469 -6.363281 -3.722656 C -6.363281 -4.089844 -6.292969 -4.433594 -6.160156 -4.753906 C -6.023438 -5.066406 -5.847656 -5.304688 -5.632813 -5.460938 C -5.410156 -5.617188 -5.152344 -5.726563 -4.851563 -5.789063 C -4.65625 -5.828125 -4.3125 -5.847656 -3.824219 -5.847656 L 0 -5.847656 L 0 -4.792969 L -3.785156 -4.792969 C -4.214844 -4.792969 -4.535156 -4.75 -4.75 -4.667969 C -4.960938 -4.585938 -5.128906 -4.441406 -5.257813 -4.234375 C -5.382813 -4.023438 -5.449219 -3.777344 -5.449219 -3.5 C -5.449219 -3.046875 -5.304688 -2.660156 -5.019531 -2.335938 C -4.734375 -2.007813 -4.195313 -1.84375 -3.398438 -1.847656 L 0 -1.84375 Z M 0 -0.789063 \"/>\n",
       "</symbol>\n",
       "<symbol overflow=\"visible\" id=\"glyph2-6\">\n",
       "<path style=\"stroke:none;\" d=\"M -2.277344 -4.851563 L -2.144531 -5.890625 C -1.425781 -5.773438 -0.863281 -5.484375 -0.464844 -5.019531 C -0.0585938 -4.550781 0.140625 -3.976563 0.140625 -3.296875 C 0.140625 -2.445313 -0.136719 -1.761719 -0.695313 -1.246094 C -1.25 -0.726563 -2.046875 -0.46875 -3.085938 -0.46875 C -3.753906 -0.46875 -4.34375 -0.578125 -4.851563 -0.800781 C -5.355469 -1.023438 -5.730469 -1.363281 -5.984375 -1.820313 C -6.234375 -2.273438 -6.363281 -2.769531 -6.363281 -3.304688 C -6.363281 -3.980469 -6.191406 -4.53125 -5.847656 -4.964844 C -5.503906 -5.390625 -5.019531 -5.667969 -4.394531 -5.789063 L -4.234375 -4.765625 C -4.652344 -4.664063 -4.96875 -4.492188 -5.179688 -4.246094 C -5.390625 -3.996094 -5.496094 -3.695313 -5.496094 -3.347656 C -5.496094 -2.8125 -5.304688 -2.382813 -4.921875 -2.050781 C -4.539063 -1.71875 -3.9375 -1.550781 -3.117188 -1.554688 C -2.28125 -1.550781 -1.671875 -1.710938 -1.292969 -2.035156 C -0.914063 -2.351563 -0.726563 -2.769531 -0.726563 -3.289063 C -0.726563 -3.695313 -0.851563 -4.042969 -1.105469 -4.324219 C -1.359375 -4.601563 -1.75 -4.777344 -2.277344 -4.851563 Z M -2.277344 -4.851563 \"/>\n",
       "</symbol>\n",
       "<symbol overflow=\"visible\" id=\"glyph2-7\">\n",
       "<path style=\"stroke:none;\" d=\"M 2.398438 -0.742188 L 1.40625 -0.625 C 1.46875 -0.855469 1.5 -1.058594 1.5 -1.230469 C 1.5 -1.464844 1.460938 -1.652344 1.382813 -1.792969 C 1.304688 -1.933594 1.195313 -2.046875 1.054688 -2.140625 C 0.949219 -2.203125 0.6875 -2.3125 0.269531 -2.460938 C 0.210938 -2.480469 0.125 -2.511719 0.0117188 -2.554688 L -6.222656 -0.195313 L -6.222656 -1.332031 L -2.617188 -2.625 C -2.160156 -2.789063 -1.679688 -2.9375 -1.175781 -3.078125 C -1.65625 -3.195313 -2.128906 -3.339844 -2.59375 -3.507813 L -6.222656 -4.839844 L -6.222656 -5.894531 L 0.105469 -3.527344 C 0.789063 -3.273438 1.257813 -3.074219 1.519531 -2.9375 C 1.863281 -2.746094 2.117188 -2.53125 2.28125 -2.289063 C 2.4375 -2.042969 2.519531 -1.753906 2.523438 -1.421875 C 2.519531 -1.214844 2.476563 -0.988281 2.398438 -0.742188 Z M 2.398438 -0.742188 \"/>\n",
       "</symbol>\n",
       "<symbol overflow=\"visible\" id=\"glyph2-8\">\n",
       "<path style=\"stroke:none;\" d=\"M -4.234375 -0.5 C -5.246094 -0.496094 -6.0625 -0.601563 -6.6875 -0.8125 C -7.304688 -1.019531 -7.785156 -1.328125 -8.121094 -1.742188 C -8.457031 -2.152344 -8.625 -2.671875 -8.625 -3.300781 C -8.625 -3.757813 -8.53125 -4.164063 -8.347656 -4.511719 C -8.160156 -4.859375 -7.890625 -5.144531 -7.542969 -5.371094 C -7.191406 -5.59375 -6.765625 -5.773438 -6.265625 -5.90625 C -5.761719 -6.035156 -5.085938 -6.097656 -4.234375 -6.101563 C -3.222656 -6.097656 -2.410156 -5.996094 -1.792969 -5.789063 C -1.175781 -5.578125 -0.695313 -5.265625 -0.359375 -4.859375 C -0.0195313 -4.445313 0.144531 -3.925781 0.148438 -3.296875 C 0.144531 -2.464844 -0.148438 -1.816406 -0.742188 -1.347656 C -1.457031 -0.78125 -2.621094 -0.496094 -4.234375 -0.5 Z M -4.234375 -1.582031 C -2.824219 -1.582031 -1.886719 -1.746094 -1.417969 -2.074219 C -0.949219 -2.402344 -0.714844 -2.808594 -0.71875 -3.296875 C -0.714844 -3.777344 -0.949219 -4.183594 -1.421875 -4.519531 C -1.886719 -4.847656 -2.824219 -5.015625 -4.234375 -5.015625 C -5.648438 -5.015625 -6.589844 -4.847656 -7.054688 -4.519531 C -7.515625 -4.1875 -7.746094 -3.777344 -7.75 -3.289063 C -7.746094 -2.800781 -7.542969 -2.414063 -7.136719 -2.128906 C -6.613281 -1.761719 -5.644531 -1.582031 -4.234375 -1.582031 Z M -4.234375 -1.582031 \"/>\n",
       "</symbol>\n",
       "<symbol overflow=\"visible\" id=\"glyph2-9\">\n",
       "<path style=\"stroke:none;\" d=\"M -1.011719 -6.039063 L 0 -6.039063 L 0 -0.363281 C -0.253906 -0.355469 -0.496094 -0.394531 -0.734375 -0.488281 C -1.117188 -0.628906 -1.5 -0.859375 -1.875 -1.179688 C -2.25 -1.496094 -2.683594 -1.957031 -3.175781 -2.5625 C -3.941406 -3.492188 -4.546875 -4.125 -4.992188 -4.453125 C -5.4375 -4.78125 -5.859375 -4.945313 -6.265625 -4.945313 C -6.679688 -4.945313 -7.03125 -4.792969 -7.320313 -4.496094 C -7.601563 -4.195313 -7.746094 -3.808594 -7.75 -3.328125 C -7.746094 -2.820313 -7.59375 -2.414063 -7.292969 -2.109375 C -6.984375 -1.804688 -6.5625 -1.648438 -6.03125 -1.648438 L -6.140625 -0.5625 C -6.945313 -0.636719 -7.558594 -0.914063 -7.988281 -1.402344 C -8.410156 -1.882813 -8.625 -2.535156 -8.625 -3.351563 C -8.625 -4.175781 -8.394531 -4.828125 -7.9375 -5.308594 C -7.480469 -5.789063 -6.914063 -6.027344 -6.242188 -6.03125 C -5.894531 -6.027344 -5.558594 -5.957031 -5.226563 -5.820313 C -4.890625 -5.675781 -4.539063 -5.441406 -4.175781 -5.117188 C -3.804688 -4.789063 -3.300781 -4.25 -2.664063 -3.492188 C -2.128906 -2.859375 -1.769531 -2.453125 -1.582031 -2.273438 C -1.394531 -2.09375 -1.203125 -1.945313 -1.011719 -1.828125 Z M -1.011719 -6.039063 \"/>\n",
       "</symbol>\n",
       "<symbol overflow=\"visible\" id=\"glyph2-10\">\n",
       "<path style=\"stroke:none;\" d=\"M 0 -3.878906 L -2.054688 -3.878906 L -2.054688 -0.152344 L -3.023438 -0.152344 L -8.589844 -4.074219 L -8.589844 -4.933594 L -3.023438 -4.933594 L -3.023438 -6.09375 L -2.054688 -6.09375 L -2.054688 -4.933594 L 0 -4.933594 Z M -3.023438 -3.878906 L -6.898438 -3.878906 L -3.023438 -1.191406 Z M -3.023438 -3.878906 \"/>\n",
       "</symbol>\n",
       "<symbol overflow=\"visible\" id=\"glyph2-11\">\n",
       "<path style=\"stroke:none;\" d=\"M -6.484375 -5.96875 L -6.40625 -4.921875 C -6.8125 -4.828125 -7.113281 -4.695313 -7.304688 -4.523438 C -7.605469 -4.238281 -7.757813 -3.886719 -7.757813 -3.46875 C -7.757813 -3.132813 -7.664063 -2.835938 -7.476563 -2.585938 C -7.234375 -2.25 -6.878906 -1.988281 -6.414063 -1.796875 C -5.949219 -1.605469 -5.289063 -1.507813 -4.429688 -1.5 C -4.8125 -1.753906 -5.097656 -2.0625 -5.289063 -2.433594 C -5.472656 -2.796875 -5.566406 -3.183594 -5.570313 -3.585938 C -5.566406 -4.289063 -5.308594 -4.886719 -4.792969 -5.382813 C -4.277344 -5.875 -3.609375 -6.121094 -2.789063 -6.125 C -2.25 -6.121094 -1.746094 -6.003906 -1.285156 -5.773438 C -0.816406 -5.539063 -0.460938 -5.222656 -0.21875 -4.816406 C 0.0273438 -4.410156 0.144531 -3.949219 0.148438 -3.433594 C 0.144531 -2.554688 -0.175781 -1.835938 -0.820313 -1.285156 C -1.46875 -0.726563 -2.535156 -0.449219 -4.019531 -0.453125 C -5.675781 -0.449219 -6.882813 -0.757813 -7.640625 -1.371094 C -8.296875 -1.90625 -8.625 -2.625 -8.625 -3.535156 C -8.625 -4.207031 -8.433594 -4.761719 -8.054688 -5.195313 C -7.675781 -5.625 -7.152344 -5.882813 -6.484375 -5.96875 Z M -2.78125 -1.664063 C -2.417969 -1.664063 -2.070313 -1.738281 -1.738281 -1.894531 C -1.40625 -2.042969 -1.152344 -2.261719 -0.980469 -2.542969 C -0.800781 -2.820313 -0.714844 -3.109375 -0.71875 -3.414063 C -0.714844 -3.859375 -0.894531 -4.242188 -1.257813 -4.566406 C -1.613281 -4.882813 -2.101563 -5.042969 -2.722656 -5.046875 C -3.3125 -5.042969 -3.78125 -4.886719 -4.125 -4.570313 C -4.46875 -4.25 -4.640625 -3.851563 -4.640625 -3.375 C -4.640625 -2.898438 -4.46875 -2.492188 -4.128906 -2.160156 C -3.785156 -1.828125 -3.335938 -1.664063 -2.78125 -1.664063 Z M -2.78125 -1.664063 \"/>\n",
       "</symbol>\n",
       "<symbol overflow=\"visible\" id=\"glyph2-12\">\n",
       "<path style=\"stroke:none;\" d=\"M -4.65625 -2.121094 C -4.816406 -1.683594 -5.046875 -1.359375 -5.34375 -1.148438 C -5.640625 -0.9375 -5.996094 -0.832031 -6.410156 -0.832031 C -7.035156 -0.832031 -7.558594 -1.054688 -7.984375 -1.503906 C -8.410156 -1.953125 -8.625 -2.550781 -8.625 -3.300781 C -8.625 -4.046875 -8.40625 -4.652344 -7.972656 -5.109375 C -7.535156 -5.566406 -7.003906 -5.792969 -6.382813 -5.796875 C -5.976563 -5.792969 -5.628906 -5.6875 -5.339844 -5.480469 C -5.042969 -5.269531 -4.816406 -4.953125 -4.65625 -4.53125 C -4.480469 -5.054688 -4.203125 -5.457031 -3.824219 -5.734375 C -3.4375 -6.007813 -2.980469 -6.144531 -2.453125 -6.148438 C -1.714844 -6.144531 -1.097656 -5.886719 -0.601563 -5.367188 C -0.101563 -4.84375 0.144531 -4.160156 0.148438 -3.316406 C 0.144531 -2.46875 -0.101563 -1.785156 -0.605469 -1.265625 C -1.105469 -0.746094 -1.734375 -0.484375 -2.484375 -0.488281 C -3.039063 -0.484375 -3.503906 -0.625 -3.886719 -0.910156 C -4.261719 -1.191406 -4.519531 -1.597656 -4.65625 -2.121094 Z M -6.445313 -1.910156 C -6.039063 -1.910156 -5.707031 -2.039063 -5.449219 -2.300781 C -5.191406 -2.5625 -5.0625 -2.902344 -5.0625 -3.324219 C -5.0625 -3.726563 -5.1875 -4.058594 -5.445313 -4.320313 C -5.695313 -4.578125 -6.011719 -4.710938 -6.386719 -4.710938 C -6.773438 -4.710938 -7.097656 -4.574219 -7.363281 -4.308594 C -7.625 -4.039063 -7.757813 -3.707031 -7.757813 -3.3125 C -7.757813 -2.90625 -7.628906 -2.574219 -7.371094 -2.308594 C -7.113281 -2.042969 -6.804688 -1.910156 -6.445313 -1.910156 Z M -2.476563 -1.570313 C -2.175781 -1.570313 -1.886719 -1.640625 -1.605469 -1.785156 C -1.324219 -1.925781 -1.105469 -2.136719 -0.949219 -2.421875 C -0.792969 -2.699219 -0.714844 -3.003906 -0.71875 -3.328125 C -0.714844 -3.832031 -0.875 -4.246094 -1.203125 -4.578125 C -1.523438 -4.902344 -1.9375 -5.066406 -2.441406 -5.070313 C -2.945313 -5.066406 -3.367188 -4.898438 -3.703125 -4.5625 C -4.035156 -4.222656 -4.199219 -3.800781 -4.203125 -3.292969 C -4.199219 -2.796875 -4.035156 -2.382813 -3.710938 -2.058594 C -3.378906 -1.730469 -2.96875 -1.570313 -2.476563 -1.570313 Z M -2.476563 -1.570313 \"/>\n",
       "</symbol>\n",
       "<symbol overflow=\"visible\" id=\"glyph2-13\">\n",
       "<path style=\"stroke:none;\" d=\"M 0 -4.46875 L 0 -3.414063 L -6.71875 -3.417969 C -6.476563 -3.160156 -6.234375 -2.828125 -5.996094 -2.417969 C -5.75 -2.003906 -5.570313 -1.632813 -5.449219 -1.308594 L -6.46875 -1.308594 C -6.742188 -1.894531 -7.078125 -2.410156 -7.476563 -2.851563 C -7.871094 -3.292969 -8.253906 -3.605469 -8.625 -3.792969 L -8.625 -4.472656 Z M 0 -4.46875 \"/>\n",
       "</symbol>\n",
       "</g>\n",
       "<clipPath id=\"clip1\">\n",
       "  <path d=\"M 59.039063 59.039063 L 474.757813 59.039063 L 474.757813 431.558594 L 59.039063 431.558594 Z M 59.039063 59.039063 \"/>\n",
       "</clipPath>\n",
       "</defs>\n",
       "<g id=\"surface16\">\n",
       "<rect x=\"0\" y=\"0\" width=\"504\" height=\"504\" style=\"fill:rgb(100%,100%,100%);fill-opacity:1;stroke:none;\"/>\n",
       "<g style=\"fill:rgb(0%,0%,0%);fill-opacity:1;\">\n",
       "  <use xlink:href=\"#glyph0-0\" x=\"199.988281\" y=\"34.675781\"/>\n",
       "  <use xlink:href=\"#glyph0-1\" x=\"210.3875\" y=\"34.675781\"/>\n",
       "  <use xlink:href=\"#glyph0-2\" x=\"214.388281\" y=\"34.675781\"/>\n",
       "  <use xlink:href=\"#glyph0-3\" x=\"222.396875\" y=\"34.675781\"/>\n",
       "  <use xlink:href=\"#glyph0-4\" x=\"227.192187\" y=\"34.675781\"/>\n",
       "  <use xlink:href=\"#glyph0-5\" x=\"235.988281\" y=\"34.675781\"/>\n",
       "  <use xlink:href=\"#glyph0-6\" x=\"244.784375\" y=\"34.675781\"/>\n",
       "  <use xlink:href=\"#glyph0-7\" x=\"250.388281\" y=\"34.675781\"/>\n",
       "  <use xlink:href=\"#glyph0-8\" x=\"258.396875\" y=\"34.675781\"/>\n",
       "  <use xlink:href=\"#glyph0-9\" x=\"271.200781\" y=\"34.675781\"/>\n",
       "  <use xlink:href=\"#glyph0-4\" x=\"275.201562\" y=\"34.675781\"/>\n",
       "  <use xlink:href=\"#glyph0-10\" x=\"283.997656\" y=\"34.675781\"/>\n",
       "  <use xlink:href=\"#glyph0-9\" x=\"288.792969\" y=\"34.675781\"/>\n",
       "  <use xlink:href=\"#glyph0-11\" x=\"292.79375\" y=\"34.675781\"/>\n",
       "  <use xlink:href=\"#glyph0-12\" x=\"303.994531\" y=\"34.675781\"/>\n",
       "  <use xlink:href=\"#glyph0-13\" x=\"312.003125\" y=\"34.675781\"/>\n",
       "  <use xlink:href=\"#glyph0-1\" x=\"320.799219\" y=\"34.675781\"/>\n",
       "  <use xlink:href=\"#glyph0-14\" x=\"324.8\" y=\"34.675781\"/>\n",
       "</g>\n",
       "<g style=\"fill:rgb(0%,0%,0%);fill-opacity:1;\">\n",
       "  <use xlink:href=\"#glyph1-0\" x=\"251.394531\" y=\"485.28125\"/>\n",
       "  <use xlink:href=\"#glyph1-1\" x=\"260.060547\" y=\"485.28125\"/>\n",
       "  <use xlink:href=\"#glyph1-2\" x=\"266.060547\" y=\"485.28125\"/>\n",
       "  <use xlink:href=\"#glyph1-3\" x=\"272.734375\" y=\"485.28125\"/>\n",
       "  <use xlink:href=\"#glyph1-4\" x=\"275.400391\" y=\"485.28125\"/>\n",
       "</g>\n",
       "<g style=\"fill:rgb(0%,0%,0%);fill-opacity:1;\">\n",
       "  <use xlink:href=\"#glyph2-0\" x=\"12.960938\" y=\"273.148438\"/>\n",
       "  <use xlink:href=\"#glyph2-1\" x=\"12.960938\" y=\"265.818359\"/>\n",
       "  <use xlink:href=\"#glyph2-2\" x=\"12.960938\" y=\"261.822266\"/>\n",
       "  <use xlink:href=\"#glyph2-3\" x=\"12.960938\" y=\"255.148438\"/>\n",
       "  <use xlink:href=\"#glyph2-4\" x=\"12.960938\" y=\"248.474609\"/>\n",
       "  <use xlink:href=\"#glyph2-2\" x=\"12.960938\" y=\"241.800781\"/>\n",
       "  <use xlink:href=\"#glyph2-5\" x=\"12.960938\" y=\"235.126953\"/>\n",
       "  <use xlink:href=\"#glyph2-6\" x=\"12.960938\" y=\"228.453125\"/>\n",
       "  <use xlink:href=\"#glyph2-7\" x=\"12.960938\" y=\"222.453125\"/>\n",
       "</g>\n",
       "<path style=\"fill:none;stroke-width:0.75;stroke-linecap:round;stroke-linejoin:round;stroke:rgb(0%,0%,0%);stroke-opacity:1;stroke-miterlimit:10;\" d=\"M 74.398438 430.558594 L 394.398438 430.558594 \"/>\n",
       "<path style=\"fill:none;stroke-width:0.75;stroke-linecap:round;stroke-linejoin:round;stroke:rgb(0%,0%,0%);stroke-opacity:1;stroke-miterlimit:10;\" d=\"M 74.398438 430.558594 L 74.398438 437.761719 \"/>\n",
       "<path style=\"fill:none;stroke-width:0.75;stroke-linecap:round;stroke-linejoin:round;stroke:rgb(0%,0%,0%);stroke-opacity:1;stroke-miterlimit:10;\" d=\"M 154.398438 430.558594 L 154.398438 437.761719 \"/>\n",
       "<path style=\"fill:none;stroke-width:0.75;stroke-linecap:round;stroke-linejoin:round;stroke:rgb(0%,0%,0%);stroke-opacity:1;stroke-miterlimit:10;\" d=\"M 234.398438 430.558594 L 234.398438 437.761719 \"/>\n",
       "<path style=\"fill:none;stroke-width:0.75;stroke-linecap:round;stroke-linejoin:round;stroke:rgb(0%,0%,0%);stroke-opacity:1;stroke-miterlimit:10;\" d=\"M 314.398438 430.558594 L 314.398438 437.761719 \"/>\n",
       "<path style=\"fill:none;stroke-width:0.75;stroke-linecap:round;stroke-linejoin:round;stroke:rgb(0%,0%,0%);stroke-opacity:1;stroke-miterlimit:10;\" d=\"M 394.398438 430.558594 L 394.398438 437.761719 \"/>\n",
       "<g style=\"fill:rgb(0%,0%,0%);fill-opacity:1;\">\n",
       "  <use xlink:href=\"#glyph1-5\" x=\"62.71875\" y=\"456.480469\"/>\n",
       "  <use xlink:href=\"#glyph1-6\" x=\"69.392578\" y=\"456.480469\"/>\n",
       "  <use xlink:href=\"#glyph1-5\" x=\"72.726563\" y=\"456.480469\"/>\n",
       "  <use xlink:href=\"#glyph1-5\" x=\"79.400391\" y=\"456.480469\"/>\n",
       "</g>\n",
       "<g style=\"fill:rgb(0%,0%,0%);fill-opacity:1;\">\n",
       "  <use xlink:href=\"#glyph1-5\" x=\"142.71875\" y=\"456.480469\"/>\n",
       "  <use xlink:href=\"#glyph1-6\" x=\"149.392578\" y=\"456.480469\"/>\n",
       "  <use xlink:href=\"#glyph1-5\" x=\"152.726563\" y=\"456.480469\"/>\n",
       "  <use xlink:href=\"#glyph1-7\" x=\"159.400391\" y=\"456.480469\"/>\n",
       "</g>\n",
       "<g style=\"fill:rgb(0%,0%,0%);fill-opacity:1;\">\n",
       "  <use xlink:href=\"#glyph1-5\" x=\"222.71875\" y=\"456.480469\"/>\n",
       "  <use xlink:href=\"#glyph1-6\" x=\"229.392578\" y=\"456.480469\"/>\n",
       "  <use xlink:href=\"#glyph1-5\" x=\"232.726563\" y=\"456.480469\"/>\n",
       "  <use xlink:href=\"#glyph1-8\" x=\"239.400391\" y=\"456.480469\"/>\n",
       "</g>\n",
       "<g style=\"fill:rgb(0%,0%,0%);fill-opacity:1;\">\n",
       "  <use xlink:href=\"#glyph1-5\" x=\"302.71875\" y=\"456.480469\"/>\n",
       "  <use xlink:href=\"#glyph1-6\" x=\"309.392578\" y=\"456.480469\"/>\n",
       "  <use xlink:href=\"#glyph1-5\" x=\"312.726563\" y=\"456.480469\"/>\n",
       "  <use xlink:href=\"#glyph1-9\" x=\"319.400391\" y=\"456.480469\"/>\n",
       "</g>\n",
       "<g style=\"fill:rgb(0%,0%,0%);fill-opacity:1;\">\n",
       "  <use xlink:href=\"#glyph1-5\" x=\"382.71875\" y=\"456.480469\"/>\n",
       "  <use xlink:href=\"#glyph1-6\" x=\"389.392578\" y=\"456.480469\"/>\n",
       "  <use xlink:href=\"#glyph1-5\" x=\"392.726563\" y=\"456.480469\"/>\n",
       "  <use xlink:href=\"#glyph1-10\" x=\"399.400391\" y=\"456.480469\"/>\n",
       "</g>\n",
       "<path style=\"fill:none;stroke-width:0.75;stroke-linecap:round;stroke-linejoin:round;stroke:rgb(0%,0%,0%);stroke-opacity:1;stroke-miterlimit:10;\" d=\"M 59.039063 416.800781 L 59.039063 77.644531 \"/>\n",
       "<path style=\"fill:none;stroke-width:0.75;stroke-linecap:round;stroke-linejoin:round;stroke:rgb(0%,0%,0%);stroke-opacity:1;stroke-miterlimit:10;\" d=\"M 59.039063 416.800781 L 51.839844 416.800781 \"/>\n",
       "<path style=\"fill:none;stroke-width:0.75;stroke-linecap:round;stroke-linejoin:round;stroke:rgb(0%,0%,0%);stroke-opacity:1;stroke-miterlimit:10;\" d=\"M 59.039063 368.347656 L 51.839844 368.347656 \"/>\n",
       "<path style=\"fill:none;stroke-width:0.75;stroke-linecap:round;stroke-linejoin:round;stroke:rgb(0%,0%,0%);stroke-opacity:1;stroke-miterlimit:10;\" d=\"M 59.039063 319.898438 L 51.839844 319.898438 \"/>\n",
       "<path style=\"fill:none;stroke-width:0.75;stroke-linecap:round;stroke-linejoin:round;stroke:rgb(0%,0%,0%);stroke-opacity:1;stroke-miterlimit:10;\" d=\"M 59.039063 271.449219 L 51.839844 271.449219 \"/>\n",
       "<path style=\"fill:none;stroke-width:0.75;stroke-linecap:round;stroke-linejoin:round;stroke:rgb(0%,0%,0%);stroke-opacity:1;stroke-miterlimit:10;\" d=\"M 59.039063 222.996094 L 51.839844 222.996094 \"/>\n",
       "<path style=\"fill:none;stroke-width:0.75;stroke-linecap:round;stroke-linejoin:round;stroke:rgb(0%,0%,0%);stroke-opacity:1;stroke-miterlimit:10;\" d=\"M 59.039063 174.546875 L 51.839844 174.546875 \"/>\n",
       "<path style=\"fill:none;stroke-width:0.75;stroke-linecap:round;stroke-linejoin:round;stroke:rgb(0%,0%,0%);stroke-opacity:1;stroke-miterlimit:10;\" d=\"M 59.039063 126.097656 L 51.839844 126.097656 \"/>\n",
       "<path style=\"fill:none;stroke-width:0.75;stroke-linecap:round;stroke-linejoin:round;stroke:rgb(0%,0%,0%);stroke-opacity:1;stroke-miterlimit:10;\" d=\"M 59.039063 77.644531 L 51.839844 77.644531 \"/>\n",
       "<g style=\"fill:rgb(0%,0%,0%);fill-opacity:1;\">\n",
       "  <use xlink:href=\"#glyph2-8\" x=\"41.761719\" y=\"420.136719\"/>\n",
       "</g>\n",
       "<g style=\"fill:rgb(0%,0%,0%);fill-opacity:1;\">\n",
       "  <use xlink:href=\"#glyph2-9\" x=\"41.761719\" y=\"375.019531\"/>\n",
       "  <use xlink:href=\"#glyph2-8\" x=\"41.761719\" y=\"368.345703\"/>\n",
       "</g>\n",
       "<g style=\"fill:rgb(0%,0%,0%);fill-opacity:1;\">\n",
       "  <use xlink:href=\"#glyph2-10\" x=\"41.761719\" y=\"326.570313\"/>\n",
       "  <use xlink:href=\"#glyph2-8\" x=\"41.761719\" y=\"319.896484\"/>\n",
       "</g>\n",
       "<g style=\"fill:rgb(0%,0%,0%);fill-opacity:1;\">\n",
       "  <use xlink:href=\"#glyph2-11\" x=\"41.761719\" y=\"278.121094\"/>\n",
       "  <use xlink:href=\"#glyph2-8\" x=\"41.761719\" y=\"271.447266\"/>\n",
       "</g>\n",
       "<g style=\"fill:rgb(0%,0%,0%);fill-opacity:1;\">\n",
       "  <use xlink:href=\"#glyph2-12\" x=\"41.761719\" y=\"229.667969\"/>\n",
       "  <use xlink:href=\"#glyph2-8\" x=\"41.761719\" y=\"222.994141\"/>\n",
       "</g>\n",
       "<g style=\"fill:rgb(0%,0%,0%);fill-opacity:1;\">\n",
       "  <use xlink:href=\"#glyph2-13\" x=\"41.761719\" y=\"184.558594\"/>\n",
       "  <use xlink:href=\"#glyph2-8\" x=\"41.761719\" y=\"177.884766\"/>\n",
       "  <use xlink:href=\"#glyph2-8\" x=\"41.761719\" y=\"171.210938\"/>\n",
       "</g>\n",
       "<g style=\"fill:rgb(0%,0%,0%);fill-opacity:1;\">\n",
       "  <use xlink:href=\"#glyph2-13\" x=\"41.761719\" y=\"136.109375\"/>\n",
       "  <use xlink:href=\"#glyph2-9\" x=\"41.761719\" y=\"129.435547\"/>\n",
       "  <use xlink:href=\"#glyph2-8\" x=\"41.761719\" y=\"122.761719\"/>\n",
       "</g>\n",
       "<g style=\"fill:rgb(0%,0%,0%);fill-opacity:1;\">\n",
       "  <use xlink:href=\"#glyph2-13\" x=\"41.761719\" y=\"87.65625\"/>\n",
       "  <use xlink:href=\"#glyph2-10\" x=\"41.761719\" y=\"80.982422\"/>\n",
       "  <use xlink:href=\"#glyph2-8\" x=\"41.761719\" y=\"74.308594\"/>\n",
       "</g>\n",
       "<g clip-path=\"url(#clip1)\" clip-rule=\"nonzero\">\n",
       "<path style=\"fill-rule:nonzero;fill:rgb(52.941176%,80.784314%,92.156863%);fill-opacity:1;stroke-width:0.75;stroke-linecap:round;stroke-linejoin:round;stroke:rgb(0%,0%,0%);stroke-opacity:1;stroke-miterlimit:10;\" d=\"M 74.398438 416.800781 L 78.398438 416.800781 L 78.398438 72.800781 L 74.398438 72.800781 Z M 74.398438 416.800781 \"/>\n",
       "<path style=\"fill-rule:nonzero;fill:rgb(52.941176%,80.784314%,92.156863%);fill-opacity:1;stroke-width:0.75;stroke-linecap:round;stroke-linejoin:round;stroke:rgb(0%,0%,0%);stroke-opacity:1;stroke-miterlimit:10;\" d=\"M 78.398438 416.800781 L 82.398438 416.800781 L 82.398438 295.675781 L 78.398438 295.675781 Z M 78.398438 416.800781 \"/>\n",
       "<path style=\"fill-rule:nonzero;fill:rgb(52.941176%,80.784314%,92.156863%);fill-opacity:1;stroke-width:0.75;stroke-linecap:round;stroke-linejoin:round;stroke:rgb(0%,0%,0%);stroke-opacity:1;stroke-miterlimit:10;\" d=\"M 82.398438 416.800781 L 86.398438 416.800781 L 86.398438 324.746094 L 82.398438 324.746094 Z M 82.398438 416.800781 \"/>\n",
       "<path style=\"fill-rule:nonzero;fill:rgb(52.941176%,80.784314%,92.156863%);fill-opacity:1;stroke-width:0.75;stroke-linecap:round;stroke-linejoin:round;stroke:rgb(0%,0%,0%);stroke-opacity:1;stroke-miterlimit:10;\" d=\"M 86.398438 416.800781 L 90.398438 416.800781 L 90.398438 332.011719 L 86.398438 332.011719 Z M 86.398438 416.800781 \"/>\n",
       "<path style=\"fill-rule:nonzero;fill:rgb(52.941176%,80.784314%,92.156863%);fill-opacity:1;stroke-width:0.75;stroke-linecap:round;stroke-linejoin:round;stroke:rgb(0%,0%,0%);stroke-opacity:1;stroke-miterlimit:10;\" d=\"M 90.398438 416.800781 L 94.398438 416.800781 L 94.398438 385.308594 L 90.398438 385.308594 Z M 90.398438 416.800781 \"/>\n",
       "<path style=\"fill-rule:nonzero;fill:rgb(52.941176%,80.784314%,92.156863%);fill-opacity:1;stroke-width:0.75;stroke-linecap:round;stroke-linejoin:round;stroke:rgb(0%,0%,0%);stroke-opacity:1;stroke-miterlimit:10;\" d=\"M 94.398438 416.800781 L 98.398438 416.800781 L 98.398438 298.097656 L 94.398438 298.097656 Z M 94.398438 416.800781 \"/>\n",
       "<path style=\"fill-rule:nonzero;fill:rgb(52.941176%,80.784314%,92.156863%);fill-opacity:1;stroke-width:0.75;stroke-linecap:round;stroke-linejoin:round;stroke:rgb(0%,0%,0%);stroke-opacity:1;stroke-miterlimit:10;\" d=\"M 98.398438 416.800781 L 102.398438 416.800781 L 102.398438 302.941406 L 98.398438 302.941406 Z M 98.398438 416.800781 \"/>\n",
       "<path style=\"fill-rule:nonzero;fill:rgb(52.941176%,80.784314%,92.156863%);fill-opacity:1;stroke-width:0.75;stroke-linecap:round;stroke-linejoin:round;stroke:rgb(0%,0%,0%);stroke-opacity:1;stroke-miterlimit:10;\" d=\"M 102.398438 416.800781 L 106.398438 416.800781 L 106.398438 356.238281 L 102.398438 356.238281 Z M 102.398438 416.800781 \"/>\n",
       "<path style=\"fill-rule:nonzero;fill:rgb(52.941176%,80.784314%,92.156863%);fill-opacity:1;stroke-width:0.75;stroke-linecap:round;stroke-linejoin:round;stroke:rgb(0%,0%,0%);stroke-opacity:1;stroke-miterlimit:10;\" d=\"M 106.398438 416.800781 L 110.398438 416.800781 L 110.398438 375.617188 L 106.398438 375.617188 Z M 106.398438 416.800781 \"/>\n",
       "<path style=\"fill-rule:nonzero;fill:rgb(52.941176%,80.784314%,92.156863%);fill-opacity:1;stroke-width:0.75;stroke-linecap:round;stroke-linejoin:round;stroke:rgb(0%,0%,0%);stroke-opacity:1;stroke-miterlimit:10;\" d=\"M 110.398438 416.800781 L 114.398438 416.800781 L 114.398438 358.660156 L 110.398438 358.660156 Z M 110.398438 416.800781 \"/>\n",
       "<path style=\"fill-rule:nonzero;fill:rgb(52.941176%,80.784314%,92.156863%);fill-opacity:1;stroke-width:0.75;stroke-linecap:round;stroke-linejoin:round;stroke:rgb(0%,0%,0%);stroke-opacity:1;stroke-miterlimit:10;\" d=\"M 114.398438 416.800781 L 118.398438 416.800781 L 118.398438 346.546875 L 114.398438 346.546875 Z M 114.398438 416.800781 \"/>\n",
       "<path style=\"fill-rule:nonzero;fill:rgb(52.941176%,80.784314%,92.156863%);fill-opacity:1;stroke-width:0.75;stroke-linecap:round;stroke-linejoin:round;stroke:rgb(0%,0%,0%);stroke-opacity:1;stroke-miterlimit:10;\" d=\"M 118.398438 416.800781 L 122.398438 416.800781 L 122.398438 334.433594 L 118.398438 334.433594 Z M 118.398438 416.800781 \"/>\n",
       "<path style=\"fill-rule:nonzero;fill:rgb(52.941176%,80.784314%,92.156863%);fill-opacity:1;stroke-width:0.75;stroke-linecap:round;stroke-linejoin:round;stroke:rgb(0%,0%,0%);stroke-opacity:1;stroke-miterlimit:10;\" d=\"M 122.398438 416.800781 L 126.398438 416.800781 L 126.398438 363.503906 L 122.398438 363.503906 Z M 122.398438 416.800781 \"/>\n",
       "<path style=\"fill-rule:nonzero;fill:rgb(52.941176%,80.784314%,92.156863%);fill-opacity:1;stroke-width:0.75;stroke-linecap:round;stroke-linejoin:round;stroke:rgb(0%,0%,0%);stroke-opacity:1;stroke-miterlimit:10;\" d=\"M 126.398438 416.800781 L 130.398438 416.800781 L 130.398438 339.28125 L 126.398438 339.28125 Z M 126.398438 416.800781 \"/>\n",
       "<path style=\"fill-rule:nonzero;fill:rgb(52.941176%,80.784314%,92.156863%);fill-opacity:1;stroke-width:0.75;stroke-linecap:round;stroke-linejoin:round;stroke:rgb(0%,0%,0%);stroke-opacity:1;stroke-miterlimit:10;\" d=\"M 130.398438 416.800781 L 134.398438 416.800781 L 134.398438 358.660156 L 130.398438 358.660156 Z M 130.398438 416.800781 \"/>\n",
       "<path style=\"fill-rule:nonzero;fill:rgb(52.941176%,80.784314%,92.156863%);fill-opacity:1;stroke-width:0.75;stroke-linecap:round;stroke-linejoin:round;stroke:rgb(0%,0%,0%);stroke-opacity:1;stroke-miterlimit:10;\" d=\"M 134.398438 416.800781 L 138.398438 416.800781 L 138.398438 351.390625 L 134.398438 351.390625 Z M 134.398438 416.800781 \"/>\n",
       "<path style=\"fill-rule:nonzero;fill:rgb(52.941176%,80.784314%,92.156863%);fill-opacity:1;stroke-width:0.75;stroke-linecap:round;stroke-linejoin:round;stroke:rgb(0%,0%,0%);stroke-opacity:1;stroke-miterlimit:10;\" d=\"M 138.398438 416.800781 L 142.398438 416.800781 L 142.398438 363.503906 L 138.398438 363.503906 Z M 138.398438 416.800781 \"/>\n",
       "<path style=\"fill-rule:nonzero;fill:rgb(52.941176%,80.784314%,92.156863%);fill-opacity:1;stroke-width:0.75;stroke-linecap:round;stroke-linejoin:round;stroke:rgb(0%,0%,0%);stroke-opacity:1;stroke-miterlimit:10;\" d=\"M 142.398438 416.800781 L 146.398438 416.800781 L 146.398438 344.125 L 142.398438 344.125 Z M 142.398438 416.800781 \"/>\n",
       "<path style=\"fill-rule:nonzero;fill:rgb(52.941176%,80.784314%,92.156863%);fill-opacity:1;stroke-width:0.75;stroke-linecap:round;stroke-linejoin:round;stroke:rgb(0%,0%,0%);stroke-opacity:1;stroke-miterlimit:10;\" d=\"M 146.398438 416.800781 L 150.398438 416.800781 L 150.398438 358.660156 L 146.398438 358.660156 Z M 146.398438 416.800781 \"/>\n",
       "<path style=\"fill-rule:nonzero;fill:rgb(52.941176%,80.784314%,92.156863%);fill-opacity:1;stroke-width:0.75;stroke-linecap:round;stroke-linejoin:round;stroke:rgb(0%,0%,0%);stroke-opacity:1;stroke-miterlimit:10;\" d=\"M 150.398438 416.800781 L 154.398438 416.800781 L 154.398438 363.503906 L 150.398438 363.503906 Z M 150.398438 416.800781 \"/>\n",
       "<path style=\"fill-rule:nonzero;fill:rgb(52.941176%,80.784314%,92.156863%);fill-opacity:1;stroke-width:0.75;stroke-linecap:round;stroke-linejoin:round;stroke:rgb(0%,0%,0%);stroke-opacity:1;stroke-miterlimit:10;\" d=\"M 154.398438 416.800781 L 158.398438 416.800781 L 158.398438 378.039063 L 154.398438 378.039063 Z M 154.398438 416.800781 \"/>\n",
       "<path style=\"fill-rule:nonzero;fill:rgb(52.941176%,80.784314%,92.156863%);fill-opacity:1;stroke-width:0.75;stroke-linecap:round;stroke-linejoin:round;stroke:rgb(0%,0%,0%);stroke-opacity:1;stroke-miterlimit:10;\" d=\"M 158.398438 416.800781 L 162.398438 416.800781 L 162.398438 392.574219 L 158.398438 392.574219 Z M 158.398438 416.800781 \"/>\n",
       "<path style=\"fill-rule:nonzero;fill:rgb(52.941176%,80.784314%,92.156863%);fill-opacity:1;stroke-width:0.75;stroke-linecap:round;stroke-linejoin:round;stroke:rgb(0%,0%,0%);stroke-opacity:1;stroke-miterlimit:10;\" d=\"M 162.398438 416.800781 L 166.398438 416.800781 L 166.398438 382.886719 L 162.398438 382.886719 Z M 162.398438 416.800781 \"/>\n",
       "<path style=\"fill-rule:nonzero;fill:rgb(52.941176%,80.784314%,92.156863%);fill-opacity:1;stroke-width:0.75;stroke-linecap:round;stroke-linejoin:round;stroke:rgb(0%,0%,0%);stroke-opacity:1;stroke-miterlimit:10;\" d=\"M 166.398438 416.800781 L 170.398438 416.800781 L 170.398438 370.773438 L 166.398438 370.773438 Z M 166.398438 416.800781 \"/>\n",
       "<path style=\"fill-rule:nonzero;fill:rgb(52.941176%,80.784314%,92.156863%);fill-opacity:1;stroke-width:0.75;stroke-linecap:round;stroke-linejoin:round;stroke:rgb(0%,0%,0%);stroke-opacity:1;stroke-miterlimit:10;\" d=\"M 170.398438 416.800781 L 174.398438 416.800781 L 174.398438 392.574219 L 170.398438 392.574219 Z M 170.398438 416.800781 \"/>\n",
       "<path style=\"fill-rule:nonzero;fill:rgb(52.941176%,80.784314%,92.156863%);fill-opacity:1;stroke-width:0.75;stroke-linecap:round;stroke-linejoin:round;stroke:rgb(0%,0%,0%);stroke-opacity:1;stroke-miterlimit:10;\" d=\"M 174.398438 416.800781 L 178.398438 416.800781 L 178.398438 387.730469 L 174.398438 387.730469 Z M 174.398438 416.800781 \"/>\n",
       "<path style=\"fill-rule:nonzero;fill:rgb(52.941176%,80.784314%,92.156863%);fill-opacity:1;stroke-width:0.75;stroke-linecap:round;stroke-linejoin:round;stroke:rgb(0%,0%,0%);stroke-opacity:1;stroke-miterlimit:10;\" d=\"M 178.398438 416.800781 L 182.398438 416.800781 L 182.398438 390.152344 L 178.398438 390.152344 Z M 178.398438 416.800781 \"/>\n",
       "<path style=\"fill-rule:nonzero;fill:rgb(52.941176%,80.784314%,92.156863%);fill-opacity:1;stroke-width:0.75;stroke-linecap:round;stroke-linejoin:round;stroke:rgb(0%,0%,0%);stroke-opacity:1;stroke-miterlimit:10;\" d=\"M 182.398438 416.800781 L 186.398438 416.800781 L 186.398438 392.574219 L 182.398438 392.574219 Z M 182.398438 416.800781 \"/>\n",
       "<path style=\"fill-rule:nonzero;fill:rgb(52.941176%,80.784314%,92.156863%);fill-opacity:1;stroke-width:0.75;stroke-linecap:round;stroke-linejoin:round;stroke:rgb(0%,0%,0%);stroke-opacity:1;stroke-miterlimit:10;\" d=\"M 186.398438 416.800781 L 190.398438 416.800781 L 190.398438 373.195313 L 186.398438 373.195313 Z M 186.398438 416.800781 \"/>\n",
       "<path style=\"fill-rule:nonzero;fill:rgb(52.941176%,80.784314%,92.156863%);fill-opacity:1;stroke-width:0.75;stroke-linecap:round;stroke-linejoin:round;stroke:rgb(0%,0%,0%);stroke-opacity:1;stroke-miterlimit:10;\" d=\"M 190.398438 416.800781 L 194.398438 416.800781 L 194.398438 394.996094 L 190.398438 394.996094 Z M 190.398438 416.800781 \"/>\n",
       "<path style=\"fill-rule:nonzero;fill:rgb(52.941176%,80.784314%,92.156863%);fill-opacity:1;stroke-width:0.75;stroke-linecap:round;stroke-linejoin:round;stroke:rgb(0%,0%,0%);stroke-opacity:1;stroke-miterlimit:10;\" d=\"M 194.398438 416.800781 L 198.398438 416.800781 L 198.398438 392.574219 L 194.398438 392.574219 Z M 194.398438 416.800781 \"/>\n",
       "<path style=\"fill-rule:nonzero;fill:rgb(52.941176%,80.784314%,92.156863%);fill-opacity:1;stroke-width:0.75;stroke-linecap:round;stroke-linejoin:round;stroke:rgb(0%,0%,0%);stroke-opacity:1;stroke-miterlimit:10;\" d=\"M 198.398438 416.800781 L 202.398438 416.800781 L 202.398438 404.6875 L 198.398438 404.6875 Z M 198.398438 416.800781 \"/>\n",
       "<path style=\"fill-rule:nonzero;fill:rgb(52.941176%,80.784314%,92.156863%);fill-opacity:1;stroke-width:0.75;stroke-linecap:round;stroke-linejoin:round;stroke:rgb(0%,0%,0%);stroke-opacity:1;stroke-miterlimit:10;\" d=\"M 202.398438 416.800781 L 206.398438 416.800781 L 206.398438 399.84375 L 202.398438 399.84375 Z M 202.398438 416.800781 \"/>\n",
       "<path style=\"fill-rule:nonzero;fill:rgb(52.941176%,80.784314%,92.156863%);fill-opacity:1;stroke-width:0.75;stroke-linecap:round;stroke-linejoin:round;stroke:rgb(0%,0%,0%);stroke-opacity:1;stroke-miterlimit:10;\" d=\"M 206.398438 416.800781 L 210.398438 416.800781 L 210.398438 385.308594 L 206.398438 385.308594 Z M 206.398438 416.800781 \"/>\n",
       "<path style=\"fill-rule:nonzero;fill:rgb(52.941176%,80.784314%,92.156863%);fill-opacity:1;stroke-width:0.75;stroke-linecap:round;stroke-linejoin:round;stroke:rgb(0%,0%,0%);stroke-opacity:1;stroke-miterlimit:10;\" d=\"M 210.398438 416.800781 L 214.398438 416.800781 L 214.398438 407.109375 L 210.398438 407.109375 Z M 210.398438 416.800781 \"/>\n",
       "<path style=\"fill-rule:nonzero;fill:rgb(52.941176%,80.784314%,92.156863%);fill-opacity:1;stroke-width:0.75;stroke-linecap:round;stroke-linejoin:round;stroke:rgb(0%,0%,0%);stroke-opacity:1;stroke-miterlimit:10;\" d=\"M 214.398438 416.800781 L 218.398438 416.800781 L 218.398438 394.996094 L 214.398438 394.996094 Z M 214.398438 416.800781 \"/>\n",
       "<path style=\"fill-rule:nonzero;fill:rgb(52.941176%,80.784314%,92.156863%);fill-opacity:1;stroke-width:0.75;stroke-linecap:round;stroke-linejoin:round;stroke:rgb(0%,0%,0%);stroke-opacity:1;stroke-miterlimit:10;\" d=\"M 218.398438 416.800781 L 222.398438 416.800781 L 222.398438 407.109375 L 218.398438 407.109375 Z M 218.398438 416.800781 \"/>\n",
       "<path style=\"fill-rule:nonzero;fill:rgb(52.941176%,80.784314%,92.156863%);fill-opacity:1;stroke-width:0.75;stroke-linecap:round;stroke-linejoin:round;stroke:rgb(0%,0%,0%);stroke-opacity:1;stroke-miterlimit:10;\" d=\"M 222.398438 416.800781 L 226.398438 416.800781 L 226.398438 402.265625 L 222.398438 402.265625 Z M 222.398438 416.800781 \"/>\n",
       "<path style=\"fill-rule:nonzero;fill:rgb(52.941176%,80.784314%,92.156863%);fill-opacity:1;stroke-width:0.75;stroke-linecap:round;stroke-linejoin:round;stroke:rgb(0%,0%,0%);stroke-opacity:1;stroke-miterlimit:10;\" d=\"M 226.398438 416.800781 L 230.398438 416.800781 L 230.398438 390.152344 L 226.398438 390.152344 Z M 226.398438 416.800781 \"/>\n",
       "<path style=\"fill-rule:nonzero;fill:rgb(52.941176%,80.784314%,92.156863%);fill-opacity:1;stroke-width:0.75;stroke-linecap:round;stroke-linejoin:round;stroke:rgb(0%,0%,0%);stroke-opacity:1;stroke-miterlimit:10;\" d=\"M 230.398438 416.800781 L 234.398438 416.800781 L 234.398438 402.265625 L 230.398438 402.265625 Z M 230.398438 416.800781 \"/>\n",
       "<path style=\"fill-rule:nonzero;fill:rgb(52.941176%,80.784314%,92.156863%);fill-opacity:1;stroke-width:0.75;stroke-linecap:round;stroke-linejoin:round;stroke:rgb(0%,0%,0%);stroke-opacity:1;stroke-miterlimit:10;\" d=\"M 234.398438 416.800781 L 238.398438 416.800781 L 238.398438 407.109375 L 234.398438 407.109375 Z M 234.398438 416.800781 \"/>\n",
       "<path style=\"fill-rule:nonzero;fill:rgb(52.941176%,80.784314%,92.156863%);fill-opacity:1;stroke-width:0.75;stroke-linecap:round;stroke-linejoin:round;stroke:rgb(0%,0%,0%);stroke-opacity:1;stroke-miterlimit:10;\" d=\"M 238.398438 416.800781 L 242.398438 416.800781 L 242.398438 402.265625 L 238.398438 402.265625 Z M 238.398438 416.800781 \"/>\n",
       "<path style=\"fill-rule:nonzero;fill:rgb(52.941176%,80.784314%,92.156863%);fill-opacity:1;stroke-width:0.75;stroke-linecap:round;stroke-linejoin:round;stroke:rgb(0%,0%,0%);stroke-opacity:1;stroke-miterlimit:10;\" d=\"M 242.398438 416.800781 L 246.398438 416.800781 L 246.398438 402.265625 L 242.398438 402.265625 Z M 242.398438 416.800781 \"/>\n",
       "<path style=\"fill-rule:nonzero;fill:rgb(52.941176%,80.784314%,92.156863%);fill-opacity:1;stroke-width:0.75;stroke-linecap:round;stroke-linejoin:round;stroke:rgb(0%,0%,0%);stroke-opacity:1;stroke-miterlimit:10;\" d=\"M 246.398438 416.800781 L 250.398438 416.800781 L 250.398438 404.6875 L 246.398438 404.6875 Z M 246.398438 416.800781 \"/>\n",
       "<path style=\"fill-rule:nonzero;fill:rgb(52.941176%,80.784314%,92.156863%);fill-opacity:1;stroke-width:0.75;stroke-linecap:round;stroke-linejoin:round;stroke:rgb(0%,0%,0%);stroke-opacity:1;stroke-miterlimit:10;\" d=\"M 250.398438 416.800781 L 254.398438 416.800781 L 254.398438 404.6875 L 250.398438 404.6875 Z M 250.398438 416.800781 \"/>\n",
       "<path style=\"fill-rule:nonzero;fill:rgb(52.941176%,80.784314%,92.156863%);fill-opacity:1;stroke-width:0.75;stroke-linecap:round;stroke-linejoin:round;stroke:rgb(0%,0%,0%);stroke-opacity:1;stroke-miterlimit:10;\" d=\"M 254.398438 416.800781 L 258.398438 416.800781 L 258.398438 404.6875 L 254.398438 404.6875 Z M 254.398438 416.800781 \"/>\n",
       "<path style=\"fill-rule:nonzero;fill:rgb(52.941176%,80.784314%,92.156863%);fill-opacity:1;stroke-width:0.75;stroke-linecap:round;stroke-linejoin:round;stroke:rgb(0%,0%,0%);stroke-opacity:1;stroke-miterlimit:10;\" d=\"M 258.398438 416.800781 L 262.398438 416.800781 L 262.398438 409.53125 L 258.398438 409.53125 Z M 258.398438 416.800781 \"/>\n",
       "<path style=\"fill-rule:nonzero;fill:rgb(52.941176%,80.784314%,92.156863%);fill-opacity:1;stroke-width:0.75;stroke-linecap:round;stroke-linejoin:round;stroke:rgb(0%,0%,0%);stroke-opacity:1;stroke-miterlimit:10;\" d=\"M 262.398438 416.800781 L 266.398438 416.800781 L 266.398438 402.265625 L 262.398438 402.265625 Z M 262.398438 416.800781 \"/>\n",
       "<path style=\"fill-rule:nonzero;fill:rgb(52.941176%,80.784314%,92.156863%);fill-opacity:1;stroke-width:0.75;stroke-linecap:round;stroke-linejoin:round;stroke:rgb(0%,0%,0%);stroke-opacity:1;stroke-miterlimit:10;\" d=\"M 266.398438 416.800781 L 270.398438 416.800781 L 270.398438 407.109375 L 266.398438 407.109375 Z M 266.398438 416.800781 \"/>\n",
       "<path style=\"fill-rule:nonzero;fill:rgb(52.941176%,80.784314%,92.156863%);fill-opacity:1;stroke-width:0.75;stroke-linecap:round;stroke-linejoin:round;stroke:rgb(0%,0%,0%);stroke-opacity:1;stroke-miterlimit:10;\" d=\"M 270.398438 416.800781 L 274.398438 416.800781 L 274.398438 409.53125 L 270.398438 409.53125 Z M 270.398438 416.800781 \"/>\n",
       "<path style=\"fill-rule:nonzero;fill:rgb(52.941176%,80.784314%,92.156863%);fill-opacity:1;stroke-width:0.75;stroke-linecap:round;stroke-linejoin:round;stroke:rgb(0%,0%,0%);stroke-opacity:1;stroke-miterlimit:10;\" d=\"M 274.398438 416.800781 L 278.398438 416.800781 L 278.398438 399.84375 L 274.398438 399.84375 Z M 274.398438 416.800781 \"/>\n",
       "<path style=\"fill-rule:nonzero;fill:rgb(52.941176%,80.784314%,92.156863%);fill-opacity:1;stroke-width:0.75;stroke-linecap:round;stroke-linejoin:round;stroke:rgb(0%,0%,0%);stroke-opacity:1;stroke-miterlimit:10;\" d=\"M 278.398438 416.800781 L 282.398438 416.800781 L 282.398438 407.109375 L 278.398438 407.109375 Z M 278.398438 416.800781 \"/>\n",
       "<path style=\"fill-rule:nonzero;fill:rgb(52.941176%,80.784314%,92.156863%);fill-opacity:1;stroke-width:0.75;stroke-linecap:round;stroke-linejoin:round;stroke:rgb(0%,0%,0%);stroke-opacity:1;stroke-miterlimit:10;\" d=\"M 282.398438 416.800781 L 286.398438 416.800781 L 286.398438 414.378906 L 282.398438 414.378906 Z M 282.398438 416.800781 \"/>\n",
       "<path style=\"fill-rule:nonzero;fill:rgb(52.941176%,80.784314%,92.156863%);fill-opacity:1;stroke-width:0.75;stroke-linecap:round;stroke-linejoin:round;stroke:rgb(0%,0%,0%);stroke-opacity:1;stroke-miterlimit:10;\" d=\"M 286.398438 416.800781 L 290.398438 416.800781 L 290.398438 414.378906 L 286.398438 414.378906 Z M 286.398438 416.800781 \"/>\n",
       "<path style=\"fill-rule:nonzero;fill:rgb(52.941176%,80.784314%,92.156863%);fill-opacity:1;stroke-width:0.75;stroke-linecap:round;stroke-linejoin:round;stroke:rgb(0%,0%,0%);stroke-opacity:1;stroke-miterlimit:10;\" d=\"M 290.398438 416.800781 L 294.398438 416.800781 L 294.398438 411.957031 L 290.398438 411.957031 Z M 290.398438 416.800781 \"/>\n",
       "<path style=\"fill-rule:nonzero;fill:rgb(52.941176%,80.784314%,92.156863%);fill-opacity:1;stroke-width:0.75;stroke-linecap:round;stroke-linejoin:round;stroke:rgb(0%,0%,0%);stroke-opacity:1;stroke-miterlimit:10;\" d=\"M 294.398438 416.800781 L 298.398438 416.800781 L 298.398438 409.53125 L 294.398438 409.53125 Z M 294.398438 416.800781 \"/>\n",
       "<path style=\"fill-rule:nonzero;fill:rgb(52.941176%,80.784314%,92.156863%);fill-opacity:1;stroke-width:0.75;stroke-linecap:round;stroke-linejoin:round;stroke:rgb(0%,0%,0%);stroke-opacity:1;stroke-miterlimit:10;\" d=\"M 298.398438 416.800781 L 302.398438 416.800781 L 302.398438 411.957031 L 298.398438 411.957031 Z M 298.398438 416.800781 \"/>\n",
       "<path style=\"fill-rule:nonzero;fill:rgb(52.941176%,80.784314%,92.156863%);fill-opacity:1;stroke-width:0.75;stroke-linecap:round;stroke-linejoin:round;stroke:rgb(0%,0%,0%);stroke-opacity:1;stroke-miterlimit:10;\" d=\"M 302.398438 416.800781 L 306.398438 416.800781 L 306.398438 414.378906 L 302.398438 414.378906 Z M 302.398438 416.800781 \"/>\n",
       "<path style=\"fill-rule:nonzero;fill:rgb(52.941176%,80.784314%,92.156863%);fill-opacity:1;stroke-width:0.75;stroke-linecap:round;stroke-linejoin:round;stroke:rgb(0%,0%,0%);stroke-opacity:1;stroke-miterlimit:10;\" d=\"M 306.398438 416.800781 L 310.398438 416.800781 L 310.398438 414.378906 L 306.398438 414.378906 Z M 306.398438 416.800781 \"/>\n",
       "<path style=\"fill-rule:nonzero;fill:rgb(52.941176%,80.784314%,92.156863%);fill-opacity:1;stroke-width:0.75;stroke-linecap:round;stroke-linejoin:round;stroke:rgb(0%,0%,0%);stroke-opacity:1;stroke-miterlimit:10;\" d=\"M 310.398438 416.800781 L 314.398438 416.800781 L 314.398438 414.378906 L 310.398438 414.378906 Z M 310.398438 416.800781 \"/>\n",
       "<path style=\"fill-rule:nonzero;fill:rgb(52.941176%,80.784314%,92.156863%);fill-opacity:1;stroke-width:0.75;stroke-linecap:round;stroke-linejoin:round;stroke:rgb(0%,0%,0%);stroke-opacity:1;stroke-miterlimit:10;\" d=\"M 314.398438 416.800781 L 318.398438 416.800781 Z M 314.398438 416.800781 \"/>\n",
       "<path style=\"fill-rule:nonzero;fill:rgb(52.941176%,80.784314%,92.156863%);fill-opacity:1;stroke-width:0.75;stroke-linecap:round;stroke-linejoin:round;stroke:rgb(0%,0%,0%);stroke-opacity:1;stroke-miterlimit:10;\" d=\"M 318.398438 416.800781 L 322.398438 416.800781 L 322.398438 411.957031 L 318.398438 411.957031 Z M 318.398438 416.800781 \"/>\n",
       "<path style=\"fill-rule:nonzero;fill:rgb(52.941176%,80.784314%,92.156863%);fill-opacity:1;stroke-width:0.75;stroke-linecap:round;stroke-linejoin:round;stroke:rgb(0%,0%,0%);stroke-opacity:1;stroke-miterlimit:10;\" d=\"M 322.398438 416.800781 L 326.398438 416.800781 L 326.398438 409.53125 L 322.398438 409.53125 Z M 322.398438 416.800781 \"/>\n",
       "<path style=\"fill-rule:nonzero;fill:rgb(52.941176%,80.784314%,92.156863%);fill-opacity:1;stroke-width:0.75;stroke-linecap:round;stroke-linejoin:round;stroke:rgb(0%,0%,0%);stroke-opacity:1;stroke-miterlimit:10;\" d=\"M 326.398438 416.800781 L 330.398438 416.800781 L 330.398438 411.957031 L 326.398438 411.957031 Z M 326.398438 416.800781 \"/>\n",
       "<path style=\"fill-rule:nonzero;fill:rgb(52.941176%,80.784314%,92.156863%);fill-opacity:1;stroke-width:0.75;stroke-linecap:round;stroke-linejoin:round;stroke:rgb(0%,0%,0%);stroke-opacity:1;stroke-miterlimit:10;\" d=\"M 330.398438 416.800781 L 334.398438 416.800781 L 334.398438 414.378906 L 330.398438 414.378906 Z M 330.398438 416.800781 \"/>\n",
       "<path style=\"fill-rule:nonzero;fill:rgb(52.941176%,80.784314%,92.156863%);fill-opacity:1;stroke-width:0.75;stroke-linecap:round;stroke-linejoin:round;stroke:rgb(0%,0%,0%);stroke-opacity:1;stroke-miterlimit:10;\" d=\"M 334.398438 416.800781 L 338.398438 416.800781 Z M 334.398438 416.800781 \"/>\n",
       "<path style=\"fill-rule:nonzero;fill:rgb(52.941176%,80.784314%,92.156863%);fill-opacity:1;stroke-width:0.75;stroke-linecap:round;stroke-linejoin:round;stroke:rgb(0%,0%,0%);stroke-opacity:1;stroke-miterlimit:10;\" d=\"M 338.398438 416.800781 L 342.398438 416.800781 L 342.398438 414.378906 L 338.398438 414.378906 Z M 338.398438 416.800781 \"/>\n",
       "<path style=\"fill-rule:nonzero;fill:rgb(52.941176%,80.784314%,92.156863%);fill-opacity:1;stroke-width:0.75;stroke-linecap:round;stroke-linejoin:round;stroke:rgb(0%,0%,0%);stroke-opacity:1;stroke-miterlimit:10;\" d=\"M 342.398438 416.800781 L 346.398438 416.800781 L 346.398438 409.53125 L 342.398438 409.53125 Z M 342.398438 416.800781 \"/>\n",
       "<path style=\"fill-rule:nonzero;fill:rgb(52.941176%,80.784314%,92.156863%);fill-opacity:1;stroke-width:0.75;stroke-linecap:round;stroke-linejoin:round;stroke:rgb(0%,0%,0%);stroke-opacity:1;stroke-miterlimit:10;\" d=\"M 346.398438 416.800781 L 350.398438 416.800781 L 350.398438 409.53125 L 346.398438 409.53125 Z M 346.398438 416.800781 \"/>\n",
       "<path style=\"fill-rule:nonzero;fill:rgb(52.941176%,80.784314%,92.156863%);fill-opacity:1;stroke-width:0.75;stroke-linecap:round;stroke-linejoin:round;stroke:rgb(0%,0%,0%);stroke-opacity:1;stroke-miterlimit:10;\" d=\"M 350.398438 416.800781 L 354.398438 416.800781 L 354.398438 414.378906 L 350.398438 414.378906 Z M 350.398438 416.800781 \"/>\n",
       "<path style=\"fill-rule:nonzero;fill:rgb(52.941176%,80.784314%,92.156863%);fill-opacity:1;stroke-width:0.75;stroke-linecap:round;stroke-linejoin:round;stroke:rgb(0%,0%,0%);stroke-opacity:1;stroke-miterlimit:10;\" d=\"M 354.398438 416.800781 L 358.398438 416.800781 Z M 354.398438 416.800781 \"/>\n",
       "<path style=\"fill-rule:nonzero;fill:rgb(52.941176%,80.784314%,92.156863%);fill-opacity:1;stroke-width:0.75;stroke-linecap:round;stroke-linejoin:round;stroke:rgb(0%,0%,0%);stroke-opacity:1;stroke-miterlimit:10;\" d=\"M 358.398438 416.800781 L 362.398438 416.800781 Z M 358.398438 416.800781 \"/>\n",
       "<path style=\"fill-rule:nonzero;fill:rgb(52.941176%,80.784314%,92.156863%);fill-opacity:1;stroke-width:0.75;stroke-linecap:round;stroke-linejoin:round;stroke:rgb(0%,0%,0%);stroke-opacity:1;stroke-miterlimit:10;\" d=\"M 362.398438 416.800781 L 366.398438 416.800781 Z M 362.398438 416.800781 \"/>\n",
       "<path style=\"fill-rule:nonzero;fill:rgb(52.941176%,80.784314%,92.156863%);fill-opacity:1;stroke-width:0.75;stroke-linecap:round;stroke-linejoin:round;stroke:rgb(0%,0%,0%);stroke-opacity:1;stroke-miterlimit:10;\" d=\"M 366.398438 416.800781 L 370.398438 416.800781 Z M 366.398438 416.800781 \"/>\n",
       "<path style=\"fill-rule:nonzero;fill:rgb(52.941176%,80.784314%,92.156863%);fill-opacity:1;stroke-width:0.75;stroke-linecap:round;stroke-linejoin:round;stroke:rgb(0%,0%,0%);stroke-opacity:1;stroke-miterlimit:10;\" d=\"M 370.398438 416.800781 L 374.398438 416.800781 Z M 370.398438 416.800781 \"/>\n",
       "<path style=\"fill-rule:nonzero;fill:rgb(52.941176%,80.784314%,92.156863%);fill-opacity:1;stroke-width:0.75;stroke-linecap:round;stroke-linejoin:round;stroke:rgb(0%,0%,0%);stroke-opacity:1;stroke-miterlimit:10;\" d=\"M 374.398438 416.800781 L 378.398438 416.800781 Z M 374.398438 416.800781 \"/>\n",
       "<path style=\"fill-rule:nonzero;fill:rgb(52.941176%,80.784314%,92.156863%);fill-opacity:1;stroke-width:0.75;stroke-linecap:round;stroke-linejoin:round;stroke:rgb(0%,0%,0%);stroke-opacity:1;stroke-miterlimit:10;\" d=\"M 378.398438 416.800781 L 382.398438 416.800781 L 382.398438 414.378906 L 378.398438 414.378906 Z M 378.398438 416.800781 \"/>\n",
       "<path style=\"fill-rule:nonzero;fill:rgb(52.941176%,80.784314%,92.156863%);fill-opacity:1;stroke-width:0.75;stroke-linecap:round;stroke-linejoin:round;stroke:rgb(0%,0%,0%);stroke-opacity:1;stroke-miterlimit:10;\" d=\"M 382.398438 416.800781 L 386.398438 416.800781 Z M 382.398438 416.800781 \"/>\n",
       "<path style=\"fill-rule:nonzero;fill:rgb(52.941176%,80.784314%,92.156863%);fill-opacity:1;stroke-width:0.75;stroke-linecap:round;stroke-linejoin:round;stroke:rgb(0%,0%,0%);stroke-opacity:1;stroke-miterlimit:10;\" d=\"M 386.398438 416.800781 L 390.398438 416.800781 Z M 386.398438 416.800781 \"/>\n",
       "<path style=\"fill-rule:nonzero;fill:rgb(52.941176%,80.784314%,92.156863%);fill-opacity:1;stroke-width:0.75;stroke-linecap:round;stroke-linejoin:round;stroke:rgb(0%,0%,0%);stroke-opacity:1;stroke-miterlimit:10;\" d=\"M 390.398438 416.800781 L 394.398438 416.800781 Z M 390.398438 416.800781 \"/>\n",
       "<path style=\"fill-rule:nonzero;fill:rgb(52.941176%,80.784314%,92.156863%);fill-opacity:1;stroke-width:0.75;stroke-linecap:round;stroke-linejoin:round;stroke:rgb(0%,0%,0%);stroke-opacity:1;stroke-miterlimit:10;\" d=\"M 394.398438 416.800781 L 398.398438 416.800781 L 398.398438 411.957031 L 394.398438 411.957031 Z M 394.398438 416.800781 \"/>\n",
       "<path style=\"fill-rule:nonzero;fill:rgb(52.941176%,80.784314%,92.156863%);fill-opacity:1;stroke-width:0.75;stroke-linecap:round;stroke-linejoin:round;stroke:rgb(0%,0%,0%);stroke-opacity:1;stroke-miterlimit:10;\" d=\"M 398.398438 416.800781 L 402.398438 416.800781 Z M 398.398438 416.800781 \"/>\n",
       "<path style=\"fill-rule:nonzero;fill:rgb(52.941176%,80.784314%,92.156863%);fill-opacity:1;stroke-width:0.75;stroke-linecap:round;stroke-linejoin:round;stroke:rgb(0%,0%,0%);stroke-opacity:1;stroke-miterlimit:10;\" d=\"M 402.398438 416.800781 L 406.398438 416.800781 Z M 402.398438 416.800781 \"/>\n",
       "<path style=\"fill-rule:nonzero;fill:rgb(52.941176%,80.784314%,92.156863%);fill-opacity:1;stroke-width:0.75;stroke-linecap:round;stroke-linejoin:round;stroke:rgb(0%,0%,0%);stroke-opacity:1;stroke-miterlimit:10;\" d=\"M 406.398438 416.800781 L 410.398438 416.800781 Z M 406.398438 416.800781 \"/>\n",
       "<path style=\"fill-rule:nonzero;fill:rgb(52.941176%,80.784314%,92.156863%);fill-opacity:1;stroke-width:0.75;stroke-linecap:round;stroke-linejoin:round;stroke:rgb(0%,0%,0%);stroke-opacity:1;stroke-miterlimit:10;\" d=\"M 410.398438 416.800781 L 414.398438 416.800781 Z M 410.398438 416.800781 \"/>\n",
       "<path style=\"fill-rule:nonzero;fill:rgb(52.941176%,80.784314%,92.156863%);fill-opacity:1;stroke-width:0.75;stroke-linecap:round;stroke-linejoin:round;stroke:rgb(0%,0%,0%);stroke-opacity:1;stroke-miterlimit:10;\" d=\"M 414.398438 416.800781 L 418.398438 416.800781 Z M 414.398438 416.800781 \"/>\n",
       "<path style=\"fill-rule:nonzero;fill:rgb(52.941176%,80.784314%,92.156863%);fill-opacity:1;stroke-width:0.75;stroke-linecap:round;stroke-linejoin:round;stroke:rgb(0%,0%,0%);stroke-opacity:1;stroke-miterlimit:10;\" d=\"M 418.398438 416.800781 L 422.398438 416.800781 Z M 418.398438 416.800781 \"/>\n",
       "<path style=\"fill-rule:nonzero;fill:rgb(52.941176%,80.784314%,92.156863%);fill-opacity:1;stroke-width:0.75;stroke-linecap:round;stroke-linejoin:round;stroke:rgb(0%,0%,0%);stroke-opacity:1;stroke-miterlimit:10;\" d=\"M 422.398438 416.800781 L 426.398438 416.800781 Z M 422.398438 416.800781 \"/>\n",
       "<path style=\"fill-rule:nonzero;fill:rgb(52.941176%,80.784314%,92.156863%);fill-opacity:1;stroke-width:0.75;stroke-linecap:round;stroke-linejoin:round;stroke:rgb(0%,0%,0%);stroke-opacity:1;stroke-miterlimit:10;\" d=\"M 426.398438 416.800781 L 430.398438 416.800781 Z M 426.398438 416.800781 \"/>\n",
       "<path style=\"fill-rule:nonzero;fill:rgb(52.941176%,80.784314%,92.156863%);fill-opacity:1;stroke-width:0.75;stroke-linecap:round;stroke-linejoin:round;stroke:rgb(0%,0%,0%);stroke-opacity:1;stroke-miterlimit:10;\" d=\"M 430.398438 416.800781 L 434.398438 416.800781 Z M 430.398438 416.800781 \"/>\n",
       "<path style=\"fill-rule:nonzero;fill:rgb(52.941176%,80.784314%,92.156863%);fill-opacity:1;stroke-width:0.75;stroke-linecap:round;stroke-linejoin:round;stroke:rgb(0%,0%,0%);stroke-opacity:1;stroke-miterlimit:10;\" d=\"M 434.398438 416.800781 L 438.398438 416.800781 Z M 434.398438 416.800781 \"/>\n",
       "<path style=\"fill-rule:nonzero;fill:rgb(52.941176%,80.784314%,92.156863%);fill-opacity:1;stroke-width:0.75;stroke-linecap:round;stroke-linejoin:round;stroke:rgb(0%,0%,0%);stroke-opacity:1;stroke-miterlimit:10;\" d=\"M 438.398438 416.800781 L 442.398438 416.800781 Z M 438.398438 416.800781 \"/>\n",
       "<path style=\"fill-rule:nonzero;fill:rgb(52.941176%,80.784314%,92.156863%);fill-opacity:1;stroke-width:0.75;stroke-linecap:round;stroke-linejoin:round;stroke:rgb(0%,0%,0%);stroke-opacity:1;stroke-miterlimit:10;\" d=\"M 442.398438 416.800781 L 446.398438 416.800781 Z M 442.398438 416.800781 \"/>\n",
       "<path style=\"fill-rule:nonzero;fill:rgb(52.941176%,80.784314%,92.156863%);fill-opacity:1;stroke-width:0.75;stroke-linecap:round;stroke-linejoin:round;stroke:rgb(0%,0%,0%);stroke-opacity:1;stroke-miterlimit:10;\" d=\"M 446.398438 416.800781 L 450.398438 416.800781 Z M 446.398438 416.800781 \"/>\n",
       "<path style=\"fill-rule:nonzero;fill:rgb(52.941176%,80.784314%,92.156863%);fill-opacity:1;stroke-width:0.75;stroke-linecap:round;stroke-linejoin:round;stroke:rgb(0%,0%,0%);stroke-opacity:1;stroke-miterlimit:10;\" d=\"M 450.398438 416.800781 L 454.398438 416.800781 Z M 450.398438 416.800781 \"/>\n",
       "<path style=\"fill-rule:nonzero;fill:rgb(52.941176%,80.784314%,92.156863%);fill-opacity:1;stroke-width:0.75;stroke-linecap:round;stroke-linejoin:round;stroke:rgb(0%,0%,0%);stroke-opacity:1;stroke-miterlimit:10;\" d=\"M 454.398438 416.800781 L 458.398438 416.800781 L 458.398438 414.378906 L 454.398438 414.378906 Z M 454.398438 416.800781 \"/>\n",
       "</g>\n",
       "</g>\n",
       "</svg>\n"
      ],
      "text/plain": [
       "Plot with title \"Histogram of wynik\""
      ]
     },
     "metadata": {
      "image/svg+xml": {
       "isolated": true
      }
     },
     "output_type": "display_data"
    }
   ],
   "source": [
    "w<-5 # wiersze\n",
    "k<-3 # kolumny\n",
    "wynik<-c()\n",
    "for (i in 1:1000) { \n",
    "    proba<-table(sample( x = 1:(w*k), size = 1000, replace = TRUE, prob =as.vector(niezaleznosc) ))\n",
    "    matryca<-rep(0,(w*k))\n",
    "    names(matryca)<-1:(w*k)\n",
    "    matryca[names(matryca)%in%names(proba)]<-proba\n",
    "    proba<-matrix(matryca, w, k)\n",
    "    wynik[i]<-OMEGA_MDA(proba/sum(proba))   \n",
    "}\n",
    "niezaleznosc_brzegowy\n",
    "hist( wynik, 100, col=\"skyblue\")\n"
   ]
  },
  {
   "cell_type": "code",
   "execution_count": 30,
   "metadata": {
    "collapsed": false
   },
   "outputs": [
    {
     "data": {
      "image/png": "[encoded data removed]",
      "image/svg+xml": [
       "<?xml version=\"1.0\" encoding=\"UTF-8\"?>\n",
       "<svg xmlns=\"http://www.w3.org/2000/svg\" xmlns:xlink=\"http://www.w3.org/1999/xlink\" width=\"504pt\" height=\"504pt\" viewBox=\"0 0 504 504\" version=\"1.1\">\n",
       "<defs>\n",
       "<g>\n",
       "<symbol overflow=\"visible\" id=\"glyph0-0\">\n",
       "<path style=\"stroke:none;\" d=\"M 1.054688 0 L 1.054688 -10.308594 L 3.136719 -10.308594 L 3.136719 -6.25 L 7.214844 -6.25 L 7.214844 -10.308594 L 9.296875 -10.308594 L 9.296875 0 L 7.214844 0 L 7.214844 -4.507813 L 3.136719 -4.507813 L 3.136719 0 Z M 1.054688 0 \"/>\n",
       "</symbol>\n",
       "<symbol overflow=\"visible\" id=\"glyph0-1\">\n",
       "<path style=\"stroke:none;\" d=\"M 1.035156 -8.480469 L 1.035156 -10.308594 L 3.007813 -10.308594 L 3.007813 -8.480469 Z M 1.035156 0 L 1.035156 -7.46875 L 3.007813 -7.46875 L 3.007813 0 Z M 1.035156 0 \"/>\n",
       "</symbol>\n",
       "<symbol overflow=\"visible\" id=\"glyph0-2\">\n",
       "<path style=\"stroke:none;\" d=\"M 0.335938 -2.128906 L 2.320313 -2.433594 C 2.402344 -2.042969 2.570313 -1.75 2.832031 -1.554688 C 3.085938 -1.351563 3.449219 -1.253906 3.917969 -1.257813 C 4.425781 -1.253906 4.808594 -1.347656 5.070313 -1.539063 C 5.238281 -1.667969 5.324219 -1.84375 5.328125 -2.066406 C 5.324219 -2.214844 5.277344 -2.339844 5.1875 -2.441406 C 5.085938 -2.53125 4.867188 -2.617188 4.527344 -2.699219 C 2.929688 -3.046875 1.917969 -3.367188 1.496094 -3.664063 C 0.902344 -4.0625 0.609375 -4.625 0.613281 -5.34375 C 0.609375 -5.988281 0.863281 -6.53125 1.378906 -6.972656 C 1.886719 -7.414063 2.679688 -7.632813 3.753906 -7.636719 C 4.773438 -7.632813 5.53125 -7.46875 6.03125 -7.136719 C 6.523438 -6.800781 6.867188 -6.308594 7.058594 -5.660156 L 5.195313 -5.316406 C 5.113281 -5.601563 4.960938 -5.824219 4.742188 -5.980469 C 4.515625 -6.132813 4.199219 -6.210938 3.789063 -6.214844 C 3.265625 -6.210938 2.894531 -6.136719 2.671875 -5.996094 C 2.519531 -5.890625 2.441406 -5.757813 2.445313 -5.597656 C 2.441406 -5.453125 2.507813 -5.335938 2.644531 -5.238281 C 2.816406 -5.105469 3.433594 -4.917969 4.488281 -4.683594 C 5.539063 -4.441406 6.273438 -4.148438 6.695313 -3.804688 C 7.105469 -3.449219 7.3125 -2.960938 7.3125 -2.335938 C 7.3125 -1.648438 7.023438 -1.058594 6.453125 -0.570313 C 5.878906 -0.078125 5.035156 0.164063 3.917969 0.167969 C 2.898438 0.164063 2.09375 -0.0390625 1.5 -0.449219 C 0.90625 -0.859375 0.515625 -1.417969 0.335938 -2.128906 Z M 0.335938 -2.128906 \"/>\n",
       "</symbol>\n",
       "<symbol overflow=\"visible\" id=\"glyph0-3\">\n",
       "<path style=\"stroke:none;\" d=\"M 4.457031 -7.46875 L 4.457031 -5.890625 L 3.109375 -5.890625 L 3.109375 -2.882813 C 3.105469 -2.273438 3.117188 -1.917969 3.144531 -1.816406 C 3.167969 -1.714844 3.226563 -1.628906 3.320313 -1.566406 C 3.410156 -1.496094 3.523438 -1.464844 3.65625 -1.46875 C 3.835938 -1.464844 4.097656 -1.527344 4.449219 -1.660156 L 4.621094 -0.125 C 4.15625 0.0703125 3.636719 0.164063 3.058594 0.167969 C 2.699219 0.164063 2.375 0.105469 2.09375 -0.0117188 C 1.804688 -0.128906 1.597656 -0.28125 1.464844 -0.472656 C 1.332031 -0.660156 1.238281 -0.917969 1.1875 -1.246094 C 1.144531 -1.472656 1.125 -1.9375 1.125 -2.636719 L 1.125 -5.890625 L 0.21875 -5.890625 L 0.21875 -7.46875 L 1.125 -7.46875 L 1.125 -8.949219 L 3.109375 -10.105469 L 3.109375 -7.46875 Z M 4.457031 -7.46875 \"/>\n",
       "</symbol>\n",
       "<symbol overflow=\"visible\" id=\"glyph0-4\">\n",
       "<path style=\"stroke:none;\" d=\"M 0.578125 -3.839844 C 0.574219 -4.492188 0.734375 -5.128906 1.0625 -5.742188 C 1.382813 -6.355469 1.839844 -6.824219 2.433594 -7.148438 C 3.023438 -7.472656 3.6875 -7.632813 4.421875 -7.636719 C 5.550781 -7.632813 6.476563 -7.265625 7.199219 -6.535156 C 7.917969 -5.796875 8.277344 -4.871094 8.28125 -3.753906 C 8.277344 -2.621094 7.914063 -1.683594 7.1875 -0.945313 C 6.457031 -0.203125 5.539063 0.164063 4.4375 0.167969 C 3.75 0.164063 3.097656 0.0117188 2.476563 -0.292969 C 1.855469 -0.601563 1.382813 -1.054688 1.0625 -1.652344 C 0.734375 -2.25 0.574219 -2.976563 0.578125 -3.839844 Z M 2.601563 -3.734375 C 2.601563 -2.988281 2.777344 -2.421875 3.128906 -2.03125 C 3.480469 -1.636719 3.914063 -1.441406 4.429688 -1.441406 C 4.945313 -1.441406 5.375 -1.636719 5.726563 -2.03125 C 6.070313 -2.421875 6.246094 -2.992188 6.25 -3.746094 C 6.246094 -4.472656 6.070313 -5.035156 5.726563 -5.433594 C 5.375 -5.824219 4.945313 -6.023438 4.429688 -6.027344 C 3.914063 -6.023438 3.480469 -5.824219 3.128906 -5.433594 C 2.777344 -5.035156 2.601563 -4.46875 2.601563 -3.734375 Z M 2.601563 -3.734375 \"/>\n",
       "</symbol>\n",
       "<symbol overflow=\"visible\" id=\"glyph0-5\">\n",
       "<path style=\"stroke:none;\" d=\"M 0.851563 0.492188 L 3.109375 0.765625 C 3.144531 1.027344 3.230469 1.207031 3.367188 1.308594 C 3.550781 1.445313 3.847656 1.515625 4.253906 1.519531 C 4.769531 1.515625 5.15625 1.4375 5.414063 1.285156 C 5.585938 1.179688 5.714844 1.015625 5.808594 0.789063 C 5.863281 0.621094 5.894531 0.320313 5.898438 -0.121094 L 5.898438 -1.210938 C 5.304688 -0.402344 4.558594 0 3.664063 0 C 2.65625 0 1.863281 -0.421875 1.28125 -1.273438 C 0.816406 -1.9375 0.585938 -2.773438 0.589844 -3.777344 C 0.585938 -5.023438 0.886719 -5.980469 1.492188 -6.644531 C 2.09375 -7.304688 2.84375 -7.632813 3.742188 -7.636719 C 4.660156 -7.632813 5.421875 -7.226563 6.027344 -6.417969 L 6.027344 -7.46875 L 7.875 -7.46875 L 7.875 -0.765625 C 7.875 0.113281 7.800781 0.769531 7.65625 1.207031 C 7.507813 1.644531 7.304688 1.984375 7.042969 2.234375 C 6.78125 2.480469 6.429688 2.675781 5.992188 2.820313 C 5.550781 2.957031 4.996094 3.027344 4.332031 3.03125 C 3.0625 3.027344 2.164063 2.8125 1.636719 2.378906 C 1.105469 1.945313 0.84375 1.394531 0.84375 0.730469 C 0.84375 0.664063 0.84375 0.585938 0.851563 0.492188 Z M 2.617188 -3.886719 C 2.613281 -3.089844 2.765625 -2.511719 3.074219 -2.148438 C 3.378906 -1.777344 3.757813 -1.59375 4.210938 -1.597656 C 4.691406 -1.59375 5.097656 -1.78125 5.433594 -2.160156 C 5.761719 -2.535156 5.929688 -3.09375 5.933594 -3.839844 C 5.929688 -4.609375 5.769531 -5.183594 5.453125 -5.5625 C 5.132813 -5.933594 4.730469 -6.121094 4.246094 -6.125 C 3.769531 -6.121094 3.378906 -5.9375 3.074219 -5.570313 C 2.765625 -5.199219 2.613281 -4.636719 2.617188 -3.886719 Z M 2.617188 -3.886719 \"/>\n",
       "</symbol>\n",
       "<symbol overflow=\"visible\" id=\"glyph0-6\">\n",
       "<path style=\"stroke:none;\" d=\"M 2.925781 0 L 0.949219 0 L 0.949219 -7.46875 L 2.785156 -7.46875 L 2.785156 -6.40625 C 3.09375 -6.902344 3.375 -7.234375 3.628906 -7.394531 C 3.878906 -7.554688 4.164063 -7.632813 4.484375 -7.636719 C 4.929688 -7.632813 5.363281 -7.507813 5.785156 -7.261719 L 5.175781 -5.539063 C 4.839844 -5.75 4.53125 -5.859375 4.246094 -5.863281 C 3.96875 -5.859375 3.734375 -5.78125 3.542969 -5.632813 C 3.347656 -5.476563 3.195313 -5.203125 3.089844 -4.808594 C 2.976563 -4.40625 2.921875 -3.570313 2.925781 -2.304688 Z M 2.925781 0 \"/>\n",
       "</symbol>\n",
       "<symbol overflow=\"visible\" id=\"glyph0-7\">\n",
       "<path style=\"stroke:none;\" d=\"M 2.511719 -5.1875 L 0.71875 -5.511719 C 0.917969 -6.230469 1.265625 -6.765625 1.757813 -7.113281 C 2.25 -7.460938 2.980469 -7.632813 3.953125 -7.636719 C 4.832031 -7.632813 5.488281 -7.53125 5.917969 -7.324219 C 6.347656 -7.113281 6.648438 -6.847656 6.828125 -6.527344 C 7 -6.207031 7.089844 -5.617188 7.09375 -4.761719 L 7.074219 -2.453125 C 7.070313 -1.792969 7.101563 -1.308594 7.167969 -1 C 7.226563 -0.6875 7.347656 -0.355469 7.523438 0 L 5.570313 0 C 5.515625 -0.128906 5.453125 -0.320313 5.378906 -0.582031 C 5.34375 -0.695313 5.320313 -0.773438 5.308594 -0.816406 C 4.96875 -0.484375 4.605469 -0.238281 4.222656 -0.078125 C 3.835938 0.0859375 3.425781 0.164063 2.996094 0.167969 C 2.222656 0.164063 1.617188 -0.0429688 1.175781 -0.457031 C 0.730469 -0.871094 0.507813 -1.398438 0.511719 -2.039063 C 0.507813 -2.460938 0.609375 -2.835938 0.8125 -3.167969 C 1.011719 -3.496094 1.292969 -3.75 1.660156 -3.925781 C 2.019531 -4.101563 2.546875 -4.253906 3.234375 -4.386719 C 4.15625 -4.558594 4.792969 -4.71875 5.152344 -4.871094 L 5.152344 -5.070313 C 5.148438 -5.445313 5.054688 -5.71875 4.871094 -5.882813 C 4.679688 -6.042969 4.328125 -6.121094 3.8125 -6.125 C 3.457031 -6.121094 3.183594 -6.054688 2.988281 -5.917969 C 2.789063 -5.777344 2.628906 -5.53125 2.511719 -5.1875 Z M 5.152344 -3.585938 C 4.894531 -3.5 4.496094 -3.398438 3.949219 -3.285156 C 3.402344 -3.164063 3.042969 -3.046875 2.875 -2.9375 C 2.613281 -2.75 2.484375 -2.519531 2.488281 -2.242188 C 2.484375 -1.964844 2.585938 -1.726563 2.796875 -1.523438 C 3 -1.320313 3.265625 -1.21875 3.585938 -1.222656 C 3.941406 -1.21875 4.28125 -1.335938 4.605469 -1.574219 C 4.84375 -1.75 5 -1.96875 5.078125 -2.230469 C 5.125 -2.394531 5.148438 -2.714844 5.152344 -3.191406 Z M 5.152344 -3.585938 \"/>\n",
       "</symbol>\n",
       "<symbol overflow=\"visible\" id=\"glyph0-8\">\n",
       "<path style=\"stroke:none;\" d=\"M 0.886719 -7.46875 L 2.707031 -7.46875 L 2.707031 -6.449219 C 3.355469 -7.238281 4.128906 -7.632813 5.035156 -7.636719 C 5.507813 -7.632813 5.921875 -7.535156 6.277344 -7.339844 C 6.625 -7.140625 6.914063 -6.84375 7.144531 -6.449219 C 7.46875 -6.84375 7.824219 -7.140625 8.203125 -7.339844 C 8.582031 -7.535156 8.988281 -7.632813 9.421875 -7.636719 C 9.96875 -7.632813 10.429688 -7.523438 10.8125 -7.300781 C 11.1875 -7.078125 11.472656 -6.75 11.664063 -6.320313 C 11.796875 -6 11.863281 -5.484375 11.867188 -4.773438 L 11.867188 0 L 9.894531 0 L 9.894531 -4.269531 C 9.890625 -5.007813 9.820313 -5.484375 9.6875 -5.703125 C 9.5 -5.980469 9.21875 -6.121094 8.84375 -6.125 C 8.5625 -6.121094 8.304688 -6.039063 8.0625 -5.871094 C 7.820313 -5.699219 7.644531 -5.449219 7.535156 -5.128906 C 7.425781 -4.800781 7.371094 -4.289063 7.375 -3.585938 L 7.375 0 L 5.398438 0 L 5.398438 -4.09375 C 5.394531 -4.816406 5.359375 -5.285156 5.292969 -5.5 C 5.21875 -5.707031 5.109375 -5.863281 4.964844 -5.96875 C 4.816406 -6.070313 4.617188 -6.121094 4.367188 -6.125 C 4.058594 -6.121094 3.785156 -6.039063 3.542969 -5.878906 C 3.296875 -5.710938 3.121094 -5.476563 3.019531 -5.167969 C 2.910156 -4.855469 2.859375 -4.339844 2.863281 -3.628906 L 2.863281 0 L 0.886719 0 Z M 0.886719 -7.46875 \"/>\n",
       "</symbol>\n",
       "<symbol overflow=\"visible\" id=\"glyph0-9\">\n",
       "<path style=\"stroke:none;\" d=\"\"/>\n",
       "</symbol>\n",
       "<symbol overflow=\"visible\" id=\"glyph0-10\">\n",
       "<path style=\"stroke:none;\" d=\"M 0.167969 -7.46875 L 1.265625 -7.46875 L 1.265625 -8.03125 C 1.265625 -8.65625 1.332031 -9.125 1.464844 -9.433594 C 1.597656 -9.742188 1.84375 -9.992188 2.203125 -10.191406 C 2.5625 -10.382813 3.015625 -10.480469 3.566406 -10.484375 C 4.125 -10.480469 4.675781 -10.398438 5.21875 -10.230469 L 4.949219 -8.851563 C 4.632813 -8.925781 4.332031 -8.964844 4.042969 -8.964844 C 3.753906 -8.964844 3.546875 -8.894531 3.425781 -8.761719 C 3.300781 -8.625 3.238281 -8.371094 3.242188 -7.996094 L 3.242188 -7.46875 L 4.71875 -7.46875 L 4.71875 -5.914063 L 3.242188 -5.914063 L 3.242188 0 L 1.265625 0 L 1.265625 -5.914063 L 0.167969 -5.914063 Z M 0.167969 -7.46875 \"/>\n",
       "</symbol>\n",
       "<symbol overflow=\"visible\" id=\"glyph0-11\">\n",
       "<path style=\"stroke:none;\" d=\"M 2.425781 0 L 0.0625 -7.46875 L 1.984375 -7.46875 L 3.382813 -2.574219 L 4.667969 -7.46875 L 6.574219 -7.46875 L 7.820313 -2.574219 L 9.246094 -7.46875 L 11.195313 -7.46875 L 8.796875 0 L 6.898438 0 L 5.609375 -4.800781 L 4.34375 0 Z M 2.425781 0 \"/>\n",
       "</symbol>\n",
       "<symbol overflow=\"visible\" id=\"glyph0-12\">\n",
       "<path style=\"stroke:none;\" d=\"M 0.0976563 -7.46875 L 2.199219 -7.46875 L 3.988281 -2.164063 L 5.730469 -7.46875 L 7.777344 -7.46875 L 5.140625 -0.28125 L 4.667969 1.019531 C 4.492188 1.453125 4.328125 1.785156 4.171875 2.015625 C 4.015625 2.246094 3.832031 2.433594 3.628906 2.578125 C 3.421875 2.71875 3.171875 2.828125 2.878906 2.910156 C 2.578125 2.988281 2.242188 3.027344 1.871094 3.03125 C 1.488281 3.027344 1.117188 2.988281 0.753906 2.910156 L 0.578125 1.363281 C 0.882813 1.421875 1.160156 1.453125 1.414063 1.457031 C 1.867188 1.453125 2.207031 1.316406 2.429688 1.050781 C 2.648438 0.777344 2.816406 0.433594 2.9375 0.0195313 Z M 0.0976563 -7.46875 \"/>\n",
       "</symbol>\n",
       "<symbol overflow=\"visible\" id=\"glyph0-13\">\n",
       "<path style=\"stroke:none;\" d=\"M 7.824219 0 L 5.851563 0 L 5.851563 -3.8125 C 5.847656 -4.613281 5.804688 -5.132813 5.722656 -5.375 C 5.636719 -5.609375 5.5 -5.792969 5.3125 -5.925781 C 5.121094 -6.054688 4.890625 -6.121094 4.625 -6.125 C 4.28125 -6.121094 3.976563 -6.027344 3.703125 -5.84375 C 3.429688 -5.652344 3.242188 -5.40625 3.144531 -5.097656 C 3.042969 -4.785156 2.992188 -4.210938 2.996094 -3.382813 L 2.996094 0 L 1.019531 0 L 1.019531 -7.46875 L 2.855469 -7.46875 L 2.855469 -6.371094 C 3.503906 -7.210938 4.324219 -7.632813 5.316406 -7.636719 C 5.746094 -7.632813 6.144531 -7.554688 6.507813 -7.398438 C 6.867188 -7.238281 7.140625 -7.039063 7.328125 -6.796875 C 7.511719 -6.554688 7.640625 -6.277344 7.714844 -5.96875 C 7.785156 -5.65625 7.820313 -5.214844 7.824219 -4.640625 Z M 7.824219 0 \"/>\n",
       "</symbol>\n",
       "<symbol overflow=\"visible\" id=\"glyph0-14\">\n",
       "<path style=\"stroke:none;\" d=\"M 0.964844 0 L 0.964844 -10.308594 L 2.9375 -10.308594 L 2.9375 -4.835938 L 5.253906 -7.46875 L 7.683594 -7.46875 L 5.132813 -4.738281 L 7.867188 0 L 5.738281 0 L 3.859375 -3.355469 L 2.9375 -2.390625 L 2.9375 0 Z M 0.964844 0 \"/>\n",
       "</symbol>\n",
       "<symbol overflow=\"visible\" id=\"glyph1-0\">\n",
       "<path style=\"stroke:none;\" d=\"M 1.9375 0 L 0.0351563 -6.222656 L 1.125 -6.222656 L 2.117188 -2.632813 L 2.484375 -1.296875 C 2.5 -1.359375 2.605469 -1.789063 2.804688 -2.578125 L 3.796875 -6.222656 L 4.882813 -6.222656 L 5.8125 -2.613281 L 6.125 -1.421875 L 6.480469 -2.625 L 7.546875 -6.222656 L 8.570313 -6.222656 L 6.625 0 L 5.53125 0 L 4.539063 -3.726563 L 4.300781 -4.789063 L 3.039063 0 Z M 1.9375 0 \"/>\n",
       "</symbol>\n",
       "<symbol overflow=\"visible\" id=\"glyph1-1\">\n",
       "<path style=\"stroke:none;\" d=\"M 0.742188 2.398438 L 0.625 1.40625 C 0.855469 1.46875 1.058594 1.5 1.230469 1.5 C 1.464844 1.5 1.652344 1.460938 1.792969 1.382813 C 1.933594 1.304688 2.046875 1.195313 2.140625 1.054688 C 2.203125 0.949219 2.3125 0.6875 2.460938 0.269531 C 2.480469 0.207031 2.511719 0.121094 2.554688 0.0117188 L 0.195313 -6.222656 L 1.328125 -6.222656 L 2.625 -2.617188 C 2.789063 -2.160156 2.9375 -1.679688 3.078125 -1.179688 C 3.195313 -1.660156 3.339844 -2.132813 3.507813 -2.59375 L 4.839844 -6.222656 L 5.894531 -6.222656 L 3.527344 0.105469 C 3.273438 0.789063 3.074219 1.257813 2.9375 1.515625 C 2.746094 1.863281 2.53125 2.117188 2.292969 2.28125 C 2.046875 2.4375 1.757813 2.519531 1.421875 2.523438 C 1.214844 2.519531 0.988281 2.476563 0.742188 2.398438 Z M 0.742188 2.398438 \"/>\n",
       "</symbol>\n",
       "<symbol overflow=\"visible\" id=\"glyph1-2\">\n",
       "<path style=\"stroke:none;\" d=\"M 0.789063 0 L 0.789063 -6.222656 L 1.742188 -6.222656 L 1.742188 -5.335938 C 2.195313 -6.019531 2.855469 -6.363281 3.71875 -6.363281 C 4.089844 -6.363281 4.433594 -6.292969 4.753906 -6.160156 C 5.066406 -6.023438 5.304688 -5.847656 5.460938 -5.632813 C 5.617188 -5.410156 5.726563 -5.152344 5.789063 -4.851563 C 5.828125 -4.65625 5.847656 -4.3125 5.847656 -3.828125 L 5.847656 0 L 4.792969 0 L 4.792969 -3.785156 C 4.792969 -4.214844 4.75 -4.535156 4.667969 -4.75 C 4.585938 -4.960938 4.441406 -5.128906 4.234375 -5.257813 C 4.023438 -5.382813 3.777344 -5.449219 3.5 -5.449219 C 3.046875 -5.449219 2.660156 -5.304688 2.332031 -5.019531 C 2.003906 -4.734375 1.839844 -4.195313 1.84375 -3.398438 L 1.84375 0 Z M 0.789063 0 \"/>\n",
       "</symbol>\n",
       "<symbol overflow=\"visible\" id=\"glyph1-3\">\n",
       "<path style=\"stroke:none;\" d=\"M 0.796875 -7.375 L 0.796875 -8.589844 L 1.851563 -8.589844 L 1.851563 -7.375 Z M 0.796875 0 L 0.796875 -6.222656 L 1.851563 -6.222656 L 1.851563 0 Z M 0.796875 0 \"/>\n",
       "</symbol>\n",
       "<symbol overflow=\"visible\" id=\"glyph1-4\">\n",
       "<path style=\"stroke:none;\" d=\"M 0.796875 0 L 0.796875 -8.589844 L 1.851563 -8.589844 L 1.851563 -3.691406 L 4.347656 -6.222656 L 5.710938 -6.222656 L 3.335938 -3.914063 L 5.953125 0 L 4.652344 0 L 2.59375 -3.179688 L 1.851563 -2.46875 L 1.851563 0 Z M 0.796875 0 \"/>\n",
       "</symbol>\n",
       "<symbol overflow=\"visible\" id=\"glyph1-5\">\n",
       "<path style=\"stroke:none;\" d=\"M 0.5 -4.234375 C 0.496094 -5.246094 0.601563 -6.0625 0.8125 -6.6875 C 1.019531 -7.304688 1.328125 -7.785156 1.742188 -8.121094 C 2.148438 -8.457031 2.667969 -8.625 3.296875 -8.625 C 3.757813 -8.625 4.164063 -8.53125 4.511719 -8.347656 C 4.855469 -8.160156 5.140625 -7.890625 5.371094 -7.542969 C 5.59375 -7.191406 5.773438 -6.765625 5.90625 -6.265625 C 6.035156 -5.761719 6.097656 -5.085938 6.101563 -4.234375 C 6.097656 -3.226563 5.996094 -2.414063 5.789063 -1.796875 C 5.578125 -1.175781 5.265625 -0.695313 4.859375 -0.359375 C 4.445313 -0.0195313 3.925781 0.144531 3.296875 0.148438 C 2.464844 0.144531 1.816406 -0.148438 1.347656 -0.742188 C 0.78125 -1.457031 0.496094 -2.621094 0.5 -4.234375 Z M 1.582031 -4.234375 C 1.582031 -2.824219 1.746094 -1.886719 2.074219 -1.417969 C 2.402344 -0.949219 2.808594 -0.714844 3.296875 -0.71875 C 3.777344 -0.714844 4.183594 -0.949219 4.519531 -1.421875 C 4.847656 -1.886719 5.015625 -2.824219 5.015625 -4.234375 C 5.015625 -5.648438 4.847656 -6.589844 4.519531 -7.054688 C 4.183594 -7.515625 3.773438 -7.746094 3.289063 -7.75 C 2.800781 -7.746094 2.414063 -7.542969 2.125 -7.136719 C 1.761719 -6.613281 1.582031 -5.644531 1.582031 -4.234375 Z M 1.582031 -4.234375 \"/>\n",
       "</symbol>\n",
       "<symbol overflow=\"visible\" id=\"glyph1-6\">\n",
       "<path style=\"stroke:none;\" d=\"M 1.089844 0 L 1.089844 -1.203125 L 2.289063 -1.203125 L 2.289063 0 Z M 1.089844 0 \"/>\n",
       "</symbol>\n",
       "<symbol overflow=\"visible\" id=\"glyph1-7\">\n",
       "<path style=\"stroke:none;\" d=\"M 6.039063 -1.015625 L 6.039063 0 L 0.363281 0 C 0.355469 -0.253906 0.394531 -0.496094 0.484375 -0.734375 C 0.628906 -1.117188 0.859375 -1.5 1.179688 -1.875 C 1.492188 -2.25 1.953125 -2.683594 2.5625 -3.175781 C 3.492188 -3.941406 4.125 -4.546875 4.453125 -4.992188 C 4.78125 -5.4375 4.945313 -5.859375 4.945313 -6.265625 C 4.945313 -6.679688 4.792969 -7.03125 4.496094 -7.320313 C 4.191406 -7.601563 3.804688 -7.746094 3.328125 -7.75 C 2.820313 -7.746094 2.414063 -7.59375 2.109375 -7.292969 C 1.804688 -6.984375 1.648438 -6.5625 1.648438 -6.03125 L 0.5625 -6.140625 C 0.632813 -6.945313 0.910156 -7.558594 1.398438 -7.988281 C 1.878906 -8.410156 2.53125 -8.625 3.351563 -8.625 C 4.171875 -8.625 4.824219 -8.394531 5.308594 -7.9375 C 5.789063 -7.480469 6.027344 -6.914063 6.03125 -6.242188 C 6.027344 -5.894531 5.957031 -5.558594 5.820313 -5.226563 C 5.675781 -4.890625 5.441406 -4.539063 5.117188 -4.175781 C 4.789063 -3.804688 4.25 -3.300781 3.492188 -2.664063 C 2.859375 -2.128906 2.453125 -1.769531 2.273438 -1.582031 C 2.09375 -1.394531 1.945313 -1.203125 1.828125 -1.015625 Z M 6.039063 -1.015625 \"/>\n",
       "</symbol>\n",
       "<symbol overflow=\"visible\" id=\"glyph1-8\">\n",
       "<path style=\"stroke:none;\" d=\"M 3.878906 0 L 3.878906 -2.054688 L 0.152344 -2.054688 L 0.152344 -3.023438 L 4.070313 -8.589844 L 4.933594 -8.589844 L 4.933594 -3.023438 L 6.09375 -3.023438 L 6.09375 -2.054688 L 4.933594 -2.054688 L 4.933594 0 Z M 3.878906 -3.023438 L 3.878906 -6.898438 L 1.1875 -3.023438 Z M 3.878906 -3.023438 \"/>\n",
       "</symbol>\n",
       "<symbol overflow=\"visible\" id=\"glyph1-9\">\n",
       "<path style=\"stroke:none;\" d=\"M 5.96875 -6.484375 L 4.921875 -6.40625 C 4.828125 -6.8125 4.695313 -7.113281 4.523438 -7.304688 C 4.234375 -7.605469 3.882813 -7.757813 3.46875 -7.757813 C 3.132813 -7.757813 2.835938 -7.664063 2.585938 -7.476563 C 2.25 -7.234375 1.988281 -6.878906 1.796875 -6.414063 C 1.605469 -5.949219 1.507813 -5.289063 1.5 -4.429688 C 1.753906 -4.8125 2.0625 -5.097656 2.433594 -5.289063 C 2.796875 -5.472656 3.183594 -5.566406 3.585938 -5.570313 C 4.289063 -5.566406 4.886719 -5.308594 5.382813 -4.792969 C 5.875 -4.277344 6.121094 -3.609375 6.125 -2.789063 C 6.121094 -2.25 6.003906 -1.746094 5.773438 -1.285156 C 5.539063 -0.820313 5.222656 -0.46875 4.816406 -0.222656 C 4.410156 0.0234375 3.949219 0.144531 3.433594 0.148438 C 2.554688 0.144531 1.835938 -0.175781 1.285156 -0.820313 C 0.726563 -1.46875 0.449219 -2.535156 0.453125 -4.019531 C 0.449219 -5.675781 0.757813 -6.882813 1.371094 -7.640625 C 1.902344 -8.296875 2.621094 -8.625 3.53125 -8.625 C 4.207031 -8.625 4.761719 -8.433594 5.195313 -8.054688 C 5.625 -7.675781 5.882813 -7.152344 5.96875 -6.484375 Z M 1.664063 -2.78125 C 1.664063 -2.417969 1.738281 -2.070313 1.894531 -1.738281 C 2.042969 -1.40625 2.261719 -1.152344 2.542969 -0.980469 C 2.820313 -0.800781 3.109375 -0.714844 3.414063 -0.71875 C 3.859375 -0.714844 4.242188 -0.894531 4.566406 -1.257813 C 4.882813 -1.613281 5.042969 -2.101563 5.046875 -2.726563 C 5.042969 -3.316406 4.886719 -3.785156 4.570313 -4.128906 C 4.25 -4.46875 3.851563 -4.640625 3.375 -4.640625 C 2.898438 -4.640625 2.492188 -4.46875 2.160156 -4.128906 C 1.828125 -3.785156 1.664063 -3.335938 1.664063 -2.78125 Z M 1.664063 -2.78125 \"/>\n",
       "</symbol>\n",
       "<symbol overflow=\"visible\" id=\"glyph2-0\">\n",
       "<path style=\"stroke:none;\" d=\"M 0 -0.984375 L -8.589844 -0.984375 L -8.589844 -6.78125 L -7.578125 -6.78125 L -7.578125 -2.121094 L -4.914063 -2.121094 L -4.914063 -6.152344 L -3.902344 -6.152344 L -3.902344 -2.121094 L 0 -2.121094 Z M 0 -0.984375 \"/>\n",
       "</symbol>\n",
       "<symbol overflow=\"visible\" id=\"glyph2-1\">\n",
       "<path style=\"stroke:none;\" d=\"M 0 -0.78125 L -6.222656 -0.78125 L -6.222656 -1.730469 L -5.28125 -1.730469 C -5.71875 -1.96875 -6.011719 -2.191406 -6.152344 -2.398438 C -6.292969 -2.601563 -6.363281 -2.828125 -6.363281 -3.078125 C -6.363281 -3.429688 -6.25 -3.792969 -6.023438 -4.160156 L -5.046875 -3.796875 C -5.195313 -3.539063 -5.273438 -3.28125 -5.273438 -3.023438 C -5.273438 -2.792969 -5.203125 -2.585938 -5.066406 -2.402344 C -4.925781 -2.21875 -4.734375 -2.085938 -4.488281 -2.011719 C -4.113281 -1.890625 -3.703125 -1.832031 -3.257813 -1.835938 L 0 -1.835938 Z M 0 -0.78125 \"/>\n",
       "</symbol>\n",
       "<symbol overflow=\"visible\" id=\"glyph2-2\">\n",
       "<path style=\"stroke:none;\" d=\"M -2.003906 -5.050781 L -1.867188 -6.140625 C -1.230469 -5.96875 -0.738281 -5.648438 -0.386719 -5.183594 C -0.0351563 -4.71875 0.140625 -4.125 0.140625 -3.40625 C 0.140625 -2.492188 -0.136719 -1.769531 -0.699219 -1.238281 C -1.253906 -0.703125 -2.042969 -0.4375 -3.058594 -0.441406 C -4.105469 -0.4375 -4.917969 -0.707031 -5.496094 -1.25 C -6.074219 -1.785156 -6.363281 -2.484375 -6.363281 -3.347656 C -6.363281 -4.175781 -6.078125 -4.855469 -5.511719 -5.382813 C -4.945313 -5.910156 -4.148438 -6.175781 -3.121094 -6.175781 C -3.054688 -6.175781 -2.960938 -6.171875 -2.839844 -6.171875 L -2.84375 -1.53125 C -2.15625 -1.566406 -1.632813 -1.761719 -1.269531 -2.109375 C -0.90625 -2.457031 -0.726563 -2.890625 -0.726563 -3.410156 C -0.726563 -3.796875 -0.828125 -4.125 -1.03125 -4.402344 C -1.234375 -4.671875 -1.558594 -4.890625 -2.003906 -5.050781 Z M -3.710938 -1.589844 L -3.707031 -5.0625 C -4.226563 -5.015625 -4.621094 -4.882813 -4.886719 -4.664063 C -5.292969 -4.328125 -5.496094 -3.890625 -5.496094 -3.359375 C -5.496094 -2.871094 -5.332031 -2.464844 -5.007813 -2.136719 C -4.683594 -1.804688 -4.25 -1.621094 -3.710938 -1.589844 Z M -3.710938 -1.589844 \"/>\n",
       "</symbol>\n",
       "<symbol overflow=\"visible\" id=\"glyph2-3\">\n",
       "<path style=\"stroke:none;\" d=\"M 2.386719 -4.757813 L -0.660156 -4.757813 C -0.429688 -4.59375 -0.238281 -4.363281 -0.0859375 -4.066406 C 0.0664063 -3.769531 0.140625 -3.457031 0.140625 -3.128906 C 0.140625 -2.390625 -0.152344 -1.753906 -0.742188 -1.222656 C -1.332031 -0.6875 -2.140625 -0.421875 -3.171875 -0.421875 C -3.792969 -0.421875 -4.355469 -0.527344 -4.851563 -0.746094 C -5.34375 -0.960938 -5.71875 -1.277344 -5.976563 -1.691406 C -6.234375 -2.101563 -6.363281 -2.554688 -6.363281 -3.046875 C -6.363281 -3.816406 -6.039063 -4.421875 -5.390625 -4.863281 L -6.222656 -4.863281 L -6.222656 -5.8125 L 2.386719 -5.8125 Z M -3.128906 -1.507813 C -2.328125 -1.503906 -1.726563 -1.671875 -1.328125 -2.011719 C -0.925781 -2.34375 -0.726563 -2.746094 -0.726563 -3.21875 C -0.726563 -3.664063 -0.914063 -4.050781 -1.296875 -4.375 C -1.671875 -4.699219 -2.253906 -4.863281 -3.035156 -4.863281 C -3.863281 -4.863281 -4.484375 -4.691406 -4.902344 -4.351563 C -5.320313 -4.007813 -5.53125 -3.605469 -5.53125 -3.148438 C -5.53125 -2.6875 -5.335938 -2.300781 -4.949219 -1.984375 C -4.558594 -1.664063 -3.953125 -1.503906 -3.128906 -1.507813 Z M -3.128906 -1.507813 \"/>\n",
       "</symbol>\n",
       "<symbol overflow=\"visible\" id=\"glyph2-4\">\n",
       "<path style=\"stroke:none;\" d=\"M 0 -4.867188 L -0.914063 -4.867188 C -0.210938 -4.378906 0.140625 -3.722656 0.140625 -2.894531 C 0.140625 -2.527344 0.0703125 -2.183594 -0.0703125 -1.867188 C -0.210938 -1.546875 -0.386719 -1.308594 -0.597656 -1.15625 C -0.808594 -1 -1.070313 -0.894531 -1.382813 -0.832031 C -1.589844 -0.789063 -1.917969 -0.765625 -2.367188 -0.769531 L -6.222656 -0.769531 L -6.222656 -1.824219 L -2.773438 -1.824219 C -2.21875 -1.820313 -1.847656 -1.84375 -1.65625 -1.886719 C -1.378906 -1.949219 -1.160156 -2.089844 -1.003906 -2.308594 C -0.839844 -2.523438 -0.761719 -2.789063 -0.765625 -3.105469 C -0.761719 -3.417969 -0.84375 -3.714844 -1.007813 -3.996094 C -1.171875 -4.273438 -1.390625 -4.46875 -1.671875 -4.585938 C -1.945313 -4.699219 -2.351563 -4.757813 -2.886719 -4.757813 L -6.222656 -4.757813 L -6.222656 -5.8125 L 0 -5.8125 Z M 0 -4.867188 \"/>\n",
       "</symbol>\n",
       "<symbol overflow=\"visible\" id=\"glyph2-5\">\n",
       "<path style=\"stroke:none;\" d=\"M 0 -0.789063 L -6.222656 -0.792969 L -6.222656 -1.742188 L -5.335938 -1.742188 C -6.019531 -2.195313 -6.363281 -2.855469 -6.363281 -3.722656 C -6.363281 -4.089844 -6.292969 -4.433594 -6.160156 -4.753906 C -6.023438 -5.066406 -5.847656 -5.304688 -5.632813 -5.460938 C -5.410156 -5.617188 -5.152344 -5.726563 -4.851563 -5.789063 C -4.65625 -5.828125 -4.3125 -5.847656 -3.824219 -5.847656 L 0 -5.847656 L 0 -4.792969 L -3.785156 -4.792969 C -4.214844 -4.792969 -4.535156 -4.75 -4.75 -4.667969 C -4.960938 -4.585938 -5.128906 -4.441406 -5.257813 -4.234375 C -5.382813 -4.023438 -5.449219 -3.777344 -5.449219 -3.5 C -5.449219 -3.046875 -5.304688 -2.660156 -5.019531 -2.335938 C -4.734375 -2.007813 -4.195313 -1.84375 -3.398438 -1.847656 L 0 -1.84375 Z M 0 -0.789063 \"/>\n",
       "</symbol>\n",
       "<symbol overflow=\"visible\" id=\"glyph2-6\">\n",
       "<path style=\"stroke:none;\" d=\"M -2.277344 -4.851563 L -2.144531 -5.890625 C -1.425781 -5.773438 -0.863281 -5.484375 -0.464844 -5.019531 C -0.0585938 -4.550781 0.140625 -3.976563 0.140625 -3.296875 C 0.140625 -2.445313 -0.136719 -1.761719 -0.695313 -1.246094 C -1.25 -0.726563 -2.046875 -0.46875 -3.085938 -0.46875 C -3.753906 -0.46875 -4.34375 -0.578125 -4.851563 -0.800781 C -5.355469 -1.023438 -5.730469 -1.363281 -5.984375 -1.820313 C -6.234375 -2.273438 -6.363281 -2.769531 -6.363281 -3.304688 C -6.363281 -3.980469 -6.191406 -4.53125 -5.847656 -4.964844 C -5.503906 -5.390625 -5.019531 -5.667969 -4.394531 -5.789063 L -4.234375 -4.765625 C -4.652344 -4.664063 -4.96875 -4.492188 -5.179688 -4.246094 C -5.390625 -3.996094 -5.496094 -3.695313 -5.496094 -3.347656 C -5.496094 -2.8125 -5.304688 -2.382813 -4.921875 -2.050781 C -4.539063 -1.71875 -3.9375 -1.550781 -3.117188 -1.554688 C -2.28125 -1.550781 -1.671875 -1.710938 -1.292969 -2.035156 C -0.914063 -2.351563 -0.726563 -2.769531 -0.726563 -3.289063 C -0.726563 -3.695313 -0.851563 -4.042969 -1.105469 -4.324219 C -1.359375 -4.601563 -1.75 -4.777344 -2.277344 -4.851563 Z M -2.277344 -4.851563 \"/>\n",
       "</symbol>\n",
       "<symbol overflow=\"visible\" id=\"glyph2-7\">\n",
       "<path style=\"stroke:none;\" d=\"M 2.398438 -0.742188 L 1.40625 -0.625 C 1.46875 -0.855469 1.5 -1.058594 1.5 -1.230469 C 1.5 -1.464844 1.460938 -1.652344 1.382813 -1.792969 C 1.304688 -1.933594 1.195313 -2.046875 1.054688 -2.140625 C 0.949219 -2.203125 0.6875 -2.3125 0.269531 -2.460938 C 0.210938 -2.480469 0.125 -2.511719 0.0117188 -2.554688 L -6.222656 -0.195313 L -6.222656 -1.332031 L -2.617188 -2.625 C -2.160156 -2.789063 -1.679688 -2.9375 -1.175781 -3.078125 C -1.65625 -3.195313 -2.128906 -3.339844 -2.59375 -3.507813 L -6.222656 -4.839844 L -6.222656 -5.894531 L 0.105469 -3.527344 C 0.789063 -3.273438 1.257813 -3.074219 1.519531 -2.9375 C 1.863281 -2.746094 2.117188 -2.53125 2.28125 -2.289063 C 2.4375 -2.042969 2.519531 -1.753906 2.523438 -1.421875 C 2.519531 -1.214844 2.476563 -0.988281 2.398438 -0.742188 Z M 2.398438 -0.742188 \"/>\n",
       "</symbol>\n",
       "<symbol overflow=\"visible\" id=\"glyph2-8\">\n",
       "<path style=\"stroke:none;\" d=\"M -4.234375 -0.5 C -5.246094 -0.496094 -6.0625 -0.601563 -6.6875 -0.8125 C -7.304688 -1.019531 -7.785156 -1.328125 -8.121094 -1.742188 C -8.457031 -2.152344 -8.625 -2.671875 -8.625 -3.300781 C -8.625 -3.757813 -8.53125 -4.164063 -8.347656 -4.511719 C -8.160156 -4.859375 -7.890625 -5.144531 -7.542969 -5.371094 C -7.191406 -5.59375 -6.765625 -5.773438 -6.265625 -5.90625 C -5.761719 -6.035156 -5.085938 -6.097656 -4.234375 -6.101563 C -3.222656 -6.097656 -2.410156 -5.996094 -1.792969 -5.789063 C -1.175781 -5.578125 -0.695313 -5.265625 -0.359375 -4.859375 C -0.0195313 -4.445313 0.144531 -3.925781 0.148438 -3.296875 C 0.144531 -2.464844 -0.148438 -1.816406 -0.742188 -1.347656 C -1.457031 -0.78125 -2.621094 -0.496094 -4.234375 -0.5 Z M -4.234375 -1.582031 C -2.824219 -1.582031 -1.886719 -1.746094 -1.417969 -2.074219 C -0.949219 -2.402344 -0.714844 -2.808594 -0.71875 -3.296875 C -0.714844 -3.777344 -0.949219 -4.183594 -1.421875 -4.519531 C -1.886719 -4.847656 -2.824219 -5.015625 -4.234375 -5.015625 C -5.648438 -5.015625 -6.589844 -4.847656 -7.054688 -4.519531 C -7.515625 -4.1875 -7.746094 -3.777344 -7.75 -3.289063 C -7.746094 -2.800781 -7.542969 -2.414063 -7.136719 -2.128906 C -6.613281 -1.761719 -5.644531 -1.582031 -4.234375 -1.582031 Z M -4.234375 -1.582031 \"/>\n",
       "</symbol>\n",
       "<symbol overflow=\"visible\" id=\"glyph2-9\">\n",
       "<path style=\"stroke:none;\" d=\"M 0 -4.46875 L 0 -3.414063 L -6.71875 -3.417969 C -6.476563 -3.160156 -6.234375 -2.828125 -5.996094 -2.417969 C -5.75 -2.003906 -5.570313 -1.632813 -5.449219 -1.308594 L -6.46875 -1.308594 C -6.742188 -1.894531 -7.078125 -2.410156 -7.476563 -2.851563 C -7.871094 -3.292969 -8.253906 -3.605469 -8.625 -3.792969 L -8.625 -4.472656 Z M 0 -4.46875 \"/>\n",
       "</symbol>\n",
       "<symbol overflow=\"visible\" id=\"glyph2-10\">\n",
       "<path style=\"stroke:none;\" d=\"M -1.011719 -6.039063 L 0 -6.039063 L 0 -0.363281 C -0.253906 -0.355469 -0.496094 -0.394531 -0.734375 -0.488281 C -1.117188 -0.628906 -1.5 -0.859375 -1.875 -1.179688 C -2.25 -1.496094 -2.683594 -1.957031 -3.175781 -2.5625 C -3.941406 -3.492188 -4.546875 -4.125 -4.992188 -4.453125 C -5.4375 -4.78125 -5.859375 -4.945313 -6.265625 -4.945313 C -6.679688 -4.945313 -7.03125 -4.792969 -7.320313 -4.496094 C -7.601563 -4.195313 -7.746094 -3.808594 -7.75 -3.328125 C -7.746094 -2.820313 -7.59375 -2.414063 -7.292969 -2.109375 C -6.984375 -1.804688 -6.5625 -1.648438 -6.03125 -1.648438 L -6.140625 -0.5625 C -6.945313 -0.636719 -7.558594 -0.914063 -7.988281 -1.402344 C -8.410156 -1.882813 -8.625 -2.535156 -8.625 -3.351563 C -8.625 -4.175781 -8.394531 -4.828125 -7.9375 -5.308594 C -7.480469 -5.789063 -6.914063 -6.027344 -6.242188 -6.03125 C -5.894531 -6.027344 -5.558594 -5.957031 -5.226563 -5.820313 C -4.890625 -5.675781 -4.539063 -5.441406 -4.175781 -5.117188 C -3.804688 -4.789063 -3.300781 -4.25 -2.664063 -3.492188 C -2.128906 -2.859375 -1.769531 -2.453125 -1.582031 -2.273438 C -1.394531 -2.09375 -1.203125 -1.945313 -1.011719 -1.828125 Z M -1.011719 -6.039063 \"/>\n",
       "</symbol>\n",
       "<symbol overflow=\"visible\" id=\"glyph2-11\">\n",
       "<path style=\"stroke:none;\" d=\"M -2.265625 -0.503906 L -2.40625 -1.558594 C -1.808594 -1.679688 -1.378906 -1.882813 -1.113281 -2.175781 C -0.847656 -2.464844 -0.714844 -2.820313 -0.71875 -3.242188 C -0.714844 -3.734375 -0.886719 -4.152344 -1.234375 -4.496094 C -1.574219 -4.832031 -2 -5.003906 -2.511719 -5.007813 C -2.992188 -5.003906 -3.390625 -4.847656 -3.710938 -4.535156 C -4.023438 -4.21875 -4.183594 -3.816406 -4.183594 -3.328125 C -4.183594 -3.128906 -4.144531 -2.878906 -4.066406 -2.585938 L -4.992188 -2.703125 C -4.984375 -2.769531 -4.980469 -2.828125 -4.980469 -2.871094 C -4.980469 -3.320313 -5.097656 -3.722656 -5.332031 -4.085938 C -5.566406 -4.441406 -5.925781 -4.621094 -6.414063 -4.625 C -6.800781 -4.621094 -7.121094 -4.492188 -7.375 -4.230469 C -7.628906 -3.96875 -7.757813 -3.628906 -7.757813 -3.21875 C -7.757813 -2.804688 -7.628906 -2.464844 -7.371094 -2.191406 C -7.113281 -1.917969 -6.726563 -1.742188 -6.210938 -1.664063 L -6.398438 -0.609375 C -7.105469 -0.738281 -7.652344 -1.03125 -8.042969 -1.488281 C -8.429688 -1.945313 -8.625 -2.511719 -8.625 -3.195313 C -8.625 -3.660156 -8.523438 -4.09375 -8.324219 -4.488281 C -8.121094 -4.882813 -7.847656 -5.183594 -7.5 -5.394531 C -7.148438 -5.601563 -6.777344 -5.707031 -6.390625 -5.707031 C -6.019531 -5.707031 -5.683594 -5.605469 -5.378906 -5.40625 C -5.074219 -5.207031 -4.832031 -4.914063 -4.652344 -4.523438 C -4.535156 -5.03125 -4.289063 -5.425781 -3.921875 -5.707031 C -3.546875 -5.988281 -3.085938 -6.128906 -2.535156 -6.128906 C -1.78125 -6.128906 -1.144531 -5.855469 -0.628906 -5.308594 C -0.105469 -4.761719 0.152344 -4.070313 0.152344 -3.234375 C 0.152344 -2.476563 -0.0703125 -1.847656 -0.519531 -1.355469 C -0.96875 -0.855469 -1.550781 -0.574219 -2.265625 -0.503906 Z M -2.265625 -0.503906 \"/>\n",
       "</symbol>\n",
       "<symbol overflow=\"visible\" id=\"glyph2-12\">\n",
       "<path style=\"stroke:none;\" d=\"M 0 -3.878906 L -2.054688 -3.878906 L -2.054688 -0.152344 L -3.023438 -0.152344 L -8.589844 -4.074219 L -8.589844 -4.933594 L -3.023438 -4.933594 L -3.023438 -6.09375 L -2.054688 -6.09375 L -2.054688 -4.933594 L 0 -4.933594 Z M -3.023438 -3.878906 L -6.898438 -3.878906 L -3.023438 -1.191406 Z M -3.023438 -3.878906 \"/>\n",
       "</symbol>\n",
       "<symbol overflow=\"visible\" id=\"glyph2-13\">\n",
       "<path style=\"stroke:none;\" d=\"M -2.25 -0.5 L -2.34375 -1.605469 C -1.804688 -1.683594 -1.398438 -1.871094 -1.125 -2.175781 C -0.851563 -2.472656 -0.714844 -2.835938 -0.71875 -3.257813 C -0.714844 -3.765625 -0.90625 -4.195313 -1.292969 -4.546875 C -1.671875 -4.898438 -2.179688 -5.074219 -2.816406 -5.074219 C -3.414063 -5.074219 -3.890625 -4.902344 -4.242188 -4.566406 C -4.589844 -4.226563 -4.761719 -3.785156 -4.765625 -3.242188 C -4.761719 -2.898438 -4.683594 -2.59375 -4.53125 -2.320313 C -4.375 -2.046875 -4.175781 -1.832031 -3.929688 -1.675781 L -4.0625 -0.6875 L -8.472656 -1.519531 L -8.472656 -5.789063 L -7.464844 -5.789063 L -7.464844 -2.363281 L -5.15625 -1.898438 C -5.515625 -2.414063 -5.695313 -2.953125 -5.695313 -3.523438 C -5.695313 -4.269531 -5.433594 -4.902344 -4.914063 -5.421875 C -4.394531 -5.933594 -3.726563 -6.191406 -2.910156 -6.195313 C -2.132813 -6.191406 -1.460938 -5.964844 -0.894531 -5.515625 C -0.199219 -4.960938 0.144531 -4.210938 0.148438 -3.257813 C 0.144531 -2.476563 -0.0703125 -1.835938 -0.507813 -1.34375 C -0.941406 -0.847656 -1.523438 -0.566406 -2.25 -0.5 Z M -2.25 -0.5 \"/>\n",
       "</symbol>\n",
       "<symbol overflow=\"visible\" id=\"glyph2-14\">\n",
       "<path style=\"stroke:none;\" d=\"M -6.484375 -5.96875 L -6.40625 -4.921875 C -6.8125 -4.828125 -7.113281 -4.695313 -7.304688 -4.523438 C -7.605469 -4.238281 -7.757813 -3.886719 -7.757813 -3.46875 C -7.757813 -3.132813 -7.664063 -2.835938 -7.476563 -2.585938 C -7.234375 -2.25 -6.878906 -1.988281 -6.414063 -1.796875 C -5.949219 -1.605469 -5.289063 -1.507813 -4.429688 -1.5 C -4.8125 -1.753906 -5.097656 -2.0625 -5.289063 -2.433594 C -5.472656 -2.796875 -5.566406 -3.183594 -5.570313 -3.585938 C -5.566406 -4.289063 -5.308594 -4.886719 -4.792969 -5.382813 C -4.277344 -5.875 -3.609375 -6.121094 -2.789063 -6.125 C -2.25 -6.121094 -1.746094 -6.003906 -1.285156 -5.773438 C -0.816406 -5.539063 -0.460938 -5.222656 -0.21875 -4.816406 C 0.0273438 -4.410156 0.144531 -3.949219 0.148438 -3.433594 C 0.144531 -2.554688 -0.175781 -1.835938 -0.820313 -1.285156 C -1.46875 -0.726563 -2.535156 -0.449219 -4.019531 -0.453125 C -5.675781 -0.449219 -6.882813 -0.757813 -7.640625 -1.371094 C -8.296875 -1.90625 -8.625 -2.625 -8.625 -3.535156 C -8.625 -4.207031 -8.433594 -4.761719 -8.054688 -5.195313 C -7.675781 -5.625 -7.152344 -5.882813 -6.484375 -5.96875 Z M -2.78125 -1.664063 C -2.417969 -1.664063 -2.070313 -1.738281 -1.738281 -1.894531 C -1.40625 -2.042969 -1.152344 -2.261719 -0.980469 -2.542969 C -0.800781 -2.820313 -0.714844 -3.109375 -0.71875 -3.414063 C -0.714844 -3.859375 -0.894531 -4.242188 -1.257813 -4.566406 C -1.613281 -4.882813 -2.101563 -5.042969 -2.722656 -5.046875 C -3.3125 -5.042969 -3.78125 -4.886719 -4.125 -4.570313 C -4.46875 -4.25 -4.640625 -3.851563 -4.640625 -3.375 C -4.640625 -2.898438 -4.46875 -2.492188 -4.128906 -2.160156 C -3.785156 -1.828125 -3.335938 -1.664063 -2.78125 -1.664063 Z M -2.78125 -1.664063 \"/>\n",
       "</symbol>\n",
       "</g>\n",
       "<clipPath id=\"clip1\">\n",
       "  <path d=\"M 59.039063 59.039063 L 474.757813 59.039063 L 474.757813 431.558594 L 59.039063 431.558594 Z M 59.039063 59.039063 \"/>\n",
       "</clipPath>\n",
       "</defs>\n",
       "<g id=\"surface21\">\n",
       "<rect x=\"0\" y=\"0\" width=\"504\" height=\"504\" style=\"fill:rgb(100%,100%,100%);fill-opacity:1;stroke:none;\"/>\n",
       "<g style=\"fill:rgb(0%,0%,0%);fill-opacity:1;\">\n",
       "  <use xlink:href=\"#glyph0-0\" x=\"199.988281\" y=\"34.675781\"/>\n",
       "  <use xlink:href=\"#glyph0-1\" x=\"210.3875\" y=\"34.675781\"/>\n",
       "  <use xlink:href=\"#glyph0-2\" x=\"214.388281\" y=\"34.675781\"/>\n",
       "  <use xlink:href=\"#glyph0-3\" x=\"222.396875\" y=\"34.675781\"/>\n",
       "  <use xlink:href=\"#glyph0-4\" x=\"227.192187\" y=\"34.675781\"/>\n",
       "  <use xlink:href=\"#glyph0-5\" x=\"235.988281\" y=\"34.675781\"/>\n",
       "  <use xlink:href=\"#glyph0-6\" x=\"244.784375\" y=\"34.675781\"/>\n",
       "  <use xlink:href=\"#glyph0-7\" x=\"250.388281\" y=\"34.675781\"/>\n",
       "  <use xlink:href=\"#glyph0-8\" x=\"258.396875\" y=\"34.675781\"/>\n",
       "  <use xlink:href=\"#glyph0-9\" x=\"271.200781\" y=\"34.675781\"/>\n",
       "  <use xlink:href=\"#glyph0-4\" x=\"275.201562\" y=\"34.675781\"/>\n",
       "  <use xlink:href=\"#glyph0-10\" x=\"283.997656\" y=\"34.675781\"/>\n",
       "  <use xlink:href=\"#glyph0-9\" x=\"288.792969\" y=\"34.675781\"/>\n",
       "  <use xlink:href=\"#glyph0-11\" x=\"292.79375\" y=\"34.675781\"/>\n",
       "  <use xlink:href=\"#glyph0-12\" x=\"303.994531\" y=\"34.675781\"/>\n",
       "  <use xlink:href=\"#glyph0-13\" x=\"312.003125\" y=\"34.675781\"/>\n",
       "  <use xlink:href=\"#glyph0-1\" x=\"320.799219\" y=\"34.675781\"/>\n",
       "  <use xlink:href=\"#glyph0-14\" x=\"324.8\" y=\"34.675781\"/>\n",
       "</g>\n",
       "<g style=\"fill:rgb(0%,0%,0%);fill-opacity:1;\">\n",
       "  <use xlink:href=\"#glyph1-0\" x=\"251.394531\" y=\"485.28125\"/>\n",
       "  <use xlink:href=\"#glyph1-1\" x=\"260.060547\" y=\"485.28125\"/>\n",
       "  <use xlink:href=\"#glyph1-2\" x=\"266.060547\" y=\"485.28125\"/>\n",
       "  <use xlink:href=\"#glyph1-3\" x=\"272.734375\" y=\"485.28125\"/>\n",
       "  <use xlink:href=\"#glyph1-4\" x=\"275.400391\" y=\"485.28125\"/>\n",
       "</g>\n",
       "<g style=\"fill:rgb(0%,0%,0%);fill-opacity:1;\">\n",
       "  <use xlink:href=\"#glyph2-0\" x=\"12.960938\" y=\"273.148438\"/>\n",
       "  <use xlink:href=\"#glyph2-1\" x=\"12.960938\" y=\"265.818359\"/>\n",
       "  <use xlink:href=\"#glyph2-2\" x=\"12.960938\" y=\"261.822266\"/>\n",
       "  <use xlink:href=\"#glyph2-3\" x=\"12.960938\" y=\"255.148438\"/>\n",
       "  <use xlink:href=\"#glyph2-4\" x=\"12.960938\" y=\"248.474609\"/>\n",
       "  <use xlink:href=\"#glyph2-2\" x=\"12.960938\" y=\"241.800781\"/>\n",
       "  <use xlink:href=\"#glyph2-5\" x=\"12.960938\" y=\"235.126953\"/>\n",
       "  <use xlink:href=\"#glyph2-6\" x=\"12.960938\" y=\"228.453125\"/>\n",
       "  <use xlink:href=\"#glyph2-7\" x=\"12.960938\" y=\"222.453125\"/>\n",
       "</g>\n",
       "<path style=\"fill:none;stroke-width:0.75;stroke-linecap:round;stroke-linejoin:round;stroke:rgb(0%,0%,0%);stroke-opacity:1;stroke-miterlimit:10;\" d=\"M 63.878906 430.558594 L 379.496094 430.558594 \"/>\n",
       "<path style=\"fill:none;stroke-width:0.75;stroke-linecap:round;stroke-linejoin:round;stroke:rgb(0%,0%,0%);stroke-opacity:1;stroke-miterlimit:10;\" d=\"M 63.878906 430.558594 L 63.878906 437.761719 \"/>\n",
       "<path style=\"fill:none;stroke-width:0.75;stroke-linecap:round;stroke-linejoin:round;stroke:rgb(0%,0%,0%);stroke-opacity:1;stroke-miterlimit:10;\" d=\"M 169.085938 430.558594 L 169.085938 437.761719 \"/>\n",
       "<path style=\"fill:none;stroke-width:0.75;stroke-linecap:round;stroke-linejoin:round;stroke:rgb(0%,0%,0%);stroke-opacity:1;stroke-miterlimit:10;\" d=\"M 274.289063 430.558594 L 274.289063 437.761719 \"/>\n",
       "<path style=\"fill:none;stroke-width:0.75;stroke-linecap:round;stroke-linejoin:round;stroke:rgb(0%,0%,0%);stroke-opacity:1;stroke-miterlimit:10;\" d=\"M 379.496094 430.558594 L 379.496094 437.761719 \"/>\n",
       "<g style=\"fill:rgb(0%,0%,0%);fill-opacity:1;\">\n",
       "  <use xlink:href=\"#glyph1-5\" x=\"52.199219\" y=\"456.480469\"/>\n",
       "  <use xlink:href=\"#glyph1-6\" x=\"58.873047\" y=\"456.480469\"/>\n",
       "  <use xlink:href=\"#glyph1-5\" x=\"62.207031\" y=\"456.480469\"/>\n",
       "  <use xlink:href=\"#glyph1-5\" x=\"68.880859\" y=\"456.480469\"/>\n",
       "</g>\n",
       "<g style=\"fill:rgb(0%,0%,0%);fill-opacity:1;\">\n",
       "  <use xlink:href=\"#glyph1-5\" x=\"157.40625\" y=\"456.480469\"/>\n",
       "  <use xlink:href=\"#glyph1-6\" x=\"164.080078\" y=\"456.480469\"/>\n",
       "  <use xlink:href=\"#glyph1-5\" x=\"167.414063\" y=\"456.480469\"/>\n",
       "  <use xlink:href=\"#glyph1-7\" x=\"174.087891\" y=\"456.480469\"/>\n",
       "</g>\n",
       "<g style=\"fill:rgb(0%,0%,0%);fill-opacity:1;\">\n",
       "  <use xlink:href=\"#glyph1-5\" x=\"262.609375\" y=\"456.480469\"/>\n",
       "  <use xlink:href=\"#glyph1-6\" x=\"269.283203\" y=\"456.480469\"/>\n",
       "  <use xlink:href=\"#glyph1-5\" x=\"272.617188\" y=\"456.480469\"/>\n",
       "  <use xlink:href=\"#glyph1-8\" x=\"279.291016\" y=\"456.480469\"/>\n",
       "</g>\n",
       "<g style=\"fill:rgb(0%,0%,0%);fill-opacity:1;\">\n",
       "  <use xlink:href=\"#glyph1-5\" x=\"367.816406\" y=\"456.480469\"/>\n",
       "  <use xlink:href=\"#glyph1-6\" x=\"374.490234\" y=\"456.480469\"/>\n",
       "  <use xlink:href=\"#glyph1-5\" x=\"377.824219\" y=\"456.480469\"/>\n",
       "  <use xlink:href=\"#glyph1-9\" x=\"384.498047\" y=\"456.480469\"/>\n",
       "</g>\n",
       "<path style=\"fill:none;stroke-width:0.75;stroke-linecap:round;stroke-linejoin:round;stroke:rgb(0%,0%,0%);stroke-opacity:1;stroke-miterlimit:10;\" d=\"M 59.039063 416.800781 L 59.039063 72.800781 \"/>\n",
       "<path style=\"fill:none;stroke-width:0.75;stroke-linecap:round;stroke-linejoin:round;stroke:rgb(0%,0%,0%);stroke-opacity:1;stroke-miterlimit:10;\" d=\"M 59.039063 416.800781 L 51.839844 416.800781 \"/>\n",
       "<path style=\"fill:none;stroke-width:0.75;stroke-linecap:round;stroke-linejoin:round;stroke:rgb(0%,0%,0%);stroke-opacity:1;stroke-miterlimit:10;\" d=\"M 59.039063 359.464844 L 51.839844 359.464844 \"/>\n",
       "<path style=\"fill:none;stroke-width:0.75;stroke-linecap:round;stroke-linejoin:round;stroke:rgb(0%,0%,0%);stroke-opacity:1;stroke-miterlimit:10;\" d=\"M 59.039063 302.132813 L 51.839844 302.132813 \"/>\n",
       "<path style=\"fill:none;stroke-width:0.75;stroke-linecap:round;stroke-linejoin:round;stroke:rgb(0%,0%,0%);stroke-opacity:1;stroke-miterlimit:10;\" d=\"M 59.039063 244.800781 L 51.839844 244.800781 \"/>\n",
       "<path style=\"fill:none;stroke-width:0.75;stroke-linecap:round;stroke-linejoin:round;stroke:rgb(0%,0%,0%);stroke-opacity:1;stroke-miterlimit:10;\" d=\"M 59.039063 187.464844 L 51.839844 187.464844 \"/>\n",
       "<path style=\"fill:none;stroke-width:0.75;stroke-linecap:round;stroke-linejoin:round;stroke:rgb(0%,0%,0%);stroke-opacity:1;stroke-miterlimit:10;\" d=\"M 59.039063 130.132813 L 51.839844 130.132813 \"/>\n",
       "<path style=\"fill:none;stroke-width:0.75;stroke-linecap:round;stroke-linejoin:round;stroke:rgb(0%,0%,0%);stroke-opacity:1;stroke-miterlimit:10;\" d=\"M 59.039063 72.800781 L 51.839844 72.800781 \"/>\n",
       "<g style=\"fill:rgb(0%,0%,0%);fill-opacity:1;\">\n",
       "  <use xlink:href=\"#glyph2-8\" x=\"41.761719\" y=\"420.136719\"/>\n",
       "</g>\n",
       "<g style=\"fill:rgb(0%,0%,0%);fill-opacity:1;\">\n",
       "  <use xlink:href=\"#glyph2-9\" x=\"41.761719\" y=\"362.800781\"/>\n",
       "</g>\n",
       "<g style=\"fill:rgb(0%,0%,0%);fill-opacity:1;\">\n",
       "  <use xlink:href=\"#glyph2-10\" x=\"41.761719\" y=\"305.46875\"/>\n",
       "</g>\n",
       "<g style=\"fill:rgb(0%,0%,0%);fill-opacity:1;\">\n",
       "  <use xlink:href=\"#glyph2-11\" x=\"41.761719\" y=\"248.136719\"/>\n",
       "</g>\n",
       "<g style=\"fill:rgb(0%,0%,0%);fill-opacity:1;\">\n",
       "  <use xlink:href=\"#glyph2-12\" x=\"41.761719\" y=\"190.800781\"/>\n",
       "</g>\n",
       "<g style=\"fill:rgb(0%,0%,0%);fill-opacity:1;\">\n",
       "  <use xlink:href=\"#glyph2-13\" x=\"41.761719\" y=\"133.46875\"/>\n",
       "</g>\n",
       "<g style=\"fill:rgb(0%,0%,0%);fill-opacity:1;\">\n",
       "  <use xlink:href=\"#glyph2-14\" x=\"41.761719\" y=\"76.136719\"/>\n",
       "</g>\n",
       "<g clip-path=\"url(#clip1)\" clip-rule=\"nonzero\">\n",
       "<path style=\"fill-rule:nonzero;fill:rgb(52.941176%,80.784314%,92.156863%);fill-opacity:1;stroke-width:0.75;stroke-linecap:round;stroke-linejoin:round;stroke:rgb(0%,0%,0%);stroke-opacity:1;stroke-miterlimit:10;\" d=\"M 74.398438 416.800781 L 79.660156 416.800781 L 79.660156 359.46875 L 74.398438 359.46875 Z M 74.398438 416.800781 \"/>\n",
       "<path style=\"fill-rule:nonzero;fill:rgb(52.941176%,80.784314%,92.156863%);fill-opacity:1;stroke-width:0.75;stroke-linecap:round;stroke-linejoin:round;stroke:rgb(0%,0%,0%);stroke-opacity:1;stroke-miterlimit:10;\" d=\"M 79.660156 416.800781 L 84.921875 416.800781 Z M 79.660156 416.800781 \"/>\n",
       "<path style=\"fill-rule:nonzero;fill:rgb(52.941176%,80.784314%,92.156863%);fill-opacity:1;stroke-width:0.75;stroke-linecap:round;stroke-linejoin:round;stroke:rgb(0%,0%,0%);stroke-opacity:1;stroke-miterlimit:10;\" d=\"M 84.921875 416.800781 L 90.183594 416.800781 Z M 84.921875 416.800781 \"/>\n",
       "<path style=\"fill-rule:nonzero;fill:rgb(52.941176%,80.784314%,92.156863%);fill-opacity:1;stroke-width:0.75;stroke-linecap:round;stroke-linejoin:round;stroke:rgb(0%,0%,0%);stroke-opacity:1;stroke-miterlimit:10;\" d=\"M 90.179688 416.800781 L 95.441406 416.800781 Z M 90.179688 416.800781 \"/>\n",
       "<path style=\"fill-rule:nonzero;fill:rgb(52.941176%,80.784314%,92.156863%);fill-opacity:1;stroke-width:0.75;stroke-linecap:round;stroke-linejoin:round;stroke:rgb(0%,0%,0%);stroke-opacity:1;stroke-miterlimit:10;\" d=\"M 95.441406 416.800781 L 100.703125 416.800781 L 100.703125 359.46875 L 95.441406 359.46875 Z M 95.441406 416.800781 \"/>\n",
       "<path style=\"fill-rule:nonzero;fill:rgb(52.941176%,80.784314%,92.156863%);fill-opacity:1;stroke-width:0.75;stroke-linecap:round;stroke-linejoin:round;stroke:rgb(0%,0%,0%);stroke-opacity:1;stroke-miterlimit:10;\" d=\"M 100.703125 416.800781 L 105.964844 416.800781 L 105.964844 359.46875 L 100.703125 359.46875 Z M 100.703125 416.800781 \"/>\n",
       "<path style=\"fill-rule:nonzero;fill:rgb(52.941176%,80.784314%,92.156863%);fill-opacity:1;stroke-width:0.75;stroke-linecap:round;stroke-linejoin:round;stroke:rgb(0%,0%,0%);stroke-opacity:1;stroke-miterlimit:10;\" d=\"M 105.960938 416.800781 L 111.222656 416.800781 Z M 105.960938 416.800781 \"/>\n",
       "<path style=\"fill-rule:nonzero;fill:rgb(52.941176%,80.784314%,92.156863%);fill-opacity:1;stroke-width:0.75;stroke-linecap:round;stroke-linejoin:round;stroke:rgb(0%,0%,0%);stroke-opacity:1;stroke-miterlimit:10;\" d=\"M 111.222656 416.800781 L 116.484375 416.800781 L 116.484375 302.132813 L 111.222656 302.132813 Z M 111.222656 416.800781 \"/>\n",
       "<path style=\"fill-rule:nonzero;fill:rgb(52.941176%,80.784314%,92.156863%);fill-opacity:1;stroke-width:0.75;stroke-linecap:round;stroke-linejoin:round;stroke:rgb(0%,0%,0%);stroke-opacity:1;stroke-miterlimit:10;\" d=\"M 116.480469 416.800781 L 121.742188 416.800781 L 121.742188 302.132813 L 116.480469 302.132813 Z M 116.480469 416.800781 \"/>\n",
       "<path style=\"fill-rule:nonzero;fill:rgb(52.941176%,80.784314%,92.156863%);fill-opacity:1;stroke-width:0.75;stroke-linecap:round;stroke-linejoin:round;stroke:rgb(0%,0%,0%);stroke-opacity:1;stroke-miterlimit:10;\" d=\"M 121.742188 416.800781 L 127.003906 416.800781 Z M 121.742188 416.800781 \"/>\n",
       "<path style=\"fill-rule:nonzero;fill:rgb(52.941176%,80.784314%,92.156863%);fill-opacity:1;stroke-width:0.75;stroke-linecap:round;stroke-linejoin:round;stroke:rgb(0%,0%,0%);stroke-opacity:1;stroke-miterlimit:10;\" d=\"M 127.003906 416.800781 L 132.265625 416.800781 Z M 127.003906 416.800781 \"/>\n",
       "<path style=\"fill-rule:nonzero;fill:rgb(52.941176%,80.784314%,92.156863%);fill-opacity:1;stroke-width:0.75;stroke-linecap:round;stroke-linejoin:round;stroke:rgb(0%,0%,0%);stroke-opacity:1;stroke-miterlimit:10;\" d=\"M 132.261719 416.800781 L 137.523438 416.800781 L 137.523438 302.132813 L 132.261719 302.132813 Z M 132.261719 416.800781 \"/>\n",
       "<path style=\"fill-rule:nonzero;fill:rgb(52.941176%,80.784314%,92.156863%);fill-opacity:1;stroke-width:0.75;stroke-linecap:round;stroke-linejoin:round;stroke:rgb(0%,0%,0%);stroke-opacity:1;stroke-miterlimit:10;\" d=\"M 137.523438 416.800781 L 142.785156 416.800781 L 142.785156 187.46875 L 137.523438 187.46875 Z M 137.523438 416.800781 \"/>\n",
       "<path style=\"fill-rule:nonzero;fill:rgb(52.941176%,80.784314%,92.156863%);fill-opacity:1;stroke-width:0.75;stroke-linecap:round;stroke-linejoin:round;stroke:rgb(0%,0%,0%);stroke-opacity:1;stroke-miterlimit:10;\" d=\"M 142.785156 416.800781 L 148.046875 416.800781 L 148.046875 244.800781 L 142.785156 244.800781 Z M 142.785156 416.800781 \"/>\n",
       "<path style=\"fill-rule:nonzero;fill:rgb(52.941176%,80.784314%,92.156863%);fill-opacity:1;stroke-width:0.75;stroke-linecap:round;stroke-linejoin:round;stroke:rgb(0%,0%,0%);stroke-opacity:1;stroke-miterlimit:10;\" d=\"M 148.042969 416.800781 L 153.304688 416.800781 L 153.304688 302.132813 L 148.042969 302.132813 Z M 148.042969 416.800781 \"/>\n",
       "<path style=\"fill-rule:nonzero;fill:rgb(52.941176%,80.784314%,92.156863%);fill-opacity:1;stroke-width:0.75;stroke-linecap:round;stroke-linejoin:round;stroke:rgb(0%,0%,0%);stroke-opacity:1;stroke-miterlimit:10;\" d=\"M 153.304688 416.800781 L 158.566406 416.800781 L 158.566406 302.132813 L 153.304688 302.132813 Z M 153.304688 416.800781 \"/>\n",
       "<path style=\"fill-rule:nonzero;fill:rgb(52.941176%,80.784314%,92.156863%);fill-opacity:1;stroke-width:0.75;stroke-linecap:round;stroke-linejoin:round;stroke:rgb(0%,0%,0%);stroke-opacity:1;stroke-miterlimit:10;\" d=\"M 158.5625 416.800781 L 163.824219 416.800781 L 163.824219 302.132813 L 158.5625 302.132813 Z M 158.5625 416.800781 \"/>\n",
       "<path style=\"fill-rule:nonzero;fill:rgb(52.941176%,80.784314%,92.156863%);fill-opacity:1;stroke-width:0.75;stroke-linecap:round;stroke-linejoin:round;stroke:rgb(0%,0%,0%);stroke-opacity:1;stroke-miterlimit:10;\" d=\"M 163.824219 416.800781 L 169.085938 416.800781 L 169.085938 244.800781 L 163.824219 244.800781 Z M 163.824219 416.800781 \"/>\n",
       "<path style=\"fill-rule:nonzero;fill:rgb(52.941176%,80.784314%,92.156863%);fill-opacity:1;stroke-width:0.75;stroke-linecap:round;stroke-linejoin:round;stroke:rgb(0%,0%,0%);stroke-opacity:1;stroke-miterlimit:10;\" d=\"M 169.085938 416.800781 L 174.347656 416.800781 L 174.347656 72.800781 L 169.085938 72.800781 Z M 169.085938 416.800781 \"/>\n",
       "<path style=\"fill-rule:nonzero;fill:rgb(52.941176%,80.784314%,92.156863%);fill-opacity:1;stroke-width:0.75;stroke-linecap:round;stroke-linejoin:round;stroke:rgb(0%,0%,0%);stroke-opacity:1;stroke-miterlimit:10;\" d=\"M 174.34375 416.800781 L 179.605469 416.800781 L 179.605469 302.132813 L 174.34375 302.132813 Z M 174.34375 416.800781 \"/>\n",
       "<path style=\"fill-rule:nonzero;fill:rgb(52.941176%,80.784314%,92.156863%);fill-opacity:1;stroke-width:0.75;stroke-linecap:round;stroke-linejoin:round;stroke:rgb(0%,0%,0%);stroke-opacity:1;stroke-miterlimit:10;\" d=\"M 179.605469 416.800781 L 184.867188 416.800781 L 184.867188 302.132813 L 179.605469 302.132813 Z M 179.605469 416.800781 \"/>\n",
       "<path style=\"fill-rule:nonzero;fill:rgb(52.941176%,80.784314%,92.156863%);fill-opacity:1;stroke-width:0.75;stroke-linecap:round;stroke-linejoin:round;stroke:rgb(0%,0%,0%);stroke-opacity:1;stroke-miterlimit:10;\" d=\"M 184.867188 416.800781 L 190.128906 416.800781 L 190.128906 302.132813 L 184.867188 302.132813 Z M 184.867188 416.800781 \"/>\n",
       "<path style=\"fill-rule:nonzero;fill:rgb(52.941176%,80.784314%,92.156863%);fill-opacity:1;stroke-width:0.75;stroke-linecap:round;stroke-linejoin:round;stroke:rgb(0%,0%,0%);stroke-opacity:1;stroke-miterlimit:10;\" d=\"M 190.125 416.800781 L 195.386719 416.800781 L 195.386719 187.46875 L 190.125 187.46875 Z M 190.125 416.800781 \"/>\n",
       "<path style=\"fill-rule:nonzero;fill:rgb(52.941176%,80.784314%,92.156863%);fill-opacity:1;stroke-width:0.75;stroke-linecap:round;stroke-linejoin:round;stroke:rgb(0%,0%,0%);stroke-opacity:1;stroke-miterlimit:10;\" d=\"M 195.386719 416.800781 L 200.648438 416.800781 L 200.648438 187.46875 L 195.386719 187.46875 Z M 195.386719 416.800781 \"/>\n",
       "<path style=\"fill-rule:nonzero;fill:rgb(52.941176%,80.784314%,92.156863%);fill-opacity:1;stroke-width:0.75;stroke-linecap:round;stroke-linejoin:round;stroke:rgb(0%,0%,0%);stroke-opacity:1;stroke-miterlimit:10;\" d=\"M 200.648438 416.800781 L 205.910156 416.800781 L 205.910156 187.46875 L 200.648438 187.46875 Z M 200.648438 416.800781 \"/>\n",
       "<path style=\"fill-rule:nonzero;fill:rgb(52.941176%,80.784314%,92.156863%);fill-opacity:1;stroke-width:0.75;stroke-linecap:round;stroke-linejoin:round;stroke:rgb(0%,0%,0%);stroke-opacity:1;stroke-miterlimit:10;\" d=\"M 205.90625 416.800781 L 211.167969 416.800781 L 211.167969 187.46875 L 205.90625 187.46875 Z M 205.90625 416.800781 \"/>\n",
       "<path style=\"fill-rule:nonzero;fill:rgb(52.941176%,80.784314%,92.156863%);fill-opacity:1;stroke-width:0.75;stroke-linecap:round;stroke-linejoin:round;stroke:rgb(0%,0%,0%);stroke-opacity:1;stroke-miterlimit:10;\" d=\"M 211.167969 416.800781 L 216.429688 416.800781 L 216.429688 302.132813 L 211.167969 302.132813 Z M 211.167969 416.800781 \"/>\n",
       "<path style=\"fill-rule:nonzero;fill:rgb(52.941176%,80.784314%,92.156863%);fill-opacity:1;stroke-width:0.75;stroke-linecap:round;stroke-linejoin:round;stroke:rgb(0%,0%,0%);stroke-opacity:1;stroke-miterlimit:10;\" d=\"M 216.425781 416.800781 L 221.6875 416.800781 L 221.6875 244.800781 L 216.425781 244.800781 Z M 216.425781 416.800781 \"/>\n",
       "<path style=\"fill-rule:nonzero;fill:rgb(52.941176%,80.784314%,92.156863%);fill-opacity:1;stroke-width:0.75;stroke-linecap:round;stroke-linejoin:round;stroke:rgb(0%,0%,0%);stroke-opacity:1;stroke-miterlimit:10;\" d=\"M 221.6875 416.800781 L 226.949219 416.800781 L 226.949219 302.132813 L 221.6875 302.132813 Z M 221.6875 416.800781 \"/>\n",
       "<path style=\"fill-rule:nonzero;fill:rgb(52.941176%,80.784314%,92.156863%);fill-opacity:1;stroke-width:0.75;stroke-linecap:round;stroke-linejoin:round;stroke:rgb(0%,0%,0%);stroke-opacity:1;stroke-miterlimit:10;\" d=\"M 226.949219 416.800781 L 232.210938 416.800781 L 232.210938 244.800781 L 226.949219 244.800781 Z M 226.949219 416.800781 \"/>\n",
       "<path style=\"fill-rule:nonzero;fill:rgb(52.941176%,80.784314%,92.156863%);fill-opacity:1;stroke-width:0.75;stroke-linecap:round;stroke-linejoin:round;stroke:rgb(0%,0%,0%);stroke-opacity:1;stroke-miterlimit:10;\" d=\"M 232.207031 416.800781 L 237.46875 416.800781 L 237.46875 302.132813 L 232.207031 302.132813 Z M 232.207031 416.800781 \"/>\n",
       "<path style=\"fill-rule:nonzero;fill:rgb(52.941176%,80.784314%,92.156863%);fill-opacity:1;stroke-width:0.75;stroke-linecap:round;stroke-linejoin:round;stroke:rgb(0%,0%,0%);stroke-opacity:1;stroke-miterlimit:10;\" d=\"M 237.46875 416.800781 L 242.730469 416.800781 L 242.730469 244.800781 L 237.46875 244.800781 Z M 237.46875 416.800781 \"/>\n",
       "<path style=\"fill-rule:nonzero;fill:rgb(52.941176%,80.784314%,92.156863%);fill-opacity:1;stroke-width:0.75;stroke-linecap:round;stroke-linejoin:round;stroke:rgb(0%,0%,0%);stroke-opacity:1;stroke-miterlimit:10;\" d=\"M 242.730469 416.800781 L 247.992188 416.800781 L 247.992188 302.132813 L 242.730469 302.132813 Z M 242.730469 416.800781 \"/>\n",
       "<path style=\"fill-rule:nonzero;fill:rgb(52.941176%,80.784314%,92.156863%);fill-opacity:1;stroke-width:0.75;stroke-linecap:round;stroke-linejoin:round;stroke:rgb(0%,0%,0%);stroke-opacity:1;stroke-miterlimit:10;\" d=\"M 247.988281 416.800781 L 253.25 416.800781 L 253.25 359.46875 L 247.988281 359.46875 Z M 247.988281 416.800781 \"/>\n",
       "<path style=\"fill-rule:nonzero;fill:rgb(52.941176%,80.784314%,92.156863%);fill-opacity:1;stroke-width:0.75;stroke-linecap:round;stroke-linejoin:round;stroke:rgb(0%,0%,0%);stroke-opacity:1;stroke-miterlimit:10;\" d=\"M 253.25 416.800781 L 258.511719 416.800781 Z M 253.25 416.800781 \"/>\n",
       "<path style=\"fill-rule:nonzero;fill:rgb(52.941176%,80.784314%,92.156863%);fill-opacity:1;stroke-width:0.75;stroke-linecap:round;stroke-linejoin:round;stroke:rgb(0%,0%,0%);stroke-opacity:1;stroke-miterlimit:10;\" d=\"M 258.507813 416.800781 L 263.769531 416.800781 L 263.769531 359.46875 L 258.507813 359.46875 Z M 258.507813 416.800781 \"/>\n",
       "<path style=\"fill-rule:nonzero;fill:rgb(52.941176%,80.784314%,92.156863%);fill-opacity:1;stroke-width:0.75;stroke-linecap:round;stroke-linejoin:round;stroke:rgb(0%,0%,0%);stroke-opacity:1;stroke-miterlimit:10;\" d=\"M 263.769531 416.800781 L 269.03125 416.800781 L 269.03125 359.46875 L 263.769531 359.46875 Z M 263.769531 416.800781 \"/>\n",
       "<path style=\"fill-rule:nonzero;fill:rgb(52.941176%,80.784314%,92.156863%);fill-opacity:1;stroke-width:0.75;stroke-linecap:round;stroke-linejoin:round;stroke:rgb(0%,0%,0%);stroke-opacity:1;stroke-miterlimit:10;\" d=\"M 269.03125 416.800781 L 274.292969 416.800781 L 274.292969 244.800781 L 269.03125 244.800781 Z M 269.03125 416.800781 \"/>\n",
       "<path style=\"fill-rule:nonzero;fill:rgb(52.941176%,80.784314%,92.156863%);fill-opacity:1;stroke-width:0.75;stroke-linecap:round;stroke-linejoin:round;stroke:rgb(0%,0%,0%);stroke-opacity:1;stroke-miterlimit:10;\" d=\"M 274.289063 416.800781 L 279.550781 416.800781 L 279.550781 359.46875 L 274.289063 359.46875 Z M 274.289063 416.800781 \"/>\n",
       "<path style=\"fill-rule:nonzero;fill:rgb(52.941176%,80.784314%,92.156863%);fill-opacity:1;stroke-width:0.75;stroke-linecap:round;stroke-linejoin:round;stroke:rgb(0%,0%,0%);stroke-opacity:1;stroke-miterlimit:10;\" d=\"M 279.550781 416.800781 L 284.8125 416.800781 L 284.8125 302.132813 L 279.550781 302.132813 Z M 279.550781 416.800781 \"/>\n",
       "<path style=\"fill-rule:nonzero;fill:rgb(52.941176%,80.784314%,92.156863%);fill-opacity:1;stroke-width:0.75;stroke-linecap:round;stroke-linejoin:round;stroke:rgb(0%,0%,0%);stroke-opacity:1;stroke-miterlimit:10;\" d=\"M 284.8125 416.800781 L 290.074219 416.800781 L 290.074219 187.46875 L 284.8125 187.46875 Z M 284.8125 416.800781 \"/>\n",
       "<path style=\"fill-rule:nonzero;fill:rgb(52.941176%,80.784314%,92.156863%);fill-opacity:1;stroke-width:0.75;stroke-linecap:round;stroke-linejoin:round;stroke:rgb(0%,0%,0%);stroke-opacity:1;stroke-miterlimit:10;\" d=\"M 290.070313 416.800781 L 295.332031 416.800781 L 295.332031 302.132813 L 290.070313 302.132813 Z M 290.070313 416.800781 \"/>\n",
       "<path style=\"fill-rule:nonzero;fill:rgb(52.941176%,80.784314%,92.156863%);fill-opacity:1;stroke-width:0.75;stroke-linecap:round;stroke-linejoin:round;stroke:rgb(0%,0%,0%);stroke-opacity:1;stroke-miterlimit:10;\" d=\"M 295.332031 416.800781 L 300.59375 416.800781 L 300.59375 359.46875 L 295.332031 359.46875 Z M 295.332031 416.800781 \"/>\n",
       "<path style=\"fill-rule:nonzero;fill:rgb(52.941176%,80.784314%,92.156863%);fill-opacity:1;stroke-width:0.75;stroke-linecap:round;stroke-linejoin:round;stroke:rgb(0%,0%,0%);stroke-opacity:1;stroke-miterlimit:10;\" d=\"M 300.589844 416.800781 L 305.851563 416.800781 L 305.851563 359.46875 L 300.589844 359.46875 Z M 300.589844 416.800781 \"/>\n",
       "<path style=\"fill-rule:nonzero;fill:rgb(52.941176%,80.784314%,92.156863%);fill-opacity:1;stroke-width:0.75;stroke-linecap:round;stroke-linejoin:round;stroke:rgb(0%,0%,0%);stroke-opacity:1;stroke-miterlimit:10;\" d=\"M 305.851563 416.800781 L 311.113281 416.800781 Z M 305.851563 416.800781 \"/>\n",
       "<path style=\"fill-rule:nonzero;fill:rgb(52.941176%,80.784314%,92.156863%);fill-opacity:1;stroke-width:0.75;stroke-linecap:round;stroke-linejoin:round;stroke:rgb(0%,0%,0%);stroke-opacity:1;stroke-miterlimit:10;\" d=\"M 311.113281 416.800781 L 316.375 416.800781 L 316.375 244.800781 L 311.113281 244.800781 Z M 311.113281 416.800781 \"/>\n",
       "<path style=\"fill-rule:nonzero;fill:rgb(52.941176%,80.784314%,92.156863%);fill-opacity:1;stroke-width:0.75;stroke-linecap:round;stroke-linejoin:round;stroke:rgb(0%,0%,0%);stroke-opacity:1;stroke-miterlimit:10;\" d=\"M 316.371094 416.800781 L 321.632813 416.800781 L 321.632813 302.132813 L 316.371094 302.132813 Z M 316.371094 416.800781 \"/>\n",
       "<path style=\"fill-rule:nonzero;fill:rgb(52.941176%,80.784314%,92.156863%);fill-opacity:1;stroke-width:0.75;stroke-linecap:round;stroke-linejoin:round;stroke:rgb(0%,0%,0%);stroke-opacity:1;stroke-miterlimit:10;\" d=\"M 321.632813 416.800781 L 326.894531 416.800781 L 326.894531 359.46875 L 321.632813 359.46875 Z M 321.632813 416.800781 \"/>\n",
       "<path style=\"fill-rule:nonzero;fill:rgb(52.941176%,80.784314%,92.156863%);fill-opacity:1;stroke-width:0.75;stroke-linecap:round;stroke-linejoin:round;stroke:rgb(0%,0%,0%);stroke-opacity:1;stroke-miterlimit:10;\" d=\"M 326.894531 416.800781 L 332.15625 416.800781 Z M 326.894531 416.800781 \"/>\n",
       "<path style=\"fill-rule:nonzero;fill:rgb(52.941176%,80.784314%,92.156863%);fill-opacity:1;stroke-width:0.75;stroke-linecap:round;stroke-linejoin:round;stroke:rgb(0%,0%,0%);stroke-opacity:1;stroke-miterlimit:10;\" d=\"M 332.152344 416.800781 L 337.414063 416.800781 Z M 332.152344 416.800781 \"/>\n",
       "<path style=\"fill-rule:nonzero;fill:rgb(52.941176%,80.784314%,92.156863%);fill-opacity:1;stroke-width:0.75;stroke-linecap:round;stroke-linejoin:round;stroke:rgb(0%,0%,0%);stroke-opacity:1;stroke-miterlimit:10;\" d=\"M 337.414063 416.800781 L 342.675781 416.800781 Z M 337.414063 416.800781 \"/>\n",
       "<path style=\"fill-rule:nonzero;fill:rgb(52.941176%,80.784314%,92.156863%);fill-opacity:1;stroke-width:0.75;stroke-linecap:round;stroke-linejoin:round;stroke:rgb(0%,0%,0%);stroke-opacity:1;stroke-miterlimit:10;\" d=\"M 342.675781 416.800781 L 347.9375 416.800781 Z M 342.675781 416.800781 \"/>\n",
       "<path style=\"fill-rule:nonzero;fill:rgb(52.941176%,80.784314%,92.156863%);fill-opacity:1;stroke-width:0.75;stroke-linecap:round;stroke-linejoin:round;stroke:rgb(0%,0%,0%);stroke-opacity:1;stroke-miterlimit:10;\" d=\"M 347.933594 416.800781 L 353.195313 416.800781 L 353.195313 302.132813 L 347.933594 302.132813 Z M 347.933594 416.800781 \"/>\n",
       "<path style=\"fill-rule:nonzero;fill:rgb(52.941176%,80.784314%,92.156863%);fill-opacity:1;stroke-width:0.75;stroke-linecap:round;stroke-linejoin:round;stroke:rgb(0%,0%,0%);stroke-opacity:1;stroke-miterlimit:10;\" d=\"M 353.195313 416.800781 L 358.457031 416.800781 L 358.457031 359.46875 L 353.195313 359.46875 Z M 353.195313 416.800781 \"/>\n",
       "<path style=\"fill-rule:nonzero;fill:rgb(52.941176%,80.784314%,92.156863%);fill-opacity:1;stroke-width:0.75;stroke-linecap:round;stroke-linejoin:round;stroke:rgb(0%,0%,0%);stroke-opacity:1;stroke-miterlimit:10;\" d=\"M 358.453125 416.800781 L 363.714844 416.800781 L 363.714844 359.46875 L 358.453125 359.46875 Z M 358.453125 416.800781 \"/>\n",
       "<path style=\"fill-rule:nonzero;fill:rgb(52.941176%,80.784314%,92.156863%);fill-opacity:1;stroke-width:0.75;stroke-linecap:round;stroke-linejoin:round;stroke:rgb(0%,0%,0%);stroke-opacity:1;stroke-miterlimit:10;\" d=\"M 363.714844 416.800781 L 368.976563 416.800781 Z M 363.714844 416.800781 \"/>\n",
       "<path style=\"fill-rule:nonzero;fill:rgb(52.941176%,80.784314%,92.156863%);fill-opacity:1;stroke-width:0.75;stroke-linecap:round;stroke-linejoin:round;stroke:rgb(0%,0%,0%);stroke-opacity:1;stroke-miterlimit:10;\" d=\"M 368.976563 416.800781 L 374.238281 416.800781 Z M 368.976563 416.800781 \"/>\n",
       "<path style=\"fill-rule:nonzero;fill:rgb(52.941176%,80.784314%,92.156863%);fill-opacity:1;stroke-width:0.75;stroke-linecap:round;stroke-linejoin:round;stroke:rgb(0%,0%,0%);stroke-opacity:1;stroke-miterlimit:10;\" d=\"M 374.234375 416.800781 L 379.496094 416.800781 Z M 374.234375 416.800781 \"/>\n",
       "<path style=\"fill-rule:nonzero;fill:rgb(52.941176%,80.784314%,92.156863%);fill-opacity:1;stroke-width:0.75;stroke-linecap:round;stroke-linejoin:round;stroke:rgb(0%,0%,0%);stroke-opacity:1;stroke-miterlimit:10;\" d=\"M 379.496094 416.800781 L 384.757813 416.800781 Z M 379.496094 416.800781 \"/>\n",
       "<path style=\"fill-rule:nonzero;fill:rgb(52.941176%,80.784314%,92.156863%);fill-opacity:1;stroke-width:0.75;stroke-linecap:round;stroke-linejoin:round;stroke:rgb(0%,0%,0%);stroke-opacity:1;stroke-miterlimit:10;\" d=\"M 384.757813 416.800781 L 390.019531 416.800781 Z M 384.757813 416.800781 \"/>\n",
       "<path style=\"fill-rule:nonzero;fill:rgb(52.941176%,80.784314%,92.156863%);fill-opacity:1;stroke-width:0.75;stroke-linecap:round;stroke-linejoin:round;stroke:rgb(0%,0%,0%);stroke-opacity:1;stroke-miterlimit:10;\" d=\"M 390.015625 416.800781 L 395.277344 416.800781 Z M 390.015625 416.800781 \"/>\n",
       "<path style=\"fill-rule:nonzero;fill:rgb(52.941176%,80.784314%,92.156863%);fill-opacity:1;stroke-width:0.75;stroke-linecap:round;stroke-linejoin:round;stroke:rgb(0%,0%,0%);stroke-opacity:1;stroke-miterlimit:10;\" d=\"M 395.277344 416.800781 L 400.539063 416.800781 Z M 395.277344 416.800781 \"/>\n",
       "<path style=\"fill-rule:nonzero;fill:rgb(52.941176%,80.784314%,92.156863%);fill-opacity:1;stroke-width:0.75;stroke-linecap:round;stroke-linejoin:round;stroke:rgb(0%,0%,0%);stroke-opacity:1;stroke-miterlimit:10;\" d=\"M 400.535156 416.800781 L 405.796875 416.800781 L 405.796875 359.46875 L 400.535156 359.46875 Z M 400.535156 416.800781 \"/>\n",
       "<path style=\"fill-rule:nonzero;fill:rgb(52.941176%,80.784314%,92.156863%);fill-opacity:1;stroke-width:0.75;stroke-linecap:round;stroke-linejoin:round;stroke:rgb(0%,0%,0%);stroke-opacity:1;stroke-miterlimit:10;\" d=\"M 405.796875 416.800781 L 411.058594 416.800781 Z M 405.796875 416.800781 \"/>\n",
       "<path style=\"fill-rule:nonzero;fill:rgb(52.941176%,80.784314%,92.156863%);fill-opacity:1;stroke-width:0.75;stroke-linecap:round;stroke-linejoin:round;stroke:rgb(0%,0%,0%);stroke-opacity:1;stroke-miterlimit:10;\" d=\"M 411.058594 416.800781 L 416.320313 416.800781 Z M 411.058594 416.800781 \"/>\n",
       "<path style=\"fill-rule:nonzero;fill:rgb(52.941176%,80.784314%,92.156863%);fill-opacity:1;stroke-width:0.75;stroke-linecap:round;stroke-linejoin:round;stroke:rgb(0%,0%,0%);stroke-opacity:1;stroke-miterlimit:10;\" d=\"M 416.316406 416.800781 L 421.578125 416.800781 Z M 416.316406 416.800781 \"/>\n",
       "<path style=\"fill-rule:nonzero;fill:rgb(52.941176%,80.784314%,92.156863%);fill-opacity:1;stroke-width:0.75;stroke-linecap:round;stroke-linejoin:round;stroke:rgb(0%,0%,0%);stroke-opacity:1;stroke-miterlimit:10;\" d=\"M 421.578125 416.800781 L 426.839844 416.800781 Z M 421.578125 416.800781 \"/>\n",
       "<path style=\"fill-rule:nonzero;fill:rgb(52.941176%,80.784314%,92.156863%);fill-opacity:1;stroke-width:0.75;stroke-linecap:round;stroke-linejoin:round;stroke:rgb(0%,0%,0%);stroke-opacity:1;stroke-miterlimit:10;\" d=\"M 426.839844 416.800781 L 432.101563 416.800781 Z M 426.839844 416.800781 \"/>\n",
       "<path style=\"fill-rule:nonzero;fill:rgb(52.941176%,80.784314%,92.156863%);fill-opacity:1;stroke-width:0.75;stroke-linecap:round;stroke-linejoin:round;stroke:rgb(0%,0%,0%);stroke-opacity:1;stroke-miterlimit:10;\" d=\"M 432.097656 416.800781 L 437.359375 416.800781 Z M 432.097656 416.800781 \"/>\n",
       "<path style=\"fill-rule:nonzero;fill:rgb(52.941176%,80.784314%,92.156863%);fill-opacity:1;stroke-width:0.75;stroke-linecap:round;stroke-linejoin:round;stroke:rgb(0%,0%,0%);stroke-opacity:1;stroke-miterlimit:10;\" d=\"M 437.359375 416.800781 L 442.621094 416.800781 Z M 437.359375 416.800781 \"/>\n",
       "<path style=\"fill-rule:nonzero;fill:rgb(52.941176%,80.784314%,92.156863%);fill-opacity:1;stroke-width:0.75;stroke-linecap:round;stroke-linejoin:round;stroke:rgb(0%,0%,0%);stroke-opacity:1;stroke-miterlimit:10;\" d=\"M 442.621094 416.800781 L 447.882813 416.800781 Z M 442.621094 416.800781 \"/>\n",
       "<path style=\"fill-rule:nonzero;fill:rgb(52.941176%,80.784314%,92.156863%);fill-opacity:1;stroke-width:0.75;stroke-linecap:round;stroke-linejoin:round;stroke:rgb(0%,0%,0%);stroke-opacity:1;stroke-miterlimit:10;\" d=\"M 447.878906 416.800781 L 453.140625 416.800781 L 453.140625 359.46875 L 447.878906 359.46875 Z M 447.878906 416.800781 \"/>\n",
       "<path style=\"fill-rule:nonzero;fill:rgb(52.941176%,80.784314%,92.156863%);fill-opacity:1;stroke-width:0.75;stroke-linecap:round;stroke-linejoin:round;stroke:rgb(0%,0%,0%);stroke-opacity:1;stroke-miterlimit:10;\" d=\"M 453.140625 416.800781 L 458.402344 416.800781 L 458.402344 359.46875 L 453.140625 359.46875 Z M 453.140625 416.800781 \"/>\n",
       "</g>\n",
       "</g>\n",
       "</svg>\n"
      ],
      "text/plain": [
       "Plot with title \"Histogram of wynik\""
      ]
     },
     "metadata": {
      "image/svg+xml": {
       "isolated": true
      }
     },
     "output_type": "display_data"
    }
   ],
   "source": [
    "# losowa macierz\n",
    "w<-5 # wiersze\n",
    "k<-3 # kolumny\n",
    "wynik<-c()\n",
    "for (i in 1:100) { \n",
    "    proba<-table(sample( x = 1:(w*k), size = 1000, replace = TRUE ))\n",
    "    matryca<-rep(0,(w*k))\n",
    "    names(matryca)<-1:(w*k)\n",
    "    matryca[names(matryca)%in%names(proba)]<-proba\n",
    "    proba<-matrix(matryca, w, k)\n",
    "    #print(proba)\n",
    "    wynik[i]<-OMEGA_MDA(proba/sum(proba))   \n",
    "}\n",
    "hist( wynik, 100, col=\"skyblue\")"
   ]
  },
  {
   "cell_type": "markdown",
   "metadata": {},
   "source": [
    "# 5. Interpretacja nowej miary zależności\n",
    "\n",
    "\n",
    "Najważniejsza jest jednak interpretacja miary zależności ωX|Y, która stanowi jej podstawowe uzasadnienie.\n",
    "Inspiracja do interpretacji miary zależności ma dwa źródła. Pierwszym jest miara proporcjonalnej predykcji (Goodman, L.A. i Kruskal, W,H. 1954. Measures of association for cross classifications. “Journal of the American Statistical Association” 49: 732-764, zwłaszcza strony 759-760), a drugim - interpretacja współczynnika koncentracji Gini w kategoriach gry (Pyatt, G. 1976. On the interpretation and disaggregation of Gini coefficient. “The Economic Journal” 86: 243-255).\n",
    "\n",
    "Najważniejsza jest jednak interpretacja miary zależności ωX|Y, która stanowi jej podstawowe uzasadnienie.\n",
    "Inspiracja do interpretacji miary zależności ma dwa źródła. Pierwszym jest miara proporcjonalnej predykcji (Goodman, L.A. i Kruskal, W,H. 1954. Measures of association for cross classifications. “Journal of the American Statistical Association” 49: 732-764, zwłaszcza strony 759-760), a drugim - interpretacja współczynnika koncentracji Gini w kategoriach gry (Pyatt, G. 1976. On the interpretation and disaggregation of Gini coefficient. “The Economic Journal” 86: 243-255)."
   ]
  },
  {
   "cell_type": "markdown",
   "metadata": {},
   "source": [
    "## 5.1. Interpretacja 1\n",
    "\n",
    "Postawmy sobie zadanie polegające na „odgadywaniu” wartości zmiennej X. W tym celu przypiszmy losowo obiektom w zbiorowości różne wartości $x_i$ z prawdopodobieństwami równymi częstościom P(X=xi), z jakimi występują w tej zbiorowości.Częstość popełniania błędu przy tym przewidywaniu jest określona za pomocą parametru nazywanego różnorodnością klasyfikacji.\n",
    "\n",
    "$$K(X)= 1 - \\sum_{x_i \\in X} P (X = x_i)^2$$\n",
    "\n",
    "Jeżeli przewidujemy na podstawie informacji, że obiekt ma wartość zmiennej Y równą y_g, to warunkowa częstość popełniania błędu jest równa:\n",
    "\n",
    "$$K(X|Y=y_g)= 1 - \\sum_{x_i \\in X} P (X = x_i|Y=y_g)^2$$\n",
    "\n",
    "Miara zależności statystycznej zmiennej X od zmiennej Y w sensie proporcjonalnej predykcji ma postać:\n",
    "\n",
    "$$\\tau_X = \\frac{K(X)-E(K(X|Y)) }{K(X)} $$"
   ]
  },
  {
   "cell_type": "markdown",
   "metadata": {},
   "source": [
    "## 5.1. Interpretacja 2\n",
    "\n",
    "Graham Pyatt sformułował interesującą interpretację współczynnika koncentracji Gini w postaci gry czy też eksperymentu. Dla każdej jednostki o określonym dochodzie wybiera się losowo dochód z prawdopodobieństwami określonymi w rozkładzie dochodów w danej populacji. Jeżeli aktualny dochód jednostki jest niższy od wybranego losowo dochodu, to otrzymuje ona dochód wylosowany, a jeżeli jest wyższy od wylosowanego, to zachowuje ona swój aktualny dochód. Współczynnik koncentracji Gini ma interpretację jako wartość oczekiwana zysku w tej grze, tj. średnia wielkość zwiększenia dochodów. \n",
    "\n",
    "$$G = \\frac{\\frac{1}{n^2} \\sum_{i=1}^n \\sum_{k=1}^n max(0, x_i-x_k)}{ \\frac{1}{n} \\sum_{i=1}^n x_i  }$$\n",
    "\n",
    "gdzie wartości zmiennej X oznaczają dochody jednostek.\n",
    "\n",
    "Kategorie zmiennej X są uporządkowane ze względu na częstość ich wyborów w danej zbiorowości: od kategorii wybieranej najczęściej $x_1$, do kategorii najrzadziej wybieranej $x_n$.\n",
    "\n",
    "Częstości skumulowane do kategorii xi będziemy oznaczali przez $F_x (x_j)$ tj.:\n",
    "\n",
    "$$F_x(x_i) = \\sum_{k=1}^i P(X = x_k)$$\n",
    "\n",
    "Analog średniej różnicy MDA można przedstawić w innej postaci.\n",
    "\n",
    "$$MDA(X) = \\frac{2( \\sum_{i=1}^n i P(X=x_i) -1) }{n-1}=\\frac{2( \\sum_{i=1}^n F_x(X=x_i) -1) }{n-1}=\\frac{2( \\sum_{i=1}^{n-1} F_x(X=x_i)) }{n-1} $$\n",
    "\n",
    "\n",
    "Porównajmy jednostkę __a__ należącą do kategorii $x_i$ z jednostką __b__ należącą do kategorii $x_k$. Niech ocena tego porównania będzie równa 0, gdy jednostka __a__ należy do kategorii wybieranej częściej lub równie często jak kategoria do której należy jednostka __b__ oraz równa 1, gdy jednostka __a__ należy do kategorii wybieranej rzadziej od kategorii do której należy jednostka __b__. Zasadę tą zapisujemy w następujący sposób:\n",
    "\n",
    "$$ l(a,b) =\n",
    "  \\begin{cases}\n",
    "    0  \\quad gdy \\quad X(a)=x_i \\wedge X(b)=x_k \\wedge (i \\leq k)   \\\\\n",
    "    1  \\quad gdy \\quad X(a)=x_i \\wedge X(b)=x_k \\wedge (i > k)    \\\\\n",
    "  \\end{cases}\n",
    "$$\n",
    "\n",
    "Ocena ta jest więc oceną braku zgodności z uporządkowaniem kategorii wyznaczonym przez częstości ich wyborów.\n",
    "\n",
    "Porównując całe kategorie $x_i$ oraz $x_k$ otrzymujemy:\n",
    "\n",
    "$$ l(x_i,x_k) =\n",
    "  \\begin{cases}\n",
    "    0  \\quad  \\quad \\quad \\quad  gdy \\quad (i \\leq k)   \\\\\n",
    "    P(X=x_k)  \\quad gdy \\quad (i > k)    \\\\\n",
    "  \\end{cases}\n",
    "$$\n",
    "\n",
    "Sumując te oceny po wszystkich kategoriach $x_k$ otrzymujemy:\n",
    "\n",
    "$$\\sum_{k=1}^n l(x_i,x_k) = \\sum_{k=1}^i P(X=x_k) = F_x(x_i)$$ \n",
    "\n",
    "Wyjaśnijmy przy tym, że: \n",
    "\n",
    "$$F_x(x_i)=\\sum_{k=1}^i P(X=x_k)$$ \n",
    "\n",
    "| i | $ip_i$| | | | | | | | \n",
    "|---|------|-|-|-|-|-|-|-|\n",
    "|  1|$1p_1$|$p_1$|||$\\cdots$|||$F_x(x_1)$|\n",
    "|  2|$2p_2$|$p_2$|$p_2$||$\\cdots$|||$F_x(x_2)$|\n",
    "|  3|$3p_3$|$p_3$|$p_3$|$p_3$|$\\cdots$|||$F_x(x_3)$|\n",
    "| $ \\cdots$|$ \\cdots$|$ \\cdots$|$ \\cdots$|$ \\cdots$|$\\cdots$|$\\cdots$|$\\cdots$|$\\cdots$|\n",
    "| $n-1$ |$(n-1)p_{n-1}$|$p_{n-1}$|$p_{n-1}$|$p_{n-1}$|$\\cdots$|$p_{n-1}$||$F_x(x_{n-1})$|\n",
    "| $n$ |$np_n$|$p_n$|$p_n$|$p_n$|$\\cdots$|$p_n$|$p_n$|$F_x(x_n)$|\n",
    "\n",
    "Możemy użyć tej własności w odniesieniu do miary MDA i zapisać ją w następujący sposób:\n",
    "\n",
    "$$MDA(X)= \\frac{2(\\sum_{i=2}^n F_x(x_i)) }{n-1}$$\n",
    "\n",
    "Analog średniej różnicy MDA jest funkcją oceny braku zgodności w rozkładzie zmiennej X z uporządkowaniem kategorii wyznaczonym przez częstości ich wyborów.\n",
    "\n",
    "Analogicznie dla rozkładu warunkowego zmiennej X pod warunkiem, że zmienna Y przyjmuje wartość y_g.\n",
    "\n",
    "$$MDA(X|Y=y_g)= \\frac{2(\\sum_{i=2}^n F_{X|Y=y_g}(x_i)) }{n-1}$$\n",
    "\n",
    "Zatem\n",
    "\n",
    "$$\\omega_{X|Y} = \\frac{MDA(X)-E(MDA(X|Y))}{MDA(X)}= \\frac{ \\frac{2(\\sum_{i=2}^n F_X(x_i)) }{n-1}-\\sum_{g=1}^G P(Y=y_g)\\frac{2(\\sum_{i=2}^n F_{X|Y=y_g}(x_i)) }{n-1}}{\\frac{2(\\sum_{i=2}^n F_X(x_i)) }{n-1}} = \\frac{ \\sum_{i=2}^n F_X(x_i)- \n",
    "\\sum_{g=1}^G P(Y-y_g)\\sum_{i=2}^n F_{X|Y=y_g(x_i)})            }{\\sum_{i=2}^n F_X(x_i)}$$\n",
    "\n",
    "Wartość tej miary oznacza stopień redukcji oceny braku zgodności w rozkładzie zmiennej X z uporządkowaniem kategorii wyznaczonym przez częstości ich wyborów w wyniku tego, że wykorzystana została informacja o wartości zmiennej Y."
   ]
  },
  {
   "cell_type": "markdown",
   "metadata": {},
   "source": [
    "\n",
    "# 6. Bibliografia\n",
    "\n",
    " * Allison, Paul D. 1978. Measures of inequality. “American Sociological Review” 43: 865-80.\n",
    " * Allison, Paul D. 1979. Reply to Jasso. “American Sociological Review” 44: 870-872.\n",
    " * Ceriani, Lidia; Verme Paolo. 2012. The origins of the Gini index: extracts from «Variabilità and Mutabilità» by Corrado Gini. “Journal of Economic Inequality” 10: 421-443.\n",
    " * Coulter, Philip B. 1989. Measurement Inequality. A Methodological Handbook. Boulder: Westview Press.\n",
    " * David, H.A. 1968. Gini’s mean difference rediscovered. “Biometrika” 55: 573-575.\n",
    " * Goodman, Leo A., Kruskal, William H. 1954. Measures of association for cross classifications. “Journal of the American Statistical Association” 49: 732-764.\n",
    " * Jasso, Guillermina. 1979. On Gini's mean difference and Gini's index of concentration. “American Sociological Review” 44: 867-870.\n",
    " * Kendall, Maurice G.; Stuart, Alan. 1958. The Advanced Theory of Statistics. Vol. I. New York: Hafner Publishing Co.\n",
    " * Pyatt, Graham. 1976. On the interpretation and disaggregation of Gini coefficient. “The Economic Journal” 86: 243-255.\n",
    " * Ray, James L.; Singer, David. 1973. Measuring the concentration of power in the international system. “Sociological Methods and Research” 1: 403-437.\n",
    " * Santos, Jesús Busulto; Guerrero, J. Javier Busto. 2010. Gini’s concentration ratio (1908-1914). “Electronic Journal for History of Probability and Statistics” 6: 1-42.\n",
    " * Tschuprov, Alexander A. 1939. Principles of the Mathematical Theory of Correlation. London: W. Hodge. Pierwsze wydanie w języku niemieckim w 1925 r.\n",
    " * Yitzhaki, Shlomo. 2013. More Than a Dozen Alternative Ways of Spelling Gini. W: Yitzhaki, Shlomo; Schechtman, Edna (red.) The Gini Methodology: A Primer on a Statistical Methodology. Chapter 2. Springer Series in Statistics 272, New York: Springer.\n",
    " * Wilcox, Allen R. 1973. Indices of qualitative variation and political measurement. “Western Political Quarterly” 26: 325-343."
   ]
  },
  {
   "cell_type": "code",
   "execution_count": null,
   "metadata": {
    "collapsed": true
   },
   "outputs": [],
   "source": []
  }
 ],
 "metadata": {
  "kernelspec": {
   "display_name": "R",
   "language": "R",
   "name": "ir"
  },
  "language_info": {
   "codemirror_mode": "r",
   "file_extension": ".r",
   "mimetype": "text/x-r-source",
   "name": "R",
   "pygments_lexer": "r",
   "version": "3.1.1"
  }
 },
 "nbformat": 4,
 "nbformat_minor": 0
}
