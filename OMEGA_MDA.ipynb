{
 "cells": [
  {
   "cell_type": "markdown",
   "metadata": {},
   "source": [
    "# <center> ZALEŻNOŚĆ STATYSTYCZNA UPORZĄDKOWANIA KATEGORII OD ZMIENNYCH NOMINALNYCH - Grzegorz Lissowski </center>\n",
    "\n",
    "\n",
    "### Prawa autorskie\n",
    "\n",
    "Niniejsza prezentacja w całości stanowi streszczenie referatu wygłoszonego we wrześniu 2014 roku na konferencji w Jabłonnie przez __prof. Grzegorza Lissowskiego__ dotyczącego nowej miary zależności statystycznej. Pełen opis proponowanej nowej miary zależności znajduje się w prezentacji: [ZALEŻNOŚĆ STATYSTYCZNA UPORZĄDKOWANIA KATEGORII OD ZMIENNYCH NOMINALNYCH](G_Lissowski_prezentacja.pdf). Poniższy tekst w całości opiera się na pracy prof. Grzegorza Lissowskiego"
   ]
  },
  {
   "cell_type": "markdown",
   "metadata": {},
   "source": [
    "# 1. Wstęp i omówienie przykładowego zagadnienia\n",
    "\n",
    "Realizujemy badanie ankietowe, w którym respondenci mają za zadanie wybrać jedną partię, na którą oddaliby swój głos (gdyby wybory odbywały się w najbliższą niedzielę). Wynikiem takiego badania jest rozkład popoparia dla poszczególnych partii. Wyobraźmy sobie, że wygląda on następująco:"
   ]
  },
  {
   "cell_type": "code",
   "execution_count": 22,
   "metadata": {
    "collapsed": false
   },
   "outputs": [
    {
     "data": {
      "image/png": "[encoded data removed]",
      "image/svg+xml": [
       "<?xml version=\"1.0\" encoding=\"UTF-8\"?>\n",
       "<svg xmlns=\"http://www.w3.org/2000/svg\" xmlns:xlink=\"http://www.w3.org/1999/xlink\" width=\"504pt\" height=\"504pt\" viewBox=\"0 0 504 504\" version=\"1.1\">\n",
       "<defs>\n",
       "<g>\n",
       "<symbol overflow=\"visible\" id=\"glyph0-0\">\n",
       "<path style=\"stroke:none;\" d=\"M 0.925781 0 L 0.925781 -8.589844 L 4.164063 -8.589844 C 4.734375 -8.589844 5.171875 -8.5625 5.472656 -8.507813 C 5.894531 -8.4375 6.246094 -8.300781 6.53125 -8.105469 C 6.816406 -7.90625 7.046875 -7.632813 7.222656 -7.277344 C 7.394531 -6.917969 7.480469 -6.527344 7.484375 -6.105469 C 7.480469 -5.371094 7.25 -4.75 6.785156 -4.25 C 6.316406 -3.742188 5.476563 -3.492188 4.265625 -3.492188 L 2.0625 -3.492188 L 2.0625 0 Z M 2.0625 -4.507813 L 4.28125 -4.507813 C 5.011719 -4.503906 5.535156 -4.640625 5.847656 -4.917969 C 6.15625 -5.1875 6.308594 -5.574219 6.3125 -6.070313 C 6.308594 -6.429688 6.21875 -6.734375 6.039063 -6.992188 C 5.855469 -7.242188 5.617188 -7.414063 5.320313 -7.5 C 5.125 -7.550781 4.769531 -7.574219 4.257813 -7.578125 L 2.0625 -7.578125 Z M 2.0625 -4.507813 \"/>\n",
       "</symbol>\n",
       "<symbol overflow=\"visible\" id=\"glyph0-1\">\n",
       "<path style=\"stroke:none;\" d=\"M 4.851563 -0.765625 C 4.460938 -0.433594 4.082031 -0.199219 3.722656 -0.0625 C 3.355469 0.0742188 2.96875 0.140625 2.5625 0.140625 C 1.875 0.140625 1.351563 -0.0234375 0.984375 -0.359375 C 0.617188 -0.6875 0.433594 -1.117188 0.433594 -1.640625 C 0.433594 -1.945313 0.5 -2.222656 0.640625 -2.472656 C 0.777344 -2.722656 0.960938 -2.925781 1.1875 -3.082031 C 1.410156 -3.234375 1.664063 -3.347656 1.945313 -3.429688 C 2.152344 -3.476563 2.464844 -3.53125 2.882813 -3.585938 C 3.734375 -3.6875 4.359375 -3.808594 4.765625 -3.949219 C 4.765625 -4.089844 4.769531 -4.179688 4.769531 -4.226563 C 4.769531 -4.648438 4.667969 -4.953125 4.46875 -5.132813 C 4.199219 -5.371094 3.800781 -5.488281 3.269531 -5.492188 C 2.769531 -5.488281 2.402344 -5.402344 2.167969 -5.230469 C 1.933594 -5.054688 1.757813 -4.746094 1.648438 -4.304688 L 0.617188 -4.445313 C 0.707031 -4.886719 0.863281 -5.242188 1.078125 -5.515625 C 1.289063 -5.78125 1.597656 -5.992188 2.007813 -6.140625 C 2.410156 -6.289063 2.882813 -6.363281 3.421875 -6.363281 C 3.953125 -6.363281 4.382813 -6.300781 4.714844 -6.175781 C 5.046875 -6.050781 5.292969 -5.890625 5.449219 -5.703125 C 5.605469 -5.511719 5.714844 -5.273438 5.777344 -4.984375 C 5.808594 -4.804688 5.824219 -4.480469 5.828125 -4.015625 L 5.828125 -2.609375 C 5.824219 -1.625 5.847656 -1.003906 5.894531 -0.746094 C 5.941406 -0.484375 6.03125 -0.238281 6.164063 0 L 5.0625 0 C 4.953125 -0.21875 4.882813 -0.472656 4.851563 -0.765625 Z M 4.765625 -3.125 C 4.375 -2.964844 3.800781 -2.832031 3.039063 -2.726563 C 2.605469 -2.660156 2.300781 -2.589844 2.121094 -2.515625 C 1.941406 -2.433594 1.800781 -2.320313 1.703125 -2.171875 C 1.605469 -2.019531 1.558594 -1.851563 1.558594 -1.671875 C 1.558594 -1.386719 1.664063 -1.152344 1.875 -0.96875 C 2.085938 -0.777344 2.398438 -0.683594 2.8125 -0.6875 C 3.21875 -0.683594 3.578125 -0.773438 3.894531 -0.953125 C 4.210938 -1.128906 4.445313 -1.371094 4.59375 -1.679688 C 4.707031 -1.917969 4.761719 -2.269531 4.765625 -2.734375 Z M 4.765625 -3.125 \"/>\n",
       "</symbol>\n",
       "<symbol overflow=\"visible\" id=\"glyph0-2\">\n",
       "<path style=\"stroke:none;\" d=\"M 0.78125 0 L 0.78125 -6.222656 L 1.726563 -6.222656 L 1.726563 -5.28125 C 1.96875 -5.71875 2.191406 -6.011719 2.398438 -6.152344 C 2.601563 -6.292969 2.828125 -6.363281 3.078125 -6.363281 C 3.429688 -6.363281 3.792969 -6.25 4.160156 -6.023438 L 3.796875 -5.046875 C 3.539063 -5.195313 3.28125 -5.273438 3.023438 -5.273438 C 2.792969 -5.273438 2.585938 -5.203125 2.402344 -5.066406 C 2.214844 -4.925781 2.082031 -4.734375 2.007813 -4.488281 C 1.890625 -4.113281 1.832031 -3.703125 1.835938 -3.257813 L 1.835938 0 Z M 0.78125 0 \"/>\n",
       "</symbol>\n",
       "<symbol overflow=\"visible\" id=\"glyph0-3\">\n",
       "<path style=\"stroke:none;\" d=\"M 3.09375 -0.945313 L 3.246094 -0.0117188 C 2.949219 0.0507813 2.683594 0.0820313 2.449219 0.0820313 C 2.066406 0.0820313 1.769531 0.0234375 1.558594 -0.0976563 C 1.347656 -0.21875 1.199219 -0.378906 1.113281 -0.578125 C 1.027344 -0.773438 0.984375 -1.1875 0.984375 -1.820313 L 0.984375 -5.402344 L 0.210938 -5.402344 L 0.210938 -6.222656 L 0.984375 -6.222656 L 0.984375 -7.765625 L 2.03125 -8.398438 L 2.03125 -6.222656 L 3.09375 -6.222656 L 3.09375 -5.402344 L 2.03125 -5.402344 L 2.03125 -1.765625 C 2.027344 -1.460938 2.046875 -1.269531 2.085938 -1.183594 C 2.125 -1.097656 2.183594 -1.027344 2.269531 -0.976563 C 2.351563 -0.925781 2.472656 -0.902344 2.632813 -0.902344 C 2.742188 -0.902344 2.898438 -0.914063 3.09375 -0.945313 Z M 3.09375 -0.945313 \"/>\n",
       "</symbol>\n",
       "<symbol overflow=\"visible\" id=\"glyph0-4\">\n",
       "<path style=\"stroke:none;\" d=\"M 0.796875 -7.375 L 0.796875 -8.589844 L 1.851563 -8.589844 L 1.851563 -7.375 Z M 0.796875 0 L 0.796875 -6.222656 L 1.851563 -6.222656 L 1.851563 0 Z M 0.796875 0 \"/>\n",
       "</symbol>\n",
       "<symbol overflow=\"visible\" id=\"glyph0-5\">\n",
       "<path style=\"stroke:none;\" d=\"\"/>\n",
       "</symbol>\n",
       "<symbol overflow=\"visible\" id=\"glyph0-6\">\n",
       "<path style=\"stroke:none;\" d=\"M 4.46875 0 L 3.414063 0 L 3.414063 -6.71875 C 3.160156 -6.476563 2.828125 -6.234375 2.414063 -5.996094 C 2 -5.75 1.628906 -5.570313 1.304688 -5.449219 L 1.304688 -6.46875 C 1.894531 -6.742188 2.410156 -7.078125 2.851563 -7.476563 C 3.292969 -7.871094 3.605469 -8.253906 3.789063 -8.625 L 4.46875 -8.625 Z M 4.46875 0 \"/>\n",
       "</symbol>\n",
       "<symbol overflow=\"visible\" id=\"glyph0-7\">\n",
       "<path style=\"stroke:none;\" d=\"M 6.039063 -1.015625 L 6.039063 0 L 0.363281 0 C 0.355469 -0.253906 0.394531 -0.496094 0.484375 -0.734375 C 0.628906 -1.117188 0.859375 -1.5 1.179688 -1.875 C 1.492188 -2.25 1.953125 -2.683594 2.5625 -3.175781 C 3.492188 -3.941406 4.125 -4.546875 4.453125 -4.992188 C 4.78125 -5.4375 4.945313 -5.859375 4.945313 -6.265625 C 4.945313 -6.679688 4.792969 -7.03125 4.496094 -7.320313 C 4.191406 -7.601563 3.804688 -7.746094 3.328125 -7.75 C 2.820313 -7.746094 2.414063 -7.59375 2.109375 -7.292969 C 1.804688 -6.984375 1.648438 -6.5625 1.648438 -6.03125 L 0.5625 -6.140625 C 0.632813 -6.945313 0.910156 -7.558594 1.398438 -7.988281 C 1.878906 -8.410156 2.53125 -8.625 3.351563 -8.625 C 4.171875 -8.625 4.824219 -8.394531 5.308594 -7.9375 C 5.789063 -7.480469 6.027344 -6.914063 6.03125 -6.242188 C 6.027344 -5.894531 5.957031 -5.558594 5.820313 -5.226563 C 5.675781 -4.890625 5.441406 -4.539063 5.117188 -4.175781 C 4.789063 -3.804688 4.25 -3.300781 3.492188 -2.664063 C 2.859375 -2.128906 2.453125 -1.769531 2.273438 -1.582031 C 2.09375 -1.394531 1.945313 -1.203125 1.828125 -1.015625 Z M 6.039063 -1.015625 \"/>\n",
       "</symbol>\n",
       "<symbol overflow=\"visible\" id=\"glyph0-8\">\n",
       "<path style=\"stroke:none;\" d=\"M 0.503906 -2.265625 L 1.558594 -2.40625 C 1.679688 -1.808594 1.882813 -1.378906 2.175781 -1.113281 C 2.464844 -0.847656 2.820313 -0.714844 3.242188 -0.71875 C 3.734375 -0.714844 4.152344 -0.886719 4.496094 -1.234375 C 4.832031 -1.574219 5.003906 -2 5.007813 -2.515625 C 5.003906 -2.996094 4.847656 -3.394531 4.535156 -3.710938 C 4.21875 -4.023438 3.816406 -4.183594 3.328125 -4.183594 C 3.128906 -4.183594 2.878906 -4.144531 2.585938 -4.066406 L 2.703125 -4.992188 C 2.765625 -4.984375 2.824219 -4.980469 2.871094 -4.980469 C 3.320313 -4.980469 3.722656 -5.097656 4.085938 -5.332031 C 4.441406 -5.566406 4.621094 -5.925781 4.625 -6.414063 C 4.621094 -6.800781 4.492188 -7.121094 4.230469 -7.375 C 3.964844 -7.628906 3.625 -7.757813 3.21875 -7.757813 C 2.804688 -7.757813 2.464844 -7.628906 2.191406 -7.371094 C 1.917969 -7.113281 1.742188 -6.726563 1.664063 -6.210938 L 0.609375 -6.398438 C 0.738281 -7.105469 1.03125 -7.652344 1.488281 -8.042969 C 1.941406 -8.429688 2.507813 -8.625 3.195313 -8.625 C 3.660156 -8.625 4.09375 -8.523438 4.488281 -8.324219 C 4.878906 -8.121094 5.179688 -7.847656 5.390625 -7.5 C 5.601563 -7.148438 5.707031 -6.777344 5.707031 -6.390625 C 5.707031 -6.019531 5.605469 -5.683594 5.40625 -5.378906 C 5.207031 -5.074219 4.914063 -4.832031 4.523438 -4.652344 C 5.03125 -4.535156 5.425781 -4.289063 5.707031 -3.921875 C 5.988281 -3.546875 6.128906 -3.085938 6.128906 -2.539063 C 6.128906 -1.785156 5.855469 -1.148438 5.308594 -0.628906 C 4.761719 -0.105469 4.070313 0.152344 3.234375 0.152344 C 2.476563 0.152344 1.847656 -0.0703125 1.355469 -0.519531 C 0.855469 -0.96875 0.574219 -1.550781 0.503906 -2.265625 Z M 0.503906 -2.265625 \"/>\n",
       "</symbol>\n",
       "<symbol overflow=\"visible\" id=\"glyph0-9\">\n",
       "<path style=\"stroke:none;\" d=\"M 3.878906 0 L 3.878906 -2.054688 L 0.152344 -2.054688 L 0.152344 -3.023438 L 4.070313 -8.589844 L 4.933594 -8.589844 L 4.933594 -3.023438 L 6.09375 -3.023438 L 6.09375 -2.054688 L 4.933594 -2.054688 L 4.933594 0 Z M 3.878906 -3.023438 L 3.878906 -6.898438 L 1.1875 -3.023438 Z M 3.878906 -3.023438 \"/>\n",
       "</symbol>\n",
       "<symbol overflow=\"visible\" id=\"glyph0-10\">\n",
       "<path style=\"stroke:none;\" d=\"M 0.5 -2.25 L 1.605469 -2.34375 C 1.683594 -1.804688 1.871094 -1.398438 2.175781 -1.125 C 2.472656 -0.851563 2.835938 -0.714844 3.257813 -0.71875 C 3.765625 -0.714844 4.195313 -0.90625 4.546875 -1.292969 C 4.898438 -1.671875 5.074219 -2.179688 5.074219 -2.820313 C 5.074219 -3.414063 4.902344 -3.890625 4.566406 -4.242188 C 4.226563 -4.589844 3.785156 -4.761719 3.242188 -4.765625 C 2.898438 -4.761719 2.59375 -4.683594 2.320313 -4.53125 C 2.046875 -4.375 1.832031 -4.175781 1.675781 -3.929688 L 0.6875 -4.0625 L 1.515625 -8.472656 L 5.789063 -8.472656 L 5.789063 -7.464844 L 2.359375 -7.464844 L 1.898438 -5.15625 C 2.414063 -5.515625 2.953125 -5.695313 3.523438 -5.695313 C 4.269531 -5.695313 4.902344 -5.433594 5.421875 -4.914063 C 5.933594 -4.394531 6.191406 -3.726563 6.195313 -2.914063 C 6.191406 -2.132813 5.964844 -1.460938 5.515625 -0.898438 C 4.960938 -0.199219 4.210938 0.144531 3.257813 0.148438 C 2.476563 0.144531 1.835938 -0.0703125 1.34375 -0.507813 C 0.84375 -0.941406 0.5625 -1.523438 0.5 -2.25 Z M 0.5 -2.25 \"/>\n",
       "</symbol>\n",
       "<symbol overflow=\"visible\" id=\"glyph0-11\">\n",
       "<path style=\"stroke:none;\" d=\"M 0.5 -4.234375 C 0.496094 -5.246094 0.601563 -6.0625 0.8125 -6.6875 C 1.019531 -7.304688 1.328125 -7.785156 1.742188 -8.121094 C 2.148438 -8.457031 2.667969 -8.625 3.296875 -8.625 C 3.757813 -8.625 4.164063 -8.53125 4.511719 -8.347656 C 4.855469 -8.160156 5.140625 -7.890625 5.371094 -7.542969 C 5.59375 -7.191406 5.773438 -6.765625 5.90625 -6.265625 C 6.035156 -5.761719 6.097656 -5.085938 6.101563 -4.234375 C 6.097656 -3.226563 5.996094 -2.414063 5.789063 -1.796875 C 5.578125 -1.175781 5.265625 -0.695313 4.859375 -0.359375 C 4.445313 -0.0195313 3.925781 0.144531 3.296875 0.148438 C 2.464844 0.144531 1.816406 -0.148438 1.347656 -0.742188 C 0.78125 -1.457031 0.496094 -2.621094 0.5 -4.234375 Z M 1.582031 -4.234375 C 1.582031 -2.824219 1.746094 -1.886719 2.074219 -1.417969 C 2.402344 -0.949219 2.808594 -0.714844 3.296875 -0.71875 C 3.777344 -0.714844 4.183594 -0.949219 4.519531 -1.421875 C 4.847656 -1.886719 5.015625 -2.824219 5.015625 -4.234375 C 5.015625 -5.648438 4.847656 -6.589844 4.519531 -7.054688 C 4.183594 -7.515625 3.773438 -7.746094 3.289063 -7.75 C 2.800781 -7.746094 2.414063 -7.542969 2.125 -7.136719 C 1.761719 -6.613281 1.582031 -5.644531 1.582031 -4.234375 Z M 1.582031 -4.234375 \"/>\n",
       "</symbol>\n",
       "<symbol overflow=\"visible\" id=\"glyph0-12\">\n",
       "<path style=\"stroke:none;\" d=\"M 1.089844 0 L 1.089844 -1.203125 L 2.289063 -1.203125 L 2.289063 0 Z M 1.089844 0 \"/>\n",
       "</symbol>\n",
       "<symbol overflow=\"visible\" id=\"glyph0-13\">\n",
       "<path style=\"stroke:none;\" d=\"M 5.96875 -6.484375 L 4.921875 -6.40625 C 4.828125 -6.8125 4.695313 -7.113281 4.523438 -7.304688 C 4.234375 -7.605469 3.882813 -7.757813 3.46875 -7.757813 C 3.132813 -7.757813 2.835938 -7.664063 2.585938 -7.476563 C 2.25 -7.234375 1.988281 -6.878906 1.796875 -6.414063 C 1.605469 -5.949219 1.507813 -5.289063 1.5 -4.429688 C 1.753906 -4.8125 2.0625 -5.097656 2.433594 -5.289063 C 2.796875 -5.472656 3.183594 -5.566406 3.585938 -5.570313 C 4.289063 -5.566406 4.886719 -5.308594 5.382813 -4.792969 C 5.875 -4.277344 6.121094 -3.609375 6.125 -2.789063 C 6.121094 -2.25 6.003906 -1.746094 5.773438 -1.285156 C 5.539063 -0.820313 5.222656 -0.46875 4.816406 -0.222656 C 4.410156 0.0234375 3.949219 0.144531 3.433594 0.148438 C 2.554688 0.144531 1.835938 -0.175781 1.285156 -0.820313 C 0.726563 -1.46875 0.449219 -2.535156 0.453125 -4.019531 C 0.449219 -5.675781 0.757813 -6.882813 1.371094 -7.640625 C 1.902344 -8.296875 2.621094 -8.625 3.53125 -8.625 C 4.207031 -8.625 4.761719 -8.433594 5.195313 -8.054688 C 5.625 -7.675781 5.882813 -7.152344 5.96875 -6.484375 Z M 1.664063 -2.78125 C 1.664063 -2.417969 1.738281 -2.070313 1.894531 -1.738281 C 2.042969 -1.40625 2.261719 -1.152344 2.542969 -0.980469 C 2.820313 -0.800781 3.109375 -0.714844 3.414063 -0.71875 C 3.859375 -0.714844 4.242188 -0.894531 4.566406 -1.257813 C 4.882813 -1.613281 5.042969 -2.101563 5.046875 -2.726563 C 5.042969 -3.316406 4.886719 -3.785156 4.570313 -4.128906 C 4.25 -4.46875 3.851563 -4.640625 3.375 -4.640625 C 2.898438 -4.640625 2.492188 -4.46875 2.160156 -4.128906 C 1.828125 -3.785156 1.664063 -3.335938 1.664063 -2.78125 Z M 1.664063 -2.78125 \"/>\n",
       "</symbol>\n",
       "</g>\n",
       "<clipPath id=\"clip1\">\n",
       "  <path d=\"M 59.039063 59.039063 L 474.757813 59.039063 L 474.757813 431.558594 L 59.039063 431.558594 Z M 59.039063 59.039063 \"/>\n",
       "</clipPath>\n",
       "</defs>\n",
       "<g id=\"surface41\">\n",
       "<rect x=\"0\" y=\"0\" width=\"504\" height=\"504\" style=\"fill:rgb(100%,100%,100%);fill-opacity:1;stroke:none;\"/>\n",
       "<path style=\" stroke:none;fill-rule:nonzero;fill:rgb(0%,0%,0%);fill-opacity:1;\" d=\"M 74.398438 426.882813 L 140.605469 426.882813 L 140.605469 59.042969 L 74.398438 59.042969 Z M 74.398438 426.882813 \"/>\n",
       "<path style=\" stroke:none;fill-rule:nonzero;fill:rgb(0%,0%,0%);fill-opacity:1;\" d=\"M 153.847656 426.882813 L 220.054688 426.882813 L 220.054688 139.964844 L 153.847656 139.964844 Z M 153.847656 426.882813 \"/>\n",
       "<path style=\" stroke:none;fill-rule:nonzero;fill:rgb(0%,0%,0%);fill-opacity:1;\" d=\"M 233.296875 426.882813 L 299.503906 426.882813 L 299.503906 181.65625 L 233.296875 181.65625 Z M 233.296875 426.882813 \"/>\n",
       "<path style=\" stroke:none;fill-rule:nonzero;fill:rgb(0%,0%,0%);fill-opacity:1;\" d=\"M 312.746094 426.882813 L 378.953125 426.882813 L 378.953125 223.34375 L 312.746094 223.34375 Z M 312.746094 426.882813 \"/>\n",
       "<path style=\" stroke:none;fill-rule:nonzero;fill:rgb(0%,0%,0%);fill-opacity:1;\" d=\"M 392.191406 426.882813 L 458.398438 426.882813 L 458.398438 304.269531 L 392.191406 304.269531 Z M 392.191406 426.882813 \"/>\n",
       "<g style=\"fill:rgb(0%,0%,0%);fill-opacity:1;\">\n",
       "  <use xlink:href=\"#glyph0-0\" x=\"86.824219\" y=\"456.480469\"/>\n",
       "  <use xlink:href=\"#glyph0-1\" x=\"94.828125\" y=\"456.480469\"/>\n",
       "  <use xlink:href=\"#glyph0-2\" x=\"101.501953\" y=\"456.480469\"/>\n",
       "  <use xlink:href=\"#glyph0-3\" x=\"105.498047\" y=\"456.480469\"/>\n",
       "  <use xlink:href=\"#glyph0-4\" x=\"108.832031\" y=\"456.480469\"/>\n",
       "  <use xlink:href=\"#glyph0-1\" x=\"111.498047\" y=\"456.480469\"/>\n",
       "  <use xlink:href=\"#glyph0-5\" x=\"118.171875\" y=\"456.480469\"/>\n",
       "  <use xlink:href=\"#glyph0-6\" x=\"121.505859\" y=\"456.480469\"/>\n",
       "</g>\n",
       "<g style=\"fill:rgb(0%,0%,0%);fill-opacity:1;\">\n",
       "  <use xlink:href=\"#glyph0-0\" x=\"166.273438\" y=\"456.480469\"/>\n",
       "  <use xlink:href=\"#glyph0-1\" x=\"174.277344\" y=\"456.480469\"/>\n",
       "  <use xlink:href=\"#glyph0-2\" x=\"180.951172\" y=\"456.480469\"/>\n",
       "  <use xlink:href=\"#glyph0-3\" x=\"184.947266\" y=\"456.480469\"/>\n",
       "  <use xlink:href=\"#glyph0-4\" x=\"188.28125\" y=\"456.480469\"/>\n",
       "  <use xlink:href=\"#glyph0-1\" x=\"190.947266\" y=\"456.480469\"/>\n",
       "  <use xlink:href=\"#glyph0-5\" x=\"197.621094\" y=\"456.480469\"/>\n",
       "  <use xlink:href=\"#glyph0-7\" x=\"200.955078\" y=\"456.480469\"/>\n",
       "</g>\n",
       "<g style=\"fill:rgb(0%,0%,0%);fill-opacity:1;\">\n",
       "  <use xlink:href=\"#glyph0-0\" x=\"245.71875\" y=\"456.480469\"/>\n",
       "  <use xlink:href=\"#glyph0-1\" x=\"253.722656\" y=\"456.480469\"/>\n",
       "  <use xlink:href=\"#glyph0-2\" x=\"260.396484\" y=\"456.480469\"/>\n",
       "  <use xlink:href=\"#glyph0-3\" x=\"264.392578\" y=\"456.480469\"/>\n",
       "  <use xlink:href=\"#glyph0-4\" x=\"267.726563\" y=\"456.480469\"/>\n",
       "  <use xlink:href=\"#glyph0-1\" x=\"270.392578\" y=\"456.480469\"/>\n",
       "  <use xlink:href=\"#glyph0-5\" x=\"277.066406\" y=\"456.480469\"/>\n",
       "  <use xlink:href=\"#glyph0-8\" x=\"280.400391\" y=\"456.480469\"/>\n",
       "</g>\n",
       "<g style=\"fill:rgb(0%,0%,0%);fill-opacity:1;\">\n",
       "  <use xlink:href=\"#glyph0-0\" x=\"325.167969\" y=\"456.480469\"/>\n",
       "  <use xlink:href=\"#glyph0-1\" x=\"333.171875\" y=\"456.480469\"/>\n",
       "  <use xlink:href=\"#glyph0-2\" x=\"339.845703\" y=\"456.480469\"/>\n",
       "  <use xlink:href=\"#glyph0-3\" x=\"343.841797\" y=\"456.480469\"/>\n",
       "  <use xlink:href=\"#glyph0-4\" x=\"347.175781\" y=\"456.480469\"/>\n",
       "  <use xlink:href=\"#glyph0-1\" x=\"349.841797\" y=\"456.480469\"/>\n",
       "  <use xlink:href=\"#glyph0-5\" x=\"356.515625\" y=\"456.480469\"/>\n",
       "  <use xlink:href=\"#glyph0-9\" x=\"359.849609\" y=\"456.480469\"/>\n",
       "</g>\n",
       "<g style=\"fill:rgb(0%,0%,0%);fill-opacity:1;\">\n",
       "  <use xlink:href=\"#glyph0-0\" x=\"404.617188\" y=\"456.480469\"/>\n",
       "  <use xlink:href=\"#glyph0-1\" x=\"412.621094\" y=\"456.480469\"/>\n",
       "  <use xlink:href=\"#glyph0-2\" x=\"419.294922\" y=\"456.480469\"/>\n",
       "  <use xlink:href=\"#glyph0-3\" x=\"423.291016\" y=\"456.480469\"/>\n",
       "  <use xlink:href=\"#glyph0-4\" x=\"426.625\" y=\"456.480469\"/>\n",
       "  <use xlink:href=\"#glyph0-1\" x=\"429.291016\" y=\"456.480469\"/>\n",
       "  <use xlink:href=\"#glyph0-5\" x=\"435.964844\" y=\"456.480469\"/>\n",
       "  <use xlink:href=\"#glyph0-10\" x=\"439.298828\" y=\"456.480469\"/>\n",
       "</g>\n",
       "<path style=\"fill:none;stroke-width:0.75;stroke-linecap:round;stroke-linejoin:round;stroke:rgb(0%,0%,0%);stroke-opacity:1;stroke-miterlimit:10;\" d=\"M 59.039063 426.882813 L 59.039063 59.039063 \"/>\n",
       "<path style=\"fill:none;stroke-width:0.75;stroke-linecap:round;stroke-linejoin:round;stroke:rgb(0%,0%,0%);stroke-opacity:1;stroke-miterlimit:10;\" d=\"M 59.039063 426.882813 L 51.839844 426.882813 \"/>\n",
       "<path style=\"fill:none;stroke-width:0.75;stroke-linecap:round;stroke-linejoin:round;stroke:rgb(0%,0%,0%);stroke-opacity:1;stroke-miterlimit:10;\" d=\"M 59.039063 365.574219 L 51.839844 365.574219 \"/>\n",
       "<path style=\"fill:none;stroke-width:0.75;stroke-linecap:round;stroke-linejoin:round;stroke:rgb(0%,0%,0%);stroke-opacity:1;stroke-miterlimit:10;\" d=\"M 59.039063 304.269531 L 51.839844 304.269531 \"/>\n",
       "<path style=\"fill:none;stroke-width:0.75;stroke-linecap:round;stroke-linejoin:round;stroke:rgb(0%,0%,0%);stroke-opacity:1;stroke-miterlimit:10;\" d=\"M 59.039063 242.960938 L 51.839844 242.960938 \"/>\n",
       "<path style=\"fill:none;stroke-width:0.75;stroke-linecap:round;stroke-linejoin:round;stroke:rgb(0%,0%,0%);stroke-opacity:1;stroke-miterlimit:10;\" d=\"M 59.039063 181.652344 L 51.839844 181.652344 \"/>\n",
       "<path style=\"fill:none;stroke-width:0.75;stroke-linecap:round;stroke-linejoin:round;stroke:rgb(0%,0%,0%);stroke-opacity:1;stroke-miterlimit:10;\" d=\"M 59.039063 120.347656 L 51.839844 120.347656 \"/>\n",
       "<path style=\"fill:none;stroke-width:0.75;stroke-linecap:round;stroke-linejoin:round;stroke:rgb(0%,0%,0%);stroke-opacity:1;stroke-miterlimit:10;\" d=\"M 59.039063 59.039063 L 51.839844 59.039063 \"/>\n",
       "<g style=\"fill:rgb(0%,0%,0%);fill-opacity:1;\">\n",
       "  <use xlink:href=\"#glyph0-11\" x=\"21.285156\" y=\"431.175781\"/>\n",
       "  <use xlink:href=\"#glyph0-12\" x=\"27.958984\" y=\"431.175781\"/>\n",
       "  <use xlink:href=\"#glyph0-11\" x=\"31.292969\" y=\"431.175781\"/>\n",
       "  <use xlink:href=\"#glyph0-11\" x=\"37.966797\" y=\"431.175781\"/>\n",
       "</g>\n",
       "<g style=\"fill:rgb(0%,0%,0%);fill-opacity:1;\">\n",
       "  <use xlink:href=\"#glyph0-11\" x=\"21.285156\" y=\"369.871094\"/>\n",
       "  <use xlink:href=\"#glyph0-12\" x=\"27.958984\" y=\"369.871094\"/>\n",
       "  <use xlink:href=\"#glyph0-11\" x=\"31.292969\" y=\"369.871094\"/>\n",
       "  <use xlink:href=\"#glyph0-10\" x=\"37.966797\" y=\"369.871094\"/>\n",
       "</g>\n",
       "<g style=\"fill:rgb(0%,0%,0%);fill-opacity:1;\">\n",
       "  <use xlink:href=\"#glyph0-11\" x=\"21.285156\" y=\"308.5625\"/>\n",
       "  <use xlink:href=\"#glyph0-12\" x=\"27.958984\" y=\"308.5625\"/>\n",
       "  <use xlink:href=\"#glyph0-6\" x=\"31.292969\" y=\"308.5625\"/>\n",
       "  <use xlink:href=\"#glyph0-11\" x=\"37.966797\" y=\"308.5625\"/>\n",
       "</g>\n",
       "<g style=\"fill:rgb(0%,0%,0%);fill-opacity:1;\">\n",
       "  <use xlink:href=\"#glyph0-11\" x=\"21.285156\" y=\"247.253906\"/>\n",
       "  <use xlink:href=\"#glyph0-12\" x=\"27.958984\" y=\"247.253906\"/>\n",
       "  <use xlink:href=\"#glyph0-6\" x=\"31.292969\" y=\"247.253906\"/>\n",
       "  <use xlink:href=\"#glyph0-10\" x=\"37.966797\" y=\"247.253906\"/>\n",
       "</g>\n",
       "<g style=\"fill:rgb(0%,0%,0%);fill-opacity:1;\">\n",
       "  <use xlink:href=\"#glyph0-11\" x=\"21.285156\" y=\"185.949219\"/>\n",
       "  <use xlink:href=\"#glyph0-12\" x=\"27.958984\" y=\"185.949219\"/>\n",
       "  <use xlink:href=\"#glyph0-7\" x=\"31.292969\" y=\"185.949219\"/>\n",
       "  <use xlink:href=\"#glyph0-11\" x=\"37.966797\" y=\"185.949219\"/>\n",
       "</g>\n",
       "<g style=\"fill:rgb(0%,0%,0%);fill-opacity:1;\">\n",
       "  <use xlink:href=\"#glyph0-11\" x=\"21.285156\" y=\"124.640625\"/>\n",
       "  <use xlink:href=\"#glyph0-12\" x=\"27.958984\" y=\"124.640625\"/>\n",
       "  <use xlink:href=\"#glyph0-7\" x=\"31.292969\" y=\"124.640625\"/>\n",
       "  <use xlink:href=\"#glyph0-10\" x=\"37.966797\" y=\"124.640625\"/>\n",
       "</g>\n",
       "<g style=\"fill:rgb(0%,0%,0%);fill-opacity:1;\">\n",
       "  <use xlink:href=\"#glyph0-11\" x=\"21.285156\" y=\"63.335938\"/>\n",
       "  <use xlink:href=\"#glyph0-12\" x=\"27.958984\" y=\"63.335938\"/>\n",
       "  <use xlink:href=\"#glyph0-8\" x=\"31.292969\" y=\"63.335938\"/>\n",
       "  <use xlink:href=\"#glyph0-11\" x=\"37.966797\" y=\"63.335938\"/>\n",
       "</g>\n",
       "<g clip-path=\"url(#clip1)\" clip-rule=\"nonzero\">\n",
       "<g style=\"fill:rgb(100%,100%,100%);fill-opacity:1;\">\n",
       "  <use xlink:href=\"#glyph0-11\" x=\"99.164063\" y=\"124.582031\"/>\n",
       "  <use xlink:href=\"#glyph0-12\" x=\"105.837891\" y=\"124.582031\"/>\n",
       "  <use xlink:href=\"#glyph0-8\" x=\"109.171875\" y=\"124.582031\"/>\n",
       "</g>\n",
       "<g style=\"fill:rgb(100%,100%,100%);fill-opacity:1;\">\n",
       "  <use xlink:href=\"#glyph0-11\" x=\"171.9375\" y=\"205.507813\"/>\n",
       "  <use xlink:href=\"#glyph0-12\" x=\"178.611328\" y=\"205.507813\"/>\n",
       "  <use xlink:href=\"#glyph0-7\" x=\"181.945313\" y=\"205.507813\"/>\n",
       "  <use xlink:href=\"#glyph0-8\" x=\"188.619141\" y=\"205.507813\"/>\n",
       "  <use xlink:href=\"#glyph0-9\" x=\"195.292969\" y=\"205.507813\"/>\n",
       "</g>\n",
       "<g style=\"fill:rgb(100%,100%,100%);fill-opacity:1;\">\n",
       "  <use xlink:href=\"#glyph0-11\" x=\"258.058594\" y=\"247.199219\"/>\n",
       "  <use xlink:href=\"#glyph0-12\" x=\"264.732422\" y=\"247.199219\"/>\n",
       "  <use xlink:href=\"#glyph0-7\" x=\"268.066406\" y=\"247.199219\"/>\n",
       "</g>\n",
       "<g style=\"fill:rgb(100%,100%,100%);fill-opacity:1;\">\n",
       "  <use xlink:href=\"#glyph0-11\" x=\"330.832031\" y=\"288.890625\"/>\n",
       "  <use xlink:href=\"#glyph0-12\" x=\"337.505859\" y=\"288.890625\"/>\n",
       "  <use xlink:href=\"#glyph0-6\" x=\"340.839844\" y=\"288.890625\"/>\n",
       "  <use xlink:href=\"#glyph0-13\" x=\"347.513672\" y=\"288.890625\"/>\n",
       "  <use xlink:href=\"#glyph0-13\" x=\"354.1875\" y=\"288.890625\"/>\n",
       "</g>\n",
       "<g style=\"fill:rgb(100%,100%,100%);fill-opacity:1;\">\n",
       "  <use xlink:href=\"#glyph0-11\" x=\"416.957031\" y=\"369.8125\"/>\n",
       "  <use xlink:href=\"#glyph0-12\" x=\"423.630859\" y=\"369.8125\"/>\n",
       "  <use xlink:href=\"#glyph0-6\" x=\"426.964844\" y=\"369.8125\"/>\n",
       "</g>\n",
       "</g>\n",
       "</g>\n",
       "</svg>\n"
      ],
      "text/plain": [
       "plot without title"
      ]
     },
     "metadata": {
      "image/svg+xml": {
       "isolated": true
      }
     },
     "output_type": "display_data"
    }
   ],
   "source": [
    "poparcie<-barplot(c(0.3, 0.234, 0.2, 0.166, 0.1),names.arg = c(\"Partia 1\",\"Partia 2\",\"Partia 3\",\"Partia 4\",\"Partia 5\"), las=1, border = \"transparent\", col=\"black\")\n",
    "text( poparcie, c(0.3, 0.234, 0.2, 0.166, 0.1 )-0.05, labels = c(0.3, 0.234, 0.2, 0.166, 0.1), col=\"white\")"
   ]
  },
  {
   "cell_type": "markdown",
   "metadata": {},
   "source": [
    "Dodatkowo mamy jeszcze informację o drugiej zmiennej \"dieta\" - jest to dieta na jakiej aktualnie znajdują się respondenci."
   ]
  },
  {
   "cell_type": "code",
   "execution_count": 34,
   "metadata": {
    "collapsed": false
   },
   "outputs": [
    {
     "data": {
      "image/png": "[encoded data removed]",
      "image/svg+xml": [
       "<?xml version=\"1.0\" encoding=\"UTF-8\"?>\n",
       "<svg xmlns=\"http://www.w3.org/2000/svg\" xmlns:xlink=\"http://www.w3.org/1999/xlink\" width=\"504pt\" height=\"504pt\" viewBox=\"0 0 504 504\" version=\"1.1\">\n",
       "<defs>\n",
       "<g>\n",
       "<symbol overflow=\"visible\" id=\"glyph0-0\">\n",
       "<path style=\"stroke:none;\" d=\"M 0.878906 0 L 0.878906 -8.589844 L 2.015625 -8.589844 L 2.015625 -4.328125 L 6.28125 -8.589844 L 7.820313 -8.589844 L 4.21875 -5.109375 L 7.980469 0 L 6.480469 0 L 3.421875 -4.347656 L 2.015625 -2.976563 L 2.015625 0 Z M 0.878906 0 \"/>\n",
       "</symbol>\n",
       "<symbol overflow=\"visible\" id=\"glyph0-1\">\n",
       "<path style=\"stroke:none;\" d=\"M 4.867188 0 L 4.867188 -0.914063 C 4.378906 -0.210938 3.722656 0.140625 2.894531 0.140625 C 2.527344 0.140625 2.183594 0.0703125 1.867188 -0.0703125 C 1.546875 -0.210938 1.308594 -0.386719 1.15625 -0.601563 C 1 -0.8125 0.894531 -1.074219 0.832031 -1.382813 C 0.785156 -1.589844 0.761719 -1.917969 0.765625 -2.367188 L 0.765625 -6.222656 L 1.820313 -6.222656 L 1.820313 -2.773438 C 1.816406 -2.21875 1.839844 -1.847656 1.886719 -1.65625 C 1.949219 -1.378906 2.089844 -1.160156 2.308594 -1.003906 C 2.523438 -0.839844 2.789063 -0.761719 3.105469 -0.765625 C 3.417969 -0.761719 3.714844 -0.84375 3.996094 -1.007813 C 4.273438 -1.171875 4.46875 -1.390625 4.585938 -1.671875 C 4.699219 -1.949219 4.757813 -2.355469 4.757813 -2.890625 L 4.757813 -6.222656 L 5.8125 -6.222656 L 5.8125 0 Z M 4.867188 0 \"/>\n",
       "</symbol>\n",
       "<symbol overflow=\"visible\" id=\"glyph0-2\">\n",
       "<path style=\"stroke:none;\" d=\"M 4.851563 -2.28125 L 5.890625 -2.144531 C 5.773438 -1.425781 5.484375 -0.863281 5.019531 -0.464844 C 4.550781 -0.0585938 3.976563 0.140625 3.296875 0.140625 C 2.445313 0.140625 1.761719 -0.136719 1.246094 -0.695313 C 0.726563 -1.25 0.46875 -2.046875 0.46875 -3.085938 C 0.46875 -3.753906 0.578125 -4.34375 0.800781 -4.851563 C 1.023438 -5.355469 1.363281 -5.730469 1.816406 -5.984375 C 2.269531 -6.234375 2.765625 -6.363281 3.304688 -6.363281 C 3.980469 -6.363281 4.53125 -6.191406 4.964844 -5.847656 C 5.390625 -5.503906 5.667969 -5.019531 5.789063 -4.394531 L 4.765625 -4.234375 C 4.664063 -4.652344 4.492188 -4.96875 4.246094 -5.179688 C 3.996094 -5.390625 3.695313 -5.496094 3.34375 -5.496094 C 2.808594 -5.496094 2.378906 -5.304688 2.050781 -4.921875 C 1.71875 -4.539063 1.550781 -3.9375 1.554688 -3.117188 C 1.550781 -2.28125 1.710938 -1.671875 2.035156 -1.292969 C 2.351563 -0.914063 2.769531 -0.726563 3.289063 -0.726563 C 3.695313 -0.726563 4.042969 -0.851563 4.324219 -1.105469 C 4.601563 -1.359375 4.777344 -1.75 4.851563 -2.28125 Z M 4.851563 -2.28125 \"/>\n",
       "</symbol>\n",
       "<symbol overflow=\"visible\" id=\"glyph0-3\">\n",
       "<path style=\"stroke:none;\" d=\"M 0.789063 0 L 0.789063 -8.589844 L 1.84375 -8.589844 L 1.84375 -5.507813 C 2.335938 -6.078125 2.957031 -6.363281 3.710938 -6.363281 C 4.164063 -6.363281 4.566406 -6.269531 4.910156 -6.089844 C 5.25 -5.90625 5.492188 -5.65625 5.640625 -5.339844 C 5.785156 -5.015625 5.859375 -4.550781 5.859375 -3.945313 L 5.859375 0 L 4.804688 0 L 4.804688 -3.945313 C 4.804688 -4.46875 4.6875 -4.851563 4.460938 -5.09375 C 4.226563 -5.328125 3.90625 -5.449219 3.492188 -5.453125 C 3.179688 -5.449219 2.882813 -5.367188 2.609375 -5.210938 C 2.328125 -5.046875 2.132813 -4.828125 2.019531 -4.550781 C 1.898438 -4.273438 1.839844 -3.890625 1.84375 -3.40625 L 1.84375 0 Z M 0.789063 0 \"/>\n",
       "</symbol>\n",
       "<symbol overflow=\"visible\" id=\"glyph0-4\">\n",
       "<path style=\"stroke:none;\" d=\"M 0.789063 0 L 0.789063 -6.222656 L 1.742188 -6.222656 L 1.742188 -5.335938 C 2.195313 -6.019531 2.855469 -6.363281 3.71875 -6.363281 C 4.089844 -6.363281 4.433594 -6.292969 4.753906 -6.160156 C 5.066406 -6.023438 5.304688 -5.847656 5.460938 -5.632813 C 5.617188 -5.410156 5.726563 -5.152344 5.789063 -4.851563 C 5.828125 -4.65625 5.847656 -4.3125 5.847656 -3.828125 L 5.847656 0 L 4.792969 0 L 4.792969 -3.785156 C 4.792969 -4.214844 4.75 -4.535156 4.667969 -4.75 C 4.585938 -4.960938 4.441406 -5.128906 4.234375 -5.257813 C 4.023438 -5.382813 3.777344 -5.449219 3.5 -5.449219 C 3.046875 -5.449219 2.660156 -5.304688 2.332031 -5.019531 C 2.003906 -4.734375 1.839844 -4.195313 1.84375 -3.398438 L 1.84375 0 Z M 0.789063 0 \"/>\n",
       "</symbol>\n",
       "<symbol overflow=\"visible\" id=\"glyph0-5\">\n",
       "<path style=\"stroke:none;\" d=\"M 0.796875 -7.375 L 0.796875 -8.589844 L 1.851563 -8.589844 L 1.851563 -7.375 Z M 0.796875 0 L 0.796875 -6.222656 L 1.851563 -6.222656 L 1.851563 0 Z M 0.796875 0 \"/>\n",
       "</symbol>\n",
       "<symbol overflow=\"visible\" id=\"glyph0-6\">\n",
       "<path style=\"stroke:none;\" d=\"M 4.851563 -0.765625 C 4.460938 -0.433594 4.082031 -0.199219 3.722656 -0.0625 C 3.355469 0.0742188 2.96875 0.140625 2.5625 0.140625 C 1.875 0.140625 1.351563 -0.0234375 0.984375 -0.359375 C 0.617188 -0.6875 0.433594 -1.117188 0.433594 -1.640625 C 0.433594 -1.945313 0.5 -2.222656 0.640625 -2.472656 C 0.777344 -2.722656 0.960938 -2.925781 1.1875 -3.082031 C 1.410156 -3.234375 1.664063 -3.347656 1.945313 -3.429688 C 2.152344 -3.476563 2.464844 -3.53125 2.882813 -3.585938 C 3.734375 -3.6875 4.359375 -3.808594 4.765625 -3.949219 C 4.765625 -4.089844 4.769531 -4.179688 4.769531 -4.226563 C 4.769531 -4.648438 4.667969 -4.953125 4.46875 -5.132813 C 4.199219 -5.371094 3.800781 -5.488281 3.269531 -5.492188 C 2.769531 -5.488281 2.402344 -5.402344 2.167969 -5.230469 C 1.933594 -5.054688 1.757813 -4.746094 1.648438 -4.304688 L 0.617188 -4.445313 C 0.707031 -4.886719 0.863281 -5.242188 1.078125 -5.515625 C 1.289063 -5.78125 1.597656 -5.992188 2.007813 -6.140625 C 2.410156 -6.289063 2.882813 -6.363281 3.421875 -6.363281 C 3.953125 -6.363281 4.382813 -6.300781 4.714844 -6.175781 C 5.046875 -6.050781 5.292969 -5.890625 5.449219 -5.703125 C 5.605469 -5.511719 5.714844 -5.273438 5.777344 -4.984375 C 5.808594 -4.804688 5.824219 -4.480469 5.828125 -4.015625 L 5.828125 -2.609375 C 5.824219 -1.625 5.847656 -1.003906 5.894531 -0.746094 C 5.941406 -0.484375 6.03125 -0.238281 6.164063 0 L 5.0625 0 C 4.953125 -0.21875 4.882813 -0.472656 4.851563 -0.765625 Z M 4.765625 -3.125 C 4.375 -2.964844 3.800781 -2.832031 3.039063 -2.726563 C 2.605469 -2.660156 2.300781 -2.589844 2.121094 -2.515625 C 1.941406 -2.433594 1.800781 -2.320313 1.703125 -2.171875 C 1.605469 -2.019531 1.558594 -1.851563 1.558594 -1.671875 C 1.558594 -1.386719 1.664063 -1.152344 1.875 -0.96875 C 2.085938 -0.777344 2.398438 -0.683594 2.8125 -0.6875 C 3.21875 -0.683594 3.578125 -0.773438 3.894531 -0.953125 C 4.210938 -1.128906 4.445313 -1.371094 4.59375 -1.679688 C 4.707031 -1.917969 4.761719 -2.269531 4.765625 -2.734375 Z M 4.765625 -3.125 \"/>\n",
       "</symbol>\n",
       "<symbol overflow=\"visible\" id=\"glyph0-7\">\n",
       "<path style=\"stroke:none;\" d=\"\"/>\n",
       "</symbol>\n",
       "<symbol overflow=\"visible\" id=\"glyph0-8\">\n",
       "<path style=\"stroke:none;\" d=\"M 0.925781 0 L 0.925781 -8.589844 L 4.164063 -8.589844 C 4.734375 -8.589844 5.171875 -8.5625 5.472656 -8.507813 C 5.894531 -8.4375 6.246094 -8.300781 6.53125 -8.105469 C 6.816406 -7.90625 7.046875 -7.632813 7.222656 -7.277344 C 7.394531 -6.917969 7.480469 -6.527344 7.484375 -6.105469 C 7.480469 -5.371094 7.25 -4.75 6.785156 -4.25 C 6.316406 -3.742188 5.476563 -3.492188 4.265625 -3.492188 L 2.0625 -3.492188 L 2.0625 0 Z M 2.0625 -4.507813 L 4.28125 -4.507813 C 5.011719 -4.503906 5.535156 -4.640625 5.847656 -4.917969 C 6.15625 -5.1875 6.308594 -5.574219 6.3125 -6.070313 C 6.308594 -6.429688 6.21875 -6.734375 6.039063 -6.992188 C 5.855469 -7.242188 5.617188 -7.414063 5.320313 -7.5 C 5.125 -7.550781 4.769531 -7.574219 4.257813 -7.578125 L 2.0625 -7.578125 Z M 2.0625 -4.507813 \"/>\n",
       "</symbol>\n",
       "<symbol overflow=\"visible\" id=\"glyph0-9\">\n",
       "<path style=\"stroke:none;\" d=\"M 0.398438 -3.109375 C 0.398438 -4.261719 0.71875 -5.117188 1.359375 -5.671875 C 1.894531 -6.132813 2.546875 -6.363281 3.316406 -6.363281 C 4.171875 -6.363281 4.871094 -6.082031 5.414063 -5.519531 C 5.953125 -4.957031 6.222656 -4.183594 6.226563 -3.199219 C 6.222656 -2.398438 6.101563 -1.765625 5.867188 -1.308594 C 5.625 -0.847656 5.277344 -0.492188 4.820313 -0.238281 C 4.359375 0.015625 3.859375 0.140625 3.316406 0.140625 C 2.441406 0.140625 1.734375 -0.136719 1.203125 -0.695313 C 0.664063 -1.253906 0.398438 -2.058594 0.398438 -3.109375 Z M 1.484375 -3.109375 C 1.480469 -2.308594 1.65625 -1.710938 2.003906 -1.320313 C 2.347656 -0.921875 2.785156 -0.726563 3.316406 -0.726563 C 3.839844 -0.726563 4.273438 -0.925781 4.621094 -1.324219 C 4.96875 -1.722656 5.144531 -2.328125 5.144531 -3.148438 C 5.144531 -3.914063 4.96875 -4.496094 4.617188 -4.894531 C 4.265625 -5.289063 3.832031 -5.488281 3.316406 -5.492188 C 2.785156 -5.488281 2.347656 -5.292969 2.003906 -4.898438 C 1.65625 -4.5 1.480469 -3.902344 1.484375 -3.109375 Z M 1.484375 -3.109375 \"/>\n",
       "</symbol>\n",
       "<symbol overflow=\"visible\" id=\"glyph0-10\">\n",
       "<path style=\"stroke:none;\" d=\"M 0.765625 0 L 0.765625 -8.589844 L 1.820313 -8.589844 L 1.820313 0 Z M 0.765625 0 \"/>\n",
       "</symbol>\n",
       "<symbol overflow=\"visible\" id=\"glyph0-11\">\n",
       "<path style=\"stroke:none;\" d=\"M 0.367188 -1.859375 L 1.414063 -2.023438 C 1.46875 -1.601563 1.632813 -1.28125 1.902344 -1.058594 C 2.167969 -0.835938 2.542969 -0.726563 3.023438 -0.726563 C 3.507813 -0.726563 3.867188 -0.824219 4.101563 -1.023438 C 4.335938 -1.21875 4.453125 -1.449219 4.453125 -1.71875 C 4.453125 -1.953125 4.347656 -2.140625 4.140625 -2.28125 C 3.996094 -2.371094 3.636719 -2.492188 3.0625 -2.636719 C 2.289063 -2.832031 1.753906 -3 1.457031 -3.144531 C 1.15625 -3.285156 0.929688 -3.480469 0.777344 -3.734375 C 0.621094 -3.984375 0.542969 -4.265625 0.546875 -4.570313 C 0.542969 -4.84375 0.605469 -5.097656 0.734375 -5.339844 C 0.859375 -5.574219 1.035156 -5.773438 1.253906 -5.929688 C 1.417969 -6.046875 1.640625 -6.148438 1.925781 -6.234375 C 2.207031 -6.320313 2.511719 -6.363281 2.835938 -6.363281 C 3.324219 -6.363281 3.75 -6.292969 4.121094 -6.152344 C 4.488281 -6.011719 4.761719 -5.820313 4.9375 -5.578125 C 5.113281 -5.335938 5.234375 -5.015625 5.304688 -4.617188 L 4.273438 -4.476563 C 4.222656 -4.796875 4.085938 -5.046875 3.863281 -5.226563 C 3.636719 -5.40625 3.320313 -5.496094 2.914063 -5.496094 C 2.425781 -5.496094 2.082031 -5.414063 1.875 -5.253906 C 1.664063 -5.09375 1.558594 -4.90625 1.5625 -4.695313 C 1.558594 -4.554688 1.601563 -4.433594 1.695313 -4.324219 C 1.773438 -4.210938 1.910156 -4.117188 2.097656 -4.042969 C 2.203125 -4.003906 2.511719 -3.914063 3.03125 -3.773438 C 3.773438 -3.574219 4.292969 -3.410156 4.589844 -3.285156 C 4.878906 -3.15625 5.113281 -2.972656 5.285156 -2.730469 C 5.453125 -2.488281 5.535156 -2.1875 5.539063 -1.828125 C 5.535156 -1.476563 5.433594 -1.144531 5.230469 -0.832031 C 5.023438 -0.519531 4.726563 -0.277344 4.339844 -0.113281 C 3.953125 0.0585938 3.515625 0.140625 3.03125 0.140625 C 2.21875 0.140625 1.601563 -0.0273438 1.179688 -0.363281 C 0.753906 -0.699219 0.484375 -1.195313 0.367188 -1.859375 Z M 0.367188 -1.859375 \"/>\n",
       "</symbol>\n",
       "<symbol overflow=\"visible\" id=\"glyph0-12\">\n",
       "<path style=\"stroke:none;\" d=\"M 0.796875 0 L 0.796875 -8.589844 L 1.851563 -8.589844 L 1.851563 -3.691406 L 4.347656 -6.222656 L 5.710938 -6.222656 L 3.335938 -3.914063 L 5.953125 0 L 4.652344 0 L 2.59375 -3.179688 L 1.851563 -2.46875 L 1.851563 0 Z M 0.796875 0 \"/>\n",
       "</symbol>\n",
       "<symbol overflow=\"visible\" id=\"glyph0-13\">\n",
       "<path style=\"stroke:none;\" d=\"M 7.054688 -3.011719 L 8.191406 -2.726563 C 7.953125 -1.789063 7.523438 -1.078125 6.90625 -0.585938 C 6.285156 -0.0976563 5.527344 0.144531 4.632813 0.148438 C 3.707031 0.144531 2.953125 -0.0390625 2.375 -0.417969 C 1.792969 -0.792969 1.351563 -1.339844 1.050781 -2.054688 C 0.746094 -2.769531 0.597656 -3.539063 0.597656 -4.359375 C 0.597656 -5.253906 0.765625 -6.03125 1.109375 -6.699219 C 1.449219 -7.363281 1.9375 -7.871094 2.570313 -8.214844 C 3.199219 -8.558594 3.894531 -8.730469 4.652344 -8.734375 C 5.511719 -8.730469 6.234375 -8.511719 6.820313 -8.078125 C 7.40625 -7.636719 7.8125 -7.023438 8.046875 -6.234375 L 6.925781 -5.96875 C 6.722656 -6.589844 6.433594 -7.046875 6.058594 -7.335938 C 5.679688 -7.621094 5.203125 -7.761719 4.628906 -7.765625 C 3.96875 -7.761719 3.414063 -7.605469 2.972656 -7.289063 C 2.527344 -6.96875 2.21875 -6.542969 2.039063 -6.011719 C 1.859375 -5.480469 1.769531 -4.929688 1.769531 -4.367188 C 1.769531 -3.632813 1.875 -2.996094 2.085938 -2.449219 C 2.296875 -1.902344 2.628906 -1.496094 3.082031 -1.230469 C 3.53125 -0.960938 4.015625 -0.824219 4.539063 -0.828125 C 5.175781 -0.824219 5.714844 -1.007813 6.15625 -1.378906 C 6.597656 -1.742188 6.898438 -2.289063 7.054688 -3.011719 Z M 7.054688 -3.011719 \"/>\n",
       "</symbol>\n",
       "<symbol overflow=\"visible\" id=\"glyph0-14\">\n",
       "<path style=\"stroke:none;\" d=\"M 0.742188 2.398438 L 0.625 1.40625 C 0.855469 1.46875 1.058594 1.5 1.230469 1.5 C 1.464844 1.5 1.652344 1.460938 1.792969 1.382813 C 1.933594 1.304688 2.046875 1.195313 2.140625 1.054688 C 2.203125 0.949219 2.3125 0.6875 2.460938 0.269531 C 2.480469 0.207031 2.511719 0.121094 2.554688 0.0117188 L 0.195313 -6.222656 L 1.328125 -6.222656 L 2.625 -2.617188 C 2.789063 -2.160156 2.9375 -1.679688 3.078125 -1.179688 C 3.195313 -1.660156 3.339844 -2.132813 3.507813 -2.59375 L 4.839844 -6.222656 L 5.894531 -6.222656 L 3.527344 0.105469 C 3.273438 0.789063 3.074219 1.257813 2.9375 1.515625 C 2.746094 1.863281 2.53125 2.117188 2.292969 2.28125 C 2.046875 2.4375 1.757813 2.519531 1.421875 2.523438 C 1.214844 2.519531 0.988281 2.476563 0.742188 2.398438 Z M 0.742188 2.398438 \"/>\n",
       "</symbol>\n",
       "<symbol overflow=\"visible\" id=\"glyph0-15\">\n",
       "<path style=\"stroke:none;\" d=\"M 3.09375 -0.945313 L 3.246094 -0.0117188 C 2.949219 0.0507813 2.683594 0.0820313 2.449219 0.0820313 C 2.066406 0.0820313 1.769531 0.0234375 1.558594 -0.0976563 C 1.347656 -0.21875 1.199219 -0.378906 1.113281 -0.578125 C 1.027344 -0.773438 0.984375 -1.1875 0.984375 -1.820313 L 0.984375 -5.402344 L 0.210938 -5.402344 L 0.210938 -6.222656 L 0.984375 -6.222656 L 0.984375 -7.765625 L 2.03125 -8.398438 L 2.03125 -6.222656 L 3.09375 -6.222656 L 3.09375 -5.402344 L 2.03125 -5.402344 L 2.03125 -1.765625 C 2.027344 -1.460938 2.046875 -1.269531 2.085938 -1.183594 C 2.125 -1.097656 2.183594 -1.027344 2.269531 -0.976563 C 2.351563 -0.925781 2.472656 -0.902344 2.632813 -0.902344 C 2.742188 -0.902344 2.898438 -0.914063 3.09375 -0.945313 Z M 3.09375 -0.945313 \"/>\n",
       "</symbol>\n",
       "<symbol overflow=\"visible\" id=\"glyph0-16\">\n",
       "<path style=\"stroke:none;\" d=\"M 0.796875 -5.546875 L 0.527344 -7.15625 L 0.527344 -8.589844 L 1.726563 -8.589844 L 1.726563 -7.15625 L 1.445313 -5.546875 Z M 0.796875 -5.546875 \"/>\n",
       "</symbol>\n",
       "<symbol overflow=\"visible\" id=\"glyph0-17\">\n",
       "<path style=\"stroke:none;\" d=\"M 0.949219 0 L 0.949219 -8.589844 L 7.160156 -8.589844 L 7.160156 -7.578125 L 2.085938 -7.578125 L 2.085938 -4.945313 L 6.835938 -4.945313 L 6.835938 -3.9375 L 2.085938 -3.9375 L 2.085938 -1.015625 L 7.359375 -1.015625 L 7.359375 0 Z M 0.949219 0 \"/>\n",
       "</symbol>\n",
       "<symbol overflow=\"visible\" id=\"glyph0-18\">\n",
       "<path style=\"stroke:none;\" d=\"M 0.597656 0.515625 L 1.625 0.667969 C 1.664063 0.980469 1.785156 1.210938 1.980469 1.359375 C 2.242188 1.554688 2.597656 1.652344 3.054688 1.652344 C 3.539063 1.652344 3.917969 1.554688 4.183594 1.359375 C 4.449219 1.164063 4.628906 0.890625 4.722656 0.539063 C 4.777344 0.324219 4.800781 -0.125 4.796875 -0.8125 C 4.335938 -0.269531 3.761719 0 3.078125 0 C 2.21875 0 1.558594 -0.308594 1.089844 -0.925781 C 0.621094 -1.542969 0.386719 -2.28125 0.386719 -3.148438 C 0.386719 -3.738281 0.492188 -4.285156 0.707031 -4.789063 C 0.921875 -5.289063 1.234375 -5.679688 1.644531 -5.953125 C 2.050781 -6.226563 2.53125 -6.363281 3.082031 -6.363281 C 3.816406 -6.363281 4.421875 -6.066406 4.898438 -5.472656 L 4.898438 -6.222656 L 5.871094 -6.222656 L 5.871094 -0.84375 C 5.871094 0.125 5.769531 0.808594 5.574219 1.214844 C 5.375 1.613281 5.0625 1.933594 4.636719 2.171875 C 4.207031 2.402344 3.683594 2.519531 3.058594 2.523438 C 2.316406 2.519531 1.714844 2.351563 1.257813 2.023438 C 0.800781 1.6875 0.582031 1.1875 0.597656 0.515625 Z M 1.46875 -3.222656 C 1.464844 -2.40625 1.628906 -1.808594 1.957031 -1.4375 C 2.28125 -1.058594 2.6875 -0.871094 3.175781 -0.875 C 3.660156 -0.871094 4.066406 -1.058594 4.394531 -1.433594 C 4.722656 -1.804688 4.886719 -2.390625 4.886719 -3.1875 C 4.886719 -3.945313 4.714844 -4.519531 4.378906 -4.910156 C 4.039063 -5.296875 3.632813 -5.488281 3.15625 -5.492188 C 2.683594 -5.488281 2.285156 -5.296875 1.960938 -4.917969 C 1.628906 -4.535156 1.464844 -3.972656 1.46875 -3.222656 Z M 1.46875 -3.222656 \"/>\n",
       "</symbol>\n",
       "<symbol overflow=\"visible\" id=\"glyph0-19\">\n",
       "<path style=\"stroke:none;\" d=\"M 2.425781 0 L 0.148438 -8.589844 L 1.3125 -8.589844 L 2.617188 -2.960938 C 2.753906 -2.367188 2.875 -1.78125 2.984375 -1.203125 C 3.199219 -2.117188 3.328125 -2.648438 3.367188 -2.789063 L 5.003906 -8.589844 L 6.375 -8.589844 L 7.605469 -4.242188 C 7.914063 -3.164063 8.136719 -2.148438 8.273438 -1.203125 C 8.382813 -1.742188 8.523438 -2.367188 8.703125 -3.070313 L 10.046875 -8.589844 L 11.191406 -8.589844 L 8.835938 0 L 7.742188 0 L 5.929688 -6.546875 C 5.777344 -7.089844 5.6875 -7.425781 5.660156 -7.554688 C 5.566406 -7.15625 5.480469 -6.820313 5.40625 -6.546875 L 3.585938 0 Z M 2.425781 0 \"/>\n",
       "</symbol>\n",
       "<symbol overflow=\"visible\" id=\"glyph0-20\">\n",
       "<path style=\"stroke:none;\" d=\"M 5.050781 -2.003906 L 6.140625 -1.867188 C 5.96875 -1.230469 5.648438 -0.738281 5.183594 -0.386719 C 4.71875 -0.0351563 4.125 0.140625 3.40625 0.140625 C 2.492188 0.140625 1.769531 -0.136719 1.238281 -0.699219 C 0.699219 -1.253906 0.433594 -2.042969 0.4375 -3.058594 C 0.433594 -4.105469 0.703125 -4.917969 1.246094 -5.496094 C 1.78125 -6.074219 2.480469 -6.363281 3.34375 -6.363281 C 4.175781 -6.363281 4.855469 -6.078125 5.382813 -5.511719 C 5.910156 -4.945313 6.175781 -4.148438 6.175781 -3.125 C 6.175781 -3.058594 6.171875 -2.964844 6.171875 -2.84375 L 1.53125 -2.84375 C 1.5625 -2.15625 1.757813 -1.632813 2.109375 -1.269531 C 2.457031 -0.90625 2.890625 -0.726563 3.410156 -0.726563 C 3.796875 -0.726563 4.125 -0.828125 4.402344 -1.03125 C 4.671875 -1.234375 4.890625 -1.558594 5.050781 -2.003906 Z M 1.585938 -3.710938 L 5.0625 -3.710938 C 5.015625 -4.226563 4.882813 -4.621094 4.664063 -4.886719 C 4.328125 -5.292969 3.890625 -5.496094 3.359375 -5.496094 C 2.871094 -5.496094 2.464844 -5.332031 2.136719 -5.007813 C 1.804688 -4.683594 1.621094 -4.25 1.585938 -3.710938 Z M 1.585938 -3.710938 \"/>\n",
       "</symbol>\n",
       "<symbol overflow=\"visible\" id=\"glyph0-21\">\n",
       "<path style=\"stroke:none;\" d=\"M 0.78125 0 L 0.78125 -6.222656 L 1.726563 -6.222656 L 1.726563 -5.28125 C 1.96875 -5.71875 2.191406 -6.011719 2.398438 -6.152344 C 2.601563 -6.292969 2.828125 -6.363281 3.078125 -6.363281 C 3.429688 -6.363281 3.792969 -6.25 4.160156 -6.023438 L 3.796875 -5.046875 C 3.539063 -5.195313 3.28125 -5.273438 3.023438 -5.273438 C 2.792969 -5.273438 2.585938 -5.203125 2.402344 -5.066406 C 2.214844 -4.925781 2.082031 -4.734375 2.007813 -4.488281 C 1.890625 -4.113281 1.832031 -3.703125 1.835938 -3.257813 L 1.835938 0 Z M 0.78125 0 \"/>\n",
       "</symbol>\n",
       "<symbol overflow=\"visible\" id=\"glyph0-22\">\n",
       "<path style=\"stroke:none;\" d=\"M 0.234375 0 L 0.234375 -0.855469 L 4.195313 -5.402344 C 3.746094 -5.378906 3.347656 -5.367188 3.007813 -5.367188 L 0.46875 -5.367188 L 0.46875 -6.222656 L 5.554688 -6.222656 L 5.554688 -5.523438 L 2.1875 -1.578125 L 1.535156 -0.855469 C 2.003906 -0.886719 2.445313 -0.902344 2.867188 -0.90625 L 5.742188 -0.90625 L 5.742188 0 Z M 0.234375 0 \"/>\n",
       "</symbol>\n",
       "<symbol overflow=\"visible\" id=\"glyph0-23\">\n",
       "<path style=\"stroke:none;\" d=\"M 0.789063 0 L 0.789063 -6.222656 L 1.734375 -6.222656 L 1.734375 -5.351563 C 1.929688 -5.648438 2.1875 -5.894531 2.511719 -6.082031 C 2.835938 -6.269531 3.207031 -6.363281 3.621094 -6.363281 C 4.082031 -6.363281 4.457031 -6.265625 4.753906 -6.074219 C 5.042969 -5.882813 5.253906 -5.617188 5.378906 -5.273438 C 5.871094 -6 6.511719 -6.363281 7.300781 -6.363281 C 7.917969 -6.363281 8.390625 -6.191406 8.722656 -5.847656 C 9.054688 -5.503906 9.222656 -4.976563 9.222656 -4.273438 L 9.222656 0 L 8.171875 0 L 8.171875 -3.921875 C 8.167969 -4.339844 8.132813 -4.644531 8.070313 -4.832031 C 8 -5.015625 7.878906 -5.164063 7.699219 -5.277344 C 7.519531 -5.390625 7.308594 -5.449219 7.066406 -5.449219 C 6.628906 -5.449219 6.265625 -5.300781 5.976563 -5.011719 C 5.6875 -4.71875 5.542969 -4.253906 5.542969 -3.617188 L 5.542969 0 L 4.488281 0 L 4.488281 -4.042969 C 4.488281 -4.511719 4.402344 -4.863281 4.230469 -5.097656 C 4.058594 -5.332031 3.777344 -5.449219 3.386719 -5.449219 C 3.089844 -5.449219 2.8125 -5.371094 2.5625 -5.214844 C 2.308594 -5.058594 2.128906 -4.828125 2.015625 -4.527344 C 1.898438 -4.226563 1.839844 -3.792969 1.84375 -3.226563 L 1.84375 0 Z M 0.789063 0 \"/>\n",
       "</symbol>\n",
       "<symbol overflow=\"visible\" id=\"glyph0-24\">\n",
       "<path style=\"stroke:none;\" d=\"M 0.5 -4.234375 C 0.496094 -5.246094 0.601563 -6.0625 0.8125 -6.6875 C 1.019531 -7.304688 1.328125 -7.785156 1.742188 -8.121094 C 2.148438 -8.457031 2.667969 -8.625 3.296875 -8.625 C 3.757813 -8.625 4.164063 -8.53125 4.511719 -8.347656 C 4.855469 -8.160156 5.140625 -7.890625 5.371094 -7.542969 C 5.59375 -7.191406 5.773438 -6.765625 5.90625 -6.265625 C 6.035156 -5.761719 6.097656 -5.085938 6.101563 -4.234375 C 6.097656 -3.226563 5.996094 -2.414063 5.789063 -1.796875 C 5.578125 -1.175781 5.265625 -0.695313 4.859375 -0.359375 C 4.445313 -0.0195313 3.925781 0.144531 3.296875 0.148438 C 2.464844 0.144531 1.816406 -0.148438 1.347656 -0.742188 C 0.78125 -1.457031 0.496094 -2.621094 0.5 -4.234375 Z M 1.582031 -4.234375 C 1.582031 -2.824219 1.746094 -1.886719 2.074219 -1.417969 C 2.402344 -0.949219 2.808594 -0.714844 3.296875 -0.71875 C 3.777344 -0.714844 4.183594 -0.949219 4.519531 -1.421875 C 4.847656 -1.886719 5.015625 -2.824219 5.015625 -4.234375 C 5.015625 -5.648438 4.847656 -6.589844 4.519531 -7.054688 C 4.183594 -7.515625 3.773438 -7.746094 3.289063 -7.75 C 2.800781 -7.746094 2.414063 -7.542969 2.125 -7.136719 C 1.761719 -6.613281 1.582031 -5.644531 1.582031 -4.234375 Z M 1.582031 -4.234375 \"/>\n",
       "</symbol>\n",
       "<symbol overflow=\"visible\" id=\"glyph0-25\">\n",
       "<path style=\"stroke:none;\" d=\"M 1.089844 0 L 1.089844 -1.203125 L 2.289063 -1.203125 L 2.289063 0 Z M 1.089844 0 \"/>\n",
       "</symbol>\n",
       "<symbol overflow=\"visible\" id=\"glyph0-26\">\n",
       "<path style=\"stroke:none;\" d=\"M 4.46875 0 L 3.414063 0 L 3.414063 -6.71875 C 3.160156 -6.476563 2.828125 -6.234375 2.414063 -5.996094 C 2 -5.75 1.628906 -5.570313 1.304688 -5.449219 L 1.304688 -6.46875 C 1.894531 -6.742188 2.410156 -7.078125 2.851563 -7.476563 C 3.292969 -7.871094 3.605469 -8.253906 3.789063 -8.625 L 4.46875 -8.625 Z M 4.46875 0 \"/>\n",
       "</symbol>\n",
       "<symbol overflow=\"visible\" id=\"glyph0-27\">\n",
       "<path style=\"stroke:none;\" d=\"M 6.039063 -1.015625 L 6.039063 0 L 0.363281 0 C 0.355469 -0.253906 0.394531 -0.496094 0.484375 -0.734375 C 0.628906 -1.117188 0.859375 -1.5 1.179688 -1.875 C 1.492188 -2.25 1.953125 -2.683594 2.5625 -3.175781 C 3.492188 -3.941406 4.125 -4.546875 4.453125 -4.992188 C 4.78125 -5.4375 4.945313 -5.859375 4.945313 -6.265625 C 4.945313 -6.679688 4.792969 -7.03125 4.496094 -7.320313 C 4.191406 -7.601563 3.804688 -7.746094 3.328125 -7.75 C 2.820313 -7.746094 2.414063 -7.59375 2.109375 -7.292969 C 1.804688 -6.984375 1.648438 -6.5625 1.648438 -6.03125 L 0.5625 -6.140625 C 0.632813 -6.945313 0.910156 -7.558594 1.398438 -7.988281 C 1.878906 -8.410156 2.53125 -8.625 3.351563 -8.625 C 4.171875 -8.625 4.824219 -8.394531 5.308594 -7.9375 C 5.789063 -7.480469 6.027344 -6.914063 6.03125 -6.242188 C 6.027344 -5.894531 5.957031 -5.558594 5.820313 -5.226563 C 5.675781 -4.890625 5.441406 -4.539063 5.117188 -4.175781 C 4.789063 -3.804688 4.25 -3.300781 3.492188 -2.664063 C 2.859375 -2.128906 2.453125 -1.769531 2.273438 -1.582031 C 2.09375 -1.394531 1.945313 -1.203125 1.828125 -1.015625 Z M 6.039063 -1.015625 \"/>\n",
       "</symbol>\n",
       "<symbol overflow=\"visible\" id=\"glyph0-28\">\n",
       "<path style=\"stroke:none;\" d=\"M 0.503906 -2.265625 L 1.558594 -2.40625 C 1.679688 -1.808594 1.882813 -1.378906 2.175781 -1.113281 C 2.464844 -0.847656 2.820313 -0.714844 3.242188 -0.71875 C 3.734375 -0.714844 4.152344 -0.886719 4.496094 -1.234375 C 4.832031 -1.574219 5.003906 -2 5.007813 -2.515625 C 5.003906 -2.996094 4.847656 -3.394531 4.535156 -3.710938 C 4.21875 -4.023438 3.816406 -4.183594 3.328125 -4.183594 C 3.128906 -4.183594 2.878906 -4.144531 2.585938 -4.066406 L 2.703125 -4.992188 C 2.765625 -4.984375 2.824219 -4.980469 2.871094 -4.980469 C 3.320313 -4.980469 3.722656 -5.097656 4.085938 -5.332031 C 4.441406 -5.566406 4.621094 -5.925781 4.625 -6.414063 C 4.621094 -6.800781 4.492188 -7.121094 4.230469 -7.375 C 3.964844 -7.628906 3.625 -7.757813 3.21875 -7.757813 C 2.804688 -7.757813 2.464844 -7.628906 2.191406 -7.371094 C 1.917969 -7.113281 1.742188 -6.726563 1.664063 -6.210938 L 0.609375 -6.398438 C 0.738281 -7.105469 1.03125 -7.652344 1.488281 -8.042969 C 1.941406 -8.429688 2.507813 -8.625 3.195313 -8.625 C 3.660156 -8.625 4.09375 -8.523438 4.488281 -8.324219 C 4.878906 -8.121094 5.179688 -7.847656 5.390625 -7.5 C 5.601563 -7.148438 5.707031 -6.777344 5.707031 -6.390625 C 5.707031 -6.019531 5.605469 -5.683594 5.40625 -5.378906 C 5.207031 -5.074219 4.914063 -4.832031 4.523438 -4.652344 C 5.03125 -4.535156 5.425781 -4.289063 5.707031 -3.921875 C 5.988281 -3.546875 6.128906 -3.085938 6.128906 -2.539063 C 6.128906 -1.785156 5.855469 -1.148438 5.308594 -0.628906 C 4.761719 -0.105469 4.070313 0.152344 3.234375 0.152344 C 2.476563 0.152344 1.847656 -0.0703125 1.355469 -0.519531 C 0.855469 -0.96875 0.574219 -1.550781 0.503906 -2.265625 Z M 0.503906 -2.265625 \"/>\n",
       "</symbol>\n",
       "<symbol overflow=\"visible\" id=\"glyph0-29\">\n",
       "<path style=\"stroke:none;\" d=\"M 3.878906 0 L 3.878906 -2.054688 L 0.152344 -2.054688 L 0.152344 -3.023438 L 4.070313 -8.589844 L 4.933594 -8.589844 L 4.933594 -3.023438 L 6.09375 -3.023438 L 6.09375 -2.054688 L 4.933594 -2.054688 L 4.933594 0 Z M 3.878906 -3.023438 L 3.878906 -6.898438 L 1.1875 -3.023438 Z M 3.878906 -3.023438 \"/>\n",
       "</symbol>\n",
       "</g>\n",
       "<clipPath id=\"clip1\">\n",
       "  <path d=\"M 59.039063 59.039063 L 474.757813 59.039063 L 474.757813 431.558594 L 59.039063 431.558594 Z M 59.039063 59.039063 \"/>\n",
       "</clipPath>\n",
       "</defs>\n",
       "<g id=\"surface71\">\n",
       "<rect x=\"0\" y=\"0\" width=\"504\" height=\"504\" style=\"fill:rgb(100%,100%,100%);fill-opacity:1;stroke:none;\"/>\n",
       "<path style=\" stroke:none;fill-rule:nonzero;fill:rgb(0%,0%,0%);fill-opacity:1;\" d=\"M 74.398438 426.882813 L 187.339844 426.882813 L 187.339844 59.042969 L 74.398438 59.042969 Z M 74.398438 426.882813 \"/>\n",
       "<path style=\" stroke:none;fill-rule:nonzero;fill:rgb(0%,0%,0%);fill-opacity:1;\" d=\"M 209.929688 426.882813 L 322.871094 426.882813 L 322.871094 242.960938 L 209.929688 242.960938 Z M 209.929688 426.882813 \"/>\n",
       "<path style=\" stroke:none;fill-rule:nonzero;fill:rgb(0%,0%,0%);fill-opacity:1;\" d=\"M 345.457031 426.882813 L 458.398438 426.882813 L 458.398438 59.042969 L 345.457031 59.042969 Z M 345.457031 426.882813 \"/>\n",
       "<g style=\"fill:rgb(0%,0%,0%);fill-opacity:1;\">\n",
       "  <use xlink:href=\"#glyph0-0\" x=\"89.511719\" y=\"456.480469\"/>\n",
       "  <use xlink:href=\"#glyph0-1\" x=\"97.515625\" y=\"456.480469\"/>\n",
       "  <use xlink:href=\"#glyph0-2\" x=\"104.189453\" y=\"456.480469\"/>\n",
       "  <use xlink:href=\"#glyph0-3\" x=\"110.189453\" y=\"456.480469\"/>\n",
       "  <use xlink:href=\"#glyph0-4\" x=\"116.863281\" y=\"456.480469\"/>\n",
       "  <use xlink:href=\"#glyph0-5\" x=\"123.537109\" y=\"456.480469\"/>\n",
       "  <use xlink:href=\"#glyph0-6\" x=\"126.203125\" y=\"456.480469\"/>\n",
       "  <use xlink:href=\"#glyph0-7\" x=\"132.876953\" y=\"456.480469\"/>\n",
       "  <use xlink:href=\"#glyph0-8\" x=\"136.210938\" y=\"456.480469\"/>\n",
       "  <use xlink:href=\"#glyph0-9\" x=\"144.214844\" y=\"456.480469\"/>\n",
       "  <use xlink:href=\"#glyph0-10\" x=\"150.888672\" y=\"456.480469\"/>\n",
       "  <use xlink:href=\"#glyph0-11\" x=\"153.554688\" y=\"456.480469\"/>\n",
       "  <use xlink:href=\"#glyph0-12\" x=\"159.554688\" y=\"456.480469\"/>\n",
       "  <use xlink:href=\"#glyph0-6\" x=\"165.554688\" y=\"456.480469\"/>\n",
       "</g>\n",
       "<g style=\"fill:rgb(0%,0%,0%);fill-opacity:1;\">\n",
       "  <use xlink:href=\"#glyph0-13\" x=\"212.230469\" y=\"456.480469\"/>\n",
       "  <use xlink:href=\"#glyph0-14\" x=\"220.896484\" y=\"456.480469\"/>\n",
       "  <use xlink:href=\"#glyph0-2\" x=\"226.896484\" y=\"456.480469\"/>\n",
       "  <use xlink:href=\"#glyph0-10\" x=\"232.896484\" y=\"456.480469\"/>\n",
       "  <use xlink:href=\"#glyph0-5\" x=\"235.5625\" y=\"456.480469\"/>\n",
       "  <use xlink:href=\"#glyph0-11\" x=\"238.228516\" y=\"456.480469\"/>\n",
       "  <use xlink:href=\"#glyph0-15\" x=\"244.228516\" y=\"456.480469\"/>\n",
       "  <use xlink:href=\"#glyph0-16\" x=\"247.5625\" y=\"456.480469\"/>\n",
       "  <use xlink:href=\"#glyph0-11\" x=\"249.853516\" y=\"456.480469\"/>\n",
       "  <use xlink:href=\"#glyph0-7\" x=\"255.853516\" y=\"456.480469\"/>\n",
       "  <use xlink:href=\"#glyph0-17\" x=\"259.1875\" y=\"456.480469\"/>\n",
       "  <use xlink:href=\"#glyph0-6\" x=\"267.191406\" y=\"456.480469\"/>\n",
       "  <use xlink:href=\"#glyph0-15\" x=\"273.865234\" y=\"456.480469\"/>\n",
       "  <use xlink:href=\"#glyph0-5\" x=\"277.199219\" y=\"456.480469\"/>\n",
       "  <use xlink:href=\"#glyph0-4\" x=\"279.865234\" y=\"456.480469\"/>\n",
       "  <use xlink:href=\"#glyph0-18\" x=\"286.539063\" y=\"456.480469\"/>\n",
       "  <use xlink:href=\"#glyph0-7\" x=\"293.212891\" y=\"456.480469\"/>\n",
       "  <use xlink:href=\"#glyph0-8\" x=\"296.546875\" y=\"456.480469\"/>\n",
       "  <use xlink:href=\"#glyph0-10\" x=\"304.550781\" y=\"456.480469\"/>\n",
       "  <use xlink:href=\"#glyph0-6\" x=\"307.216797\" y=\"456.480469\"/>\n",
       "  <use xlink:href=\"#glyph0-4\" x=\"313.890625\" y=\"456.480469\"/>\n",
       "</g>\n",
       "<g style=\"fill:rgb(0%,0%,0%);fill-opacity:1;\">\n",
       "  <use xlink:href=\"#glyph0-19\" x=\"361.914063\" y=\"456.480469\"/>\n",
       "  <use xlink:href=\"#glyph0-20\" x=\"373.240234\" y=\"456.480469\"/>\n",
       "  <use xlink:href=\"#glyph0-18\" x=\"379.914063\" y=\"456.480469\"/>\n",
       "  <use xlink:href=\"#glyph0-20\" x=\"386.587891\" y=\"456.480469\"/>\n",
       "  <use xlink:href=\"#glyph0-15\" x=\"393.261719\" y=\"456.480469\"/>\n",
       "  <use xlink:href=\"#glyph0-6\" x=\"396.595703\" y=\"456.480469\"/>\n",
       "  <use xlink:href=\"#glyph0-21\" x=\"403.269531\" y=\"456.480469\"/>\n",
       "  <use xlink:href=\"#glyph0-5\" x=\"407.265625\" y=\"456.480469\"/>\n",
       "  <use xlink:href=\"#glyph0-6\" x=\"409.931641\" y=\"456.480469\"/>\n",
       "  <use xlink:href=\"#glyph0-4\" x=\"416.605469\" y=\"456.480469\"/>\n",
       "  <use xlink:href=\"#glyph0-5\" x=\"423.279297\" y=\"456.480469\"/>\n",
       "  <use xlink:href=\"#glyph0-22\" x=\"425.945313\" y=\"456.480469\"/>\n",
       "  <use xlink:href=\"#glyph0-23\" x=\"431.945313\" y=\"456.480469\"/>\n",
       "</g>\n",
       "<path style=\"fill:none;stroke-width:0.75;stroke-linecap:round;stroke-linejoin:round;stroke:rgb(0%,0%,0%);stroke-opacity:1;stroke-miterlimit:10;\" d=\"M 59.039063 426.882813 L 59.039063 59.039063 \"/>\n",
       "<path style=\"fill:none;stroke-width:0.75;stroke-linecap:round;stroke-linejoin:round;stroke:rgb(0%,0%,0%);stroke-opacity:1;stroke-miterlimit:10;\" d=\"M 59.039063 426.882813 L 51.839844 426.882813 \"/>\n",
       "<path style=\"fill:none;stroke-width:0.75;stroke-linecap:round;stroke-linejoin:round;stroke:rgb(0%,0%,0%);stroke-opacity:1;stroke-miterlimit:10;\" d=\"M 59.039063 334.921875 L 51.839844 334.921875 \"/>\n",
       "<path style=\"fill:none;stroke-width:0.75;stroke-linecap:round;stroke-linejoin:round;stroke:rgb(0%,0%,0%);stroke-opacity:1;stroke-miterlimit:10;\" d=\"M 59.039063 242.960938 L 51.839844 242.960938 \"/>\n",
       "<path style=\"fill:none;stroke-width:0.75;stroke-linecap:round;stroke-linejoin:round;stroke:rgb(0%,0%,0%);stroke-opacity:1;stroke-miterlimit:10;\" d=\"M 59.039063 151 L 51.839844 151 \"/>\n",
       "<path style=\"fill:none;stroke-width:0.75;stroke-linecap:round;stroke-linejoin:round;stroke:rgb(0%,0%,0%);stroke-opacity:1;stroke-miterlimit:10;\" d=\"M 59.039063 59.039063 L 51.839844 59.039063 \"/>\n",
       "<g style=\"fill:rgb(0%,0%,0%);fill-opacity:1;\">\n",
       "  <use xlink:href=\"#glyph0-24\" x=\"27.960938\" y=\"431.175781\"/>\n",
       "  <use xlink:href=\"#glyph0-25\" x=\"34.634766\" y=\"431.175781\"/>\n",
       "  <use xlink:href=\"#glyph0-24\" x=\"37.96875\" y=\"431.175781\"/>\n",
       "</g>\n",
       "<g style=\"fill:rgb(0%,0%,0%);fill-opacity:1;\">\n",
       "  <use xlink:href=\"#glyph0-24\" x=\"27.960938\" y=\"339.214844\"/>\n",
       "  <use xlink:href=\"#glyph0-25\" x=\"34.634766\" y=\"339.214844\"/>\n",
       "  <use xlink:href=\"#glyph0-26\" x=\"37.96875\" y=\"339.214844\"/>\n",
       "</g>\n",
       "<g style=\"fill:rgb(0%,0%,0%);fill-opacity:1;\">\n",
       "  <use xlink:href=\"#glyph0-24\" x=\"27.960938\" y=\"247.253906\"/>\n",
       "  <use xlink:href=\"#glyph0-25\" x=\"34.634766\" y=\"247.253906\"/>\n",
       "  <use xlink:href=\"#glyph0-27\" x=\"37.96875\" y=\"247.253906\"/>\n",
       "</g>\n",
       "<g style=\"fill:rgb(0%,0%,0%);fill-opacity:1;\">\n",
       "  <use xlink:href=\"#glyph0-24\" x=\"27.960938\" y=\"155.296875\"/>\n",
       "  <use xlink:href=\"#glyph0-25\" x=\"34.634766\" y=\"155.296875\"/>\n",
       "  <use xlink:href=\"#glyph0-28\" x=\"37.96875\" y=\"155.296875\"/>\n",
       "</g>\n",
       "<g style=\"fill:rgb(0%,0%,0%);fill-opacity:1;\">\n",
       "  <use xlink:href=\"#glyph0-24\" x=\"27.960938\" y=\"63.335938\"/>\n",
       "  <use xlink:href=\"#glyph0-25\" x=\"34.634766\" y=\"63.335938\"/>\n",
       "  <use xlink:href=\"#glyph0-29\" x=\"37.96875\" y=\"63.335938\"/>\n",
       "</g>\n",
       "<g clip-path=\"url(#clip1)\" clip-rule=\"nonzero\">\n",
       "<g style=\"fill:rgb(100%,100%,100%);fill-opacity:1;\">\n",
       "  <use xlink:href=\"#glyph0-24\" x=\"122.53125\" y=\"109.257813\"/>\n",
       "  <use xlink:href=\"#glyph0-25\" x=\"129.205078\" y=\"109.257813\"/>\n",
       "  <use xlink:href=\"#glyph0-29\" x=\"132.539063\" y=\"109.257813\"/>\n",
       "</g>\n",
       "<g style=\"fill:rgb(100%,100%,100%);fill-opacity:1;\">\n",
       "  <use xlink:href=\"#glyph0-24\" x=\"258.058594\" y=\"293.179688\"/>\n",
       "  <use xlink:href=\"#glyph0-25\" x=\"264.732422\" y=\"293.179688\"/>\n",
       "  <use xlink:href=\"#glyph0-27\" x=\"268.066406\" y=\"293.179688\"/>\n",
       "</g>\n",
       "<g style=\"fill:rgb(100%,100%,100%);fill-opacity:1;\">\n",
       "  <use xlink:href=\"#glyph0-24\" x=\"393.589844\" y=\"109.257813\"/>\n",
       "  <use xlink:href=\"#glyph0-25\" x=\"400.263672\" y=\"109.257813\"/>\n",
       "  <use xlink:href=\"#glyph0-29\" x=\"403.597656\" y=\"109.257813\"/>\n",
       "</g>\n",
       "</g>\n",
       "</g>\n",
       "</svg>\n"
      ],
      "text/plain": [
       "plot without title"
      ]
     },
     "metadata": {
      "image/svg+xml": {
       "isolated": true
      }
     },
     "output_type": "display_data"
    }
   ],
   "source": [
    "dieta<-barplot(c(0.4, 0.2, 0.4),names.arg = c(\"Kuchnia Polska\",\"Cyclist's Eating Plan\",\"Wegetarianizm\"), las=1, border = \"transparent\", col=\"black\")\n",
    "text( dieta, c(0.4, 0.2, 0.4 )-0.05, labels = c(0.4, 0.2, 0.4), col=\"white\")"
   ]
  },
  {
   "cell_type": "markdown",
   "metadata": {},
   "source": [
    "Łączny rozkład tych zmiennych prezentuje się w następujący sposób:"
   ]
  },
  {
   "cell_type": "code",
   "execution_count": 48,
   "metadata": {
    "collapsed": false
   },
   "outputs": [
    {
     "data": {
      "text/html": [
       "<table>\n",
       "<thead><tr><th></th><th scope=col>Kuchnia Polska</th><th scope=col>Cyclist's Eating Plan</th><th scope=col>Wegetarianizm</th><th scope=col>RAZEM</th></tr></thead>\n",
       "<tbody>\n",
       "\t<tr><th scope=row>Partia 1</th><td>0.12</td><td>0.08</td><td>0.10</td><td>0.30</td></tr>\n",
       "\t<tr><th scope=row>Partia 2</th><td>0.100</td><td>0.050</td><td>0.084</td><td>0.234</td></tr>\n",
       "\t<tr><th scope=row>Partia 3</th><td>0.08</td><td>0.04</td><td>0.08</td><td>0.20</td></tr>\n",
       "\t<tr><th scope=row>Partia 4</th><td>0.060</td><td>0.030</td><td>0.076</td><td>0.166</td></tr>\n",
       "\t<tr><th scope=row>Partia 5</th><td>0.04</td><td>0.00</td><td>0.06</td><td>0.10</td></tr>\n",
       "\t<tr><th scope=row>RAZEM</th><td>0.4</td><td>0.2</td><td>0.4</td><td>1.0</td></tr>\n",
       "</tbody>\n",
       "</table>\n"
      ],
      "text/latex": [
       "\\begin{tabular}{r|llll}\n",
       "  & Kuchnia Polska & Cyclist's Eating Plan & Wegetarianizm & RAZEM\\\\\n",
       "\\hline\n",
       "\tPartia 1 & 0.12 & 0.08 & 0.10 & 0.30\\\\\n",
       "\tPartia 2 & 0.100 & 0.050 & 0.084 & 0.234\\\\\n",
       "\tPartia 3 & 0.08 & 0.04 & 0.08 & 0.20\\\\\n",
       "\tPartia 4 & 0.060 & 0.030 & 0.076 & 0.166\\\\\n",
       "\tPartia 5 & 0.04 & 0.00 & 0.06 & 0.10\\\\\n",
       "\tRAZEM & 0.4 & 0.2 & 0.4 & 1.0\\\\\n",
       "\\end{tabular}\n"
      ],
      "text/markdown": [
       "1. 0.12\n",
       "2. 0.1\n",
       "3. 0.08\n",
       "4. 0.06\n",
       "5. 0.04\n",
       "6. 0.4\n",
       "7. 0.08\n",
       "8. 0.05\n",
       "9. 0.04\n",
       "10. 0.03\n",
       "11. 0\n",
       "12. 0.2\n",
       "13. 0.1\n",
       "14. 0.084\n",
       "15. 0.08\n",
       "16. 0.076\n",
       "17. 0.06\n",
       "18. 0.4\n",
       "19. 0.3\n",
       "20. 0.234\n",
       "21. 0.2\n",
       "22. 0.166\n",
       "23. 0.1\n",
       "24. 1\n",
       "\n",
       "\n"
      ],
      "text/plain": [
       "         Kuchnia Polska Cyclist's Eating Plan Wegetarianizm RAZEM\n",
       "Partia 1           0.12                  0.08         0.100 0.300\n",
       "Partia 2           0.10                  0.05         0.084 0.234\n",
       "Partia 3           0.08                  0.04         0.080 0.200\n",
       "Partia 4           0.06                  0.03         0.076 0.166\n",
       "Partia 5           0.04                  0.00         0.060 0.100\n",
       "RAZEM              0.40                  0.20         0.400 1.000"
      ]
     },
     "execution_count": 48,
     "metadata": {},
     "output_type": "execute_result"
    }
   ],
   "source": [
    "rozklad_laczny<-\n",
    "    matrix(\n",
    "        c( 0.12, 0.08, 0.1,\n",
    "           0.1,  0.05, 0.084,\n",
    "           0.08, 0.04, 0.08,\n",
    "           0.06, 0.03, 0.076,\n",
    "           0.04, 0,    0.06),\n",
    "        nrow = 5,\n",
    "        ncol = 3,\n",
    "        byrow = TRUE\n",
    "    )\n",
    "colnames(rozklad_laczny)<-c(\"Kuchnia Polska\",\"Cyclist's Eating Plan\",\"Wegetarianizm\")\n",
    "row.names(rozklad_laczny)<-c(\"Partia 1\",\"Partia 2\",\"Partia 3\",\"Partia 4\",\"Partia 5\")\n",
    "rozklad_laczny_brzegowy<-addmargins(rozklad_laczny)\n",
    "colnames(rozklad_laczny_brzegowy)<-c(\"Kuchnia Polska\",\"Cyclist's Eating Plan\",\"Wegetarianizm\", \"RAZEM\")\n",
    "row.names(rozklad_laczny_brzegowy)<-c(\"Partia 1\",\"Partia 2\",\"Partia 3\",\"Partia 4\",\"Partia 5\", \"RAZEM\")\n",
    "rozklad_laczny_brzegowy"
   ]
  },
  {
   "cell_type": "markdown",
   "metadata": {},
   "source": [
    "Mamy więc dwie zmienne: \"partię\" oraz \"dietę\". O pierwszej z nich będziemy mówili, że jest to zmienna typu \"wybór\". Oznacza to, że zamiast badania pełnej preferencji na zbiorze opcji, respondenci musieli wybrać tylko jedną (wcale nie musi to być wybór najwyżej ocenianej opcji).  W efekcie otrzymaliśmy uporządkowanie opcji wyznaczone przez częstość ich wyboru. \"Partia\" jest zmienną nominalną, więc nie możemy mówić, że istnieje jakiś ustalony porządek jej kategorii. Uporządkowanie wynika tylko i wyłącznie z częstości występowania. Zmienna \"dieta\" również jest mierzona na skali nominalnej. Przyjmiemy, że jest to cecha respondentów. Nie mamy w tym przypadku doczynienia z preferencjami (każdy może być jednocześnie tylko na jednej diecie jednocześnie).\n",
    "\n",
    "Skoro mamy dwie zmienne to oczywiście chcielibyśmy jakoś opisać występujące dla nich zależności. __Ale jak badać zależności między zmienną \"wybór\" (nominalną) i drugą zmienną nominalą?__.  Gdyby chodziło o zmienne porządkowe, skorzystalibyśmy pewnie z miary _tau Kendalla_. Tak jednak nie jest. Co możemy więc zrobić? "
   ]
  },
  {
   "cell_type": "markdown",
   "metadata": {},
   "source": [
    "# Wprowadzenie do nowej miary zależności"
   ]
  },
  {
   "cell_type": "markdown",
   "metadata": {},
   "source": [
    "Prof. Lissowski ma następującą propozycję (cytat): \n",
    "\n",
    "\"__Niezależność statystyczna__ _zmiennej X (typu „wybór”) od zmiennej Y (nominalnej) polega na tym, że takie same są uporządkowania częstości wyborów kategorii zmiennej X we wszystkich grupach badanych osób, wyróżnionych ze względu na zmienną Y._\"\n",
    "\n",
    "W naszym przykładzie niezależność zmiennych oznaczałaby, że uporządkowanie partii dla każdej diety jest takie samo:"
   ]
  },
  {
   "cell_type": "markdown",
   "metadata": {},
   "source": [
    "__Kuchnia Polska:__"
   ]
  },
  {
   "cell_type": "code",
   "execution_count": 63,
   "metadata": {
    "collapsed": false
   },
   "outputs": [
    {
     "data": {
      "text/html": [
       "<ol class=list-inline>\n",
       "\t<li>\"Partia 1\"</li>\n",
       "\t<li>\"Partia 2\"</li>\n",
       "\t<li>\"Partia 3\"</li>\n",
       "\t<li>\"Partia 4\"</li>\n",
       "\t<li>\"Partia 5\"</li>\n",
       "</ol>\n"
      ],
      "text/latex": [
       "\\begin{enumerate*}\n",
       "\\item \"Partia 1\"\n",
       "\\item \"Partia 2\"\n",
       "\\item \"Partia 3\"\n",
       "\\item \"Partia 4\"\n",
       "\\item \"Partia 5\"\n",
       "\\end{enumerate*}\n"
      ],
      "text/markdown": [
       "1. \"Partia 1\"\n",
       "2. \"Partia 2\"\n",
       "3. \"Partia 3\"\n",
       "4. \"Partia 4\"\n",
       "5. \"Partia 5\"\n",
       "\n",
       "\n"
      ],
      "text/plain": [
       "[1] \"Partia 1\" \"Partia 2\" \"Partia 3\" \"Partia 4\" \"Partia 5\""
      ]
     },
     "execution_count": 63,
     "metadata": {},
     "output_type": "execute_result"
    }
   ],
   "source": [
    "row.names(rozklad_laczny)[order(rozklad_laczny[,1], decreasing = TRUE)]"
   ]
  },
  {
   "cell_type": "markdown",
   "metadata": {},
   "source": [
    "__Cyclist's Eating Plan:__"
   ]
  },
  {
   "cell_type": "code",
   "execution_count": 64,
   "metadata": {
    "collapsed": false
   },
   "outputs": [
    {
     "data": {
      "text/html": [
       "<ol class=list-inline>\n",
       "\t<li>\"Partia 1\"</li>\n",
       "\t<li>\"Partia 2\"</li>\n",
       "\t<li>\"Partia 3\"</li>\n",
       "\t<li>\"Partia 4\"</li>\n",
       "\t<li>\"Partia 5\"</li>\n",
       "</ol>\n"
      ],
      "text/latex": [
       "\\begin{enumerate*}\n",
       "\\item \"Partia 1\"\n",
       "\\item \"Partia 2\"\n",
       "\\item \"Partia 3\"\n",
       "\\item \"Partia 4\"\n",
       "\\item \"Partia 5\"\n",
       "\\end{enumerate*}\n"
      ],
      "text/markdown": [
       "1. \"Partia 1\"\n",
       "2. \"Partia 2\"\n",
       "3. \"Partia 3\"\n",
       "4. \"Partia 4\"\n",
       "5. \"Partia 5\"\n",
       "\n",
       "\n"
      ],
      "text/plain": [
       "[1] \"Partia 1\" \"Partia 2\" \"Partia 3\" \"Partia 4\" \"Partia 5\""
      ]
     },
     "execution_count": 64,
     "metadata": {},
     "output_type": "execute_result"
    }
   ],
   "source": [
    "row.names(rozklad_laczny)[order(rozklad_laczny[,2], decreasing = TRUE)]"
   ]
  },
  {
   "cell_type": "markdown",
   "metadata": {},
   "source": [
    "__Wegetarianizm:__"
   ]
  },
  {
   "cell_type": "code",
   "execution_count": 65,
   "metadata": {
    "collapsed": false
   },
   "outputs": [
    {
     "data": {
      "text/html": [
       "<ol class=list-inline>\n",
       "\t<li>\"Partia 1\"</li>\n",
       "\t<li>\"Partia 2\"</li>\n",
       "\t<li>\"Partia 3\"</li>\n",
       "\t<li>\"Partia 4\"</li>\n",
       "\t<li>\"Partia 5\"</li>\n",
       "</ol>\n"
      ],
      "text/latex": [
       "\\begin{enumerate*}\n",
       "\\item \"Partia 1\"\n",
       "\\item \"Partia 2\"\n",
       "\\item \"Partia 3\"\n",
       "\\item \"Partia 4\"\n",
       "\\item \"Partia 5\"\n",
       "\\end{enumerate*}\n"
      ],
      "text/markdown": [
       "1. \"Partia 1\"\n",
       "2. \"Partia 2\"\n",
       "3. \"Partia 3\"\n",
       "4. \"Partia 4\"\n",
       "5. \"Partia 5\"\n",
       "\n",
       "\n"
      ],
      "text/plain": [
       "[1] \"Partia 1\" \"Partia 2\" \"Partia 3\" \"Partia 4\" \"Partia 5\""
      ]
     },
     "execution_count": 65,
     "metadata": {},
     "output_type": "execute_result"
    }
   ],
   "source": [
    "row.names(rozklad_laczny)[order(rozklad_laczny[,3], decreasing = TRUE)]"
   ]
  },
  {
   "cell_type": "markdown",
   "metadata": {},
   "source": [
    "I to się zgadza. We wszystkich przypadkach uporządkowanie partii jest takie samo. Definicja niezależności został dodatkowo opisana formalnie:\n",
    "\n",
    "__Definicja 1.__\n",
    "\n",
    "Zmienna X jest __niezależna statystycznie__ w powyższym sensie od zmiennej Y wtedy, gdy\n",
    "\n",
    "$\\forall y_g \\in Y , \\forall x_i , x_k \\in X:$\n",
    "\n",
    "$P(X=x_i | Y = y_g) < P(X=x_k | Y = y_g) \\Leftrightarrow P(X=x_i) < P(X=x_k)$\n",
    "\n",
    "$P(X=x_i | Y = y_g) = P(X=x_k | Y = y_g) \\Leftrightarrow P(X=x_i) = P(X=x_k)$\n",
    "\n",
    "$P(X=x_i | Y = y_g) > P(X=x_k | Y = y_g) \\Leftrightarrow P(X=x_i) > P(X=x_k)$\n",
    "\n",
    "co uzyskuje się w JUPYTERze używając następującego skryptu (jest to zapis stosowany w LATEX, ale ograniczony dodatkowo znakami \\$...\\$)"
   ]
  },
  {
   "cell_type": "markdown",
   "metadata": {},
   "source": [
    "$\\forall y_g \\in Y , \\forall x_i , x_k \\in X:$\n",
    "\n",
    "$P(X=x_i | Y = y_g) < P(X=x_k | Y = y_g) \\Leftrightarrow P(X=x_i) < P(X=x_k)$\n",
    "\n",
    "$P(X=x_i | Y = y_g) = P(X=x_k | Y = y_g) \\Leftrightarrow P(X=x_i) = P(X=x_k)$\n",
    "\n",
    "$P(X=x_i | Y = y_g) > P(X=x_k | Y = y_g) \\Leftrightarrow P(X=x_i) > P(X=x_k)$\n",
    "  "
   ]
  },
  {
   "cell_type": "markdown",
   "metadata": {},
   "source": [
    "Analogicznie do niezależności statystycznej możemy mówić o maksymalne zależności statystycznej:\n",
    "\n",
    "__\"Maksymalna zależność statystyczna__ _zmiennej X (typu „wybór”) od zmiennej Y (nominalnej) oznacza (jak zawsze), że wszystkie osoby w każdej z wyróżnionych grup ze względu na zmienną Y wybierają tę samą kategorię zmiennej X\"_.\n",
    "\n",
    "__Definicja 2.__\n",
    "\n",
    "$\\forall y_g \\in Y , \\exists x_i \\in X: P(X=x_i | Y = y_g)=1$\n",
    "\n",
    "Dla naszego przykładu oznaczałoby to, że w przypadku wszystkich diet wybrano jedną i tą samą partię.\n",
    "\n",
    "To tyle wprowadzenia. Wydaje mi się, że pomysł jest bardzo prosty. Zobaczymy jak będzie z wykonaniem."
   ]
  },
  {
   "cell_type": "markdown",
   "metadata": {},
   "source": [
    "# 3. Nowa miara zależności w praktyce\n",
    "\n",
    "Aby zrozumieć nową miarę zależności musimy najpierw zrozumieć działanie dwóch starych miar: MD oraz MDA."
   ]
  },
  {
   "cell_type": "markdown",
   "metadata": {},
   "source": [
    "## 3.1. Miary MD i MDA\n",
    "\n",
    "Miary MD oraz MDA opisują odpowiednio stopień roproszenia i koncentracji zmiennej. Musimy je omówić ponieważ stanowią one podstawowy składnik nowej miary statystycznej. "
   ]
  },
  {
   "cell_type": "markdown",
   "metadata": {},
   "source": [
    "###  3.1.1. MD czyli średnia różnica (mean difference)\n",
    "\n",
    "MD - średnia różnica (mean difference) - zaproponował słynny Corrado Gini w 1912 r. jako miara rozproszenia. Zapisuje się ją wzorem:\n",
    " \n",
    "$$MD(X)=\\frac{1}{n(n-1)} \\sum_{i=1}^n \\sum_{k=1}^n |x_i-x_k|$$\n",
    "\n",
    "Jak widać jest to średnia wartość różnic między wszystkimi możliwymi parami różnicami wartości X. Zauważmy, że zmienna X jest mierzona na skali ilorazowej. Dla naszych potrzeb możemy podstawić w jej miejsce czestości występowania czyli $P(X=x_i)$ lub prościej $p_i$. Otrzymamy wtedy: \n",
    "\n",
    "$$MD(X)=\\frac{1}{n(n-1)} \\sum_{i=1}^n \\sum_{k=1}^n |p_i-p_k|$$\n",
    "\n",
    "Niech $p_1 \\geq p_2 \\geq p_3 \\geq ... \\geq p_{n-1} \\geq p_n$\n",
    "\n",
    "Mając tak uporządkowane $P_i$ możemy wyznaczyćmacierz __D__, reprezentującą wartości bezwzględne różnic między wszystkimi parami częstości. Macierz __D__ zapisujemy jako:\n",
    "\n",
    "\n",
    "\n",
    "$$D=\\begin{bmatrix} \n",
    "  |p_1-p_1| & |p_1-p_2| & |p_1-p_3| & \\cdots & |p_1-p_n|  \\\\ \n",
    "  |p_2-p_1| & |p_2-p_2| & |p_2-p_3| & \\cdots & |p_2-p_n|  \\\\ \n",
    "  \\cdots    & \\cdots    & \\cdots    & \\cdots & \\cdots \\\\\n",
    "  \\cdots    & \\cdots    & \\cdots    & \\cdots & \\cdots \\\\\n",
    "  |p_n-p_1| & |p_n-p_2| & |p_n-p_3| & \\cdots & |p_n-p_n|  \\\\ \n",
    " \\end{bmatrix}$$\n",
    "\n",
    "Po chwili zastanowienia możemy uprościć macierz do następującej postaci (zera na przekątnej): \n",
    "\n",
    "$$D=\\begin{bmatrix} \n",
    "  0 & |p_1-p_2| & |p_1-p_3| & \\cdots & |p_1-p_n|  \\\\ \n",
    "  |p_2-p_1| & 0 & |p_2-p_3| & \\cdots & |p_2-p_n|  \\\\ \n",
    "  \\cdots    & \\cdots    & \\cdots    & \\cdots & \\cdots \\\\\n",
    "  \\cdots    & \\cdots    & \\cdots    & \\cdots & \\cdots \\\\\n",
    "  |p_n-p_1| & |p_n-p_2| & |p_n-p_3| & \\cdots & 0  \\\\ \n",
    " \\end{bmatrix}$$\n",
    " \n",
    "Ale to nie wszystko. Zauważmy, że $|p_1-p_2|$ jest równe co do wartości $|p_2-p_1|$ ! Możemy więc zmodyfikować naszą macierz podstawiając pod $|p_2-p_1|$ wartość $|p_1-p_2|$. Przypomnijmy do tego, że $p_1 \\geq p_2 \\geq p_3 \\geq ... \\geq p_{n-1} \\geq p_n$. Czyli $p_1-p_2$ będzie nieujemne. Możemy więc nawet pozbyć się wartości bezwzględnych i zostawić tylko $(p_1-p_2)$. Jeżeli taką operację przeprowadzimy w całej macierzy to otrzymamy macierz symetryczną (wartości pod przekątną są odbiciem lustrznym wartości nad przekątną):\n",
    "\n",
    "$$D=\\begin{bmatrix} \n",
    "  0 & (p_1-p_2) & (p_1-p_3) & \\cdots & (p_1-p_n)  \\\\ \n",
    "  (p_1-p_2) & 0 & (p_2-p_3) & \\cdots & (p_2-p_n)  \\\\ \n",
    "  \\cdots    & \\cdots    & \\cdots    & \\cdots & \\cdots \\\\\n",
    "  \\cdots    & \\cdots    & \\cdots    & \\cdots & \\cdots \\\\\n",
    "  (p_1-p_n) & (p_2-p_n) & (p_3-p_n) & \\cdots & 0  \\\\ \n",
    " \\end{bmatrix}$$\n",
    "\n",
    "Do dalszych rozważań przydatne będzie przyjęcie jeszcze jednego oznaczenia: $d_ik=|p_i- p_k|$. Macierz __D__ możemy wtedy zapisać jako: \n",
    "\n",
    "$$D=\\begin{bmatrix} \n",
    "  0 & d_{12} & d_{13} & \\cdots & d_{1n}  \\\\ \n",
    "  d_{21} & 0 & d_{23} & \\cdots & d_{2n}  \\\\ \n",
    "  \\cdots    & \\cdots    & \\cdots    & \\cdots & \\cdots \\\\\n",
    "  \\cdots    & \\cdots    & \\cdots    & \\cdots & \\cdots \\\\\n",
    "  d_{n1} & d_{n2} & d_{n3} & \\cdots & 0  \\\\ \n",
    " \\end{bmatrix}$$\n",
    " \n",
    " Przejdźmy do wyznaczania MD (średniej różnic). Policzmy najpierw sumą wartości wartości bewzględnych różnic częstości, którą oznaczymy jako  $\\Delta. W przyjętym przez nas zapisie macierzy __D__:\n",
    " \n",
    "$$\\Delta = \\sum_{i=1}^n \\sum_{k=1}^n d_{ik} = \\sum_{i=1}^n \\sum_{k=1}^n |p_i-p_k|$$\n",
    " \n",
    "Ponieważ, jak ustaliliśmy, możemy wyeliminować wartości bezwzględne z macierzy więc powyższą wartość można zapisać jako (pamiEtamy że macierz jest teraz symetryczna):\n",
    "\n",
    "\n",
    "$$\\Delta   = 2\\sum_{i=1}^n (n-i)p_i - 2 \\sum_{k=1}^n (i-1)p_i $$\n",
    " \n",
    "$$\\Delta =  2\\sum_{i=1}^n (n-2i+1)p_i $$\n",
    " \n",
    "$$\\Delta =   2 \\sum_{i=1}^n (n+1)p_i - 4 \\sum_{i=1}^n ip_i $$\n",
    "\n",
    "$$\\Delta =  2(n+1) \\sum_{i=1}^n p_i - 4 \\sum_{i=1}^n ip_i $$\n",
    " \n",
    "$$\\Delta =  2(n+1)- 4 \\sum_{i=1}^n ip_i$$\n",
    "\n",
    "Zauważmy, że: \n",
    "\n",
    " * jeżeli rozkład jest równomierny, tj. wszystkie częstości są równe $p_1 = p_2 = p_3 = ... = p_{n-1} = p_n = \\frac{1}{n}$, to $\\Delta=0$\n",
    " * jeżeli rozkład jest jednopunktowy, tj. występuje w nim skrajna koncentracja,$p_1 = 1, p_2 = p_3 = ... = p_{n-1} = p_n = 0$, to $\\Delta=2(n-1)$\n",
    "\n",
    "Wróćmy do miary MD. $MD(P)=\\frac{1}{n(n-1)} \\sum_{i=1}^n \\sum_{k=1}^n |p_i-p_k|$. Pamiętając o uporządkowaniu P możemy \n",
    "\n",
    "Dla jeżeli podstawimy do wzoru wyznaczoną przed chwilą \\Delta to otrzymamy $MD(X)=\\frac{1}{n(n-1)} \\sum_{i=1}^n \\sum_{k=1}^n |x_i-x_k|$\n",
    "\n",
    "Maksymalna wartość miary MD w wypadku skrajnej koncentracji jest równa 2/n, gdyż: \n",
    "\n",
    "$$MD_{max}(X) = \\frac{\\Delta_{max}}{n(n-1)} = \\frac{2(n-1)}{n(n-1)}= \\frac{2}{n}$$\n",
    "\n",
    "\n",
    "\n",
    "Jeżeli pod sumę $\\sum_{i=1}^n \\sum_{k=1}^n |x_i-x_k|$ podstawimy teraz wyznaczoną wcześniej $\\Delta$ to otrzymamy:\n",
    "\n",
    "\n",
    "$$MD(X)=\\frac{ 2(n+1)- 4 \\sum_{i=1}^n ip_i}{n(n-1)}$$\n",
    "\n",
    "A jeśli unormujemy tą wartość to otrzymamy niezbyt eleganckie wyrażenie: \n",
    "\n",
    "$$MD(X)=\\frac{\\frac{ 2(n+1)- 4 \\sum_{i=1}^n ip_i}{n(n-1)}}{ \\frac{2}{n} }$$\n",
    "\n",
    "Które ostatecznie skraca się do prostego: \n",
    "\n",
    "$$MD(X)=\\frac{ n+1- 2 \\sum_{i=1}^n ip_i}{n-1}$$\n",
    "\n",
    "Teraz miara MD przyjmuje wartości od 0 do 1:\n",
    "\n",
    " * wartość 0 – w wypadku rozkładu równomiernego\n",
    " * wartość 1 – w wypadku rozkładu, w którym jedna z kategorii występuje z częstością 1\n",
    " * miara ta jest równa skorygowanej mierze koncentracji (Ray i Singer 1973)."
   ]
  },
  {
   "cell_type": "markdown",
   "metadata": {},
   "source": [
    "### 3.1.2. MDA - analog średniej różnicy (mean difference analog) \n",
    "\n",
    "Z punktu widzenia opisu badanego rozkładu częstości bardziej przydatna niż miara koncentracji (czyli MD) będzie miara różnorodności, dla której:\n",
    "\n",
    " * wartość 0 będzie oznaczać, że jedna z kategorii występuje z częstością 1; \n",
    " * wartość 1 będzie oznaczać rozkład równomierny.\n",
    " \n",
    "Innymi słowy im większa wartość miary tym bardziej zróżnicowany rozkład. Tego rodzaju własność posiada miara MDA (_mean difference analog_) analizowana przez Allena R. Wilcoxa (1973):\n",
    "\n",
    "<center>$MDA(P) = 1 - \\frac{\\sum_{n-1}^{i=1} \\sum_{n}^{k=i+1} |p_i - p_k|}{n-1} $</center>\n",
    "\n",
    "__MDA__ otrzymujemy po odwróceniu unormowania miary MD:\n",
    "\n",
    "$$1-MD(P) $$\n",
    "\n",
    "czyli:\n",
    "\n",
    "$$1 - \\frac{n+1-2\\sum_{i=1}^n ip_i}{n-1} $$\n",
    "\n",
    "Żeby otrzymać równanie MDA z odwrotnie unormowanej miary MD wystarczy przekształcić licznik z ułamka w powyższym równaniu:\n",
    "\n",
    "$$n+1-2\\sum_{i=1}^n ip_i$$\n",
    "$$(n+1)-2\\sum_{i=1}^n ip_i$$\n",
    "$$(n+1)\\sum_{i=1}^n p_i-2\\sum_{i=1}^n ip_i$$\n",
    "$$ \\sum_{i=1}^n(n+1)p_i-2 ip_i$$\n",
    "$$ \\sum_{i=1}^n np_i+p_i-ip_i-ip_i$$\n",
    "$$ \\sum_{i=1}^n np_i-ip_i-ip_i+p_i$$\n",
    "$$\\sum_{i=1}^n (n-i)p_i-(i-1)p_i$$\n",
    "\n",
    "jeśli to rozpiszemy to otrzymamy:\n",
    "\n",
    "$$ (p_1-p_2)+(p_1-p_3)+...+(p_1-p_n)+(p_2-p_3)+(p_2-p_4)+...+(p_2-p_n)+...+(p_{n-1}-p_n)$$\n",
    "\n",
    "co (pamiętając o założeniu $p_1 \\geq p_2 \\geq p_3 \\geq ... \\geq p_{n-1} \\geq p_n$) możemy zapisać jako:\n",
    "\n",
    "$$\\sum_{n-1}^{i=1} \\sum_{n}^{k=i+1} (p_i - p_k) = \\sum_{n-1}^{i=1} \\sum_{n}^{k=i+1} |p_i - p_k|$$\n",
    "\n",
    "a to jest składnik miary MDA więc ostatecznie otrzymujemy:\n",
    "\n",
    "$$MDA(P) =  1 - \\frac{\\sum_{n-1}^{i=1} \\sum_{n}^{k=i+1} |p_i - p_k|}{n-1}   =  1 - \\frac{n+1-2\\sum_{i=1}^n ip_i}{n-1}  =   1-MD(P) $$\n",
    "\n",
    "Widzimy teraz wyraźnie, że __MDA__ otrzymuje się po odwróceniu unormowania miary __MD__. Możemy teraz zapisać __MDA__ jako: \n",
    "\n",
    "$$MDA(P) = 1 - \\frac{n+1-2\\sum_{i=1}^n ip_i}{n-1} = \\frac{2(\\sum_{i=1}^n ip_i -1  )}{n-1} $$"
   ]
  },
  {
   "cell_type": "markdown",
   "metadata": {},
   "source": [
    "## 3.2. Nowa miara zależności statystycznej\n",
    "\n",
    "Nowa miara zależności zmiennej X typu \"wybór\" od zmiennej nominalnej Y będzie oznaczana jako $\\omega_{X|Y}$  i przyjmie następując postać:\n",
    "\n",
    "$$\\omega_{X|Y}=\\frac{MDA(X)-E(MDA(X|Y))}{MDA(X)}$$\n",
    "\n",
    "Czyli jest to różnica między wartością MDA dla rozkładu zmiennej X, a średnią wartością MDA dla rozkładu zmiennej X ze wszystkich kategorii zmiennej Y, podzielona dodatkowo przez wartość MDA dla rozkładu zmiennej X."
   ]
  },
  {
   "cell_type": "markdown",
   "metadata": {},
   "source": [
    "### 3.2.1. Ostateczna postać nowej miary zależności statystycznej\n",
    "\n",
    "Żeby opisać czym jest __E(MDA(X|Y))__ potrzebna będzie mała zmiana oznaczeń. W równaniu MDA parametr _i_ (równy numerom obserwacji) będziemy teraz nazywać rangą. Przypomnijmy, że kategorie X są uporządkowane nierosnąco względem częstości występowania. Dla pierwszej, najczęściej występującej kategorii, i=1 dla następnej i=2 itd. Zatem parametr _i_ jest rangą. Teraz zmienimy jego oznaczenie i wprowadzimy dodatkowe wartości:\n",
    "\n",
    " * $r_i$ ranga częstości kategorii $x_i$ w uporządkowaniu nierosnącym w całej zbiorowości,\n",
    " * $r_{ig}$ ranga warunkowej częstości kategorii $x_i$ w uporządkowaniu nierosnącym w podzbiorowości {$Y=y_g$}.\n",
    "\n",
    "Możemy teraz zapisać, że:\n",
    "\n",
    "$$MDA(X) = \\frac{2( \\sum_{i=1}^n r_i P(X=x_i) -1) }{n-1}$$\n",
    "\n",
    "$$MDA(X|Y=y_g) = \\frac{2( \\sum_{i=1}^n r_{ig}P(X=x_i|y=y_g) -1) }{n-1}$$\n",
    "\n",
    "Czyli nowa miara zależności statystycznej przybiera (niewyraźną) postać: \n",
    "\n",
    "$$\\omega_{X|Y} =  \\frac{  \\frac{2( \\sum_{i=1}^n r_i P(X=x_i) -1) }{n-1} -  \\sum_{g=1}^G P(Y=y_g)  \\frac{2( \\sum_{i=1}^n r_{ig}P(X=x_i|y=y_g) -1) }{n-1} }{ \\frac{2( \\sum_{i=1}^n r_i P(X=x_i) -1) }{n-1}  } $$\n",
    "\n",
    "a to upraszczamy do prostrzej formy:\n",
    "\n",
    "$$\\omega_{X|Y} =   \\frac{ \\sum_{i=1}^n r_i P(X=x_i)   -  \\sum_{g=1}^G P(Y=y_g)   \\sum_{i=1}^n r_{ig}P(X=x_i|y=y_g) }{ \\sum_{i=1}^n r_i P(X=x_i)} $$\n",
    "\n",
    "\n",
    "\"_Miara zależności przyjmuje wartość 0, gdy zmienna X jest niezależna statystycznie od zmiennej Y w sensie __Definicji 1__ oraz wartość 1, gdy jest maksymalnie zależna statystycznie_\"."
   ]
  },
  {
   "cell_type": "markdown",
   "metadata": {},
   "source": [
    "### 3.2.2. Twierdzenie o nowej miary zależności statystycznej\n",
    "\n",
    "__Twierdzenie 1.__\n",
    "\n",
    "Jeżeli zmienna X jest niezależna statystycznie od zmiennej Y w sensie __Definicji 1__, to $\\omega_{X|Y}$ = 0.\n",
    "\n",
    "Dowód:\n",
    "\n",
    "$$\\omega_{X|Y} =   \\frac{ \\sum_{i=1}^n r_i P(X=x_i)   -  \\sum_{g=1}^G P(Y=y_g)   \\sum_{i=1}^n r_{ig}P(X=x_i|y=y_g) }{ \\sum_{i=1}^n r_i P(X=x_i)} $$\n",
    "\n",
    "Jeżeli - zgodnie z __Definicją 1__ - dla każdego $y_g \\in Y: r_{ig}=r_i$, to odjemnik powyższego wyrażenia upraszcza się do MDA(X).\n",
    "\n",
    "Odejminik:\n",
    "$$\\sum_{g=1}^G P(Y=y_g)   \\sum_{i=1}^n r_{ig}P(X=x_i|y=y_g)$$\n",
    "Zamiana $r_{ig}$ na $r_i$:\n",
    "$$ \\sum_{g=1}^G P(Y=y_g)   \\sum_{i=1}^n r_{i}P(X=x_i|y=y_g)$$\n",
    "Włączenie pod sumę po i prawdopodobieństwa $P(Y=y_g)$: \n",
    "$$ \\sum_{g=1}^G    \\sum_{i=1}^n P(Y=y_g) r_{i} P(X=x_i|y=y_g)$$\n",
    "Zamiania rozkładu warunkowego na łączny:\n",
    "$$ \\sum_{g=1}^G    \\sum_{i=1}^n r_{i} P(X=x_i \\land  y=y_g) $$\n",
    "Zamiania kolejności sumowania:\n",
    "$$    \\sum_{i=1}^n \\sum_{g=1}^G  r_{i} P(X=x_i \\land  y=y_g) $$\n",
    "Wyłączanie rangi $r_i$ przed sumę po _g_:\n",
    "$$   \\sum_{i=1}^n r_{i} \\sum_{g=1}^G P(X=x_i \\land  y=y_g) $$\n",
    "Suma rozkładu łączengo częstości dla wybranej kategorii zmiennej X po wszystkich kategoriach Y daje rozkład brzegowy X:\n",
    "$$ \\sum_{i=1}^n r_i P(X=x_i) $ $$\n",
    "\n",
    "W konsekwencji otrzymujemy:\n",
    "$$\\omega_{X|Y} =   \\frac{ \\sum_{i=1}^n r_i P(X=x_i)   -  \\sum_{i=1}^n r_i P(X=x_i) }{ \\sum_{i=1}^n r_i P(X=x_i)} = 0 $$\n",
    "\n",
    "__Twierdzenie 2.__\n",
    "\n",
    "Jeżeli dla każdej kategorii $x_i$ zmiennej X zachodzi równość między rangą tej kategorii w całej zbiorowości a średnią rang tej kategorii w podzbiorowościach wyróżnionych ze względu na zmienną Y, to miara zależności przyjmuje wartość 0.\n",
    "\n",
    "Dowód.\n",
    "\n",
    "Licznik miary zależności w zapisie uproszczonym ma następującą postać.\n",
    "\n",
    "$$\\sum_{i=1}^n r_i P(X=x_i) - \\sum_{g=1}^G P(Y=y_g) \\sum_{i=1}^n r_{ig}P(X=x_i|y=y_g)=$$\n",
    "$$=\\sum_{i=1}^n r_i P(X=x_i) - \\sum_{i=1}^n \\sum_{g=1}^G  r_{ig} P(X=x_i \\land  y=y_g)=$$\n",
    "$$=\\sum_{i=1}^n r_i P(X=x_i) -  \\sum_{i=1}^n \\sum_{g=1}^G P(Y=x_i) r_{ig}P(X=x_i|y=y_g)=$$\n",
    "$$=\\sum_{i=1}^n r_i P(X=x_i) -  \\sum_{i=1}^n \\sum_{g=1}^G P(Y=x_i) r_{ig}P(X=x_i|y=y_g)=$$\n",
    "$$=\\sum_{i=1}^n P(X=x_i)[ r_i -  \\sum_{g=1}^G r_{ig} P(X=x_i|y=y_g)]$$\n",
    "\n",
    "Wyrażenie w nawiasie kwadratowym jest różnicą między rangą kategorii $x_i$ w całej zbiorowości a średnią rang tej kategorii w podzbiorowościach wyróżnionych ze względu na zmienną Y. Jeżeli dla każdej kategorii $x_i \\in X$ jest\n",
    "ono równe 0, to $ \\omega_{X|Y} = 0$.\n",
    "\n",
    "__Twierdzenie 3.__\n",
    "\n",
    "Nowa miary zależności przyjmuje wartość 1, gdy zmienna X jest maksymalnie zależna statystycznie od zmiennej Y w sensie definicji 2, jest oczywista. \n",
    "\n",
    "Wystarczy zauważyć, że w tym wypadku wartość E[MDA(X|Y)] musi być równa 0. Tak może być jedynie wtedy, gdy każdy warunkowy rozkład zmiennej X ze względu na zmienną Y jest zerojedynkowy i w konsekwencji dla każdego $y_g \\in Y: MDA(X|Y=y_g)=0$.\n",
    "\n",
    "Najważniejsza jest jednak interpretacja miary zależności ωX|Y, która stanowi jej podstawowe uzasadnienie.\n",
    "Inspiracja do interpretacji miary zależności ma dwa źródła. Pierwszym jest miara proporcjonalnej predykcji (Goodman, L.A. i Kruskal, W,H. 1954. Measures of association for cross classifications. “Journal of the American Statistical Association” 49: 732-764, zwłaszcza strony 759-760), a drugim - interpretacja współczynnika koncentracji Gini w kategoriach gry (Pyatt, G. 1976. On the interpretation and disaggregation of Gini coefficient. “The Economic Journal” 86: 243-255).\n"
   ]
  },
  {
   "cell_type": "markdown",
   "metadata": {},
   "source": [
    "# 4. Przykłady wykorzystania"
   ]
  },
  {
   "cell_type": "markdown",
   "metadata": {},
   "source": [
    "# 5. Interpretacja nowej miary zależności\n",
    "\n",
    "Najważniejsza jest jednak interpretacja miary zależności ωX|Y, która stanowi jej podstawowe uzasadnienie.\n",
    "Inspiracja do interpretacji miary zależności ma dwa źródła. Pierwszym jest miara proporcjonalnej predykcji (Goodman, L.A. i Kruskal, W,H. 1954. Measures of association for cross classifications. “Journal of the American Statistical Association” 49: 732-764, zwłaszcza strony 759-760), a drugim - interpretacja współczynnika koncentracji Gini w kategoriach gry (Pyatt, G. 1976. On the interpretation and disaggregation of Gini coefficient. “The Economic Journal” 86: 243-255)."
   ]
  },
  {
   "cell_type": "markdown",
   "metadata": {},
   "source": [
    "# 6. Bibliografia\n",
    "\n",
    " * Allison, Paul D. 1978. Measures of inequality. “American Sociological Review” 43: 865-80.\n",
    " * Allison, Paul D. 1979. Reply to Jasso. “American Sociological Review” 44: 870-872.\n",
    " * Ceriani, Lidia; Verme Paolo. 2012. The origins of the Gini index: extracts from «Variabilità and Mutabilità» by Corrado Gini. “Journal of Economic Inequality” 10: 421-443.\n",
    " * Coulter, Philip B. 1989. Measurement Inequality. A Methodological Handbook. Boulder: Westview Press.\n",
    " * David, H.A. 1968. Gini’s mean difference rediscovered. “Biometrika” 55: 573-575.\n",
    " * Goodman, Leo A., Kruskal, William H. 1954. Measures of association for cross classifications. “Journal of the American Statistical Association” 49: 732-764.\n",
    " * Jasso, Guillermina. 1979. On Gini's mean difference and Gini's index of concentration. “American Sociological Review” 44: 867-870.\n",
    " * Kendall, Maurice G.; Stuart, Alan. 1958. The Advanced Theory of Statistics. Vol. I. New York: Hafner Publishing Co.\n",
    " * Pyatt, Graham. 1976. On the interpretation and disaggregation of Gini coefficient. “The Economic Journal” 86: 243-255.\n",
    " * Ray, James L.; Singer, David. 1973. Measuring the concentration of power in the international system. “Sociological Methods and Research” 1: 403-437.\n",
    " * Santos, Jesús Busulto; Guerrero, J. Javier Busto. 2010. Gini’s concentration ratio (1908-1914). “Electronic Journal for History of Probability and Statistics” 6: 1-42.\n",
    " * Tschuprov, Alexander A. 1939. Principles of the Mathematical Theory of Correlation. London: W. Hodge. Pierwsze wydanie w języku niemieckim w 1925 r.\n",
    " * Yitzhaki, Shlomo. 2013. More Than a Dozen Alternative Ways of Spelling Gini. W: Yitzhaki, Shlomo; Schechtman, Edna (red.) The Gini Methodology: A Primer on a Statistical Methodology. Chapter 2. Springer Series in Statistics 272, New York: Springer.\n",
    " * Wilcox, Allen R. 1973. Indices of qualitative variation and political measurement. “Western Political Quarterly” 26: 325-343."
   ]
  },
  {
   "cell_type": "markdown",
   "metadata": {},
   "source": []
  },
  {
   "cell_type": "markdown",
   "metadata": {
    "collapsed": true
   },
   "source": [
    "$1 - \\frac{∑_{i=1}^{k-1} ∑_{j=i+1}^k |f_i - f_j|}{N(K-1)}$"
   ]
  },
  {
   "cell_type": "code",
   "execution_count": 6,
   "metadata": {
    "collapsed": false
   },
   "outputs": [
    {
     "data": {
      "text/html": [
       "0.0282901631902917"
      ],
      "text/latex": [
       "0.0282901631902917"
      ],
      "text/markdown": [
       "0.0282901631902917"
      ],
      "text/plain": [
       "[1] 0.02829016"
      ]
     },
     "execution_count": 6,
     "metadata": {},
     "output_type": "execute_result"
    }
   ],
   "source": [
    "1.96*0.5/sqrt(1200)"
   ]
  },
  {
   "cell_type": "code",
   "execution_count": null,
   "metadata": {
    "collapsed": true
   },
   "outputs": [],
   "source": []
  }
 ],
 "metadata": {
  "kernelspec": {
   "display_name": "R",
   "language": "R",
   "name": "ir"
  },
  "language_info": {
   "codemirror_mode": "r",
   "file_extension": ".r",
   "mimetype": "text/x-r-source",
   "name": "R",
   "pygments_lexer": "r",
   "version": "3.1.1"
  }
 },
 "nbformat": 4,
 "nbformat_minor": 0
}
